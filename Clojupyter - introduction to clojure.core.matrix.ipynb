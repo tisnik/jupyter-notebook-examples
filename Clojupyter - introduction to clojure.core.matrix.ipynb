{
 "cells": [
  {
   "cell_type": "markdown",
   "metadata": {},
   "source": [
    "# Základní použití knihovny `clojure.core.matrix`"
   ]
  },
  {
   "cell_type": "markdown",
   "metadata": {},
   "source": [
    "Nejprve použijeme dvojici příkazů `use`, které načtou všechny funkce a všechna makra ze jmenných prostorů clojure.core.matrix a clojure.core.matrix.operators:"
   ]
  },
  {
   "cell_type": "code",
   "execution_count": 1,
   "metadata": {},
   "outputs": [
    {
     "name": "stdout",
     "output_type": "stream",
     "text": [
      "WARNING: * already refers to: #'clojure.core/* in namespace: user, being replaced by: #'clojure.core.matrix.operators/*\n",
      "WARNING: min already refers to: #'clojure.core/min in namespace: user, being replaced by: #'clojure.core.matrix.operators/min\n",
      "WARNING: - already refers to: #'clojure.core/- in namespace: user, being replaced by: #'clojure.core.matrix.operators/-\n",
      "WARNING: / already refers to: #'clojure.core// in namespace: user, being replaced by: #'clojure.core.matrix.operators//\n",
      "WARNING: + already refers to: #'clojure.core/+ in namespace: user, being replaced by: #'clojure.core.matrix.operators/+\n",
      "WARNING: max already refers to: #'clojure.core/max in namespace: user, being replaced by: #'clojure.core.matrix.operators/max\n",
      "WARNING: == already refers to: #'clojure.core/== in namespace: user, being replaced by: #'clojure.core.matrix.operators/==\n"
     ]
    }
   ],
   "source": [
    "(use 'clojure.core.matrix)\n",
    "(use 'clojure.core.matrix.operators)"
   ]
  },
  {
   "cell_type": "markdown",
   "metadata": {},
   "source": [
    "### Poznámka\n",
    "po spuštění předchozí buňky se nejdříve vypíšou varování, že ve jmenném prostoru core.matrix.operators došlo k předeklarování globálních symbolů *, -, /, + a =="
   ]
  },
  {
   "cell_type": "markdown",
   "metadata": {},
   "source": [
    "Následně se vytvoří čtvercová matice nazvaná `M` a dvouprvkový vektor nazvaný `v`, s nimiž je provedeno několik operací. Funkce `pm` slouží pro výpis obsahu matice na standardní výstup v „pěkném“ tvaru (*pretty print*). Lze samozřejmě použít i funkci `print` či `println`:"
   ]
  },
  {
   "cell_type": "code",
   "execution_count": 5,
   "metadata": {},
   "outputs": [
    {
     "name": "stdout",
     "output_type": "stream",
     "text": [
      "[[1.000 2.000]\n",
      " [3.000 4.000]]\n",
      "[1.000 2.000]\n",
      "[2.000 4.000]\n",
      "[[1.000 4.000]\n",
      " [3.000 8.000]]\n",
      "[[1.000  4.000]\n",
      " [9.000 16.000]]\n",
      "[5.000 11.000]\n"
     ]
    }
   ],
   "source": [
    "(let [M (matrix [[1 2] [3 4]])\n",
    "      v (matrix [1 2])]\n",
    "      (pm M)\n",
    "      (pm v)\n",
    "      (pm (* v 2))\n",
    "      (pm (mul M v))\n",
    "      (pm (* M M))\n",
    "      (pm (inner-product M v)))"
   ]
  },
  {
   "cell_type": "markdown",
   "metadata": {},
   "source": [
    "## Konstrukce vektorů a matic"
   ]
  },
  {
   "cell_type": "code",
   "execution_count": 7,
   "metadata": {},
   "outputs": [
    {
     "name": "stdout",
     "output_type": "stream",
     "text": [
      "[1.000 2.000 3.000]\n",
      "[1.000 2.000 3.000]\n",
      "[[1.000 2.000]\n",
      " [3.000 4.000]]\n",
      "[1.000 2.000 3.000 4.000 5.000 6.000 7.000 8.000 9.000]\n",
      "[[1.000 2.000 3.000]\n",
      " [4.000 5.000 6.000]\n",
      " [7.000 8.000 9.000]]\n"
     ]
    }
   ],
   "source": [
    "; vektor\n",
    "(pm (matrix [1 2 3]))\n",
    "\n",
    "; vektor\n",
    "(pm (matrix '(1 2 3)))\n",
    " \n",
    "; matice\n",
    "(pm (matrix [[1 2] [3 4]]))\n",
    " \n",
    "; matice\n",
    "(pm (matrix (range 1 10)))\n",
    " \n",
    "; matice\n",
    "(pm (matrix [[1 2 3] [4 5 6] [7 8 9]]))"
   ]
  },
  {
   "cell_type": "markdown",
   "metadata": {},
   "source": [
    "## Konstruktory nulové matice a jednotkové matice"
   ]
  },
  {
   "cell_type": "code",
   "execution_count": 12,
   "metadata": {},
   "outputs": [
    {
     "name": "stdout",
     "output_type": "stream",
     "text": [
      "[[0.000]\n",
      " [0.000]\n",
      " [0.000]\n",
      " [0.000]\n",
      " [0.000]\n",
      " [0.000]\n",
      " [0.000]\n",
      " [0.000]\n",
      " [0.000]\n",
      " [0.000]]\n",
      "[[0.000 0.000 0.000 0.000 0.000 0.000 0.000 0.000 0.000 0.000]]\n",
      "[[0.000 0.000 0.000]\n",
      " [0.000 0.000 0.000]]\n",
      "[[0.000 0.000 0.000 0.000]\n",
      " [0.000 0.000 0.000 0.000]\n",
      " [0.000 0.000 0.000 0.000]\n",
      " [0.000 0.000 0.000 0.000]]\n",
      "[[1.000 0.000 0.000 0.000]\n",
      " [0.000 1.000 0.000 0.000]\n",
      " [0.000 0.000 1.000 0.000]\n",
      " [0.000 0.000 0.000 1.000]]\n"
     ]
    }
   ],
   "source": [
    "(zero-matrix 10 1)\n",
    "(pm *1)\n",
    "\n",
    "(zero-matrix 1 10)\n",
    "(pm *1)\n",
    "\n",
    "(zero-matrix 2 3)\n",
    "(pm *1)\n",
    " \n",
    "(zero-matrix 4 4)\n",
    "(pm *1)\n",
    " \n",
    "(identity-matrix 4 4)\n",
    "(pm *1)"
   ]
  },
  {
   "cell_type": "markdown",
   "metadata": {},
   "source": [
    "## Konstruktor permutační matice"
   ]
  },
  {
   "cell_type": "code",
   "execution_count": 13,
   "metadata": {},
   "outputs": [
    {
     "name": "stdout",
     "output_type": "stream",
     "text": [
      "[[0.000 1.000 0.000 0.000 0.000]\n",
      " [0.000 0.000 0.000 0.000 1.000]\n",
      " [0.000 0.000 1.000 0.000 0.000]\n",
      " [0.000 0.000 0.000 1.000 0.000]\n",
      " [1.000 0.000 0.000 0.000 0.000]]\n"
     ]
    }
   ],
   "source": [
    "; vektor udává pozice jedniček na jednotlivých řádcích matice\n",
    "; rozměry matice jsou získány na základě velikosti tohoto vektoru\n",
    "(permutation-matrix [1 4 2 3 0])\n",
    " \n",
    "(pm *1)"
   ]
  },
  {
   "cell_type": "code",
   "execution_count": null,
   "metadata": {},
   "outputs": [],
   "source": []
  }
 ],
 "metadata": {
  "kernelspec": {
   "display_name": "Lein-Clojure",
   "language": "clojure",
   "name": "lein-clojure"
  },
  "language_info": {
   "file_extension": ".clj",
   "mimetype": "text/x-clojure",
   "name": "clojure",
   "version": "1.8.0"
  }
 },
 "nbformat": 4,
 "nbformat_minor": 2
}
