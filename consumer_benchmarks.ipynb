{
 "cells": [
  {
   "cell_type": "markdown",
   "metadata": {},
   "source": [
    "# Consumer benchmarks"
   ]
  },
  {
   "cell_type": "markdown",
   "metadata": {},
   "source": [
    "## Tasks\n",
    "* measure the speed of consuming messages from Kafka broker\n",
    "* measure speed of all steps performed during consume message operation\n",
    "* compute throughput - number of consumable messages per second (worst, best, average scenarios)\n",
    "* compute possible speedup achievable by using multiple consumers"
   ]
  },
  {
   "cell_type": "markdown",
   "metadata": {},
   "source": [
    "## Preparation steps\n",
    "* 100000 messages were sent to Kafka broker into selected topic (in advance)\n",
    "* consumer has been updated to print durations into log files\n",
    "* storage has been set to be local (configurable PSQL or SQLite)"
   ]
  },
  {
   "cell_type": "markdown",
   "metadata": {},
   "source": [
    "## Measurement steps\n",
    "* aggregator was started, all messages consumed, then stopped\n",
    "* log were redirected into text file\n",
    "* then log were transformed into two CSV files used below"
   ]
  },
  {
   "cell_type": "markdown",
   "metadata": {},
   "source": [
    "## Machine used to run benchmarks\n",
    "```\n",
    "\n",
    "Architecture:        x86_64\n",
    "CPU op-mode(s):      32-bit, 64-bit\n",
    "Byte Order:          Little Endian\n",
    "CPU(s):              8\n",
    "On-line CPU(s) list: 0-7\n",
    "Thread(s) per core:  2\n",
    "Core(s) per socket:  4\n",
    "Socket(s):           1\n",
    "NUMA node(s):        1\n",
    "Vendor ID:           GenuineIntel\n",
    "CPU family:          6\n",
    "Model:               94\n",
    "Model name:          Intel(R) Core(TM) i7-6820HQ CPU @ 2.70GHz\n",
    "Stepping:            3\n",
    "CPU MHz:             900.222\n",
    "CPU max MHz:         3600.0000\n",
    "CPU min MHz:         800.0000\n",
    "BogoMIPS:            5424.00\n",
    "Virtualization:      VT-x\n",
    "L1d cache:           32K\n",
    "L1i cache:           32K\n",
    "L2 cache:            256K\n",
    "L3 cache:            8192K\n",
    "NUMA node0 CPU(s):   0-7\n",
    "```"
   ]
  },
  {
   "cell_type": "markdown",
   "metadata": {},
   "source": [
    "## Main results\n",
    "\n",
    "Time was measured by the `time` tool. Number of messages in Kafka topic was known in advance. So it is only needed to compute time in seconds (trivial) and average number of messages consumed per second:"
   ]
  },
  {
   "cell_type": "code",
   "execution_count": null,
   "metadata": {},
   "outputs": [],
   "source": [
    "number_of_consumed_messages=100000\n",
    "time_in_minutes=26\n",
    "time_in_seconds=time_in_minutes*60\n",
    "messages_per_second=number_of_consumed_messages/time_in_seconds"
   ]
  },
  {
   "cell_type": "markdown",
   "metadata": {},
   "source": [
    "Average number of messages consumed per second is:"
   ]
  },
  {
   "cell_type": "code",
   "execution_count": 4,
   "metadata": {},
   "outputs": [
    {
     "name": "stdout",
     "output_type": "stream",
     "text": [
      "64.1025641025641\n"
     ]
    }
   ],
   "source": [
    "print(messages_per_second)"
   ]
  },
  {
   "cell_type": "markdown",
   "metadata": {},
   "source": [
    "### Observations\n",
    "* one thread was used by aggregator (expected)\n",
    "* just 40% CPU utilization by aggregator process\n",
    "* rest (60%) spent by I/O operations\n",
    "* -> I/O (DB I/O + Kafka broker I/O basically are limiting factors)"
   ]
  },
  {
   "cell_type": "markdown",
   "metadata": {},
   "source": [
    "# Detailed behavior of consumer\n",
    "It is also possible to analyze log files (or rather CSV files generated from log files). We will use Pandas, Numpy, and Matplotlib libraries here"
   ]
  },
  {
   "cell_type": "markdown",
   "metadata": {},
   "source": [
    "## Initialization part"
   ]
  },
  {
   "cell_type": "code",
   "execution_count": 1,
   "metadata": {},
   "outputs": [],
   "source": [
    "# we are going to display graphs and work with data frames\n",
    "import pandas as pd\n",
    "import numpy as np\n",
    "import matplotlib.pyplot as plt\n",
    "\n",
    "# let's display all graphs without the need to call .show()\n",
    "%matplotlib inline"
   ]
  },
  {
   "cell_type": "markdown",
   "metadata": {},
   "source": [
    "## Loading all data files with raw metrics\n",
    "Two CSV files were prepared. `consumer_durations.csv` contains just whole duration and offset, nothing else:"
   ]
  },
  {
   "cell_type": "code",
   "execution_count": 3,
   "metadata": {},
   "outputs": [],
   "source": [
    "# this file contains just whole duration per message (ms) + message offset (int64 value)\n",
    "durations=pd.read_csv(\"consumer_durations.csv\")"
   ]
  },
  {
   "cell_type": "code",
   "execution_count": 4,
   "metadata": {},
   "outputs": [
    {
     "data": {
      "text/html": [
       "<div>\n",
       "<style>\n",
       "    .dataframe thead tr:only-child th {\n",
       "        text-align: right;\n",
       "    }\n",
       "\n",
       "    .dataframe thead th {\n",
       "        text-align: left;\n",
       "    }\n",
       "\n",
       "    .dataframe tbody tr th {\n",
       "        vertical-align: top;\n",
       "    }\n",
       "</style>\n",
       "<table border=\"1\" class=\"dataframe\">\n",
       "  <thead>\n",
       "    <tr style=\"text-align: right;\">\n",
       "      <th></th>\n",
       "      <th>Duration</th>\n",
       "      <th>Offset</th>\n",
       "    </tr>\n",
       "  </thead>\n",
       "  <tbody>\n",
       "    <tr>\n",
       "      <th>0</th>\n",
       "      <td>9</td>\n",
       "      <td>0</td>\n",
       "    </tr>\n",
       "    <tr>\n",
       "      <th>1</th>\n",
       "      <td>5</td>\n",
       "      <td>1</td>\n",
       "    </tr>\n",
       "    <tr>\n",
       "      <th>2</th>\n",
       "      <td>5</td>\n",
       "      <td>2</td>\n",
       "    </tr>\n",
       "    <tr>\n",
       "      <th>3</th>\n",
       "      <td>8</td>\n",
       "      <td>3</td>\n",
       "    </tr>\n",
       "    <tr>\n",
       "      <th>4</th>\n",
       "      <td>4</td>\n",
       "      <td>4</td>\n",
       "    </tr>\n",
       "    <tr>\n",
       "      <th>5</th>\n",
       "      <td>7</td>\n",
       "      <td>5</td>\n",
       "    </tr>\n",
       "    <tr>\n",
       "      <th>6</th>\n",
       "      <td>4</td>\n",
       "      <td>6</td>\n",
       "    </tr>\n",
       "    <tr>\n",
       "      <th>7</th>\n",
       "      <td>5</td>\n",
       "      <td>7</td>\n",
       "    </tr>\n",
       "    <tr>\n",
       "      <th>8</th>\n",
       "      <td>5</td>\n",
       "      <td>8</td>\n",
       "    </tr>\n",
       "    <tr>\n",
       "      <th>9</th>\n",
       "      <td>5</td>\n",
       "      <td>9</td>\n",
       "    </tr>\n",
       "  </tbody>\n",
       "</table>\n",
       "</div>"
      ],
      "text/plain": [
       "   Duration  Offset\n",
       "0         9       0\n",
       "1         5       1\n",
       "2         5       2\n",
       "3         8       3\n",
       "4         4       4\n",
       "5         7       5\n",
       "6         4       6\n",
       "7         5       7\n",
       "8         5       8\n",
       "9         5       9"
      ]
     },
     "execution_count": 4,
     "metadata": {},
     "output_type": "execute_result"
    }
   ],
   "source": [
    "# first ten items taken from this file\n",
    "durations.head(10)"
   ]
  },
  {
   "cell_type": "markdown",
   "metadata": {},
   "source": [
    "Second file is named `consumer_steps_durations.csv`. It contains five values measured for each consumed message:\n",
    "1. time to read message from Kafka topic\n",
    "1. time to check if the message is correct\n",
    "1. time to check if it is possible to marshall JSON stored in the message\n",
    "1. time to check timestamp\n",
    "1. time to store message body into DB storage"
   ]
  },
  {
   "cell_type": "code",
   "execution_count": 6,
   "metadata": {},
   "outputs": [],
   "source": [
    "# this file is a bit more complicated - it contains duration of all 5 steps (in ns)\n",
    "duration_steps=pd.read_csv(\"consumer_steps_durations.csv\")"
   ]
  },
  {
   "cell_type": "code",
   "execution_count": 7,
   "metadata": {},
   "outputs": [
    {
     "data": {
      "text/html": [
       "<div>\n",
       "<style>\n",
       "    .dataframe thead tr:only-child th {\n",
       "        text-align: right;\n",
       "    }\n",
       "\n",
       "    .dataframe thead th {\n",
       "        text-align: left;\n",
       "    }\n",
       "\n",
       "    .dataframe tbody tr th {\n",
       "        vertical-align: top;\n",
       "    }\n",
       "</style>\n",
       "<table border=\"1\" class=\"dataframe\">\n",
       "  <thead>\n",
       "    <tr style=\"text-align: right;\">\n",
       "      <th></th>\n",
       "      <th>Read</th>\n",
       "      <th>Whitelisting</th>\n",
       "      <th>Marshalling</th>\n",
       "      <th>Time check</th>\n",
       "      <th>DB store</th>\n",
       "    </tr>\n",
       "  </thead>\n",
       "  <tbody>\n",
       "    <tr>\n",
       "      <th>0</th>\n",
       "      <td>296</td>\n",
       "      <td>3</td>\n",
       "      <td>834</td>\n",
       "      <td>11</td>\n",
       "      <td>8506</td>\n",
       "    </tr>\n",
       "    <tr>\n",
       "      <th>1</th>\n",
       "      <td>361</td>\n",
       "      <td>5</td>\n",
       "      <td>292</td>\n",
       "      <td>11</td>\n",
       "      <td>6199</td>\n",
       "    </tr>\n",
       "    <tr>\n",
       "      <th>2</th>\n",
       "      <td>560</td>\n",
       "      <td>7</td>\n",
       "      <td>436</td>\n",
       "      <td>14</td>\n",
       "      <td>6890</td>\n",
       "    </tr>\n",
       "    <tr>\n",
       "      <th>3</th>\n",
       "      <td>555</td>\n",
       "      <td>7</td>\n",
       "      <td>423</td>\n",
       "      <td>14</td>\n",
       "      <td>6539</td>\n",
       "    </tr>\n",
       "    <tr>\n",
       "      <th>4</th>\n",
       "      <td>532</td>\n",
       "      <td>7</td>\n",
       "      <td>443</td>\n",
       "      <td>14</td>\n",
       "      <td>6915</td>\n",
       "    </tr>\n",
       "    <tr>\n",
       "      <th>5</th>\n",
       "      <td>513</td>\n",
       "      <td>7</td>\n",
       "      <td>426</td>\n",
       "      <td>14</td>\n",
       "      <td>6994</td>\n",
       "    </tr>\n",
       "    <tr>\n",
       "      <th>6</th>\n",
       "      <td>490</td>\n",
       "      <td>8</td>\n",
       "      <td>411</td>\n",
       "      <td>14</td>\n",
       "      <td>6815</td>\n",
       "    </tr>\n",
       "    <tr>\n",
       "      <th>7</th>\n",
       "      <td>516</td>\n",
       "      <td>7</td>\n",
       "      <td>402</td>\n",
       "      <td>24</td>\n",
       "      <td>6879</td>\n",
       "    </tr>\n",
       "    <tr>\n",
       "      <th>8</th>\n",
       "      <td>503</td>\n",
       "      <td>7</td>\n",
       "      <td>388</td>\n",
       "      <td>13</td>\n",
       "      <td>7084</td>\n",
       "    </tr>\n",
       "    <tr>\n",
       "      <th>9</th>\n",
       "      <td>512</td>\n",
       "      <td>7</td>\n",
       "      <td>417</td>\n",
       "      <td>13</td>\n",
       "      <td>6904</td>\n",
       "    </tr>\n",
       "  </tbody>\n",
       "</table>\n",
       "</div>"
      ],
      "text/plain": [
       "   Read  Whitelisting  Marshalling  Time check  DB store\n",
       "0   296             3          834          11      8506\n",
       "1   361             5          292          11      6199\n",
       "2   560             7          436          14      6890\n",
       "3   555             7          423          14      6539\n",
       "4   532             7          443          14      6915\n",
       "5   513             7          426          14      6994\n",
       "6   490             8          411          14      6815\n",
       "7   516             7          402          24      6879\n",
       "8   503             7          388          13      7084\n",
       "9   512             7          417          13      6904"
      ]
     },
     "execution_count": 7,
     "metadata": {},
     "output_type": "execute_result"
    }
   ],
   "source": [
    "# first ten items taken from this file\n",
    "duration_steps.head(10)"
   ]
  },
  {
   "cell_type": "markdown",
   "metadata": {},
   "source": [
    "## Data statistic\n",
    "CSV files have been consumed and transformed into DataFrames, so it is possible to gather some statistic and display charts."
   ]
  },
  {
   "cell_type": "code",
   "execution_count": 8,
   "metadata": {},
   "outputs": [
    {
     "data": {
      "text/html": [
       "<div>\n",
       "<style>\n",
       "    .dataframe thead tr:only-child th {\n",
       "        text-align: right;\n",
       "    }\n",
       "\n",
       "    .dataframe thead th {\n",
       "        text-align: left;\n",
       "    }\n",
       "\n",
       "    .dataframe tbody tr th {\n",
       "        vertical-align: top;\n",
       "    }\n",
       "</style>\n",
       "<table border=\"1\" class=\"dataframe\">\n",
       "  <thead>\n",
       "    <tr style=\"text-align: right;\">\n",
       "      <th></th>\n",
       "      <th>Duration</th>\n",
       "      <th>Offset</th>\n",
       "    </tr>\n",
       "  </thead>\n",
       "  <tbody>\n",
       "    <tr>\n",
       "      <th>count</th>\n",
       "      <td>100000.00000</td>\n",
       "      <td>100000.000000</td>\n",
       "    </tr>\n",
       "    <tr>\n",
       "      <th>mean</th>\n",
       "      <td>15.13289</td>\n",
       "      <td>49999.500000</td>\n",
       "    </tr>\n",
       "    <tr>\n",
       "      <th>std</th>\n",
       "      <td>4.48819</td>\n",
       "      <td>28867.657797</td>\n",
       "    </tr>\n",
       "    <tr>\n",
       "      <th>min</th>\n",
       "      <td>4.00000</td>\n",
       "      <td>0.000000</td>\n",
       "    </tr>\n",
       "    <tr>\n",
       "      <th>25%</th>\n",
       "      <td>14.00000</td>\n",
       "      <td>24999.750000</td>\n",
       "    </tr>\n",
       "    <tr>\n",
       "      <th>50%</th>\n",
       "      <td>16.00000</td>\n",
       "      <td>49999.500000</td>\n",
       "    </tr>\n",
       "    <tr>\n",
       "      <th>75%</th>\n",
       "      <td>17.00000</td>\n",
       "      <td>74999.250000</td>\n",
       "    </tr>\n",
       "    <tr>\n",
       "      <th>max</th>\n",
       "      <td>236.00000</td>\n",
       "      <td>99999.000000</td>\n",
       "    </tr>\n",
       "  </tbody>\n",
       "</table>\n",
       "</div>"
      ],
      "text/plain": [
       "           Duration         Offset\n",
       "count  100000.00000  100000.000000\n",
       "mean       15.13289   49999.500000\n",
       "std         4.48819   28867.657797\n",
       "min         4.00000       0.000000\n",
       "25%        14.00000   24999.750000\n",
       "50%        16.00000   49999.500000\n",
       "75%        17.00000   74999.250000\n",
       "max       236.00000   99999.000000"
      ]
     },
     "execution_count": 8,
     "metadata": {},
     "output_type": "execute_result"
    }
   ],
   "source": [
    "# let's compute average, best and worst durations (in ms) etc.\n",
    "durations.describe()"
   ]
  },
  {
   "cell_type": "code",
   "execution_count": 9,
   "metadata": {},
   "outputs": [
    {
     "data": {
      "text/plain": [
       "<matplotlib.axes._subplots.AxesSubplot at 0x7ff836863320>"
      ]
     },
     "execution_count": 9,
     "metadata": {},
     "output_type": "execute_result"
    },
    {
     "data": {
      "image/png": "[encoded data removed]",
      "text/plain": [
       "<Figure size 432x288 with 1 Axes>"
      ]
     },
     "metadata": {},
     "output_type": "display_data"
    }
   ],
   "source": [
    "# would be nice to display some graphs as well, especially for overall duration\n",
    "durations[\"Duration\"].plot()"
   ]
  },
  {
   "cell_type": "markdown",
   "metadata": {},
   "source": [
    "## Detailed results for first 377 messages"
   ]
  },
  {
   "cell_type": "markdown",
   "metadata": {},
   "source": [
    "Please note that first x1000 messages are usually processed a bit faster compared to overall average!"
   ]
  },
  {
   "cell_type": "code",
   "execution_count": 13,
   "metadata": {},
   "outputs": [
    {
     "data": {
      "text/html": [
       "<div>\n",
       "<style>\n",
       "    .dataframe thead tr:only-child th {\n",
       "        text-align: right;\n",
       "    }\n",
       "\n",
       "    .dataframe thead th {\n",
       "        text-align: left;\n",
       "    }\n",
       "\n",
       "    .dataframe tbody tr th {\n",
       "        vertical-align: top;\n",
       "    }\n",
       "</style>\n",
       "<table border=\"1\" class=\"dataframe\">\n",
       "  <thead>\n",
       "    <tr style=\"text-align: right;\">\n",
       "      <th></th>\n",
       "      <th>Read</th>\n",
       "      <th>Whitelisting</th>\n",
       "      <th>Marshalling</th>\n",
       "      <th>Time check</th>\n",
       "      <th>DB store</th>\n",
       "    </tr>\n",
       "  </thead>\n",
       "  <tbody>\n",
       "    <tr>\n",
       "      <th>count</th>\n",
       "      <td>377.000000</td>\n",
       "      <td>377.000000</td>\n",
       "      <td>377.000000</td>\n",
       "      <td>377.000000</td>\n",
       "      <td>377.000000</td>\n",
       "    </tr>\n",
       "    <tr>\n",
       "      <th>mean</th>\n",
       "      <td>529.071618</td>\n",
       "      <td>8.355438</td>\n",
       "      <td>417.456233</td>\n",
       "      <td>14.994695</td>\n",
       "      <td>7070.602122</td>\n",
       "    </tr>\n",
       "    <tr>\n",
       "      <th>std</th>\n",
       "      <td>98.301927</td>\n",
       "      <td>3.996132</td>\n",
       "      <td>52.389436</td>\n",
       "      <td>4.738926</td>\n",
       "      <td>1355.212008</td>\n",
       "    </tr>\n",
       "    <tr>\n",
       "      <th>min</th>\n",
       "      <td>296.000000</td>\n",
       "      <td>3.000000</td>\n",
       "      <td>292.000000</td>\n",
       "      <td>11.000000</td>\n",
       "      <td>5683.000000</td>\n",
       "    </tr>\n",
       "    <tr>\n",
       "      <th>25%</th>\n",
       "      <td>497.000000</td>\n",
       "      <td>7.000000</td>\n",
       "      <td>398.000000</td>\n",
       "      <td>13.000000</td>\n",
       "      <td>6426.000000</td>\n",
       "    </tr>\n",
       "    <tr>\n",
       "      <th>50%</th>\n",
       "      <td>517.000000</td>\n",
       "      <td>7.000000</td>\n",
       "      <td>407.000000</td>\n",
       "      <td>14.000000</td>\n",
       "      <td>6707.000000</td>\n",
       "    </tr>\n",
       "    <tr>\n",
       "      <th>75%</th>\n",
       "      <td>538.000000</td>\n",
       "      <td>8.000000</td>\n",
       "      <td>426.000000</td>\n",
       "      <td>14.000000</td>\n",
       "      <td>7008.000000</td>\n",
       "    </tr>\n",
       "    <tr>\n",
       "      <th>max</th>\n",
       "      <td>1458.000000</td>\n",
       "      <td>35.000000</td>\n",
       "      <td>1153.000000</td>\n",
       "      <td>48.000000</td>\n",
       "      <td>16190.000000</td>\n",
       "    </tr>\n",
       "  </tbody>\n",
       "</table>\n",
       "</div>"
      ],
      "text/plain": [
       "              Read  Whitelisting  Marshalling  Time check      DB store\n",
       "count   377.000000    377.000000   377.000000  377.000000    377.000000\n",
       "mean    529.071618      8.355438   417.456233   14.994695   7070.602122\n",
       "std      98.301927      3.996132    52.389436    4.738926   1355.212008\n",
       "min     296.000000      3.000000   292.000000   11.000000   5683.000000\n",
       "25%     497.000000      7.000000   398.000000   13.000000   6426.000000\n",
       "50%     517.000000      7.000000   407.000000   14.000000   6707.000000\n",
       "75%     538.000000      8.000000   426.000000   14.000000   7008.000000\n",
       "max    1458.000000     35.000000  1153.000000   48.000000  16190.000000"
      ]
     },
     "execution_count": 13,
     "metadata": {},
     "output_type": "execute_result"
    }
   ],
   "source": [
    "# statistic (average, worst, best) for 5 steps for process each message\n",
    "duration_steps.describe()"
   ]
  },
  {
   "cell_type": "code",
   "execution_count": 14,
   "metadata": {
    "scrolled": true
   },
   "outputs": [
    {
     "data": {
      "text/plain": [
       "<matplotlib.axes._subplots.AxesSubplot at 0x7f2f935d4940>"
      ]
     },
     "execution_count": 14,
     "metadata": {},
     "output_type": "execute_result"
    },
    {
     "data": {
      "image/png": "[encoded data removed]",
      "text/plain": [
       "<Figure size 432x288 with 1 Axes>"
      ]
     },
     "metadata": {},
     "output_type": "display_data"
    }
   ],
   "source": [
    "# again, plot the behaviour over time\n",
    "duration_steps.plot()"
   ]
  },
  {
   "cell_type": "code",
   "execution_count": 15,
   "metadata": {},
   "outputs": [],
   "source": [
    "# we can see that DB store is the most time demanding operation"
   ]
  },
  {
   "cell_type": "code",
   "execution_count": 16,
   "metadata": {},
   "outputs": [
    {
     "data": {
      "text/plain": [
       "<matplotlib.axes._subplots.AxesSubplot at 0x7f2f93ca4c88>"
      ]
     },
     "execution_count": 16,
     "metadata": {},
     "output_type": "execute_result"
    },
    {
     "data": {
      "image/png": "[encoded data removed]",
      "text/plain": [
       "<Figure size 432x432 with 1 Axes>"
      ]
     },
     "metadata": {},
     "output_type": "display_data"
    }
   ],
   "source": [
    "# let's display relative times for each processing step\n",
    "duration_steps.describe().transpose()[\"mean\"].plot.pie(figsize=(6,6))"
   ]
  },
  {
   "cell_type": "markdown",
   "metadata": {},
   "source": [
    "## Possible speedup - Amdahl's law\n",
    "It would be possible to perform first four steps in parallel. So let's compute if its worth it and which speedup is possible"
   ]
  },
  {
   "cell_type": "code",
   "execution_count": 17,
   "metadata": {},
   "outputs": [
    {
     "data": {
      "text/html": [
       "<div>\n",
       "<style>\n",
       "    .dataframe thead tr:only-child th {\n",
       "        text-align: right;\n",
       "    }\n",
       "\n",
       "    .dataframe thead th {\n",
       "        text-align: left;\n",
       "    }\n",
       "\n",
       "    .dataframe tbody tr th {\n",
       "        vertical-align: top;\n",
       "    }\n",
       "</style>\n",
       "<table border=\"1\" class=\"dataframe\">\n",
       "  <thead>\n",
       "    <tr style=\"text-align: right;\">\n",
       "      <th></th>\n",
       "      <th>Read</th>\n",
       "      <th>Whitelisting</th>\n",
       "      <th>Marshalling</th>\n",
       "      <th>Time check</th>\n",
       "      <th>DB store</th>\n",
       "    </tr>\n",
       "  </thead>\n",
       "  <tbody>\n",
       "    <tr>\n",
       "      <th>count</th>\n",
       "      <td>377.000000</td>\n",
       "      <td>377.000000</td>\n",
       "      <td>377.000000</td>\n",
       "      <td>377.000000</td>\n",
       "      <td>377.000000</td>\n",
       "    </tr>\n",
       "    <tr>\n",
       "      <th>mean</th>\n",
       "      <td>529.071618</td>\n",
       "      <td>8.355438</td>\n",
       "      <td>417.456233</td>\n",
       "      <td>14.994695</td>\n",
       "      <td>7070.602122</td>\n",
       "    </tr>\n",
       "    <tr>\n",
       "      <th>std</th>\n",
       "      <td>98.301927</td>\n",
       "      <td>3.996132</td>\n",
       "      <td>52.389436</td>\n",
       "      <td>4.738926</td>\n",
       "      <td>1355.212008</td>\n",
       "    </tr>\n",
       "    <tr>\n",
       "      <th>min</th>\n",
       "      <td>296.000000</td>\n",
       "      <td>3.000000</td>\n",
       "      <td>292.000000</td>\n",
       "      <td>11.000000</td>\n",
       "      <td>5683.000000</td>\n",
       "    </tr>\n",
       "    <tr>\n",
       "      <th>25%</th>\n",
       "      <td>497.000000</td>\n",
       "      <td>7.000000</td>\n",
       "      <td>398.000000</td>\n",
       "      <td>13.000000</td>\n",
       "      <td>6426.000000</td>\n",
       "    </tr>\n",
       "    <tr>\n",
       "      <th>50%</th>\n",
       "      <td>517.000000</td>\n",
       "      <td>7.000000</td>\n",
       "      <td>407.000000</td>\n",
       "      <td>14.000000</td>\n",
       "      <td>6707.000000</td>\n",
       "    </tr>\n",
       "    <tr>\n",
       "      <th>75%</th>\n",
       "      <td>538.000000</td>\n",
       "      <td>8.000000</td>\n",
       "      <td>426.000000</td>\n",
       "      <td>14.000000</td>\n",
       "      <td>7008.000000</td>\n",
       "    </tr>\n",
       "    <tr>\n",
       "      <th>max</th>\n",
       "      <td>1458.000000</td>\n",
       "      <td>35.000000</td>\n",
       "      <td>1153.000000</td>\n",
       "      <td>48.000000</td>\n",
       "      <td>16190.000000</td>\n",
       "    </tr>\n",
       "  </tbody>\n",
       "</table>\n",
       "</div>"
      ],
      "text/plain": [
       "              Read  Whitelisting  Marshalling  Time check      DB store\n",
       "count   377.000000    377.000000   377.000000  377.000000    377.000000\n",
       "mean    529.071618      8.355438   417.456233   14.994695   7070.602122\n",
       "std      98.301927      3.996132    52.389436    4.738926   1355.212008\n",
       "min     296.000000      3.000000   292.000000   11.000000   5683.000000\n",
       "25%     497.000000      7.000000   398.000000   13.000000   6426.000000\n",
       "50%     517.000000      7.000000   407.000000   14.000000   6707.000000\n",
       "75%     538.000000      8.000000   426.000000   14.000000   7008.000000\n",
       "max    1458.000000     35.000000  1153.000000   48.000000  16190.000000"
      ]
     },
     "execution_count": 17,
     "metadata": {},
     "output_type": "execute_result"
    }
   ],
   "source": [
    "# again, look at steps\n",
    "duration_steps.describe()"
   ]
  },
  {
   "cell_type": "markdown",
   "metadata": {},
   "source": [
    "We can display stats/speedup for average, worst, and best scenarios. Average might be appropriate for the first version of this benchmark"
   ]
  },
  {
   "cell_type": "code",
   "execution_count": 56,
   "metadata": {},
   "outputs": [
    {
     "name": "stdout",
     "output_type": "stream",
     "text": [
      "Parallel: 969.8779840848806 ns\n",
      "Sequence: 7070.6021220159155 ns\n"
     ]
    }
   ],
   "source": [
    "# let's retrieve means for all five steps\n",
    "means = duration_steps.describe().transpose()[\"mean\"]\n",
    "\n",
    "# the first four steps can be (in theory) made parallel\n",
    "parallel_part = means[\"Read\"]+means[\"Whitelisting\"]+means[\"Marshalling\"]+means[\"Time check\"]\n",
    "print(\"Parallel:\", parallel_part, \"ns\")\n",
    "\n",
    "# last step can be parallelized just in thery - I/O is the bottleneck there\n",
    "sequence_part = means[\"DB store\"]\n",
    "print(\"Sequence:\", sequence_part, \"ns\")"
   ]
  },
  {
   "cell_type": "code",
   "execution_count": 57,
   "metadata": {},
   "outputs": [
    {
     "name": "stdout",
     "output_type": "stream",
     "text": [
      "Ratio: 0.13717049373559667\n",
      "Throughput for 1 pod: 124.37068269607927 per second\n"
     ]
    }
   ],
   "source": [
    "# compute parameters for Amdahl's law\n",
    "p=parallel_part/sequence_part\n",
    "print(\"Ratio:\", p)\n",
    "\n",
    "# throughput for one pod/one CPU\n",
    "t1 = 1000000/(parallel_part+sequence_part)\n",
    "print(\"Throughput for 1 pod:\", t1, \"per second\")"
   ]
  },
  {
   "cell_type": "code",
   "execution_count": 58,
   "metadata": {},
   "outputs": [
    {
     "name": "stdout",
     "output_type": "stream",
     "text": [
      "[124.3706827  133.52878755 136.88874741 138.63294481 139.70096272\n",
      " 140.422164   140.94188364 141.33420505 141.6408572  141.88713868\n",
      " 142.08927964 142.25817095 142.40139288 142.52438427 142.63114879\n",
      " 142.72469904 142.80734535 142.88088913 142.9467557  143.00608755\n",
      " 143.05981121 143.10868594 143.15333986 143.19429711 143.23199849\n",
      " 143.26681739 143.2990722  143.32903611 143.35694481 143.38300273\n",
      " 143.40738808]\n"
     ]
    },
    {
     "data": {
      "image/png": "[encoded data removed]",
      "text/plain": [
       "<Figure size 720x360 with 1 Axes>"
      ]
     },
     "metadata": {},
     "output_type": "display_data"
    }
   ],
   "source": [
    "# now compute and display possible speedup for 1..31 CPUs/pods\n",
    "s=np.arange(1, 32, 1)\n",
    "\n",
    "# possible throughputs for 1..31 CPUs/pods\n",
    "t=t1*1/(1-p+p/s)\n",
    "print(t)\n",
    "\n",
    "plt.rcParams[\"figure.figsize\"] = (10,5)\n",
    "fig=plt.figure()\n",
    "plt.plot(s,t )\n",
    "plt.show()"
   ]
  },
  {
   "cell_type": "code",
   "execution_count": 61,
   "metadata": {},
   "outputs": [
    {
     "name": "stdout",
     "output_type": "stream",
     "text": [
      "Per second 143\n",
      "Per minute 8580\n",
      "Per hour   514800\n",
      "Per day    12355200\n"
     ]
    }
   ],
   "source": [
    "# looks like that even for 32 pods/CPUs we can process at most ~143 messages per second\n",
    "per_second=143\n",
    "print(\"Per second\", per_second)\n",
    "print(\"Per minute\", per_second*60)\n",
    "print(\"Per hour  \", per_second*60*60)\n",
    "print(\"Per day   \", per_second*60*60*24)"
   ]
  },
  {
   "cell_type": "code",
   "execution_count": 62,
   "metadata": {},
   "outputs": [],
   "source": [
    "# finito"
   ]
  },
  {
   "cell_type": "code",
   "execution_count": null,
   "metadata": {},
   "outputs": [],
   "source": []
  }
 ],
 "metadata": {
  "kernelspec": {
   "display_name": "Python 3",
   "language": "python",
   "name": "python3"
  },
  "language_info": {
   "codemirror_mode": {
    "name": "ipython",
    "version": 3
   },
   "file_extension": ".py",
   "mimetype": "text/x-python",
   "name": "python",
   "nbconvert_exporter": "python",
   "pygments_lexer": "ipython3",
   "version": "3.6.6"
  }
 },
 "nbformat": 4,
 "nbformat_minor": 2
}
