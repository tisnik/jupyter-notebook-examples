{
 "cells": [
  {
   "cell_type": "markdown",
   "metadata": {},
   "source": [
    "# Jupyter notebook a programovací jazyk R"
   ]
  },
  {
   "cell_type": "markdown",
   "metadata": {},
   "source": [
    "## Otestování základní funkcionality kernelu jazyka R"
   ]
  },
  {
   "cell_type": "code",
   "execution_count": 1,
   "metadata": {},
   "outputs": [
    {
     "name": "stdout",
     "output_type": "stream",
     "text": [
      "[1] \"Hello world!\"\n"
     ]
    }
   ],
   "source": [
    "print(\"Hello world!\")"
   ]
  },
  {
   "cell_type": "code",
   "execution_count": 2,
   "metadata": {},
   "outputs": [
    {
     "data": {
      "text/html": [
       "'Hello world!'"
      ],
      "text/latex": [
       "'Hello world!'"
      ],
      "text/markdown": [
       "'Hello world!'"
      ],
      "text/plain": [
       "[1] \"Hello world!\""
      ]
     },
     "metadata": {},
     "output_type": "display_data"
    }
   ],
   "source": [
    "\"Hello world!\""
   ]
  },
  {
   "cell_type": "markdown",
   "metadata": {},
   "source": [
    "## Zobrazení nápovědy"
   ]
  },
  {
   "cell_type": "code",
   "execution_count": 36,
   "metadata": {},
   "outputs": [],
   "source": [
    "help(sort)"
   ]
  },
  {
   "cell_type": "markdown",
   "metadata": {},
   "source": [
    "### Zobrazení příkladu použití"
   ]
  },
  {
   "cell_type": "code",
   "execution_count": 37,
   "metadata": {},
   "outputs": [
    {
     "name": "stdout",
     "output_type": "stream",
     "text": [
      "\n",
      "sort> require(stats)\n",
      "\n",
      "sort> x <- swiss$Education[1:25]\n",
      "\n",
      "sort> x; sort(x); sort(x, partial = c(10, 15))\n",
      " [1] 12  9  5  7 15  7  7  8  7 13  6 12  7 12  5  2  8 28 20  9 10  3 12  6  1\n",
      " [1]  1  2  3  5  5  6  6  7  7  7  7  7  8  8  9  9 10 12 12 12 12 13 15 20 28\n",
      " [1]  3  2  5  5  1  6  6  7  7  7  7  8  7  8  9  9 10 12 12 12 12 20 28 13 15\n",
      "\n",
      "sort> ## illustrate 'stable' sorting (of ties):\n",
      "sort> sort(c(10:3, 2:12), method = \"shell\", index.return = TRUE) # is stable\n",
      "$x\n",
      " [1]  2  3  3  4  4  5  5  6  6  7  7  8  8  9  9 10 10 11 12\n",
      "\n",
      "$ix\n",
      " [1]  9  8 10  7 11  6 12  5 13  4 14  3 15  2 16  1 17 18 19\n",
      "\n",
      "\n",
      "sort> ## $x : 2  3  3  4  4  5  5  6  6  7  7  8  8  9  9 10 10 11 12\n",
      "sort> ## $ix: 9  8 10  7 11  6 12  5 13  4 14  3 15  2 16  1 17 18 19\n",
      "sort> sort(c(10:3, 2:12), method = \"quick\", index.return = TRUE) # is not\n",
      "$x\n",
      " [1]  2  3  3  4  4  5  5  6  6  7  7  8  8  9  9 10 10 11 12\n",
      "\n",
      "$ix\n",
      " [1]  9  8 10 11  7  6 12  5 13  4 14  3 15  2 16 17  1 18 19\n",
      "\n",
      "\n",
      "sort> ## $x : 2  3  3  4  4  5  5  6  6  7  7  8  8  9  9 10 10 11 12\n",
      "sort> ## $ix: 9 10  8  7 11  6 12  5 13  4 14  3 15 16  2 17  1 18 19\n",
      "sort> \n",
      "sort> x <- c(1:3, 3:5, 10)\n",
      "\n",
      "sort> is.unsorted(x)                  # FALSE: is sorted\n",
      "[1] FALSE\n",
      "\n",
      "sort> is.unsorted(x, strictly = TRUE) # TRUE : is not (and cannot be)\n",
      "[1] TRUE\n",
      "\n",
      "sort>                                 # sorted strictly\n",
      "sort> ## Not run: \n",
      "sort> ##D ## Small speed comparison simulation:\n",
      "sort> ##D N <- 2000\n",
      "sort> ##D Sim <- 20\n",
      "sort> ##D rep <- 1000 # << adjust to your CPU\n",
      "sort> ##D c1 <- c2 <- numeric(Sim)\n",
      "sort> ##D for(is in seq_len(Sim)){\n",
      "sort> ##D   x <- rnorm(N)\n",
      "sort> ##D   c1[is] <- system.time(for(i in 1:rep) sort(x, method = \"shell\"))[1]\n",
      "sort> ##D   c2[is] <- system.time(for(i in 1:rep) sort(x, method = \"quick\"))[1]\n",
      "sort> ##D   stopifnot(sort(x, method = \"shell\") == sort(x, method = \"quick\"))\n",
      "sort> ##D }\n",
      "sort> ##D rbind(ShellSort = c1, QuickSort = c2)\n",
      "sort> ##D cat(\"Speedup factor of quick sort():\\n\")\n",
      "sort> ##D summary({qq <- c1 / c2; qq[is.finite(qq)]})\n",
      "sort> ##D \n",
      "sort> ##D ## A larger test\n",
      "sort> ##D x <- rnorm(1e7)\n",
      "sort> ##D system.time(x1 <- sort(x, method = \"shell\"))\n",
      "sort> ##D system.time(x2 <- sort(x, method = \"quick\"))\n",
      "sort> ##D system.time(x3 <- sort(x, method = \"radix\"))\n",
      "sort> ##D stopifnot(identical(x1, x2))\n",
      "sort> ##D stopifnot(identical(x1, x3))\n",
      "sort> ## End(Not run)\n",
      "sort> \n",
      "sort> \n"
     ]
    }
   ],
   "source": [
    "example(sort)"
   ]
  },
  {
   "cell_type": "markdown",
   "metadata": {},
   "source": [
    "## Práce s vektory"
   ]
  },
  {
   "cell_type": "markdown",
   "metadata": {},
   "source": [
    "Se základními konstruktory vektorů jsme se již v tomto seriálu seznámili, takže si nyní pouze připomeňme, že existuje hned několik způsobů konstrukce nového vektoru. V případě, že má vektor obsahovat jen jedinou hodnotu, je vytvoření takového vektoru jednoduché a přímočaré, protože vlastní zápis hodnoty (typicky čísla) již představuje skalární hodnotu, která se však chová jako vektor (má délku rovnou jedné, může se používat v operacích, kde se očekávají vektory atd.):"
   ]
  },
  {
   "cell_type": "code",
   "execution_count": 3,
   "metadata": {},
   "outputs": [
    {
     "data": {
      "text/html": [
       "42"
      ],
      "text/latex": [
       "42"
      ],
      "text/markdown": [
       "42"
      ],
      "text/plain": [
       "[1] 42"
      ]
     },
     "metadata": {},
     "output_type": "display_data"
    }
   ],
   "source": [
    "42"
   ]
  },
  {
   "cell_type": "markdown",
   "metadata": {},
   "source": [
    "O tom, jakého typu je takový skalár nebo vektor, se můžeme přesvědčit zavoláním funkce class:"
   ]
  },
  {
   "cell_type": "code",
   "execution_count": 4,
   "metadata": {},
   "outputs": [
    {
     "data": {
      "text/html": [
       "'numeric'"
      ],
      "text/latex": [
       "'numeric'"
      ],
      "text/markdown": [
       "'numeric'"
      ],
      "text/plain": [
       "[1] \"numeric\""
      ]
     },
     "metadata": {},
     "output_type": "display_data"
    }
   ],
   "source": [
    "class(42)"
   ]
  },
  {
   "cell_type": "markdown",
   "metadata": {},
   "source": [
    "Vektor s obecnými prvky se vytvoří konstruktorem nazvaným `c`, což je funkce, které se předají hodnoty jednotlivých prvků:"
   ]
  },
  {
   "cell_type": "code",
   "execution_count": 6,
   "metadata": {},
   "outputs": [],
   "source": [
    "a <- c(1,2,3,4)"
   ]
  },
  {
   "cell_type": "code",
   "execution_count": 7,
   "metadata": {},
   "outputs": [
    {
     "data": {
      "text/html": [
       "'numeric'"
      ],
      "text/latex": [
       "'numeric'"
      ],
      "text/markdown": [
       "'numeric'"
      ],
      "text/plain": [
       "[1] \"numeric\""
      ]
     },
     "metadata": {},
     "output_type": "display_data"
    }
   ],
   "source": [
    "class(a)"
   ]
  },
  {
   "cell_type": "markdown",
   "metadata": {},
   "source": [
    "Prvky samozřejmě nemusí být pouze celými čísly, ale například i hodnotami s plovoucí řádovou čárkou:"
   ]
  },
  {
   "cell_type": "code",
   "execution_count": 8,
   "metadata": {},
   "outputs": [
    {
     "data": {
      "text/html": [
       "'numeric'"
      ],
      "text/latex": [
       "'numeric'"
      ],
      "text/markdown": [
       "'numeric'"
      ],
      "text/plain": [
       "[1] \"numeric\""
      ]
     },
     "metadata": {},
     "output_type": "display_data"
    }
   ],
   "source": [
    "b <- c(1.2, 2.3, 3.4)\n",
    "class(b)"
   ]
  },
  {
   "cell_type": "markdown",
   "metadata": {},
   "source": [
    "Nakonec si vyzkoušíme vytvoření vektoru obsahujícího pravdivostní hodnoty `TRUE` a `FALSE`:"
   ]
  },
  {
   "cell_type": "code",
   "execution_count": 9,
   "metadata": {},
   "outputs": [
    {
     "data": {
      "text/html": [
       "'logical'"
      ],
      "text/latex": [
       "'logical'"
      ],
      "text/markdown": [
       "'logical'"
      ],
      "text/plain": [
       "[1] \"logical\""
      ]
     },
     "metadata": {},
     "output_type": "display_data"
    }
   ],
   "source": [
    "l <- c(TRUE, FALSE, TRUE)\n",
    "class(l)"
   ]
  },
  {
   "cell_type": "markdown",
   "metadata": {},
   "source": [
    "Sekvence hodnot:"
   ]
  },
  {
   "cell_type": "code",
   "execution_count": 10,
   "metadata": {},
   "outputs": [],
   "source": [
    "data <- 1:12"
   ]
  },
  {
   "cell_type": "code",
   "execution_count": 11,
   "metadata": {},
   "outputs": [
    {
     "data": {
      "text/html": [
       "<style>\n",
       ".list-inline {list-style: none; margin:0; padding: 0}\n",
       ".list-inline>li {display: inline-block}\n",
       ".list-inline>li:not(:last-child)::after {content: \"\\00b7\"; padding: 0 .5ex}\n",
       "</style>\n",
       "<ol class=list-inline><li>1</li><li>2</li><li>3</li><li>4</li><li>5</li><li>6</li><li>7</li><li>8</li><li>9</li><li>10</li><li>11</li><li>12</li></ol>\n"
      ],
      "text/latex": [
       "\\begin{enumerate*}\n",
       "\\item 1\n",
       "\\item 2\n",
       "\\item 3\n",
       "\\item 4\n",
       "\\item 5\n",
       "\\item 6\n",
       "\\item 7\n",
       "\\item 8\n",
       "\\item 9\n",
       "\\item 10\n",
       "\\item 11\n",
       "\\item 12\n",
       "\\end{enumerate*}\n"
      ],
      "text/markdown": [
       "1. 1\n",
       "2. 2\n",
       "3. 3\n",
       "4. 4\n",
       "5. 5\n",
       "6. 6\n",
       "7. 7\n",
       "8. 8\n",
       "9. 9\n",
       "10. 10\n",
       "11. 11\n",
       "12. 12\n",
       "\n",
       "\n"
      ],
      "text/plain": [
       " [1]  1  2  3  4  5  6  7  8  9 10 11 12"
      ]
     },
     "metadata": {},
     "output_type": "display_data"
    }
   ],
   "source": [
    "data"
   ]
  },
  {
   "cell_type": "markdown",
   "metadata": {},
   "source": [
    "Porovnání dvou vektorů (druhý vektor s jediným prvkem je rozšířen na velikost prvního vektoru):"
   ]
  },
  {
   "cell_type": "code",
   "execution_count": 12,
   "metadata": {},
   "outputs": [
    {
     "data": {
      "text/html": [
       "<style>\n",
       ".list-inline {list-style: none; margin:0; padding: 0}\n",
       ".list-inline>li {display: inline-block}\n",
       ".list-inline>li:not(:last-child)::after {content: \"\\00b7\"; padding: 0 .5ex}\n",
       "</style>\n",
       "<ol class=list-inline><li>TRUE</li><li>TRUE</li><li>TRUE</li><li>TRUE</li><li>TRUE</li><li>FALSE</li><li>FALSE</li><li>FALSE</li><li>FALSE</li><li>FALSE</li><li>FALSE</li><li>FALSE</li></ol>\n"
      ],
      "text/latex": [
       "\\begin{enumerate*}\n",
       "\\item TRUE\n",
       "\\item TRUE\n",
       "\\item TRUE\n",
       "\\item TRUE\n",
       "\\item TRUE\n",
       "\\item FALSE\n",
       "\\item FALSE\n",
       "\\item FALSE\n",
       "\\item FALSE\n",
       "\\item FALSE\n",
       "\\item FALSE\n",
       "\\item FALSE\n",
       "\\end{enumerate*}\n"
      ],
      "text/markdown": [
       "1. TRUE\n",
       "2. TRUE\n",
       "3. TRUE\n",
       "4. TRUE\n",
       "5. TRUE\n",
       "6. FALSE\n",
       "7. FALSE\n",
       "8. FALSE\n",
       "9. FALSE\n",
       "10. FALSE\n",
       "11. FALSE\n",
       "12. FALSE\n",
       "\n",
       "\n"
      ],
      "text/plain": [
       " [1]  TRUE  TRUE  TRUE  TRUE  TRUE FALSE FALSE FALSE FALSE FALSE FALSE FALSE"
      ]
     },
     "metadata": {},
     "output_type": "display_data"
    }
   ],
   "source": [
    "data < 6"
   ]
  },
  {
   "cell_type": "markdown",
   "metadata": {},
   "source": [
    "## Matice"
   ]
  },
  {
   "cell_type": "markdown",
   "metadata": {},
   "source": [
    "Pro vytvoření matice se používá konstruktor nazvaný matrix, kterému se předá vektor s daty (hodnotami prvků), počet řádků a počet sloupců (popř. obráceně):"
   ]
  },
  {
   "cell_type": "code",
   "execution_count": 7,
   "metadata": {},
   "outputs": [],
   "source": [
    "m1 <- matrix(data, nrow=1, ncol=12)"
   ]
  },
  {
   "cell_type": "code",
   "execution_count": 8,
   "metadata": {},
   "outputs": [
    {
     "data": {
      "text/html": [
       "<table class=\"dataframe\">\n",
       "<caption>A matrix: 1 × 12 of type int</caption>\n",
       "<tbody>\n",
       "\t<tr><td>1</td><td>2</td><td>3</td><td>4</td><td>5</td><td>6</td><td>7</td><td>8</td><td>9</td><td>10</td><td>11</td><td>12</td></tr>\n",
       "</tbody>\n",
       "</table>\n"
      ],
      "text/latex": [
       "A matrix: 1 × 12 of type int\n",
       "\\begin{tabular}{llllllllllll}\n",
       "\t 1 & 2 & 3 & 4 & 5 & 6 & 7 & 8 & 9 & 10 & 11 & 12\\\\\n",
       "\\end{tabular}\n"
      ],
      "text/markdown": [
       "\n",
       "A matrix: 1 × 12 of type int\n",
       "\n",
       "| 1 | 2 | 3 | 4 | 5 | 6 | 7 | 8 | 9 | 10 | 11 | 12 |\n",
       "\n"
      ],
      "text/plain": [
       "     [,1] [,2] [,3] [,4] [,5] [,6] [,7] [,8] [,9] [,10] [,11] [,12]\n",
       "[1,] 1    2    3    4    5    6    7    8    9    10    11    12   "
      ]
     },
     "metadata": {},
     "output_type": "display_data"
    }
   ],
   "source": [
    "m1"
   ]
  },
  {
   "cell_type": "code",
   "execution_count": 9,
   "metadata": {},
   "outputs": [],
   "source": [
    "m2 <- matrix(data, nrow=3, ncol=4)"
   ]
  },
  {
   "cell_type": "code",
   "execution_count": 10,
   "metadata": {},
   "outputs": [
    {
     "data": {
      "text/html": [
       "<table class=\"dataframe\">\n",
       "<caption>A matrix: 3 × 4 of type int</caption>\n",
       "<tbody>\n",
       "\t<tr><td>1</td><td>4</td><td>7</td><td>10</td></tr>\n",
       "\t<tr><td>2</td><td>5</td><td>8</td><td>11</td></tr>\n",
       "\t<tr><td>3</td><td>6</td><td>9</td><td>12</td></tr>\n",
       "</tbody>\n",
       "</table>\n"
      ],
      "text/latex": [
       "A matrix: 3 × 4 of type int\n",
       "\\begin{tabular}{llll}\n",
       "\t 1 & 4 & 7 & 10\\\\\n",
       "\t 2 & 5 & 8 & 11\\\\\n",
       "\t 3 & 6 & 9 & 12\\\\\n",
       "\\end{tabular}\n"
      ],
      "text/markdown": [
       "\n",
       "A matrix: 3 × 4 of type int\n",
       "\n",
       "| 1 | 4 | 7 | 10 |\n",
       "| 2 | 5 | 8 | 11 |\n",
       "| 3 | 6 | 9 | 12 |\n",
       "\n"
      ],
      "text/plain": [
       "     [,1] [,2] [,3] [,4]\n",
       "[1,] 1    4    7    10  \n",
       "[2,] 2    5    8    11  \n",
       "[3,] 3    6    9    12  "
      ]
     },
     "metadata": {},
     "output_type": "display_data"
    }
   ],
   "source": [
    "m2"
   ]
  },
  {
   "cell_type": "code",
   "execution_count": 11,
   "metadata": {},
   "outputs": [],
   "source": [
    "m3 <- matrix(data, nrow=4, ncol=3)"
   ]
  },
  {
   "cell_type": "code",
   "execution_count": 12,
   "metadata": {},
   "outputs": [
    {
     "data": {
      "text/html": [
       "<table class=\"dataframe\">\n",
       "<caption>A matrix: 4 × 3 of type int</caption>\n",
       "<tbody>\n",
       "\t<tr><td>1</td><td>5</td><td> 9</td></tr>\n",
       "\t<tr><td>2</td><td>6</td><td>10</td></tr>\n",
       "\t<tr><td>3</td><td>7</td><td>11</td></tr>\n",
       "\t<tr><td>4</td><td>8</td><td>12</td></tr>\n",
       "</tbody>\n",
       "</table>\n"
      ],
      "text/latex": [
       "A matrix: 4 × 3 of type int\n",
       "\\begin{tabular}{lll}\n",
       "\t 1 & 5 &  9\\\\\n",
       "\t 2 & 6 & 10\\\\\n",
       "\t 3 & 7 & 11\\\\\n",
       "\t 4 & 8 & 12\\\\\n",
       "\\end{tabular}\n"
      ],
      "text/markdown": [
       "\n",
       "A matrix: 4 × 3 of type int\n",
       "\n",
       "| 1 | 5 |  9 |\n",
       "| 2 | 6 | 10 |\n",
       "| 3 | 7 | 11 |\n",
       "| 4 | 8 | 12 |\n",
       "\n"
      ],
      "text/plain": [
       "     [,1] [,2] [,3]\n",
       "[1,] 1    5     9  \n",
       "[2,] 2    6    10  \n",
       "[3,] 3    7    11  \n",
       "[4,] 4    8    12  "
      ]
     },
     "metadata": {},
     "output_type": "display_data"
    }
   ],
   "source": [
    "m3"
   ]
  },
  {
   "cell_type": "markdown",
   "metadata": {},
   "source": [
    "### Zaplnění matice po řádcích nebo po sloupcích"
   ]
  },
  {
   "cell_type": "markdown",
   "metadata": {},
   "source": [
    "V konstruktoru `matrix` je možné nepovinným parametrem (logickou hodnotou) `byrow` určit, zda bude matice zaplňována po řádcích nebo po sloupcích."
   ]
  },
  {
   "cell_type": "code",
   "execution_count": 15,
   "metadata": {},
   "outputs": [
    {
     "data": {
      "text/html": [
       "<table class=\"dataframe\">\n",
       "<caption>A matrix: 1 × 12 of type int</caption>\n",
       "<tbody>\n",
       "\t<tr><td>1</td><td>2</td><td>3</td><td>4</td><td>5</td><td>6</td><td>7</td><td>8</td><td>9</td><td>10</td><td>11</td><td>12</td></tr>\n",
       "</tbody>\n",
       "</table>\n"
      ],
      "text/latex": [
       "A matrix: 1 × 12 of type int\n",
       "\\begin{tabular}{llllllllllll}\n",
       "\t 1 & 2 & 3 & 4 & 5 & 6 & 7 & 8 & 9 & 10 & 11 & 12\\\\\n",
       "\\end{tabular}\n"
      ],
      "text/markdown": [
       "\n",
       "A matrix: 1 × 12 of type int\n",
       "\n",
       "| 1 | 2 | 3 | 4 | 5 | 6 | 7 | 8 | 9 | 10 | 11 | 12 |\n",
       "\n"
      ],
      "text/plain": [
       "     [,1] [,2] [,3] [,4] [,5] [,6] [,7] [,8] [,9] [,10] [,11] [,12]\n",
       "[1,] 1    2    3    4    5    6    7    8    9    10    11    12   "
      ]
     },
     "metadata": {},
     "output_type": "display_data"
    },
    {
     "data": {
      "text/html": [
       "<table class=\"dataframe\">\n",
       "<caption>A matrix: 2 × 6 of type int</caption>\n",
       "<tbody>\n",
       "\t<tr><td>1</td><td>2</td><td>3</td><td> 4</td><td> 5</td><td> 6</td></tr>\n",
       "\t<tr><td>7</td><td>8</td><td>9</td><td>10</td><td>11</td><td>12</td></tr>\n",
       "</tbody>\n",
       "</table>\n"
      ],
      "text/latex": [
       "A matrix: 2 × 6 of type int\n",
       "\\begin{tabular}{llllll}\n",
       "\t 1 & 2 & 3 &  4 &  5 &  6\\\\\n",
       "\t 7 & 8 & 9 & 10 & 11 & 12\\\\\n",
       "\\end{tabular}\n"
      ],
      "text/markdown": [
       "\n",
       "A matrix: 2 × 6 of type int\n",
       "\n",
       "| 1 | 2 | 3 |  4 |  5 |  6 |\n",
       "| 7 | 8 | 9 | 10 | 11 | 12 |\n",
       "\n"
      ],
      "text/plain": [
       "     [,1] [,2] [,3] [,4] [,5] [,6]\n",
       "[1,] 1    2    3     4    5    6  \n",
       "[2,] 7    8    9    10   11   12  "
      ]
     },
     "metadata": {},
     "output_type": "display_data"
    },
    {
     "data": {
      "text/html": [
       "<table class=\"dataframe\">\n",
       "<caption>A matrix: 3 × 4 of type int</caption>\n",
       "<tbody>\n",
       "\t<tr><td>1</td><td> 2</td><td> 3</td><td> 4</td></tr>\n",
       "\t<tr><td>5</td><td> 6</td><td> 7</td><td> 8</td></tr>\n",
       "\t<tr><td>9</td><td>10</td><td>11</td><td>12</td></tr>\n",
       "</tbody>\n",
       "</table>\n"
      ],
      "text/latex": [
       "A matrix: 3 × 4 of type int\n",
       "\\begin{tabular}{llll}\n",
       "\t 1 &  2 &  3 &  4\\\\\n",
       "\t 5 &  6 &  7 &  8\\\\\n",
       "\t 9 & 10 & 11 & 12\\\\\n",
       "\\end{tabular}\n"
      ],
      "text/markdown": [
       "\n",
       "A matrix: 3 × 4 of type int\n",
       "\n",
       "| 1 |  2 |  3 |  4 |\n",
       "| 5 |  6 |  7 |  8 |\n",
       "| 9 | 10 | 11 | 12 |\n",
       "\n"
      ],
      "text/plain": [
       "     [,1] [,2] [,3] [,4]\n",
       "[1,] 1     2    3    4  \n",
       "[2,] 5     6    7    8  \n",
       "[3,] 9    10   11   12  "
      ]
     },
     "metadata": {},
     "output_type": "display_data"
    },
    {
     "data": {
      "text/html": [
       "<table class=\"dataframe\">\n",
       "<caption>A matrix: 4 × 3 of type int</caption>\n",
       "<tbody>\n",
       "\t<tr><td> 1</td><td> 2</td><td> 3</td></tr>\n",
       "\t<tr><td> 4</td><td> 5</td><td> 6</td></tr>\n",
       "\t<tr><td> 7</td><td> 8</td><td> 9</td></tr>\n",
       "\t<tr><td>10</td><td>11</td><td>12</td></tr>\n",
       "</tbody>\n",
       "</table>\n"
      ],
      "text/latex": [
       "A matrix: 4 × 3 of type int\n",
       "\\begin{tabular}{lll}\n",
       "\t  1 &  2 &  3\\\\\n",
       "\t  4 &  5 &  6\\\\\n",
       "\t  7 &  8 &  9\\\\\n",
       "\t 10 & 11 & 12\\\\\n",
       "\\end{tabular}\n"
      ],
      "text/markdown": [
       "\n",
       "A matrix: 4 × 3 of type int\n",
       "\n",
       "|  1 |  2 |  3 |\n",
       "|  4 |  5 |  6 |\n",
       "|  7 |  8 |  9 |\n",
       "| 10 | 11 | 12 |\n",
       "\n"
      ],
      "text/plain": [
       "     [,1] [,2] [,3]\n",
       "[1,]  1    2    3  \n",
       "[2,]  4    5    6  \n",
       "[3,]  7    8    9  \n",
       "[4,] 10   11   12  "
      ]
     },
     "metadata": {},
     "output_type": "display_data"
    },
    {
     "data": {
      "text/html": [
       "<table class=\"dataframe\">\n",
       "<caption>A matrix: 6 × 2 of type int</caption>\n",
       "<tbody>\n",
       "\t<tr><td> 1</td><td> 2</td></tr>\n",
       "\t<tr><td> 3</td><td> 4</td></tr>\n",
       "\t<tr><td> 5</td><td> 6</td></tr>\n",
       "\t<tr><td> 7</td><td> 8</td></tr>\n",
       "\t<tr><td> 9</td><td>10</td></tr>\n",
       "\t<tr><td>11</td><td>12</td></tr>\n",
       "</tbody>\n",
       "</table>\n"
      ],
      "text/latex": [
       "A matrix: 6 × 2 of type int\n",
       "\\begin{tabular}{ll}\n",
       "\t  1 &  2\\\\\n",
       "\t  3 &  4\\\\\n",
       "\t  5 &  6\\\\\n",
       "\t  7 &  8\\\\\n",
       "\t  9 & 10\\\\\n",
       "\t 11 & 12\\\\\n",
       "\\end{tabular}\n"
      ],
      "text/markdown": [
       "\n",
       "A matrix: 6 × 2 of type int\n",
       "\n",
       "|  1 |  2 |\n",
       "|  3 |  4 |\n",
       "|  5 |  6 |\n",
       "|  7 |  8 |\n",
       "|  9 | 10 |\n",
       "| 11 | 12 |\n",
       "\n"
      ],
      "text/plain": [
       "     [,1] [,2]\n",
       "[1,]  1    2  \n",
       "[2,]  3    4  \n",
       "[3,]  5    6  \n",
       "[4,]  7    8  \n",
       "[5,]  9   10  \n",
       "[6,] 11   12  "
      ]
     },
     "metadata": {},
     "output_type": "display_data"
    },
    {
     "data": {
      "text/html": [
       "<table class=\"dataframe\">\n",
       "<caption>A matrix: 12 × 1 of type int</caption>\n",
       "<tbody>\n",
       "\t<tr><td> 1</td></tr>\n",
       "\t<tr><td> 2</td></tr>\n",
       "\t<tr><td> 3</td></tr>\n",
       "\t<tr><td> 4</td></tr>\n",
       "\t<tr><td> 5</td></tr>\n",
       "\t<tr><td> 6</td></tr>\n",
       "\t<tr><td> 7</td></tr>\n",
       "\t<tr><td> 8</td></tr>\n",
       "\t<tr><td> 9</td></tr>\n",
       "\t<tr><td>10</td></tr>\n",
       "\t<tr><td>11</td></tr>\n",
       "\t<tr><td>12</td></tr>\n",
       "</tbody>\n",
       "</table>\n"
      ],
      "text/latex": [
       "A matrix: 12 × 1 of type int\n",
       "\\begin{tabular}{l}\n",
       "\t  1\\\\\n",
       "\t  2\\\\\n",
       "\t  3\\\\\n",
       "\t  4\\\\\n",
       "\t  5\\\\\n",
       "\t  6\\\\\n",
       "\t  7\\\\\n",
       "\t  8\\\\\n",
       "\t  9\\\\\n",
       "\t 10\\\\\n",
       "\t 11\\\\\n",
       "\t 12\\\\\n",
       "\\end{tabular}\n"
      ],
      "text/markdown": [
       "\n",
       "A matrix: 12 × 1 of type int\n",
       "\n",
       "|  1 |\n",
       "|  2 |\n",
       "|  3 |\n",
       "|  4 |\n",
       "|  5 |\n",
       "|  6 |\n",
       "|  7 |\n",
       "|  8 |\n",
       "|  9 |\n",
       "| 10 |\n",
       "| 11 |\n",
       "| 12 |\n",
       "\n"
      ],
      "text/plain": [
       "      [,1]\n",
       " [1,]  1  \n",
       " [2,]  2  \n",
       " [3,]  3  \n",
       " [4,]  4  \n",
       " [5,]  5  \n",
       " [6,]  6  \n",
       " [7,]  7  \n",
       " [8,]  8  \n",
       " [9,]  9  \n",
       "[10,] 10  \n",
       "[11,] 11  \n",
       "[12,] 12  "
      ]
     },
     "metadata": {},
     "output_type": "display_data"
    }
   ],
   "source": [
    "data <- 1:12\n",
    " \n",
    "m1 <- matrix(data, nrow=1, ncol=12, byrow=TRUE)\n",
    "m1\n",
    " \n",
    "m2 <- matrix(data, nrow=2, ncol=6, byrow=TRUE)\n",
    "m2\n",
    " \n",
    "m3 <- matrix(data, nrow=3, ncol=4, byrow=TRUE)\n",
    "m3\n",
    " \n",
    "m4 <- matrix(data, nrow=4, ncol=3, byrow=TRUE)\n",
    "m4\n",
    " \n",
    "m5 <- matrix(data, nrow=6, ncol=2, byrow=TRUE)\n",
    "m5\n",
    " \n",
    "m6 <- matrix(data, nrow=12, ncol=1, byrow=TRUE)\n",
    "m6"
   ]
  },
  {
   "cell_type": "markdown",
   "metadata": {},
   "source": [
    "### Pojmenování řádků a sloupců matice"
   ]
  },
  {
   "cell_type": "markdown",
   "metadata": {},
   "source": [
    "Konstruktoru matrix postačuje předat v pojmenovaném parametru `dimnames` seznam vektorů, přičemž první vektor v seznamu obsahuje jména řádků a druhý vektor jména sloupců. Se seznamy jsme se sice prozatím nesetkali, ale ze zdrojového kódu dalšího demonstračního příkladu je patrné, že je jejich konstrukce pomocí `list` přímočará:"
   ]
  },
  {
   "cell_type": "code",
   "execution_count": 16,
   "metadata": {},
   "outputs": [
    {
     "data": {
      "text/html": [
       "<table class=\"dataframe\">\n",
       "<caption>A matrix: 3 × 3 of type int</caption>\n",
       "<thead>\n",
       "\t<tr><th></th><th scope=col>u</th><th scope=col>v</th><th scope=col>w</th></tr>\n",
       "</thead>\n",
       "<tbody>\n",
       "\t<tr><th scope=row>x</th><td>1</td><td>4</td><td>7</td></tr>\n",
       "\t<tr><th scope=row>y</th><td>2</td><td>5</td><td>8</td></tr>\n",
       "\t<tr><th scope=row>z</th><td>3</td><td>6</td><td>9</td></tr>\n",
       "</tbody>\n",
       "</table>\n"
      ],
      "text/latex": [
       "A matrix: 3 × 3 of type int\n",
       "\\begin{tabular}{r|lll}\n",
       "  & u & v & w\\\\\n",
       "\\hline\n",
       "\tx & 1 & 4 & 7\\\\\n",
       "\ty & 2 & 5 & 8\\\\\n",
       "\tz & 3 & 6 & 9\\\\\n",
       "\\end{tabular}\n"
      ],
      "text/markdown": [
       "\n",
       "A matrix: 3 × 3 of type int\n",
       "\n",
       "| <!--/--> | u | v | w |\n",
       "|---|---|---|---|\n",
       "| x | 1 | 4 | 7 |\n",
       "| y | 2 | 5 | 8 |\n",
       "| z | 3 | 6 | 9 |\n",
       "\n"
      ],
      "text/plain": [
       "  u v w\n",
       "x 1 4 7\n",
       "y 2 5 8\n",
       "z 3 6 9"
      ]
     },
     "metadata": {},
     "output_type": "display_data"
    }
   ],
   "source": [
    "data <- 1:9\n",
    "dimension.names <- list(\n",
    "    c(\"x\", \"y\", \"z\"),\n",
    "    c(\"u\", \"v\", \"w\"))\n",
    " \n",
    "m33 <- matrix(data, nrow=3, ncol=3, dimnames=dimension.names)\n",
    "m33"
   ]
  },
  {
   "cell_type": "markdown",
   "metadata": {},
   "source": [
    "### Tisk tabulky s názvy měsíců"
   ]
  },
  {
   "cell_type": "code",
   "execution_count": 17,
   "metadata": {},
   "outputs": [
    {
     "data": {
      "text/html": [
       "<table class=\"dataframe\">\n",
       "<caption>A matrix: 3 × 4 of type chr</caption>\n",
       "<thead>\n",
       "\t<tr><th></th><th scope=col>Winter</th><th scope=col>Spring</th><th scope=col>Summer</th><th scope=col>Fall</th></tr>\n",
       "</thead>\n",
       "<tbody>\n",
       "\t<tr><th scope=row>start</th><td>Dec</td><td>Mar</td><td>Jun</td><td>Sep</td></tr>\n",
       "\t<tr><th scope=row>middle</th><td>Jan</td><td>Apr</td><td>Jul</td><td>Oct</td></tr>\n",
       "\t<tr><th scope=row>end</th><td>Feb</td><td>May</td><td>Aug</td><td>Nov</td></tr>\n",
       "</tbody>\n",
       "</table>\n"
      ],
      "text/latex": [
       "A matrix: 3 × 4 of type chr\n",
       "\\begin{tabular}{r|llll}\n",
       "  & Winter & Spring & Summer & Fall\\\\\n",
       "\\hline\n",
       "\tstart & Dec & Mar & Jun & Sep\\\\\n",
       "\tmiddle & Jan & Apr & Jul & Oct\\\\\n",
       "\tend & Feb & May & Aug & Nov\\\\\n",
       "\\end{tabular}\n"
      ],
      "text/markdown": [
       "\n",
       "A matrix: 3 × 4 of type chr\n",
       "\n",
       "| <!--/--> | Winter | Spring | Summer | Fall |\n",
       "|---|---|---|---|---|\n",
       "| start | Dec | Mar | Jun | Sep |\n",
       "| middle | Jan | Apr | Jul | Oct |\n",
       "| end | Feb | May | Aug | Nov |\n",
       "\n"
      ],
      "text/plain": [
       "       Winter Spring Summer Fall\n",
       "start  Dec    Mar    Jun    Sep \n",
       "middle Jan    Apr    Jul    Oct \n",
       "end    Feb    May    Aug    Nov "
      ]
     },
     "metadata": {},
     "output_type": "display_data"
    }
   ],
   "source": [
    "matrix(\n",
    "  month.abb[c(12, 1:11)],\n",
    "  nrow = 3,\n",
    "  dimnames = list(\n",
    "    c(\"start\", \"middle\", \"end\"),\n",
    "    c(\"Winter\", \"Spring\", \"Summer\", \"Fall\")\n",
    "  )\n",
    ")"
   ]
  },
  {
   "cell_type": "markdown",
   "metadata": {},
   "source": [
    "### Maticový součin"
   ]
  },
  {
   "cell_type": "code",
   "execution_count": 19,
   "metadata": {},
   "outputs": [
    {
     "data": {
      "text/html": [
       "<table class=\"dataframe\">\n",
       "<caption>A matrix: 5 × 5 of type int</caption>\n",
       "<tbody>\n",
       "\t<tr><td>1</td><td> 6</td><td>11</td><td>16</td><td>21</td></tr>\n",
       "\t<tr><td>2</td><td> 7</td><td>12</td><td>17</td><td>22</td></tr>\n",
       "\t<tr><td>3</td><td> 8</td><td>13</td><td>18</td><td>23</td></tr>\n",
       "\t<tr><td>4</td><td> 9</td><td>14</td><td>19</td><td>24</td></tr>\n",
       "\t<tr><td>5</td><td>10</td><td>15</td><td>20</td><td>25</td></tr>\n",
       "</tbody>\n",
       "</table>\n"
      ],
      "text/latex": [
       "A matrix: 5 × 5 of type int\n",
       "\\begin{tabular}{lllll}\n",
       "\t 1 &  6 & 11 & 16 & 21\\\\\n",
       "\t 2 &  7 & 12 & 17 & 22\\\\\n",
       "\t 3 &  8 & 13 & 18 & 23\\\\\n",
       "\t 4 &  9 & 14 & 19 & 24\\\\\n",
       "\t 5 & 10 & 15 & 20 & 25\\\\\n",
       "\\end{tabular}\n"
      ],
      "text/markdown": [
       "\n",
       "A matrix: 5 × 5 of type int\n",
       "\n",
       "| 1 |  6 | 11 | 16 | 21 |\n",
       "| 2 |  7 | 12 | 17 | 22 |\n",
       "| 3 |  8 | 13 | 18 | 23 |\n",
       "| 4 |  9 | 14 | 19 | 24 |\n",
       "| 5 | 10 | 15 | 20 | 25 |\n",
       "\n"
      ],
      "text/plain": [
       "     [,1] [,2] [,3] [,4] [,5]\n",
       "[1,] 1     6   11   16   21  \n",
       "[2,] 2     7   12   17   22  \n",
       "[3,] 3     8   13   18   23  \n",
       "[4,] 4     9   14   19   24  \n",
       "[5,] 5    10   15   20   25  "
      ]
     },
     "metadata": {},
     "output_type": "display_data"
    },
    {
     "data": {
      "text/html": [
       "<table class=\"dataframe\">\n",
       "<caption>A matrix: 5 × 5 of type dbl</caption>\n",
       "<tbody>\n",
       "\t<tr><td>1</td><td>0</td><td>0</td><td>0</td><td>0</td></tr>\n",
       "\t<tr><td>0</td><td>1</td><td>0</td><td>0</td><td>0</td></tr>\n",
       "\t<tr><td>0</td><td>0</td><td>1</td><td>0</td><td>0</td></tr>\n",
       "\t<tr><td>0</td><td>0</td><td>0</td><td>1</td><td>0</td></tr>\n",
       "\t<tr><td>0</td><td>0</td><td>0</td><td>0</td><td>1</td></tr>\n",
       "</tbody>\n",
       "</table>\n"
      ],
      "text/latex": [
       "A matrix: 5 × 5 of type dbl\n",
       "\\begin{tabular}{lllll}\n",
       "\t 1 & 0 & 0 & 0 & 0\\\\\n",
       "\t 0 & 1 & 0 & 0 & 0\\\\\n",
       "\t 0 & 0 & 1 & 0 & 0\\\\\n",
       "\t 0 & 0 & 0 & 1 & 0\\\\\n",
       "\t 0 & 0 & 0 & 0 & 1\\\\\n",
       "\\end{tabular}\n"
      ],
      "text/markdown": [
       "\n",
       "A matrix: 5 × 5 of type dbl\n",
       "\n",
       "| 1 | 0 | 0 | 0 | 0 |\n",
       "| 0 | 1 | 0 | 0 | 0 |\n",
       "| 0 | 0 | 1 | 0 | 0 |\n",
       "| 0 | 0 | 0 | 1 | 0 |\n",
       "| 0 | 0 | 0 | 0 | 1 |\n",
       "\n"
      ],
      "text/plain": [
       "     [,1] [,2] [,3] [,4] [,5]\n",
       "[1,] 1    0    0    0    0   \n",
       "[2,] 0    1    0    0    0   \n",
       "[3,] 0    0    1    0    0   \n",
       "[4,] 0    0    0    1    0   \n",
       "[5,] 0    0    0    0    1   "
      ]
     },
     "metadata": {},
     "output_type": "display_data"
    },
    {
     "data": {
      "text/html": [
       "<table class=\"dataframe\">\n",
       "<caption>A matrix: 5 × 5 of type dbl</caption>\n",
       "<tbody>\n",
       "\t<tr><td>1</td><td> 6</td><td>11</td><td>16</td><td>21</td></tr>\n",
       "\t<tr><td>2</td><td> 7</td><td>12</td><td>17</td><td>22</td></tr>\n",
       "\t<tr><td>3</td><td> 8</td><td>13</td><td>18</td><td>23</td></tr>\n",
       "\t<tr><td>4</td><td> 9</td><td>14</td><td>19</td><td>24</td></tr>\n",
       "\t<tr><td>5</td><td>10</td><td>15</td><td>20</td><td>25</td></tr>\n",
       "</tbody>\n",
       "</table>\n"
      ],
      "text/latex": [
       "A matrix: 5 × 5 of type dbl\n",
       "\\begin{tabular}{lllll}\n",
       "\t 1 &  6 & 11 & 16 & 21\\\\\n",
       "\t 2 &  7 & 12 & 17 & 22\\\\\n",
       "\t 3 &  8 & 13 & 18 & 23\\\\\n",
       "\t 4 &  9 & 14 & 19 & 24\\\\\n",
       "\t 5 & 10 & 15 & 20 & 25\\\\\n",
       "\\end{tabular}\n"
      ],
      "text/markdown": [
       "\n",
       "A matrix: 5 × 5 of type dbl\n",
       "\n",
       "| 1 |  6 | 11 | 16 | 21 |\n",
       "| 2 |  7 | 12 | 17 | 22 |\n",
       "| 3 |  8 | 13 | 18 | 23 |\n",
       "| 4 |  9 | 14 | 19 | 24 |\n",
       "| 5 | 10 | 15 | 20 | 25 |\n",
       "\n"
      ],
      "text/plain": [
       "     [,1] [,2] [,3] [,4] [,5]\n",
       "[1,] 1     6   11   16   21  \n",
       "[2,] 2     7   12   17   22  \n",
       "[3,] 3     8   13   18   23  \n",
       "[4,] 4     9   14   19   24  \n",
       "[5,] 5    10   15   20   25  "
      ]
     },
     "metadata": {},
     "output_type": "display_data"
    },
    {
     "data": {
      "text/html": [
       "<table class=\"dataframe\">\n",
       "<caption>A matrix: 5 × 5 of type dbl</caption>\n",
       "<tbody>\n",
       "\t<tr><td>1</td><td> 6</td><td>110</td><td>16</td><td>21</td></tr>\n",
       "\t<tr><td>2</td><td> 7</td><td>120</td><td>17</td><td>22</td></tr>\n",
       "\t<tr><td>3</td><td> 8</td><td>130</td><td>18</td><td>23</td></tr>\n",
       "\t<tr><td>4</td><td> 9</td><td>140</td><td>19</td><td>24</td></tr>\n",
       "\t<tr><td>5</td><td>10</td><td>150</td><td>20</td><td>25</td></tr>\n",
       "</tbody>\n",
       "</table>\n"
      ],
      "text/latex": [
       "A matrix: 5 × 5 of type dbl\n",
       "\\begin{tabular}{lllll}\n",
       "\t 1 &  6 & 110 & 16 & 21\\\\\n",
       "\t 2 &  7 & 120 & 17 & 22\\\\\n",
       "\t 3 &  8 & 130 & 18 & 23\\\\\n",
       "\t 4 &  9 & 140 & 19 & 24\\\\\n",
       "\t 5 & 10 & 150 & 20 & 25\\\\\n",
       "\\end{tabular}\n"
      ],
      "text/markdown": [
       "\n",
       "A matrix: 5 × 5 of type dbl\n",
       "\n",
       "| 1 |  6 | 110 | 16 | 21 |\n",
       "| 2 |  7 | 120 | 17 | 22 |\n",
       "| 3 |  8 | 130 | 18 | 23 |\n",
       "| 4 |  9 | 140 | 19 | 24 |\n",
       "| 5 | 10 | 150 | 20 | 25 |\n",
       "\n"
      ],
      "text/plain": [
       "     [,1] [,2] [,3] [,4] [,5]\n",
       "[1,] 1     6   110  16   21  \n",
       "[2,] 2     7   120  17   22  \n",
       "[3,] 3     8   130  18   23  \n",
       "[4,] 4     9   140  19   24  \n",
       "[5,] 5    10   150  20   25  "
      ]
     },
     "metadata": {},
     "output_type": "display_data"
    }
   ],
   "source": [
    "data <- 1:25\n",
    " \n",
    "m1 <- matrix(data, nrow=5, ncol=5)\n",
    "m1\n",
    " \n",
    "m2 <- diag(5)\n",
    "m2\n",
    " \n",
    "m1 %*% m2\n",
    " \n",
    "m2[3,3] <- 10\n",
    "m1 %*% m2"
   ]
  },
  {
   "cell_type": "markdown",
   "metadata": {},
   "source": [
    "### Výpočet inverzní matice"
   ]
  },
  {
   "cell_type": "code",
   "execution_count": 20,
   "metadata": {},
   "outputs": [
    {
     "data": {
      "text/html": [
       "<table class=\"dataframe\">\n",
       "<caption>A matrix: 2 × 2 of type dbl</caption>\n",
       "<tbody>\n",
       "\t<tr><td>2</td><td>2</td></tr>\n",
       "\t<tr><td>3</td><td>2</td></tr>\n",
       "</tbody>\n",
       "</table>\n"
      ],
      "text/latex": [
       "A matrix: 2 × 2 of type dbl\n",
       "\\begin{tabular}{ll}\n",
       "\t 2 & 2\\\\\n",
       "\t 3 & 2\\\\\n",
       "\\end{tabular}\n"
      ],
      "text/markdown": [
       "\n",
       "A matrix: 2 × 2 of type dbl\n",
       "\n",
       "| 2 | 2 |\n",
       "| 3 | 2 |\n",
       "\n"
      ],
      "text/plain": [
       "     [,1] [,2]\n",
       "[1,] 2    2   \n",
       "[2,] 3    2   "
      ]
     },
     "metadata": {},
     "output_type": "display_data"
    },
    {
     "data": {
      "text/html": [
       "<table class=\"dataframe\">\n",
       "<caption>A matrix: 2 × 2 of type dbl</caption>\n",
       "<tbody>\n",
       "\t<tr><td>-1.0</td><td> 1</td></tr>\n",
       "\t<tr><td> 1.5</td><td>-1</td></tr>\n",
       "</tbody>\n",
       "</table>\n"
      ],
      "text/latex": [
       "A matrix: 2 × 2 of type dbl\n",
       "\\begin{tabular}{ll}\n",
       "\t -1.0 &  1\\\\\n",
       "\t  1.5 & -1\\\\\n",
       "\\end{tabular}\n"
      ],
      "text/markdown": [
       "\n",
       "A matrix: 2 × 2 of type dbl\n",
       "\n",
       "| -1.0 |  1 |\n",
       "|  1.5 | -1 |\n",
       "\n"
      ],
      "text/plain": [
       "     [,1] [,2]\n",
       "[1,] -1.0  1  \n",
       "[2,]  1.5 -1  "
      ]
     },
     "metadata": {},
     "output_type": "display_data"
    },
    {
     "data": {
      "text/html": [
       "<table class=\"dataframe\">\n",
       "<caption>A matrix: 5 × 5 of type dbl</caption>\n",
       "<tbody>\n",
       "\t<tr><td>1</td><td>0</td><td>0</td><td>0</td><td>0</td></tr>\n",
       "\t<tr><td>0</td><td>1</td><td>0</td><td>0</td><td>0</td></tr>\n",
       "\t<tr><td>0</td><td>0</td><td>1</td><td>0</td><td>0</td></tr>\n",
       "\t<tr><td>0</td><td>0</td><td>0</td><td>1</td><td>0</td></tr>\n",
       "\t<tr><td>0</td><td>0</td><td>0</td><td>0</td><td>1</td></tr>\n",
       "</tbody>\n",
       "</table>\n"
      ],
      "text/latex": [
       "A matrix: 5 × 5 of type dbl\n",
       "\\begin{tabular}{lllll}\n",
       "\t 1 & 0 & 0 & 0 & 0\\\\\n",
       "\t 0 & 1 & 0 & 0 & 0\\\\\n",
       "\t 0 & 0 & 1 & 0 & 0\\\\\n",
       "\t 0 & 0 & 0 & 1 & 0\\\\\n",
       "\t 0 & 0 & 0 & 0 & 1\\\\\n",
       "\\end{tabular}\n"
      ],
      "text/markdown": [
       "\n",
       "A matrix: 5 × 5 of type dbl\n",
       "\n",
       "| 1 | 0 | 0 | 0 | 0 |\n",
       "| 0 | 1 | 0 | 0 | 0 |\n",
       "| 0 | 0 | 1 | 0 | 0 |\n",
       "| 0 | 0 | 0 | 1 | 0 |\n",
       "| 0 | 0 | 0 | 0 | 1 |\n",
       "\n"
      ],
      "text/plain": [
       "     [,1] [,2] [,3] [,4] [,5]\n",
       "[1,] 1    0    0    0    0   \n",
       "[2,] 0    1    0    0    0   \n",
       "[3,] 0    0    1    0    0   \n",
       "[4,] 0    0    0    1    0   \n",
       "[5,] 0    0    0    0    1   "
      ]
     },
     "metadata": {},
     "output_type": "display_data"
    },
    {
     "data": {
      "text/html": [
       "<table class=\"dataframe\">\n",
       "<caption>A matrix: 5 × 5 of type dbl</caption>\n",
       "<tbody>\n",
       "\t<tr><td>1</td><td>0</td><td>0</td><td>0</td><td>0</td></tr>\n",
       "\t<tr><td>0</td><td>1</td><td>0</td><td>0</td><td>0</td></tr>\n",
       "\t<tr><td>0</td><td>0</td><td>1</td><td>0</td><td>0</td></tr>\n",
       "\t<tr><td>0</td><td>0</td><td>0</td><td>1</td><td>0</td></tr>\n",
       "\t<tr><td>0</td><td>0</td><td>0</td><td>0</td><td>1</td></tr>\n",
       "</tbody>\n",
       "</table>\n"
      ],
      "text/latex": [
       "A matrix: 5 × 5 of type dbl\n",
       "\\begin{tabular}{lllll}\n",
       "\t 1 & 0 & 0 & 0 & 0\\\\\n",
       "\t 0 & 1 & 0 & 0 & 0\\\\\n",
       "\t 0 & 0 & 1 & 0 & 0\\\\\n",
       "\t 0 & 0 & 0 & 1 & 0\\\\\n",
       "\t 0 & 0 & 0 & 0 & 1\\\\\n",
       "\\end{tabular}\n"
      ],
      "text/markdown": [
       "\n",
       "A matrix: 5 × 5 of type dbl\n",
       "\n",
       "| 1 | 0 | 0 | 0 | 0 |\n",
       "| 0 | 1 | 0 | 0 | 0 |\n",
       "| 0 | 0 | 1 | 0 | 0 |\n",
       "| 0 | 0 | 0 | 1 | 0 |\n",
       "| 0 | 0 | 0 | 0 | 1 |\n",
       "\n"
      ],
      "text/plain": [
       "     [,1] [,2] [,3] [,4] [,5]\n",
       "[1,] 1    0    0    0    0   \n",
       "[2,] 0    1    0    0    0   \n",
       "[3,] 0    0    1    0    0   \n",
       "[4,] 0    0    0    1    0   \n",
       "[5,] 0    0    0    0    1   "
      ]
     },
     "metadata": {},
     "output_type": "display_data"
    },
    {
     "data": {
      "text/html": [
       "<table class=\"dataframe\">\n",
       "<caption>A matrix: 5 × 5 of type dbl</caption>\n",
       "<tbody>\n",
       "\t<tr><td>1</td><td>0</td><td> 0</td><td>0</td><td>0</td></tr>\n",
       "\t<tr><td>0</td><td>1</td><td> 0</td><td>0</td><td>0</td></tr>\n",
       "\t<tr><td>0</td><td>0</td><td>42</td><td>0</td><td>0</td></tr>\n",
       "\t<tr><td>0</td><td>0</td><td> 0</td><td>1</td><td>0</td></tr>\n",
       "\t<tr><td>0</td><td>0</td><td> 0</td><td>0</td><td>1</td></tr>\n",
       "</tbody>\n",
       "</table>\n"
      ],
      "text/latex": [
       "A matrix: 5 × 5 of type dbl\n",
       "\\begin{tabular}{lllll}\n",
       "\t 1 & 0 &  0 & 0 & 0\\\\\n",
       "\t 0 & 1 &  0 & 0 & 0\\\\\n",
       "\t 0 & 0 & 42 & 0 & 0\\\\\n",
       "\t 0 & 0 &  0 & 1 & 0\\\\\n",
       "\t 0 & 0 &  0 & 0 & 1\\\\\n",
       "\\end{tabular}\n"
      ],
      "text/markdown": [
       "\n",
       "A matrix: 5 × 5 of type dbl\n",
       "\n",
       "| 1 | 0 |  0 | 0 | 0 |\n",
       "| 0 | 1 |  0 | 0 | 0 |\n",
       "| 0 | 0 | 42 | 0 | 0 |\n",
       "| 0 | 0 |  0 | 1 | 0 |\n",
       "| 0 | 0 |  0 | 0 | 1 |\n",
       "\n"
      ],
      "text/plain": [
       "     [,1] [,2] [,3] [,4] [,5]\n",
       "[1,] 1    0     0   0    0   \n",
       "[2,] 0    1     0   0    0   \n",
       "[3,] 0    0    42   0    0   \n",
       "[4,] 0    0     0   1    0   \n",
       "[5,] 0    0     0   0    1   "
      ]
     },
     "metadata": {},
     "output_type": "display_data"
    },
    {
     "data": {
      "text/html": [
       "<table class=\"dataframe\">\n",
       "<caption>A matrix: 5 × 5 of type dbl</caption>\n",
       "<tbody>\n",
       "\t<tr><td>1</td><td>0</td><td>0.00000000</td><td>0</td><td>0</td></tr>\n",
       "\t<tr><td>0</td><td>1</td><td>0.00000000</td><td>0</td><td>0</td></tr>\n",
       "\t<tr><td>0</td><td>0</td><td>0.02380952</td><td>0</td><td>0</td></tr>\n",
       "\t<tr><td>0</td><td>0</td><td>0.00000000</td><td>1</td><td>0</td></tr>\n",
       "\t<tr><td>0</td><td>0</td><td>0.00000000</td><td>0</td><td>1</td></tr>\n",
       "</tbody>\n",
       "</table>\n"
      ],
      "text/latex": [
       "A matrix: 5 × 5 of type dbl\n",
       "\\begin{tabular}{lllll}\n",
       "\t 1 & 0 & 0.00000000 & 0 & 0\\\\\n",
       "\t 0 & 1 & 0.00000000 & 0 & 0\\\\\n",
       "\t 0 & 0 & 0.02380952 & 0 & 0\\\\\n",
       "\t 0 & 0 & 0.00000000 & 1 & 0\\\\\n",
       "\t 0 & 0 & 0.00000000 & 0 & 1\\\\\n",
       "\\end{tabular}\n"
      ],
      "text/markdown": [
       "\n",
       "A matrix: 5 × 5 of type dbl\n",
       "\n",
       "| 1 | 0 | 0.00000000 | 0 | 0 |\n",
       "| 0 | 1 | 0.00000000 | 0 | 0 |\n",
       "| 0 | 0 | 0.02380952 | 0 | 0 |\n",
       "| 0 | 0 | 0.00000000 | 1 | 0 |\n",
       "| 0 | 0 | 0.00000000 | 0 | 1 |\n",
       "\n"
      ],
      "text/plain": [
       "     [,1] [,2] [,3]       [,4] [,5]\n",
       "[1,] 1    0    0.00000000 0    0   \n",
       "[2,] 0    1    0.00000000 0    0   \n",
       "[3,] 0    0    0.02380952 0    0   \n",
       "[4,] 0    0    0.00000000 1    0   \n",
       "[5,] 0    0    0.00000000 0    1   "
      ]
     },
     "metadata": {},
     "output_type": "display_data"
    }
   ],
   "source": [
    "data <- c(2, 3, 2, 2)\n",
    " \n",
    "m1 <- matrix(data, nrow=2, ncol=2)\n",
    "m1\n",
    "solve(m1)\n",
    " \n",
    "m2 <- diag(5)\n",
    "m2\n",
    "solve(m2)\n",
    " \n",
    "m3 <- diag(5)\n",
    "m3[3, 3] = 42\n",
    "m3\n",
    "solve(m3)"
   ]
  },
  {
   "cell_type": "markdown",
   "metadata": {},
   "source": [
    "## Datové rámce"
   ]
  },
  {
   "cell_type": "markdown",
   "metadata": {},
   "source": [
    "Jedná se o velmi důležitý datový typ používaný zejména (ale nejenom) při statistických výpočtech. Datové rámce se v určitém ohledu podobají tabulkám používaným v relačních databázích: jednotlivé sloupce jsou pojmenované a současně může být každý sloupec jiného datového typu (všechny prvky ve sloupci toto kritérium musí splňovat). Tato vlastnost odlišuje datové rámce jak od dvojdimenzionálních polí, tak i od matic. S datovými rámci se ovšem nepracuje pouze v jazyku R; nalezneme je například i v knihovně Pandas určenou pro programovací jazyk Python. Datové rámce a operace s nimi jsou pochopitelně popsány v dokumentaci programovacího jazyka R. Příkladem může být dokumentace ke konstruktoru datových rámců:"
   ]
  },
  {
   "cell_type": "markdown",
   "metadata": {},
   "source": [
    "### Konstrukce datového rámce"
   ]
  },
  {
   "cell_type": "code",
   "execution_count": 21,
   "metadata": {},
   "outputs": [],
   "source": [
    "ids = c(1:9)\n",
    "names = c(\"C\", \"Java\", \"Python\", \"C++\", \"C#\", \"Visual Basic\", \"JavaScript\", \"PHP\", \"R\")\n",
    "usages = c(15.95, 13.48, 10.47, 7.11, 4.58, 4.12, 2.54, 2.49, 2.37)\n",
    "changes = c(0.74, -3.18, 0.59, 1.48, 1.18, 0.83, 0.41, 0.62, 1.33)"
   ]
  },
  {
   "cell_type": "code",
   "execution_count": 22,
   "metadata": {},
   "outputs": [
    {
     "data": {
      "text/html": [
       "<table class=\"dataframe\">\n",
       "<caption>A data.frame: 9 × 4</caption>\n",
       "<thead>\n",
       "\t<tr><th scope=col>ids</th><th scope=col>names</th><th scope=col>usages</th><th scope=col>changes</th></tr>\n",
       "\t<tr><th scope=col>&lt;int&gt;</th><th scope=col>&lt;chr&gt;</th><th scope=col>&lt;dbl&gt;</th><th scope=col>&lt;dbl&gt;</th></tr>\n",
       "</thead>\n",
       "<tbody>\n",
       "\t<tr><td>1</td><td>C           </td><td>15.95</td><td> 0.74</td></tr>\n",
       "\t<tr><td>2</td><td>Java        </td><td>13.48</td><td>-3.18</td></tr>\n",
       "\t<tr><td>3</td><td>Python      </td><td>10.47</td><td> 0.59</td></tr>\n",
       "\t<tr><td>4</td><td>C++         </td><td> 7.11</td><td> 1.48</td></tr>\n",
       "\t<tr><td>5</td><td>C#          </td><td> 4.58</td><td> 1.18</td></tr>\n",
       "\t<tr><td>6</td><td>Visual Basic</td><td> 4.12</td><td> 0.83</td></tr>\n",
       "\t<tr><td>7</td><td>JavaScript  </td><td> 2.54</td><td> 0.41</td></tr>\n",
       "\t<tr><td>8</td><td>PHP         </td><td> 2.49</td><td> 0.62</td></tr>\n",
       "\t<tr><td>9</td><td>R           </td><td> 2.37</td><td> 1.33</td></tr>\n",
       "</tbody>\n",
       "</table>\n"
      ],
      "text/latex": [
       "A data.frame: 9 × 4\n",
       "\\begin{tabular}{llll}\n",
       " ids & names & usages & changes\\\\\n",
       " <int> & <chr> & <dbl> & <dbl>\\\\\n",
       "\\hline\n",
       "\t 1 & C            & 15.95 &  0.74\\\\\n",
       "\t 2 & Java         & 13.48 & -3.18\\\\\n",
       "\t 3 & Python       & 10.47 &  0.59\\\\\n",
       "\t 4 & C++          &  7.11 &  1.48\\\\\n",
       "\t 5 & C\\#           &  4.58 &  1.18\\\\\n",
       "\t 6 & Visual Basic &  4.12 &  0.83\\\\\n",
       "\t 7 & JavaScript   &  2.54 &  0.41\\\\\n",
       "\t 8 & PHP          &  2.49 &  0.62\\\\\n",
       "\t 9 & R            &  2.37 &  1.33\\\\\n",
       "\\end{tabular}\n"
      ],
      "text/markdown": [
       "\n",
       "A data.frame: 9 × 4\n",
       "\n",
       "| ids &lt;int&gt; | names &lt;chr&gt; | usages &lt;dbl&gt; | changes &lt;dbl&gt; |\n",
       "|---|---|---|---|\n",
       "| 1 | C            | 15.95 |  0.74 |\n",
       "| 2 | Java         | 13.48 | -3.18 |\n",
       "| 3 | Python       | 10.47 |  0.59 |\n",
       "| 4 | C++          |  7.11 |  1.48 |\n",
       "| 5 | C#           |  4.58 |  1.18 |\n",
       "| 6 | Visual Basic |  4.12 |  0.83 |\n",
       "| 7 | JavaScript   |  2.54 |  0.41 |\n",
       "| 8 | PHP          |  2.49 |  0.62 |\n",
       "| 9 | R            |  2.37 |  1.33 |\n",
       "\n"
      ],
      "text/plain": [
       "  ids names        usages changes\n",
       "1 1   C            15.95   0.74  \n",
       "2 2   Java         13.48  -3.18  \n",
       "3 3   Python       10.47   0.59  \n",
       "4 4   C++           7.11   1.48  \n",
       "5 5   C#            4.58   1.18  \n",
       "6 6   Visual Basic  4.12   0.83  \n",
       "7 7   JavaScript    2.54   0.41  \n",
       "8 8   PHP           2.49   0.62  \n",
       "9 9   R             2.37   1.33  "
      ]
     },
     "metadata": {},
     "output_type": "display_data"
    }
   ],
   "source": [
    "languages <- data.frame(\n",
    "    ids,\n",
    "    names,\n",
    "    usages,\n",
    "    changes\n",
    ")\n",
    " \n",
    "languages"
   ]
  },
  {
   "cell_type": "code",
   "execution_count": 23,
   "metadata": {},
   "outputs": [
    {
     "data": {
      "text/html": [
       "<table class=\"dataframe\">\n",
       "<caption>A data.frame: 9 × 4</caption>\n",
       "<thead>\n",
       "\t<tr><th scope=col>id</th><th scope=col>name</th><th scope=col>usage</th><th scope=col>change</th></tr>\n",
       "\t<tr><th scope=col>&lt;int&gt;</th><th scope=col>&lt;chr&gt;</th><th scope=col>&lt;dbl&gt;</th><th scope=col>&lt;dbl&gt;</th></tr>\n",
       "</thead>\n",
       "<tbody>\n",
       "\t<tr><td>1</td><td>C           </td><td>15.95</td><td> 0.74</td></tr>\n",
       "\t<tr><td>2</td><td>Java        </td><td>13.48</td><td>-3.18</td></tr>\n",
       "\t<tr><td>3</td><td>Python      </td><td>10.47</td><td> 0.59</td></tr>\n",
       "\t<tr><td>4</td><td>C++         </td><td> 7.11</td><td> 1.48</td></tr>\n",
       "\t<tr><td>5</td><td>C#          </td><td> 4.58</td><td> 1.18</td></tr>\n",
       "\t<tr><td>6</td><td>Visual Basic</td><td> 4.12</td><td> 0.83</td></tr>\n",
       "\t<tr><td>7</td><td>JavaScript  </td><td> 2.54</td><td> 0.41</td></tr>\n",
       "\t<tr><td>8</td><td>PHP         </td><td> 2.49</td><td> 0.62</td></tr>\n",
       "\t<tr><td>9</td><td>R           </td><td> 2.37</td><td> 1.33</td></tr>\n",
       "</tbody>\n",
       "</table>\n"
      ],
      "text/latex": [
       "A data.frame: 9 × 4\n",
       "\\begin{tabular}{llll}\n",
       " id & name & usage & change\\\\\n",
       " <int> & <chr> & <dbl> & <dbl>\\\\\n",
       "\\hline\n",
       "\t 1 & C            & 15.95 &  0.74\\\\\n",
       "\t 2 & Java         & 13.48 & -3.18\\\\\n",
       "\t 3 & Python       & 10.47 &  0.59\\\\\n",
       "\t 4 & C++          &  7.11 &  1.48\\\\\n",
       "\t 5 & C\\#           &  4.58 &  1.18\\\\\n",
       "\t 6 & Visual Basic &  4.12 &  0.83\\\\\n",
       "\t 7 & JavaScript   &  2.54 &  0.41\\\\\n",
       "\t 8 & PHP          &  2.49 &  0.62\\\\\n",
       "\t 9 & R            &  2.37 &  1.33\\\\\n",
       "\\end{tabular}\n"
      ],
      "text/markdown": [
       "\n",
       "A data.frame: 9 × 4\n",
       "\n",
       "| id &lt;int&gt; | name &lt;chr&gt; | usage &lt;dbl&gt; | change &lt;dbl&gt; |\n",
       "|---|---|---|---|\n",
       "| 1 | C            | 15.95 |  0.74 |\n",
       "| 2 | Java         | 13.48 | -3.18 |\n",
       "| 3 | Python       | 10.47 |  0.59 |\n",
       "| 4 | C++          |  7.11 |  1.48 |\n",
       "| 5 | C#           |  4.58 |  1.18 |\n",
       "| 6 | Visual Basic |  4.12 |  0.83 |\n",
       "| 7 | JavaScript   |  2.54 |  0.41 |\n",
       "| 8 | PHP          |  2.49 |  0.62 |\n",
       "| 9 | R            |  2.37 |  1.33 |\n",
       "\n"
      ],
      "text/plain": [
       "  id name         usage change\n",
       "1 1  C            15.95  0.74 \n",
       "2 2  Java         13.48 -3.18 \n",
       "3 3  Python       10.47  0.59 \n",
       "4 4  C++           7.11  1.48 \n",
       "5 5  C#            4.58  1.18 \n",
       "6 6  Visual Basic  4.12  0.83 \n",
       "7 7  JavaScript    2.54  0.41 \n",
       "8 8  PHP           2.49  0.62 \n",
       "9 9  R             2.37  1.33 "
      ]
     },
     "metadata": {},
     "output_type": "display_data"
    }
   ],
   "source": [
    "languages2 <- data.frame(\n",
    "    id = ids,\n",
    "    name = names,\n",
    "    usage = usages,\n",
    "    change = changes\n",
    ")\n",
    " \n",
    "languages2"
   ]
  },
  {
   "cell_type": "markdown",
   "metadata": {},
   "source": [
    "### Neexistující hodnoty ve vstupních datech"
   ]
  },
  {
   "cell_type": "code",
   "execution_count": 24,
   "metadata": {},
   "outputs": [],
   "source": [
    "ids = c(1:9)\n",
    "names = c(\"C\", \"Java\", \"Python\", \"C++\", \"C#\", \"Visual Basic\", NA, \"PHP\", \"R\")\n",
    "usages = c(15.95, 13.48, 10.47, 7.11, 4.58, 4.12, NA, 2.49, 2.37)\n",
    "changes = c(0.74, NA, 0.59, 1.48, 1.18, 0.83, 0.41, NA, 1.33)"
   ]
  },
  {
   "cell_type": "code",
   "execution_count": 25,
   "metadata": {},
   "outputs": [
    {
     "data": {
      "text/html": [
       "<table class=\"dataframe\">\n",
       "<caption>A data.frame: 9 × 4</caption>\n",
       "<thead>\n",
       "\t<tr><th scope=col>id</th><th scope=col>name</th><th scope=col>usage</th><th scope=col>change</th></tr>\n",
       "\t<tr><th scope=col>&lt;int&gt;</th><th scope=col>&lt;chr&gt;</th><th scope=col>&lt;dbl&gt;</th><th scope=col>&lt;dbl&gt;</th></tr>\n",
       "</thead>\n",
       "<tbody>\n",
       "\t<tr><td>1</td><td>C           </td><td>15.95</td><td>0.74</td></tr>\n",
       "\t<tr><td>2</td><td>Java        </td><td>13.48</td><td>  NA</td></tr>\n",
       "\t<tr><td>3</td><td>Python      </td><td>10.47</td><td>0.59</td></tr>\n",
       "\t<tr><td>4</td><td>C++         </td><td> 7.11</td><td>1.48</td></tr>\n",
       "\t<tr><td>5</td><td>C#          </td><td> 4.58</td><td>1.18</td></tr>\n",
       "\t<tr><td>6</td><td>Visual Basic</td><td> 4.12</td><td>0.83</td></tr>\n",
       "\t<tr><td>7</td><td>NA          </td><td>   NA</td><td>0.41</td></tr>\n",
       "\t<tr><td>8</td><td>PHP         </td><td> 2.49</td><td>  NA</td></tr>\n",
       "\t<tr><td>9</td><td>R           </td><td> 2.37</td><td>1.33</td></tr>\n",
       "</tbody>\n",
       "</table>\n"
      ],
      "text/latex": [
       "A data.frame: 9 × 4\n",
       "\\begin{tabular}{llll}\n",
       " id & name & usage & change\\\\\n",
       " <int> & <chr> & <dbl> & <dbl>\\\\\n",
       "\\hline\n",
       "\t 1 & C            & 15.95 & 0.74\\\\\n",
       "\t 2 & Java         & 13.48 &   NA\\\\\n",
       "\t 3 & Python       & 10.47 & 0.59\\\\\n",
       "\t 4 & C++          &  7.11 & 1.48\\\\\n",
       "\t 5 & C\\#           &  4.58 & 1.18\\\\\n",
       "\t 6 & Visual Basic &  4.12 & 0.83\\\\\n",
       "\t 7 & NA           &    NA & 0.41\\\\\n",
       "\t 8 & PHP          &  2.49 &   NA\\\\\n",
       "\t 9 & R            &  2.37 & 1.33\\\\\n",
       "\\end{tabular}\n"
      ],
      "text/markdown": [
       "\n",
       "A data.frame: 9 × 4\n",
       "\n",
       "| id &lt;int&gt; | name &lt;chr&gt; | usage &lt;dbl&gt; | change &lt;dbl&gt; |\n",
       "|---|---|---|---|\n",
       "| 1 | C            | 15.95 | 0.74 |\n",
       "| 2 | Java         | 13.48 |   NA |\n",
       "| 3 | Python       | 10.47 | 0.59 |\n",
       "| 4 | C++          |  7.11 | 1.48 |\n",
       "| 5 | C#           |  4.58 | 1.18 |\n",
       "| 6 | Visual Basic |  4.12 | 0.83 |\n",
       "| 7 | NA           |    NA | 0.41 |\n",
       "| 8 | PHP          |  2.49 |   NA |\n",
       "| 9 | R            |  2.37 | 1.33 |\n",
       "\n"
      ],
      "text/plain": [
       "  id name         usage change\n",
       "1 1  C            15.95 0.74  \n",
       "2 2  Java         13.48   NA  \n",
       "3 3  Python       10.47 0.59  \n",
       "4 4  C++           7.11 1.48  \n",
       "5 5  C#            4.58 1.18  \n",
       "6 6  Visual Basic  4.12 0.83  \n",
       "7 7  NA              NA 0.41  \n",
       "8 8  PHP           2.49   NA  \n",
       "9 9  R             2.37 1.33  "
      ]
     },
     "metadata": {},
     "output_type": "display_data"
    }
   ],
   "source": [
    "languages3 <- data.frame(\n",
    "   id = ids,\n",
    "   name = names,\n",
    "   usage = usages,\n",
    "   change = changes\n",
    ")\n",
    " \n",
    "languages3"
   ]
  },
  {
   "cell_type": "markdown",
   "metadata": {},
   "source": [
    "### Výpočet a výpis statistických informací o datovém rámci"
   ]
  },
  {
   "cell_type": "code",
   "execution_count": 26,
   "metadata": {},
   "outputs": [
    {
     "data": {
      "text/plain": [
       "       id        name               usage            change       \n",
       " Min.   :1   Length:9           Min.   : 2.370   Min.   :-3.1800  \n",
       " 1st Qu.:3   Class :character   1st Qu.: 2.540   1st Qu.: 0.5900  \n",
       " Median :5   Mode  :character   Median : 4.580   Median : 0.7400  \n",
       " Mean   :5                      Mean   : 7.012   Mean   : 0.4444  \n",
       " 3rd Qu.:7                      3rd Qu.:10.470   3rd Qu.: 1.1800  \n",
       " Max.   :9                      Max.   :15.950   Max.   : 1.4800  "
      ]
     },
     "metadata": {},
     "output_type": "display_data"
    }
   ],
   "source": [
    "languages <- data.frame(\n",
    "   id = c (1:9), \n",
    "   name = c(\"C\", \"Java\", \"Python\", \"C++\", \"C#\", \"Visual Basic\", \"JavaScript\", \"PHP\", \"R\"),\n",
    "   usage = c(15.95, 13.48, 10.47, 7.11, 4.58, 4.12, 2.54, 2.49, 2.37), \n",
    "   change = c(0.74, -3.18, 0.59, 1.48, 1.18, 0.83, 0.41, 0.62, 1.33),\n",
    "   stringsAsFactors = FALSE\n",
    ")\n",
    " \n",
    "summary(languages)"
   ]
  },
  {
   "cell_type": "markdown",
   "metadata": {},
   "source": [
    "### Konverze datového rámce na matici"
   ]
  },
  {
   "cell_type": "markdown",
   "metadata": {},
   "source": [
    "V dalším demonstračním příkladu si ukážeme jednu poměrně často prováděnou operaci – konverzi datového rámce na „obyčejnou“ matici. To pochopitelně není zcela bezproblémové, protože všechny prvky matice musí být stejného datového typu. Pokud jsou řetězce reprezentovány formou faktorů, budou převedeny na celá čísla (indexy):"
   ]
  },
  {
   "cell_type": "code",
   "execution_count": 27,
   "metadata": {},
   "outputs": [
    {
     "data": {
      "text/html": [
       "<table class=\"dataframe\">\n",
       "<caption>A data.frame: 9 × 4</caption>\n",
       "<thead>\n",
       "\t<tr><th scope=col>id</th><th scope=col>name</th><th scope=col>usage</th><th scope=col>change</th></tr>\n",
       "\t<tr><th scope=col>&lt;int&gt;</th><th scope=col>&lt;chr&gt;</th><th scope=col>&lt;dbl&gt;</th><th scope=col>&lt;dbl&gt;</th></tr>\n",
       "</thead>\n",
       "<tbody>\n",
       "\t<tr><td>1</td><td>C           </td><td>15.95</td><td> 0.74</td></tr>\n",
       "\t<tr><td>2</td><td>Java        </td><td>13.48</td><td>-3.18</td></tr>\n",
       "\t<tr><td>3</td><td>Python      </td><td>10.47</td><td> 0.59</td></tr>\n",
       "\t<tr><td>4</td><td>C++         </td><td> 7.11</td><td> 1.48</td></tr>\n",
       "\t<tr><td>5</td><td>C#          </td><td> 4.58</td><td> 1.18</td></tr>\n",
       "\t<tr><td>6</td><td>Visual Basic</td><td> 4.12</td><td> 0.83</td></tr>\n",
       "\t<tr><td>7</td><td>JavaScript  </td><td> 2.54</td><td> 0.41</td></tr>\n",
       "\t<tr><td>8</td><td>PHP         </td><td> 2.49</td><td> 0.62</td></tr>\n",
       "\t<tr><td>9</td><td>R           </td><td> 2.37</td><td> 1.33</td></tr>\n",
       "</tbody>\n",
       "</table>\n"
      ],
      "text/latex": [
       "A data.frame: 9 × 4\n",
       "\\begin{tabular}{llll}\n",
       " id & name & usage & change\\\\\n",
       " <int> & <chr> & <dbl> & <dbl>\\\\\n",
       "\\hline\n",
       "\t 1 & C            & 15.95 &  0.74\\\\\n",
       "\t 2 & Java         & 13.48 & -3.18\\\\\n",
       "\t 3 & Python       & 10.47 &  0.59\\\\\n",
       "\t 4 & C++          &  7.11 &  1.48\\\\\n",
       "\t 5 & C\\#           &  4.58 &  1.18\\\\\n",
       "\t 6 & Visual Basic &  4.12 &  0.83\\\\\n",
       "\t 7 & JavaScript   &  2.54 &  0.41\\\\\n",
       "\t 8 & PHP          &  2.49 &  0.62\\\\\n",
       "\t 9 & R            &  2.37 &  1.33\\\\\n",
       "\\end{tabular}\n"
      ],
      "text/markdown": [
       "\n",
       "A data.frame: 9 × 4\n",
       "\n",
       "| id &lt;int&gt; | name &lt;chr&gt; | usage &lt;dbl&gt; | change &lt;dbl&gt; |\n",
       "|---|---|---|---|\n",
       "| 1 | C            | 15.95 |  0.74 |\n",
       "| 2 | Java         | 13.48 | -3.18 |\n",
       "| 3 | Python       | 10.47 |  0.59 |\n",
       "| 4 | C++          |  7.11 |  1.48 |\n",
       "| 5 | C#           |  4.58 |  1.18 |\n",
       "| 6 | Visual Basic |  4.12 |  0.83 |\n",
       "| 7 | JavaScript   |  2.54 |  0.41 |\n",
       "| 8 | PHP          |  2.49 |  0.62 |\n",
       "| 9 | R            |  2.37 |  1.33 |\n",
       "\n"
      ],
      "text/plain": [
       "  id name         usage change\n",
       "1 1  C            15.95  0.74 \n",
       "2 2  Java         13.48 -3.18 \n",
       "3 3  Python       10.47  0.59 \n",
       "4 4  C++           7.11  1.48 \n",
       "5 5  C#            4.58  1.18 \n",
       "6 6  Visual Basic  4.12  0.83 \n",
       "7 7  JavaScript    2.54  0.41 \n",
       "8 8  PHP           2.49  0.62 \n",
       "9 9  R             2.37  1.33 "
      ]
     },
     "metadata": {},
     "output_type": "display_data"
    },
    {
     "data": {
      "text/html": [
       "<style>\n",
       ".list-inline {list-style: none; margin:0; padding: 0}\n",
       ".list-inline>li {display: inline-block}\n",
       ".list-inline>li:not(:last-child)::after {content: \"\\00b7\"; padding: 0 .5ex}\n",
       "</style>\n",
       "<ol class=list-inline><li>'matrix'</li><li>'array'</li></ol>\n"
      ],
      "text/latex": [
       "\\begin{enumerate*}\n",
       "\\item 'matrix'\n",
       "\\item 'array'\n",
       "\\end{enumerate*}\n"
      ],
      "text/markdown": [
       "1. 'matrix'\n",
       "2. 'array'\n",
       "\n",
       "\n"
      ],
      "text/plain": [
       "[1] \"matrix\" \"array\" "
      ]
     },
     "metadata": {},
     "output_type": "display_data"
    },
    {
     "data": {
      "text/html": [
       "<table class=\"dataframe\">\n",
       "<caption>A matrix: 9 × 4 of type dbl</caption>\n",
       "<thead>\n",
       "\t<tr><th scope=col>id</th><th scope=col>name</th><th scope=col>usage</th><th scope=col>change</th></tr>\n",
       "</thead>\n",
       "<tbody>\n",
       "\t<tr><td>1</td><td>1</td><td>15.95</td><td> 0.74</td></tr>\n",
       "\t<tr><td>2</td><td>4</td><td>13.48</td><td>-3.18</td></tr>\n",
       "\t<tr><td>3</td><td>7</td><td>10.47</td><td> 0.59</td></tr>\n",
       "\t<tr><td>4</td><td>3</td><td> 7.11</td><td> 1.48</td></tr>\n",
       "\t<tr><td>5</td><td>2</td><td> 4.58</td><td> 1.18</td></tr>\n",
       "\t<tr><td>6</td><td>9</td><td> 4.12</td><td> 0.83</td></tr>\n",
       "\t<tr><td>7</td><td>5</td><td> 2.54</td><td> 0.41</td></tr>\n",
       "\t<tr><td>8</td><td>6</td><td> 2.49</td><td> 0.62</td></tr>\n",
       "\t<tr><td>9</td><td>8</td><td> 2.37</td><td> 1.33</td></tr>\n",
       "</tbody>\n",
       "</table>\n"
      ],
      "text/latex": [
       "A matrix: 9 × 4 of type dbl\n",
       "\\begin{tabular}{llll}\n",
       " id & name & usage & change\\\\\n",
       "\\hline\n",
       "\t 1 & 1 & 15.95 &  0.74\\\\\n",
       "\t 2 & 4 & 13.48 & -3.18\\\\\n",
       "\t 3 & 7 & 10.47 &  0.59\\\\\n",
       "\t 4 & 3 &  7.11 &  1.48\\\\\n",
       "\t 5 & 2 &  4.58 &  1.18\\\\\n",
       "\t 6 & 9 &  4.12 &  0.83\\\\\n",
       "\t 7 & 5 &  2.54 &  0.41\\\\\n",
       "\t 8 & 6 &  2.49 &  0.62\\\\\n",
       "\t 9 & 8 &  2.37 &  1.33\\\\\n",
       "\\end{tabular}\n"
      ],
      "text/markdown": [
       "\n",
       "A matrix: 9 × 4 of type dbl\n",
       "\n",
       "| id | name | usage | change |\n",
       "|---|---|---|---|\n",
       "| 1 | 1 | 15.95 |  0.74 |\n",
       "| 2 | 4 | 13.48 | -3.18 |\n",
       "| 3 | 7 | 10.47 |  0.59 |\n",
       "| 4 | 3 |  7.11 |  1.48 |\n",
       "| 5 | 2 |  4.58 |  1.18 |\n",
       "| 6 | 9 |  4.12 |  0.83 |\n",
       "| 7 | 5 |  2.54 |  0.41 |\n",
       "| 8 | 6 |  2.49 |  0.62 |\n",
       "| 9 | 8 |  2.37 |  1.33 |\n",
       "\n"
      ],
      "text/plain": [
       "      id name usage change\n",
       " [1,] 1  1    15.95  0.74 \n",
       " [2,] 2  4    13.48 -3.18 \n",
       " [3,] 3  7    10.47  0.59 \n",
       " [4,] 4  3     7.11  1.48 \n",
       " [5,] 5  2     4.58  1.18 \n",
       " [6,] 6  9     4.12  0.83 \n",
       " [7,] 7  5     2.54  0.41 \n",
       " [8,] 8  6     2.49  0.62 \n",
       " [9,] 9  8     2.37  1.33 "
      ]
     },
     "metadata": {},
     "output_type": "display_data"
    }
   ],
   "source": [
    "languages <- data.frame(\n",
    "   id = c(1:9),\n",
    "   name = c(\"C\", \"Java\", \"Python\", \"C++\", \"C#\", \"Visual Basic\", \"JavaScript\", \"PHP\", \"R\"),\n",
    "   usage = c(15.95, 13.48, 10.47, 7.11, 4.58, 4.12, 2.54, 2.49, 2.37),\n",
    "   change = c(0.74, -3.18, 0.59, 1.48, 1.18, 0.83, 0.41, 0.62, 1.33)\n",
    ")\n",
    " \n",
    "languages\n",
    " \n",
    " \n",
    "m <- data.matrix(languages)\n",
    "class(m)\n",
    "m"
   ]
  },
  {
   "cell_type": "markdown",
   "metadata": {},
   "source": [
    "### Datový rámec získaný z matice – jednoduchý kalendář"
   ]
  },
  {
   "cell_type": "code",
   "execution_count": 29,
   "metadata": {},
   "outputs": [
    {
     "data": {
      "text/html": [
       "<style>\n",
       ".list-inline {list-style: none; margin:0; padding: 0}\n",
       ".list-inline>li {display: inline-block}\n",
       ".list-inline>li:not(:last-child)::after {content: \"\\00b7\"; padding: 0 .5ex}\n",
       "</style>\n",
       "<ol class=list-inline><li>'matrix'</li><li>'array'</li></ol>\n"
      ],
      "text/latex": [
       "\\begin{enumerate*}\n",
       "\\item 'matrix'\n",
       "\\item 'array'\n",
       "\\end{enumerate*}\n"
      ],
      "text/markdown": [
       "1. 'matrix'\n",
       "2. 'array'\n",
       "\n",
       "\n"
      ],
      "text/plain": [
       "[1] \"matrix\" \"array\" "
      ]
     },
     "metadata": {},
     "output_type": "display_data"
    },
    {
     "data": {
      "text/html": [
       "<table class=\"dataframe\">\n",
       "<caption>A matrix: 3 × 4 of type chr</caption>\n",
       "<thead>\n",
       "\t<tr><th></th><th scope=col>Winter</th><th scope=col>Spring</th><th scope=col>Summer</th><th scope=col>Fall</th></tr>\n",
       "</thead>\n",
       "<tbody>\n",
       "\t<tr><th scope=row>start</th><td>Dec</td><td>Mar</td><td>Jun</td><td>Sep</td></tr>\n",
       "\t<tr><th scope=row>middle</th><td>Jan</td><td>Apr</td><td>Jul</td><td>Oct</td></tr>\n",
       "\t<tr><th scope=row>end</th><td>Feb</td><td>May</td><td>Aug</td><td>Nov</td></tr>\n",
       "</tbody>\n",
       "</table>\n"
      ],
      "text/latex": [
       "A matrix: 3 × 4 of type chr\n",
       "\\begin{tabular}{r|llll}\n",
       "  & Winter & Spring & Summer & Fall\\\\\n",
       "\\hline\n",
       "\tstart & Dec & Mar & Jun & Sep\\\\\n",
       "\tmiddle & Jan & Apr & Jul & Oct\\\\\n",
       "\tend & Feb & May & Aug & Nov\\\\\n",
       "\\end{tabular}\n"
      ],
      "text/markdown": [
       "\n",
       "A matrix: 3 × 4 of type chr\n",
       "\n",
       "| <!--/--> | Winter | Spring | Summer | Fall |\n",
       "|---|---|---|---|---|\n",
       "| start | Dec | Mar | Jun | Sep |\n",
       "| middle | Jan | Apr | Jul | Oct |\n",
       "| end | Feb | May | Aug | Nov |\n",
       "\n"
      ],
      "text/plain": [
       "       Winter Spring Summer Fall\n",
       "start  Dec    Mar    Jun    Sep \n",
       "middle Jan    Apr    Jul    Oct \n",
       "end    Feb    May    Aug    Nov "
      ]
     },
     "metadata": {},
     "output_type": "display_data"
    },
    {
     "data": {
      "text/html": [
       "'data.frame'"
      ],
      "text/latex": [
       "'data.frame'"
      ],
      "text/markdown": [
       "'data.frame'"
      ],
      "text/plain": [
       "[1] \"data.frame\""
      ]
     },
     "metadata": {},
     "output_type": "display_data"
    },
    {
     "data": {
      "text/html": [
       "<table class=\"dataframe\">\n",
       "<caption>A data.frame: 3 × 4</caption>\n",
       "<thead>\n",
       "\t<tr><th></th><th scope=col>Winter</th><th scope=col>Spring</th><th scope=col>Summer</th><th scope=col>Fall</th></tr>\n",
       "\t<tr><th></th><th scope=col>&lt;chr&gt;</th><th scope=col>&lt;chr&gt;</th><th scope=col>&lt;chr&gt;</th><th scope=col>&lt;chr&gt;</th></tr>\n",
       "</thead>\n",
       "<tbody>\n",
       "\t<tr><th scope=row>start</th><td>Dec</td><td>Mar</td><td>Jun</td><td>Sep</td></tr>\n",
       "\t<tr><th scope=row>middle</th><td>Jan</td><td>Apr</td><td>Jul</td><td>Oct</td></tr>\n",
       "\t<tr><th scope=row>end</th><td>Feb</td><td>May</td><td>Aug</td><td>Nov</td></tr>\n",
       "</tbody>\n",
       "</table>\n"
      ],
      "text/latex": [
       "A data.frame: 3 × 4\n",
       "\\begin{tabular}{r|llll}\n",
       "  & Winter & Spring & Summer & Fall\\\\\n",
       "  & <chr> & <chr> & <chr> & <chr>\\\\\n",
       "\\hline\n",
       "\tstart & Dec & Mar & Jun & Sep\\\\\n",
       "\tmiddle & Jan & Apr & Jul & Oct\\\\\n",
       "\tend & Feb & May & Aug & Nov\\\\\n",
       "\\end{tabular}\n"
      ],
      "text/markdown": [
       "\n",
       "A data.frame: 3 × 4\n",
       "\n",
       "| <!--/--> | Winter &lt;chr&gt; | Spring &lt;chr&gt; | Summer &lt;chr&gt; | Fall &lt;chr&gt; |\n",
       "|---|---|---|---|---|\n",
       "| start | Dec | Mar | Jun | Sep |\n",
       "| middle | Jan | Apr | Jul | Oct |\n",
       "| end | Feb | May | Aug | Nov |\n",
       "\n"
      ],
      "text/plain": [
       "       Winter Spring Summer Fall\n",
       "start  Dec    Mar    Jun    Sep \n",
       "middle Jan    Apr    Jul    Oct \n",
       "end    Feb    May    Aug    Nov "
      ]
     },
     "metadata": {},
     "output_type": "display_data"
    }
   ],
   "source": [
    "m <- matrix(\n",
    "  month.abb[c(12, 1:11)],\n",
    "  nrow = 3,\n",
    "  dimnames = list(\n",
    "    c(\"start\", \"middle\", \"end\"),\n",
    "    c(\"Winter\", \"Spring\", \"Summer\", \"Fall\")\n",
    "  )\n",
    ")\n",
    " \n",
    "class(m)\n",
    "m\n",
    " \n",
    "df <- as.data.frame(m)\n",
    "class(df)\n",
    "df"
   ]
  },
  {
   "cell_type": "markdown",
   "metadata": {},
   "source": [
    "## Datové rámce a grafy"
   ]
  },
  {
   "cell_type": "markdown",
   "metadata": {},
   "source": [
    "### Sloupcový graf s hodnotami vyčtenými z datového rámce"
   ]
  },
  {
   "cell_type": "code",
   "execution_count": 30,
   "metadata": {},
   "outputs": [
    {
     "data": {
      "image/png": "[encoded data removed]",
      "text/plain": [
       "plot without title"
      ]
     },
     "metadata": {
      "image/png": {
       "height": 420,
       "width": 420
      }
     },
     "output_type": "display_data"
    }
   ],
   "source": [
    "languages <- data.frame(\n",
    "   id = c(1:9),\n",
    "   name = c(\"C\", \"Java\", \"Python\", \"C++\", \"C#\", \"Visual Basic\", \"JavaScript\", \"PHP\", \"R\"),\n",
    "   usage = c(15.95, 13.48, 10.47, 7.11, 4.58, 4.12, 2.54, 2.49, 2.37),\n",
    "   change = c(0.74, -3.18, 0.59, 1.48, 1.18, 0.83, 0.41, 0.62, 1.33)\n",
    ")\n",
    " \n",
    "barplot(languages$usage)"
   ]
  },
  {
   "cell_type": "markdown",
   "metadata": {},
   "source": [
    "### Přidání popisku horizontální osy do grafu"
   ]
  },
  {
   "cell_type": "code",
   "execution_count": 31,
   "metadata": {},
   "outputs": [
    {
     "data": {
      "image/png": "[encoded data removed]",
      "text/plain": [
       "plot without title"
      ]
     },
     "metadata": {
      "image/png": {
       "height": 420,
       "width": 420
      }
     },
     "output_type": "display_data"
    }
   ],
   "source": [
    "languages <- data.frame(\n",
    "   id = c(1:9),\n",
    "   name = c(\"C\", \"Java\", \"Python\", \"C++\", \"C#\", \"Visual Basic\", \"JavaScript\", \"PHP\", \"R\"),\n",
    "   usage = c(15.95, 13.48, 10.47, 7.11, 4.58, 4.12, 2.54, 2.49, 2.37),\n",
    "   change = c(0.74, -3.18, 0.59, 1.48, 1.18, 0.83, 0.41, 0.62, 1.33)\n",
    ")\n",
    " \n",
    "barplot(languages$usage, names.arg=languages$name)"
   ]
  },
  {
   "cell_type": "markdown",
   "metadata": {},
   "source": [
    "### Úprava stylu zobrazení grafu"
   ]
  },
  {
   "cell_type": "code",
   "execution_count": 32,
   "metadata": {},
   "outputs": [
    {
     "data": {
      "image/png": "[encoded data removed]",
      "text/plain": [
       "plot without title"
      ]
     },
     "metadata": {
      "image/png": {
       "height": 420,
       "width": 420
      }
     },
     "output_type": "display_data"
    }
   ],
   "source": [
    "languages <- data.frame(\n",
    "   id = c(1:9),\n",
    "   name = c(\"C\", \"Java\", \"Python\", \"C++\", \"C#\", \"Visual Basic\", \"JavaScript\", \"PHP\", \"R\"),\n",
    "   usage = c(15.95, 13.48, 10.47, 7.11, 4.58, 4.12, 2.54, 2.49, 2.37),\n",
    "   change = c(0.74, -3.18, 0.59, 1.48, 1.18, 0.83, 0.41, 0.62, 1.33)\n",
    ")\n",
    " \n",
    "barplot(languages$usage, names.arg=languages$name,\n",
    "     cex.axis = 0.8,\n",
    "     cex.names = 0.6,\n",
    "     las=2)\n"
   ]
  },
  {
   "cell_type": "markdown",
   "metadata": {},
   "source": [
    "### Přidání liniového grafu do grafu sloupcového"
   ]
  },
  {
   "cell_type": "code",
   "execution_count": 33,
   "metadata": {},
   "outputs": [
    {
     "data": {
      "image/png": "[encoded data removed]",
      "text/plain": [
       "plot without title"
      ]
     },
     "metadata": {
      "image/png": {
       "height": 420,
       "width": 420
      }
     },
     "output_type": "display_data"
    }
   ],
   "source": [
    "languages <- data.frame(\n",
    "   id = c(1:9),\n",
    "   name = c(\"C\", \"Java\", \"Python\", \"C++\", \"C#\", \"Visual Basic\", \"JavaScript\", \"PHP\", \"R\"),\n",
    "   usage = c(15.95, 13.48, 10.47, 7.11, 4.58, 4.12, 2.54, 2.49, 2.37),\n",
    "   change = c(0.74, -3.18, 0.59, 1.48, 1.18, 0.83, 0.41, 0.62, 1.33)\n",
    ")\n",
    " \n",
    "plt <- barplot(languages$usage, names.arg=languages$name,\n",
    "     cex.axis = 0.8,\n",
    "     cex.names = 0.6,\n",
    "     las=2)\n",
    " \n",
    "lines(plt, languages$change, type=\"o\", col=\"red\")"
   ]
  },
  {
   "cell_type": "markdown",
   "metadata": {},
   "source": [
    "### Sloupcový graf se dvěma skupinami sloupců"
   ]
  },
  {
   "cell_type": "code",
   "execution_count": 34,
   "metadata": {},
   "outputs": [
    {
     "name": "stdout",
     "output_type": "stream",
     "text": [
      "        [,1]  [,2]  [,3] [,4] [,5] [,6] [,7] [,8] [,9]\n",
      "usage  15.95 13.48 10.47 7.11 4.58 4.12 2.54 2.49 2.37\n",
      "change  0.74 -3.18  0.59 1.48 1.18 0.83 0.41 0.62 1.33\n"
     ]
    },
    {
     "data": {
      "image/png": "[encoded data removed]",
      "text/plain": [
       "plot without title"
      ]
     },
     "metadata": {
      "image/png": {
       "height": 420,
       "width": 420
      }
     },
     "output_type": "display_data"
    }
   ],
   "source": [
    "languages <- data.frame(\n",
    "   id = c(1:9),\n",
    "   name = c(\"C\", \"Java\", \"Python\", \"C++\", \"C#\", \"Visual Basic\", \"JavaScript\", \"PHP\", \"R\"),\n",
    "   usage = c(15.95, 13.48, 10.47, 7.11, 4.58, 4.12, 2.54, 2.49, 2.37),\n",
    "   change = c(0.74, -3.18, 0.59, 1.48, 1.18, 0.83, 0.41, 0.62, 1.33)\n",
    ")\n",
    " \n",
    "data=t(languages[, c(\"usage\", \"change\")])\n",
    "print(data)\n",
    " \n",
    "barplot(data, names.arg=languages$name,\n",
    "     ylim=c(-5, 20),\n",
    "     cex.axis = 0.8,\n",
    "     cex.names = 0.6,\n",
    "     las=2,\n",
    "     beside=T)"
   ]
  },
  {
   "cell_type": "markdown",
   "metadata": {},
   "source": [
    "### Grafy průběhů funkcí"
   ]
  },
  {
   "cell_type": "code",
   "execution_count": 38,
   "metadata": {},
   "outputs": [
    {
     "data": {
      "image/png": "[encoded data removed]",
      "text/plain": [
       "plot without title"
      ]
     },
     "metadata": {
      "image/png": {
       "height": 420,
       "width": 420
      }
     },
     "output_type": "display_data"
    }
   ],
   "source": [
    "x <- 1:100\n",
    "y <- sin(x/10)\n",
    "plot(x,y)"
   ]
  },
  {
   "cell_type": "code",
   "execution_count": 39,
   "metadata": {},
   "outputs": [
    {
     "data": {
      "image/png": "[encoded data removed]",
      "text/plain": [
       "plot without title"
      ]
     },
     "metadata": {
      "image/png": {
       "height": 420,
       "width": 420
      }
     },
     "output_type": "display_data"
    }
   ],
   "source": [
    "plot(sin, from=0, to=2*pi)"
   ]
  },
  {
   "cell_type": "code",
   "execution_count": 40,
   "metadata": {},
   "outputs": [
    {
     "data": {
      "image/png": "[encoded data removed]",
      "text/plain": [
       "Plot with title “Histogram of sin(1:n * 2 * pi/n)”"
      ]
     },
     "metadata": {
      "image/png": {
       "height": 420,
       "width": 420
      }
     },
     "output_type": "display_data"
    }
   ],
   "source": [
    "n <- 1000\n",
    "hist(sin(1:n * 2*pi/n))"
   ]
  },
  {
   "cell_type": "markdown",
   "metadata": {},
   "source": [
    "## Knihovna ggplot2"
   ]
  },
  {
   "cell_type": "code",
   "execution_count": 24,
   "metadata": {},
   "outputs": [
    {
     "name": "stderr",
     "output_type": "stream",
     "text": [
      "Installing package into ‘/usr/lib64/R/library’\n",
      "(as ‘lib’ is unspecified)\n",
      "\n",
      "Updating HTML index of packages in '.Library'\n",
      "\n",
      "Making 'packages.html' ...\n",
      " done\n",
      "\n"
     ]
    }
   ],
   "source": [
    "install.packages(\"ggplot2\")"
   ]
  },
  {
   "cell_type": "code",
   "execution_count": 25,
   "metadata": {},
   "outputs": [
    {
     "name": "stdout",
     "output_type": "stream",
     "text": [
      "\n",
      "Call:\n",
      "lm(formula = y ~ x)\n",
      "\n",
      "Coefficients:\n",
      "(Intercept)            x  \n",
      "     -9.333        7.000  \n",
      "\n"
     ]
    }
   ],
   "source": [
    "x <- 1:6  # Create vector.\n",
    "y <- x^2  # Create vector by formula.\n",
    "model <- lm(y ~ x)\n",
    "print(model) "
   ]
  },
  {
   "cell_type": "code",
   "execution_count": 26,
   "metadata": {},
   "outputs": [
    {
     "data": {
      "text/plain": [
       "\n",
       "Call:\n",
       "lm(formula = y ~ x)\n",
       "\n",
       "Residuals:\n",
       "      1       2       3       4       5       6 \n",
       " 3.3333 -0.6667 -2.6667 -2.6667 -0.6667  3.3333 \n",
       "\n",
       "Coefficients:\n",
       "            Estimate Std. Error t value Pr(>|t|)    \n",
       "(Intercept)  -9.3333     2.8441  -3.282 0.030453 *  \n",
       "x             7.0000     0.7303   9.585 0.000662 ***\n",
       "---\n",
       "Signif. codes:  0 ‘***’ 0.001 ‘**’ 0.01 ‘*’ 0.05 ‘.’ 0.1 ‘ ’ 1\n",
       "\n",
       "Residual standard error: 3.055 on 4 degrees of freedom\n",
       "Multiple R-squared:  0.9583,\tAdjusted R-squared:  0.9478 \n",
       "F-statistic: 91.88 on 1 and 4 DF,  p-value: 0.000662\n"
      ]
     },
     "metadata": {},
     "output_type": "display_data"
    }
   ],
   "source": [
    "summary(model)"
   ]
  },
  {
   "cell_type": "code",
   "execution_count": 27,
   "metadata": {},
   "outputs": [
    {
     "data": {
      "image/png": "[encoded data removed]",
      "text/plain": [
       "Plot with title “”"
      ]
     },
     "metadata": {
      "image/png": {
       "height": 420,
       "width": 420
      }
     },
     "output_type": "display_data"
    },
    {
     "data": {
      "image/png": "[encoded data removed]",
      "text/plain": [
       "Plot with title “”"
      ]
     },
     "metadata": {
      "image/png": {
       "height": 420,
       "width": 420
      }
     },
     "output_type": "display_data"
    },
    {
     "data": {
      "image/png": "[encoded data removed]",
      "text/plain": [
       "Plot with title “”"
      ]
     },
     "metadata": {
      "image/png": {
       "height": 420,
       "width": 420
      }
     },
     "output_type": "display_data"
    },
    {
     "data": {
      "image/png": "[encoded data removed]",
      "text/plain": [
       "Plot with title “”"
      ]
     },
     "metadata": {
      "image/png": {
       "height": 420,
       "width": 420
      }
     },
     "output_type": "display_data"
    }
   ],
   "source": [
    "plot(model)"
   ]
  },
  {
   "cell_type": "markdown",
   "metadata": {},
   "source": [
    "## Typy vykreslení úseček"
   ]
  },
  {
   "cell_type": "code",
   "execution_count": 41,
   "metadata": {},
   "outputs": [
    {
     "data": {
      "image/png": "[encoded data removed]",
      "text/plain": [
       "plot without title"
      ]
     },
     "metadata": {
      "image/png": {
       "height": 420,
       "width": 420
      }
     },
     "output_type": "display_data"
    }
   ],
   "source": [
    "plot(0, xlim=c(1,7), ylim=c(1,6))\n",
    " \n",
    "abline(h=1, lwd=1, lty=1, col=\"black\")\n",
    "abline(h=2, lwd=1, lty=2, col=\"blue\")\n",
    "abline(h=3, lwd=1, lty=3, col=\"cyan\")\n",
    "abline(h=4, lwd=1, lty=4, col=\"green\")\n",
    "abline(h=5, lwd=1, lty=5, col=\"orange\")\n",
    "abline(h=6, lwd=1, lty=6, col=\"red\")"
   ]
  },
  {
   "cell_type": "markdown",
   "metadata": {},
   "source": [
    "## Regresní přímka v diagramu"
   ]
  },
  {
   "cell_type": "code",
   "execution_count": 42,
   "metadata": {},
   "outputs": [
    {
     "data": {
      "image/png": "[encoded data removed]",
      "text/plain": [
       "Plot with title “Weight vs Mileage”"
      ]
     },
     "metadata": {
      "image/png": {
       "height": 420,
       "width": 420
      }
     },
     "output_type": "display_data"
    }
   ],
   "source": [
    "input <- mtcars\n",
    " \n",
    "plot(x = input$wt,y = input$mpg,\n",
    "   xlab = \"Weight\",\n",
    "   ylab = \"Mileage\",\n",
    "   main = \"Weight vs Mileage\",\n",
    "   pch=20, col=\"red\"\n",
    ")\n",
    " \n",
    "text(input$wt+0, input$mpg+0.7, rownames(input), cex=0.2)\n",
    " \n",
    "abline(20,0,col='blue', lty=2, lwd=1)\n",
    "abline(25,0,col='darkgreen', lty=2, lwd=1)\n",
    " \n",
    "regression <- lm(input$mpg~input$wt)\n",
    "abline(reg=regression, col='lightblue', lwd=2)"
   ]
  },
  {
   "cell_type": "markdown",
   "metadata": {},
   "source": [
    "## Zakreslení statistických hodnot (průměru, směrodatné odchylky) do diagramu"
   ]
  },
  {
   "cell_type": "code",
   "execution_count": 43,
   "metadata": {},
   "outputs": [
    {
     "data": {
      "image/png": "[encoded data removed]",
      "text/plain": [
       "Plot with title “Weight vs Mileage”"
      ]
     },
     "metadata": {
      "image/png": {
       "height": 420,
       "width": 420
      }
     },
     "output_type": "display_data"
    }
   ],
   "source": [
    "input <- mtcars\n",
    " \n",
    "plot(x = input$wt,y = input$mpg,\n",
    "   xlab = \"Weight\",\n",
    "   ylab = \"Mileage\",\n",
    "   main = \"Weight vs Mileage\",\n",
    "   pch=20, col=\"red\"\n",
    ")\n",
    " \n",
    "text(input$wt+0, input$mpg+0.7, rownames(input), cex = 0.2)\n",
    " \n",
    "abline(h = mean(input$mpg), col = '#ff8080', lwd = 1, lty = 2)\n",
    " \n",
    "abline(h = mean(input$mpg) + sd(input$mpg), col = 'steelblue', lwd = 1, lty = 2)\n",
    "abline(h = mean(input$mpg) - sd(input$mpg), col = 'steelblue', lwd = 1, lty = 2)\n",
    " \n",
    "regression <- lm(input$mpg~input$wt)\n",
    "abline(reg=regression, col='lightblue', lwd=2)"
   ]
  }
 ],
 "metadata": {
  "kernelspec": {
   "display_name": "R",
   "language": "R",
   "name": "ir"
  },
  "language_info": {
   "codemirror_mode": "r",
   "file_extension": ".r",
   "mimetype": "text/x-r-source",
   "name": "R",
   "pygments_lexer": "r",
   "version": "4.0.3"
  }
 },
 "nbformat": 4,
 "nbformat_minor": 4
}
