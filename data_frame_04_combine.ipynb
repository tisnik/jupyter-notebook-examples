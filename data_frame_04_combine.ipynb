{
 "cells": [
  {
   "cell_type": "code",
   "execution_count": 1,
   "metadata": {},
   "outputs": [
    {
     "name": "stdout",
     "output_type": "stream",
     "text": [
      "                   Sep 2020  Sep 2019  Change  Ratings  Changep\n",
      "Language                                                       \n",
      "C                         1         2  change    10.00     0.74\n",
      "Java                      2         1  change    10.00    -3.18\n",
      "Python                    3         3     NaN    10.00     0.59\n",
      "C++                       4         4     NaN     7.11     1.48\n",
      "C#                        5         5     NaN     4.58     1.18\n",
      "Visual Basic              6         6     NaN     4.12     0.83\n",
      "JavaScript                7         7     NaN     2.54     0.41\n",
      "PHP                       8         9  change     2.49     0.62\n",
      "R                         9        19  change     2.37     1.33\n",
      "SQL                      10         8  change     2.00    -0.19\n",
      "Go                       11        14  change     2.00     0.24\n",
      "Swift                    12        16  change     2.00     0.28\n",
      "Perl                     13        20  change     2.00     0.26\n",
      "Assembly language        14        12  change     2.00    -0.08\n",
      "Ruby                     15        15     NaN     2.00     0.03\n",
      "MATLAB                   16        18  change     2.00     0.04\n",
      "Groovy                   17        11  change     2.00    -0.52\n",
      "Rust                     18        33  change     2.00     0.55\n",
      "Objective-C              19        10  change     2.00    -0.99\n",
      "Dart                     20        24  change     2.00     0.13\n",
      "\n",
      "Sep 2020      int64\n",
      "Sep 2019      int64\n",
      "Change       object\n",
      "Ratings     float64\n",
      "Changep     float64\n",
      "dtype: object\n",
      "\n",
      "<class 'pandas.core.frame.DataFrame'>\n",
      "Index: 20 entries, C to Dart\n",
      "Data columns (total 5 columns):\n",
      " #   Column    Non-Null Count  Dtype  \n",
      "---  ------    --------------  -----  \n",
      " 0   Sep 2020  20 non-null     int64  \n",
      " 1   Sep 2019  20 non-null     int64  \n",
      " 2   Change    14 non-null     object \n",
      " 3   Ratings   20 non-null     float64\n",
      " 4   Changep   20 non-null     float64\n",
      "dtypes: float64(2), int64(2), object(1)\n",
      "memory usage: 960.0+ bytes\n",
      "None\n",
      "\n"
     ]
    }
   ],
   "source": [
    "import pandas\n",
    "\n",
    "# přečtení zdrojových dat\n",
    "df = pandas.read_csv(\"tiobe.tsv\", sep=\"\\t\")\n",
    "\n",
    "# specifikace indexu - má se získat ze sloupce Language\n",
    "df.set_index(\"Language\", inplace=True)\n",
    "\n",
    "# omezení hodnot\n",
    "df[\"Ratings\"] = df[\"Ratings\"].combine(10, min)\n",
    "\n",
    "# omezení hodnot\n",
    "df[\"Ratings\"] = df[\"Ratings\"].combine(2, max)\n",
    "\n",
    "# datový rámec zobrazíme\n",
    "print(df)\n",
    "print()\n",
    "\n",
    "# podrobnější informace o datovém rámci\n",
    "print(df.dtypes)\n",
    "print()\n",
    "\n",
    "# více podrobnějších informací o datovém rámci\n",
    "print(df.info())\n",
    "print()"
   ]
  },
  {
   "cell_type": "code",
   "execution_count": null,
   "metadata": {},
   "outputs": [],
   "source": []
  }
 ],
 "metadata": {
  "kernelspec": {
   "display_name": "Python 3",
   "language": "python",
   "name": "python3"
  },
  "language_info": {
   "codemirror_mode": {
    "name": "ipython",
    "version": 3
   },
   "file_extension": ".py",
   "mimetype": "text/x-python",
   "name": "python",
   "nbconvert_exporter": "python",
   "pygments_lexer": "ipython3",
   "version": "3.6.6"
  }
 },
 "nbformat": 4,
 "nbformat_minor": 2
}
