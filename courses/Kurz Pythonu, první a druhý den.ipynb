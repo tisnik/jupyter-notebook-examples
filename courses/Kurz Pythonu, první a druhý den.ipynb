{
 "cells": [
  {
   "cell_type": "markdown",
   "metadata": {},
   "source": [
    "# Kurz Pythonu"
   ]
  },
  {
   "cell_type": "markdown",
   "metadata": {},
   "source": [
    "## První den"
   ]
  },
  {
   "cell_type": "code",
   "execution_count": 145,
   "metadata": {},
   "outputs": [
    {
     "data": {
      "text/plain": [
       "101"
      ]
     },
     "execution_count": 145,
     "metadata": {},
     "output_type": "execute_result"
    }
   ],
   "source": [
    "# výrazy se přímo vyhodnotí a vypíše se jejich výsledek\n",
    "1 + 100"
   ]
  },
  {
   "cell_type": "code",
   "execution_count": 146,
   "metadata": {},
   "outputs": [
    {
     "name": "stdout",
     "output_type": "stream",
     "text": [
      "1\n",
      "3\n",
      "5\n"
     ]
    }
   ],
   "source": [
    "# funkce print vypíše hodnotu vypočteného výrazu\n",
    "print(1)\n",
    "print(1 + 2)\n",
    "\n",
    "# použití proměnných\n",
    "x = 5\n",
    "print(x)"
   ]
  },
  {
   "cell_type": "code",
   "execution_count": 147,
   "metadata": {},
   "outputs": [
    {
     "name": "stdout",
     "output_type": "stream",
     "text": [
      "13\n"
     ]
    }
   ],
   "source": [
    "# složitější aritmetický výraz\n",
    "y = 2 * x + 3\n",
    "print(y)"
   ]
  },
  {
   "cell_type": "markdown",
   "metadata": {},
   "source": [
    "Nyní se budeme snažit vypočítat Pi"
   ]
  },
  {
   "cell_type": "code",
   "execution_count": 148,
   "metadata": {},
   "outputs": [
    {
     "data": {
      "text/plain": [
       "'Toto je dokumentační řetězec.'"
      ]
     },
     "execution_count": 148,
     "metadata": {},
     "output_type": "execute_result"
    }
   ],
   "source": [
    "\"\"\"Toto je dokumentační řetězec.\"\"\""
   ]
  },
  {
   "cell_type": "code",
   "execution_count": 149,
   "metadata": {},
   "outputs": [
    {
     "ename": "SyntaxError",
     "evalue": "invalid syntax (<ipython-input-149-a6ff10bd5900>, line 2)",
     "output_type": "error",
     "traceback": [
      "\u001b[0;36m  File \u001b[0;32m\"<ipython-input-149-a6ff10bd5900>\"\u001b[0;36m, line \u001b[0;32m2\u001b[0m\n\u001b[0;31m    if=3\u001b[0m\n\u001b[0m      ^\u001b[0m\n\u001b[0;31mSyntaxError\u001b[0m\u001b[0;31m:\u001b[0m invalid syntax\n"
     ]
    }
   ],
   "source": [
    "# if je klíčové slovo a nejde použít pro jméno proměnné\n",
    "if = 3"
   ]
  },
  {
   "cell_type": "code",
   "execution_count": 150,
   "metadata": {},
   "outputs": [
    {
     "name": "stdout",
     "output_type": "stream",
     "text": [
      "42\n",
      "Python\n",
      "3e+27\n",
      "None\n",
      "10\n",
      "něco jiného\n"
     ]
    }
   ],
   "source": [
    "# vytvoření proměnných různých typů\n",
    "x = 42\n",
    "y = \"Python\"\n",
    "z = 3e27\n",
    "\n",
    "print(x)\n",
    "print(y)\n",
    "print(z)\n",
    "\n",
    "x = None\n",
    "print(x)\n",
    "\n",
    "x = 10\n",
    "print(x)\n",
    "\n",
    "x = \"něco jiného\"\n",
    "print(x)"
   ]
  },
  {
   "cell_type": "code",
   "execution_count": 151,
   "metadata": {},
   "outputs": [],
   "source": [
    "# vymazání proměnné z paměti\n",
    "del x"
   ]
  },
  {
   "cell_type": "code",
   "execution_count": 152,
   "metadata": {},
   "outputs": [],
   "source": [
    "# vytvoření seznamu se třemi prvky\n",
    "s = [1, 2, 3]"
   ]
  },
  {
   "cell_type": "code",
   "execution_count": 153,
   "metadata": {},
   "outputs": [],
   "source": [
    "# seznam je heterogenní - může obsahovat hodnoty libovolného typu\n",
    "s2 = [1, \"XXX\", 3.14, True]"
   ]
  },
  {
   "cell_type": "code",
   "execution_count": 155,
   "metadata": {},
   "outputs": [
    {
     "name": "stdout",
     "output_type": "stream",
     "text": [
      "42000000000000000000000\n",
      "3.1415\n",
      "350000.0\n",
      "-3.1e-09\n",
      "0.5\n"
     ]
    }
   ],
   "source": [
    "# číselné hodnoty\n",
    "print(42000000000000000000000)\n",
    "print(3.1415)\n",
    "# 3.5x10^5\n",
    "print(3.5e5)\n",
    "print(-3.1e-9)\n",
    "print(.5)"
   ]
  },
  {
   "cell_type": "code",
   "execution_count": 156,
   "metadata": {},
   "outputs": [
    {
     "data": {
      "text/plain": [
       "1.3333333333333333"
      ]
     },
     "execution_count": 156,
     "metadata": {},
     "output_type": "execute_result"
    }
   ],
   "source": [
    "# dělení s reálným výsledkem (Python 3)\n",
    "4/3"
   ]
  },
  {
   "cell_type": "code",
   "execution_count": 157,
   "metadata": {},
   "outputs": [
    {
     "data": {
      "text/plain": [
       "1"
      ]
     },
     "execution_count": 157,
     "metadata": {},
     "output_type": "execute_result"
    }
   ],
   "source": [
    "# celočíselné dělení\n",
    "4//3"
   ]
  },
  {
   "cell_type": "code",
   "execution_count": 158,
   "metadata": {},
   "outputs": [
    {
     "ename": "NameError",
     "evalue": "name 'true' is not defined",
     "output_type": "error",
     "traceback": [
      "\u001b[0;31m---------------------------------------------------------------------------\u001b[0m",
      "\u001b[0;31mNameError\u001b[0m                                 Traceback (most recent call last)",
      "\u001b[0;32m<ipython-input-158-ae995c9f5c16>\u001b[0m in \u001b[0;36m<module>\u001b[0;34m\u001b[0m\n\u001b[1;32m      1\u001b[0m \u001b[0;31m# Hodnota True je definována, hodnota true nikoli\u001b[0m\u001b[0;34m\u001b[0m\u001b[0;34m\u001b[0m\u001b[0;34m\u001b[0m\u001b[0m\n\u001b[1;32m      2\u001b[0m \u001b[0ma\u001b[0m \u001b[0;34m=\u001b[0m \u001b[0;32mTrue\u001b[0m\u001b[0;34m\u001b[0m\u001b[0;34m\u001b[0m\u001b[0m\n\u001b[0;32m----> 3\u001b[0;31m \u001b[0mb\u001b[0m \u001b[0;34m=\u001b[0m \u001b[0mtrue\u001b[0m\u001b[0;34m\u001b[0m\u001b[0;34m\u001b[0m\u001b[0m\n\u001b[0m",
      "\u001b[0;31mNameError\u001b[0m: name 'true' is not defined"
     ]
    }
   ],
   "source": [
    "# Hodnota True je definována, hodnota true nikoli\n",
    "a = True\n",
    "b = true"
   ]
  },
  {
   "cell_type": "code",
   "execution_count": 159,
   "metadata": {},
   "outputs": [
    {
     "data": {
      "text/plain": [
       "True"
      ]
     },
     "execution_count": 159,
     "metadata": {},
     "output_type": "execute_result"
    }
   ],
   "source": [
    "# Logický výraz\n",
    "True and False or True"
   ]
  },
  {
   "cell_type": "code",
   "execution_count": 160,
   "metadata": {},
   "outputs": [
    {
     "data": {
      "text/plain": [
       "True"
      ]
     },
     "execution_count": 160,
     "metadata": {},
     "output_type": "execute_result"
    }
   ],
   "source": [
    "# Proměnné s logickými hodnotami\n",
    "a = True\n",
    "b = False\n",
    "c = True\n",
    "a and b or c"
   ]
  },
  {
   "cell_type": "code",
   "execution_count": 161,
   "metadata": {},
   "outputs": [
    {
     "data": {
      "text/plain": [
       "False"
      ]
     },
     "execution_count": 161,
     "metadata": {},
     "output_type": "execute_result"
    }
   ],
   "source": [
    "# Relační operátor\n",
    "1 == 2"
   ]
  },
  {
   "cell_type": "code",
   "execution_count": 162,
   "metadata": {},
   "outputs": [
    {
     "data": {
      "text/plain": [
       "True"
      ]
     },
     "execution_count": 162,
     "metadata": {},
     "output_type": "execute_result"
    }
   ],
   "source": [
    "# Relační operátor\n",
    "2 == 2"
   ]
  },
  {
   "cell_type": "code",
   "execution_count": 163,
   "metadata": {},
   "outputs": [
    {
     "data": {
      "text/plain": [
       "True"
      ]
     },
     "execution_count": 163,
     "metadata": {},
     "output_type": "execute_result"
    }
   ],
   "source": [
    "# Relační operátor\n",
    "10 < 20"
   ]
  },
  {
   "cell_type": "code",
   "execution_count": 164,
   "metadata": {},
   "outputs": [
    {
     "name": "stdout",
     "output_type": "stream",
     "text": [
      "True\n"
     ]
    }
   ],
   "source": [
    "# Relační operátor\n",
    "x = 10\n",
    "y = 20\n",
    "podm = x < y\n",
    "print(podm)"
   ]
  },
  {
   "cell_type": "code",
   "execution_count": 165,
   "metadata": {},
   "outputs": [
    {
     "data": {
      "text/plain": [
       "True"
      ]
     },
     "execution_count": 165,
     "metadata": {},
     "output_type": "execute_result"
    }
   ],
   "source": [
    "# Test, zda seznam obsahuje prvek 2\n",
    "l = [1, 2, 3]\n",
    "2 in l"
   ]
  },
  {
   "cell_type": "code",
   "execution_count": 166,
   "metadata": {},
   "outputs": [
    {
     "data": {
      "text/plain": [
       "False"
      ]
     },
     "execution_count": 166,
     "metadata": {},
     "output_type": "execute_result"
    }
   ],
   "source": [
    "# Test, zda seznam obsahuje prvek 100\n",
    "100 in l"
   ]
  },
  {
   "cell_type": "code",
   "execution_count": 167,
   "metadata": {},
   "outputs": [
    {
     "name": "stdout",
     "output_type": "stream",
     "text": [
      "test \"test\" test \\test\n"
     ]
    }
   ],
   "source": [
    "# Speciální význam zpětného lomítka\n",
    "print(\"test \\\"test\\\" test \\\\test\")"
   ]
  },
  {
   "cell_type": "code",
   "execution_count": 168,
   "metadata": {},
   "outputs": [
    {
     "name": "stdout",
     "output_type": "stream",
     "text": [
      "c:\\Documents\\xyz\n",
      "c:\\Documents\\xyz\n"
     ]
    }
   ],
   "source": [
    "# Tzv. \"raw\" řetězce\n",
    "print(\"c:\\\\Documents\\\\xyz\")\n",
    "print(r\"c:\\Documents\\xyz\")"
   ]
  },
  {
   "cell_type": "code",
   "execution_count": 169,
   "metadata": {},
   "outputs": [
    {
     "name": "stdout",
     "output_type": "stream",
     "text": [
      "A\n",
      "B\n",
      "C\n",
      "D\n",
      "E\n",
      "F\n"
     ]
    }
   ],
   "source": [
    "# Víceřádkové řetězce\n",
    "print(\"\"\"A\n",
    "B\n",
    "C\n",
    "D\n",
    "E\n",
    "F\"\"\")"
   ]
  },
  {
   "cell_type": "code",
   "execution_count": 170,
   "metadata": {},
   "outputs": [
    {
     "ename": "SyntaxError",
     "evalue": "EOL while scanning string literal (<ipython-input-170-3c23f8b08332>, line 2)",
     "output_type": "error",
     "traceback": [
      "\u001b[0;36m  File \u001b[0;32m\"<ipython-input-170-3c23f8b08332>\"\u001b[0;36m, line \u001b[0;32m2\u001b[0m\n\u001b[0;31m    print(\"A\u001b[0m\n\u001b[0m            ^\u001b[0m\n\u001b[0;31mSyntaxError\u001b[0m\u001b[0;31m:\u001b[0m EOL while scanning string literal\n"
     ]
    }
   ],
   "source": [
    "# Nekorektní použití jednořádkového řetězce\n",
    "print(\"A\n",
    "      B\n",
    "      C\")"
   ]
  },
  {
   "cell_type": "code",
   "execution_count": 48,
   "metadata": {},
   "outputs": [
    {
     "ename": "SyntaxError",
     "evalue": "EOL while scanning string literal (<ipython-input-48-3fcfb4c7c6a2>, line 3)",
     "output_type": "error",
     "traceback": [
      "\u001b[0;36m  File \u001b[0;32m\"<ipython-input-48-3fcfb4c7c6a2>\"\u001b[0;36m, line \u001b[0;32m3\u001b[0m\n\u001b[0;31m    print('ahoj\")\u001b[0m\n\u001b[0m                 ^\u001b[0m\n\u001b[0;31mSyntaxError\u001b[0m\u001b[0;31m:\u001b[0m EOL while scanning string literal\n"
     ]
    }
   ],
   "source": [
    "# Použití \" a ' pro uvození řetězců\n",
    "print(\"ahoj\")\n",
    "print('ahoj')\n",
    "print('ahoj\")"
   ]
  },
  {
   "cell_type": "code",
   "execution_count": 171,
   "metadata": {},
   "outputs": [
    {
     "name": "stdout",
     "output_type": "stream",
     "text": [
      "[1, 2, 3, 4]\n",
      "1\n",
      "4\n"
     ]
    }
   ],
   "source": [
    "# Indexování prvků v seznamu\n",
    "seznam = [1,2,3,4]\n",
    "print(seznam)\n",
    "\n",
    "print(seznam[0])\n",
    "print(seznam[3])"
   ]
  },
  {
   "cell_type": "code",
   "execution_count": 172,
   "metadata": {},
   "outputs": [
    {
     "name": "stdout",
     "output_type": "stream",
     "text": [
      "4\n"
     ]
    }
   ],
   "source": [
    "# Délka seznamu\n",
    "print(len(seznam))"
   ]
  },
  {
   "cell_type": "code",
   "execution_count": 173,
   "metadata": {
    "scrolled": true
   },
   "outputs": [
    {
     "name": "stdout",
     "output_type": "stream",
     "text": [
      "4\n"
     ]
    }
   ],
   "source": [
    "# Výběr (indexování) prvků od konce seznamu\n",
    "print(seznam[-1])"
   ]
  },
  {
   "cell_type": "code",
   "execution_count": 174,
   "metadata": {
    "scrolled": true
   },
   "outputs": [
    {
     "name": "stdout",
     "output_type": "stream",
     "text": [
      "3\n"
     ]
    }
   ],
   "source": [
    "# Výběr (indexování) prvků od konce seznamu\n",
    "print(seznam[-2])"
   ]
  },
  {
   "cell_type": "code",
   "execution_count": 175,
   "metadata": {},
   "outputs": [],
   "source": [
    "# Přidání prvku na konec seznamu\n",
    "seznam.append(100)"
   ]
  },
  {
   "cell_type": "code",
   "execution_count": 176,
   "metadata": {},
   "outputs": [
    {
     "data": {
      "text/plain": [
       "[1, 2, 3, 4, 100]"
      ]
     },
     "execution_count": 176,
     "metadata": {},
     "output_type": "execute_result"
    }
   ],
   "source": [
    "seznam"
   ]
  },
  {
   "cell_type": "code",
   "execution_count": 177,
   "metadata": {},
   "outputs": [
    {
     "data": {
      "text/plain": [
       "[1, 2, 3, 4, 100, 10]"
      ]
     },
     "execution_count": 177,
     "metadata": {},
     "output_type": "execute_result"
    }
   ],
   "source": [
    "# Přidání prvku na konec seznamu\n",
    "seznam.append(10)\n",
    "seznam"
   ]
  },
  {
   "cell_type": "code",
   "execution_count": 178,
   "metadata": {},
   "outputs": [],
   "source": [
    "# Vložení prvku na začátek seznamu\n",
    "seznam.insert(0, 100)"
   ]
  },
  {
   "cell_type": "code",
   "execution_count": 179,
   "metadata": {},
   "outputs": [
    {
     "data": {
      "text/plain": [
       "[100, 1, 2, 3, 4, 100, 10]"
      ]
     },
     "execution_count": 179,
     "metadata": {},
     "output_type": "execute_result"
    }
   ],
   "source": [
    "seznam"
   ]
  },
  {
   "cell_type": "code",
   "execution_count": 180,
   "metadata": {},
   "outputs": [],
   "source": [
    "# Změna prvku uloženého v seznamu\n",
    "seznam[3] = \"ahoj\""
   ]
  },
  {
   "cell_type": "code",
   "execution_count": 60,
   "metadata": {},
   "outputs": [
    {
     "data": {
      "text/plain": [
       "[100, 1, 2, 'ahoj', 4, 100, 10]"
      ]
     },
     "execution_count": 60,
     "metadata": {},
     "output_type": "execute_result"
    }
   ],
   "source": [
    "seznam"
   ]
  },
  {
   "cell_type": "code",
   "execution_count": 181,
   "metadata": {},
   "outputs": [],
   "source": [
    "# Smazání prvku ze seznamu\n",
    "del seznam[0]"
   ]
  },
  {
   "cell_type": "code",
   "execution_count": 62,
   "metadata": {},
   "outputs": [
    {
     "data": {
      "text/plain": [
       "[1, 2, 'ahoj', 4, 100, 10]"
      ]
     },
     "execution_count": 62,
     "metadata": {},
     "output_type": "execute_result"
    }
   ],
   "source": [
    "seznam"
   ]
  },
  {
   "cell_type": "code",
   "execution_count": 182,
   "metadata": {},
   "outputs": [
    {
     "name": "stdout",
     "output_type": "stream",
     "text": [
      "[1, 2, 3, 4, 5, 6]\n"
     ]
    }
   ],
   "source": [
    "# Spojení dvou seznamů\n",
    "seznam1 = [1, 2, 3]\n",
    "seznam2 = [4, 5, 6]\n",
    "\n",
    "seznam3 = seznam1 + seznam2\n",
    "\n",
    "print(seznam3)"
   ]
  },
  {
   "cell_type": "code",
   "execution_count": 183,
   "metadata": {},
   "outputs": [],
   "source": [
    "# Spojení dvou seznamů\n",
    "seznam3 = seznam3 + [3]"
   ]
  },
  {
   "cell_type": "code",
   "execution_count": 66,
   "metadata": {},
   "outputs": [
    {
     "name": "stdout",
     "output_type": "stream",
     "text": [
      "[1, 2, 3, 4, 5, 6, 3]\n"
     ]
    }
   ],
   "source": [
    "print(seznam3)"
   ]
  },
  {
   "cell_type": "code",
   "execution_count": 184,
   "metadata": {},
   "outputs": [],
   "source": [
    "# Spojení většího množství seznamů\n",
    "seznam3 = seznam1 + seznam2 + seznam3 + seznam1"
   ]
  },
  {
   "cell_type": "code",
   "execution_count": 68,
   "metadata": {},
   "outputs": [
    {
     "name": "stdout",
     "output_type": "stream",
     "text": [
      "[1, 2, 3, 4, 5, 6, 1, 2, 3, 4, 5, 6, 3, 1, 2, 3]\n"
     ]
    }
   ],
   "source": [
    "print(seznam3)"
   ]
  },
  {
   "cell_type": "code",
   "execution_count": 185,
   "metadata": {},
   "outputs": [
    {
     "name": "stdout",
     "output_type": "stream",
     "text": [
      "[1, 2, 3, 1, 2, 3, 1, 2, 3]\n"
     ]
    }
   ],
   "source": [
    "# Opakování prvků seznamu 3x za sebou\n",
    "seznam1 = [1, 2, 3]\n",
    "\n",
    "seznam2 = seznam1 * 3\n",
    "print(seznam2)"
   ]
  },
  {
   "cell_type": "code",
   "execution_count": 71,
   "metadata": {},
   "outputs": [],
   "source": [
    "seznam4 = [0] * 50"
   ]
  },
  {
   "cell_type": "code",
   "execution_count": 72,
   "metadata": {},
   "outputs": [
    {
     "name": "stdout",
     "output_type": "stream",
     "text": [
      "[0, 0, 0, 0, 0, 0, 0, 0, 0, 0, 0, 0, 0, 0, 0, 0, 0, 0, 0, 0, 0, 0, 0, 0, 0, 0, 0, 0, 0, 0, 0, 0, 0, 0, 0, 0, 0, 0, 0, 0, 0, 0, 0, 0, 0, 0, 0, 0, 0, 0]\n"
     ]
    }
   ],
   "source": [
    "print(seznam4)"
   ]
  },
  {
   "cell_type": "code",
   "execution_count": 78,
   "metadata": {},
   "outputs": [
    {
     "name": "stdout",
     "output_type": "stream",
     "text": [
      "[5, 4, 1, 3, 4, 100, -1]\n",
      "[-1, 1, 3, 4, 4, 5, 100]\n"
     ]
    }
   ],
   "source": [
    "# Seřazení prvků v seznamu\n",
    "seznam = [5, 4, 1, 3, 4, 100, -1]\n",
    "print(seznam)\n",
    "\n",
    "seznam.sort()\n",
    "print(seznam)"
   ]
  },
  {
   "cell_type": "code",
   "execution_count": 186,
   "metadata": {},
   "outputs": [
    {
     "name": "stdout",
     "output_type": "stream",
     "text": [
      "['ABB', 'Citrix', 'IBM']\n"
     ]
    }
   ],
   "source": [
    "# Seřazení prvků v seznamu\n",
    "firmy = [\"Citrix\", \"IBM\", \"ABB\"]\n",
    "firmy.sort()\n",
    "print(firmy)"
   ]
  },
  {
   "cell_type": "code",
   "execution_count": 187,
   "metadata": {},
   "outputs": [
    {
     "name": "stdout",
     "output_type": "stream",
     "text": [
      "[5, 4, 1, 3, 4, 100, -1]\n",
      "[5, 4, 1, 3, 4, 100, -1]\n",
      "[-1, 1, 3, 4, 4, 5, 100]\n"
     ]
    }
   ],
   "source": [
    "# Seřazení prvků DO nového seznamu (původní se nezmění)\n",
    "seznam = [5, 4, 1, 3, 4, 100, -1]\n",
    "print(seznam)\n",
    "\n",
    "seznam2 = sorted(seznam)\n",
    "print(seznam)\n",
    "print(seznam2)"
   ]
  },
  {
   "cell_type": "code",
   "execution_count": 188,
   "metadata": {},
   "outputs": [
    {
     "name": "stdout",
     "output_type": "stream",
     "text": [
      "['c', 'd']\n"
     ]
    }
   ],
   "source": [
    "# Získání výseku ze seznamu\n",
    "seznam = [\"a\", \"b\", \"c\", \"d\", \"e\", \"f\"]\n",
    "\n",
    "print(seznam[2:4])"
   ]
  },
  {
   "cell_type": "code",
   "execution_count": 189,
   "metadata": {},
   "outputs": [
    {
     "name": "stdout",
     "output_type": "stream",
     "text": [
      "[]\n"
     ]
    }
   ],
   "source": [
    "# Získání výseku ze seznamu\n",
    "print(seznam[4:2])"
   ]
  },
  {
   "cell_type": "code",
   "execution_count": 190,
   "metadata": {},
   "outputs": [
    {
     "name": "stdout",
     "output_type": "stream",
     "text": [
      "['a', 'c', 'e']\n"
     ]
    }
   ],
   "source": [
    "# Získání výseku ze seznamu - uvedení kroku\n",
    "print(seznam[0:6:2])"
   ]
  },
  {
   "cell_type": "code",
   "execution_count": 191,
   "metadata": {},
   "outputs": [
    {
     "name": "stdout",
     "output_type": "stream",
     "text": [
      "['e', 'd']\n"
     ]
    }
   ],
   "source": [
    "# Získání výseku ze seznamu - uvedení kroku\n",
    "print(seznam[4:2:-1])"
   ]
  },
  {
   "cell_type": "code",
   "execution_count": 192,
   "metadata": {},
   "outputs": [
    {
     "name": "stdout",
     "output_type": "stream",
     "text": [
      "['f', 'e', 'd', 'c', 'b']\n"
     ]
    }
   ],
   "source": [
    "# Získání výseku ze seznamu - uvedení kroku\n",
    "print(seznam[5:0:-1])"
   ]
  },
  {
   "cell_type": "code",
   "execution_count": 193,
   "metadata": {},
   "outputs": [
    {
     "name": "stdout",
     "output_type": "stream",
     "text": [
      "['e', 'f']\n",
      "['a', 'b', 'c', 'd']\n",
      "['a', 'b', 'c', 'd', 'e', 'f']\n"
     ]
    }
   ],
   "source": [
    "# Vynechání indexu při tvorbě výseku ze seznamu\n",
    "print(seznam[4:])\n",
    "print(seznam[:4])\n",
    "print(seznam[:])"
   ]
  },
  {
   "cell_type": "code",
   "execution_count": 194,
   "metadata": {},
   "outputs": [
    {
     "name": "stdout",
     "output_type": "stream",
     "text": [
      "['f', 'e', 'd', 'c', 'b', 'a']\n"
     ]
    }
   ],
   "source": [
    "# Nový seznam s opačně seřazenými prvky\n",
    "print(seznam[::-1])"
   ]
  },
  {
   "cell_type": "code",
   "execution_count": 200,
   "metadata": {},
   "outputs": [
    {
     "name": "stdout",
     "output_type": "stream",
     "text": [
      "Test XYZ Test\n",
      "Y\n",
      "t\n",
      "XYZ \n",
      "Ts Y et\n",
      "tseT ZYX tseT\n"
     ]
    }
   ],
   "source": [
    "# S řetězci se do určité míry pracuje stejně jako se seznamy\n",
    "x = \"Test XYZ Test\"\n",
    "print(x)\n",
    "\n",
    "# Výběr jednoho znaku\n",
    "print(x[6])\n",
    "print(x[-1])\n",
    "\n",
    "# Výber podřetězce\n",
    "print(x[5:9])\n",
    "print(x[::2])\n",
    "print(x[::-1])"
   ]
  },
  {
   "cell_type": "code",
   "execution_count": 201,
   "metadata": {},
   "outputs": [
    {
     "name": "stdout",
     "output_type": "stream",
     "text": [
      "{'id': 1, 'name': 'Eda', 'surname': 'Wasserfall'}\n"
     ]
    }
   ],
   "source": [
    "# Vytvoření slovníku a tisk jeho obsahu\n",
    "d = {\"id\": 1,\n",
    "     \"name\": \"Eda\",\n",
    "     \"surname\": \"Wasserfall\"}\n",
    "\n",
    "print(d)"
   ]
  },
  {
   "cell_type": "code",
   "execution_count": 202,
   "metadata": {},
   "outputs": [
    {
     "name": "stdout",
     "output_type": "stream",
     "text": [
      "Eda\n"
     ]
    }
   ],
   "source": [
    "# Přečtení prvku s využitím klíče\n",
    "print(d[\"name\"])"
   ]
  },
  {
   "cell_type": "code",
   "execution_count": 203,
   "metadata": {},
   "outputs": [
    {
     "ename": "KeyError",
     "evalue": "'xyzzy'",
     "output_type": "error",
     "traceback": [
      "\u001b[0;31m---------------------------------------------------------------------------\u001b[0m",
      "\u001b[0;31mKeyError\u001b[0m                                  Traceback (most recent call last)",
      "\u001b[0;32m<ipython-input-203-476e72a3da32>\u001b[0m in \u001b[0;36m<module>\u001b[0;34m\u001b[0m\n\u001b[1;32m      1\u001b[0m \u001b[0;31m# Chování ve chvíli, kdy klíč neexistuje\u001b[0m\u001b[0;34m\u001b[0m\u001b[0;34m\u001b[0m\u001b[0;34m\u001b[0m\u001b[0m\n\u001b[0;32m----> 2\u001b[0;31m \u001b[0mprint\u001b[0m\u001b[0;34m(\u001b[0m\u001b[0md\u001b[0m\u001b[0;34m[\u001b[0m\u001b[0;34m\"xyzzy\"\u001b[0m\u001b[0;34m]\u001b[0m\u001b[0;34m)\u001b[0m\u001b[0;34m\u001b[0m\u001b[0;34m\u001b[0m\u001b[0m\n\u001b[0m",
      "\u001b[0;31mKeyError\u001b[0m: 'xyzzy'"
     ]
    }
   ],
   "source": [
    "# Chování ve chvíli, kdy klíč neexistuje\n",
    "print(d[\"xyzzy\"])"
   ]
  },
  {
   "cell_type": "code",
   "execution_count": 204,
   "metadata": {},
   "outputs": [],
   "source": [
    "# Přidání nového prvku do slovníku\n",
    "d[\"hra\"] = \"Svestka\""
   ]
  },
  {
   "cell_type": "code",
   "execution_count": 96,
   "metadata": {},
   "outputs": [
    {
     "data": {
      "text/plain": [
       "{'id': 1, 'name': 'Eda', 'surname': 'Wasserfall', 'hra': 'Svestka'}"
      ]
     },
     "execution_count": 96,
     "metadata": {},
     "output_type": "execute_result"
    }
   ],
   "source": [
    "d"
   ]
  },
  {
   "cell_type": "code",
   "execution_count": 205,
   "metadata": {},
   "outputs": [],
   "source": [
    "# Vymazání prvku ze slovníku\n",
    "del d[\"hra\"]"
   ]
  },
  {
   "cell_type": "code",
   "execution_count": 206,
   "metadata": {},
   "outputs": [
    {
     "data": {
      "text/plain": [
       "{'id': 1, 'name': 'Eda', 'surname': 'Wasserfall'}"
      ]
     },
     "execution_count": 206,
     "metadata": {},
     "output_type": "execute_result"
    }
   ],
   "source": [
    "d"
   ]
  },
  {
   "cell_type": "code",
   "execution_count": 207,
   "metadata": {},
   "outputs": [
    {
     "name": "stdout",
     "output_type": "stream",
     "text": [
      "{1, 2, 3, 4}\n",
      "{0, 'hello', '!', 'world'}\n",
      "set()\n",
      "{}\n"
     ]
    }
   ],
   "source": [
    "# Množiny\n",
    "s = {1, 2, 3, 4}\n",
    "print(s)\n",
    "\n",
    "# Prvky množiny mohou mít různý typ\n",
    "s2 = {\"hello\", \"world\", \"!\", 0}\n",
    "print(s2)\n",
    "\n",
    "# Prázdná množina\n",
    "s3 = set()\n",
    "print(s3)\n",
    "\n",
    "# Další prázdná množina\n",
    "s4 = {}\n",
    "print(s4)"
   ]
  },
  {
   "cell_type": "code",
   "execution_count": 208,
   "metadata": {},
   "outputs": [
    {
     "name": "stdout",
     "output_type": "stream",
     "text": [
      "{1}\n",
      "{1, 2}\n",
      "{1, 2, 3, 4, 5}\n"
     ]
    }
   ],
   "source": [
    "# Přidání jednoho prvku do množiny\n",
    "s3.add(1)\n",
    "print(s3)\n",
    "\n",
    "s3.add(2)\n",
    "print(s3)\n",
    "\n",
    "# Přidání více prvků do množiny\n",
    "s3.update([3, 4, 5])\n",
    "print(s3)"
   ]
  },
  {
   "cell_type": "code",
   "execution_count": 104,
   "metadata": {},
   "outputs": [
    {
     "name": "stdout",
     "output_type": "stream",
     "text": [
      "{1, 2, 3, 4, 5}\n"
     ]
    }
   ],
   "source": [
    "s3.add(4)\n",
    "print(s3)"
   ]
  },
  {
   "cell_type": "code",
   "execution_count": 209,
   "metadata": {},
   "outputs": [
    {
     "name": "stdout",
     "output_type": "stream",
     "text": [
      "{1, 2, 3, 4}\n",
      "{1, 3, 4}\n",
      "{1, 3, 4}\n",
      "{1, 4}\n"
     ]
    },
    {
     "ename": "KeyError",
     "evalue": "1000",
     "output_type": "error",
     "traceback": [
      "\u001b[0;31m---------------------------------------------------------------------------\u001b[0m",
      "\u001b[0;31mKeyError\u001b[0m                                  Traceback (most recent call last)",
      "\u001b[0;32m<ipython-input-209-6ada9311b781>\u001b[0m in \u001b[0;36m<module>\u001b[0;34m\u001b[0m\n\u001b[1;32m     14\u001b[0m \u001b[0mprint\u001b[0m\u001b[0;34m(\u001b[0m\u001b[0ms1\u001b[0m\u001b[0;34m)\u001b[0m\u001b[0;34m\u001b[0m\u001b[0;34m\u001b[0m\u001b[0m\n\u001b[1;32m     15\u001b[0m \u001b[0;34m\u001b[0m\u001b[0m\n\u001b[0;32m---> 16\u001b[0;31m \u001b[0ms1\u001b[0m\u001b[0;34m.\u001b[0m\u001b[0mremove\u001b[0m\u001b[0;34m(\u001b[0m\u001b[0;36m1000\u001b[0m\u001b[0;34m)\u001b[0m\u001b[0;34m\u001b[0m\u001b[0;34m\u001b[0m\u001b[0m\n\u001b[0m\u001b[1;32m     17\u001b[0m \u001b[0mprint\u001b[0m\u001b[0;34m(\u001b[0m\u001b[0ms1\u001b[0m\u001b[0;34m)\u001b[0m\u001b[0;34m\u001b[0m\u001b[0;34m\u001b[0m\u001b[0m\n",
      "\u001b[0;31mKeyError\u001b[0m: 1000"
     ]
    }
   ],
   "source": [
    "# Odebrání prvku z množiny\n",
    "s1 = {1, 2, 3, 4}\n",
    "print(s1)\n",
    "\n",
    "# Nezpůsobí chybu\n",
    "s1.discard(2)\n",
    "print(s1)\n",
    "\n",
    "s1.discard(1000)\n",
    "print(s1)\n",
    "\n",
    "# Může způsobit chybu\n",
    "s1.remove(3)\n",
    "print(s1)\n",
    "\n",
    "s1.remove(1000)\n",
    "print(s1)"
   ]
  },
  {
   "cell_type": "code",
   "execution_count": 210,
   "metadata": {},
   "outputs": [
    {
     "name": "stdout",
     "output_type": "stream",
     "text": [
      "{1, 2, 3, 4}\n",
      "True\n",
      "False\n"
     ]
    }
   ],
   "source": [
    "# Test, jestli prvek leží v množině\n",
    "s1 = {1,2,3,4}\n",
    "print(s1)\n",
    "\n",
    "print(2 in s1)\n",
    "print(1000 in s1)"
   ]
  },
  {
   "cell_type": "code",
   "execution_count": 211,
   "metadata": {},
   "outputs": [
    {
     "name": "stdout",
     "output_type": "stream",
     "text": [
      "False\n",
      "True\n"
     ]
    }
   ],
   "source": [
    "# Logická negace operátoru \"in\"\n",
    "print(2 not in s1)\n",
    "print(1000 not in s1)"
   ]
  },
  {
   "cell_type": "code",
   "execution_count": 212,
   "metadata": {},
   "outputs": [
    {
     "name": "stdout",
     "output_type": "stream",
     "text": [
      "{1, 2, 3, 4}\n",
      "{3, 4, 5, 6}\n",
      "{1, 2, 3, 4, 5, 6}\n",
      "{3, 4}\n",
      "{1, 2}\n",
      "{5, 6}\n",
      "{1, 2, 5, 6}\n"
     ]
    }
   ],
   "source": [
    "# Základní množinové operace\n",
    "s1 = {1, 2, 3, 4}\n",
    "s2 = {3, 4, 5, 6}\n",
    "\n",
    "print(s1)\n",
    "print(s2)\n",
    "\n",
    "# Sjednocení, průnik, rozdíl, symetrická diference\n",
    "print(s1 | s2)\n",
    "print(s1 & s2)\n",
    "print(s1 - s2)\n",
    "print(s2 - s1)\n",
    "print(s1 ^ s2)"
   ]
  },
  {
   "cell_type": "code",
   "execution_count": 1,
   "metadata": {},
   "outputs": [
    {
     "data": {
      "text/plain": [
       "3.3333333333333335"
      ]
     },
     "execution_count": 1,
     "metadata": {},
     "output_type": "execute_result"
    }
   ],
   "source": [
    "10/3"
   ]
  },
  {
   "cell_type": "code",
   "execution_count": 2,
   "metadata": {},
   "outputs": [
    {
     "data": {
      "text/plain": [
       "3"
      ]
     },
     "execution_count": 2,
     "metadata": {},
     "output_type": "execute_result"
    }
   ],
   "source": [
    "10//3"
   ]
  },
  {
   "cell_type": "code",
   "execution_count": 213,
   "metadata": {},
   "outputs": [
    {
     "data": {
      "text/plain": [
       "1"
      ]
     },
     "execution_count": 213,
     "metadata": {},
     "output_type": "execute_result"
    }
   ],
   "source": [
    "# Zbytek po dělení\n",
    "10%3"
   ]
  },
  {
   "cell_type": "code",
   "execution_count": 214,
   "metadata": {},
   "outputs": [
    {
     "data": {
      "text/plain": [
       "1000"
      ]
     },
     "execution_count": 214,
     "metadata": {},
     "output_type": "execute_result"
    }
   ],
   "source": [
    "# 10^3\n",
    "10**3"
   ]
  },
  {
   "cell_type": "code",
   "execution_count": 215,
   "metadata": {},
   "outputs": [
    {
     "ename": "SyntaxError",
     "evalue": "invalid syntax (<ipython-input-215-8cc881bffe46>, line 2)",
     "output_type": "error",
     "traceback": [
      "\u001b[0;36m  File \u001b[0;32m\"<ipython-input-215-8cc881bffe46>\"\u001b[0;36m, line \u001b[0;32m2\u001b[0m\n\u001b[0;31m    1<>2\u001b[0m\n\u001b[0m      ^\u001b[0m\n\u001b[0;31mSyntaxError\u001b[0m\u001b[0;31m:\u001b[0m invalid syntax\n"
     ]
    }
   ],
   "source": [
    "# Původní zápis operátoru pro nerovnost\n",
    "1<>2"
   ]
  },
  {
   "cell_type": "code",
   "execution_count": 216,
   "metadata": {},
   "outputs": [
    {
     "data": {
      "text/plain": [
       "True"
      ]
     },
     "execution_count": 216,
     "metadata": {},
     "output_type": "execute_result"
    }
   ],
   "source": [
    "# Nový zápis operátoru pro nerovnost\n",
    "1!=2"
   ]
  },
  {
   "cell_type": "code",
   "execution_count": 7,
   "metadata": {},
   "outputs": [
    {
     "data": {
      "text/plain": [
       "True"
      ]
     },
     "execution_count": 7,
     "metadata": {},
     "output_type": "execute_result"
    }
   ],
   "source": [
    "# Spojení více podmínek pomocí logického operátoru and\n",
    "x = 20\n",
    "x > 0 and x < 100"
   ]
  },
  {
   "cell_type": "code",
   "execution_count": 217,
   "metadata": {},
   "outputs": [
    {
     "data": {
      "text/plain": [
       "False"
      ]
     },
     "execution_count": 217,
     "metadata": {},
     "output_type": "execute_result"
    }
   ],
   "source": [
    "# Spojení více podmínek pomocí logického operátoru or\n",
    "x == 0 or x == 1"
   ]
  },
  {
   "cell_type": "code",
   "execution_count": 218,
   "metadata": {},
   "outputs": [
    {
     "data": {
      "text/plain": [
       "True"
      ]
     },
     "execution_count": 218,
     "metadata": {},
     "output_type": "execute_result"
    }
   ],
   "source": [
    "# Negace podmínky pomocí logického operátoru not\n",
    "not x == 0 or x == 1"
   ]
  },
  {
   "cell_type": "code",
   "execution_count": 220,
   "metadata": {},
   "outputs": [],
   "source": [
    "# Zkrácený zápis operace A = A operator B na A operator= B\n",
    "x = 10"
   ]
  },
  {
   "cell_type": "code",
   "execution_count": 14,
   "metadata": {},
   "outputs": [],
   "source": [
    "x += 1      # x = x + 1"
   ]
  },
  {
   "cell_type": "code",
   "execution_count": 16,
   "metadata": {},
   "outputs": [
    {
     "data": {
      "text/plain": [
       "12"
      ]
     },
     "execution_count": 16,
     "metadata": {},
     "output_type": "execute_result"
    }
   ],
   "source": [
    "x"
   ]
  },
  {
   "cell_type": "code",
   "execution_count": 17,
   "metadata": {},
   "outputs": [],
   "source": [
    "x /= 2      # x = x / 2"
   ]
  },
  {
   "cell_type": "code",
   "execution_count": 18,
   "metadata": {},
   "outputs": [
    {
     "data": {
      "text/plain": [
       "6.0"
      ]
     },
     "execution_count": 18,
     "metadata": {},
     "output_type": "execute_result"
    }
   ],
   "source": [
    "x"
   ]
  },
  {
   "cell_type": "code",
   "execution_count": 19,
   "metadata": {},
   "outputs": [],
   "source": [
    "x *= 100"
   ]
  },
  {
   "cell_type": "code",
   "execution_count": 20,
   "metadata": {},
   "outputs": [
    {
     "data": {
      "text/plain": [
       "600.0"
      ]
     },
     "execution_count": 20,
     "metadata": {},
     "output_type": "execute_result"
    }
   ],
   "source": [
    "x"
   ]
  },
  {
   "cell_type": "code",
   "execution_count": 21,
   "metadata": {},
   "outputs": [
    {
     "name": "stdout",
     "output_type": "stream",
     "text": [
      "600.0\n"
     ]
    }
   ],
   "source": [
    "print(x)"
   ]
  },
  {
   "cell_type": "code",
   "execution_count": 22,
   "metadata": {},
   "outputs": [
    {
     "data": {
      "text/plain": [
       "5.0"
      ]
     },
     "execution_count": 22,
     "metadata": {},
     "output_type": "execute_result"
    }
   ],
   "source": [
    "x = 10\n",
    "x / 2"
   ]
  },
  {
   "cell_type": "code",
   "execution_count": 23,
   "metadata": {},
   "outputs": [
    {
     "data": {
      "text/plain": [
       "5"
      ]
     },
     "execution_count": 23,
     "metadata": {},
     "output_type": "execute_result"
    }
   ],
   "source": [
    "x = 10\n",
    "x // 2"
   ]
  },
  {
   "cell_type": "code",
   "execution_count": 24,
   "metadata": {},
   "outputs": [],
   "source": [
    "x = x / 2\n",
    "x = int(x)"
   ]
  },
  {
   "cell_type": "code",
   "execution_count": 25,
   "metadata": {},
   "outputs": [
    {
     "data": {
      "text/plain": [
       "5"
      ]
     },
     "execution_count": 25,
     "metadata": {},
     "output_type": "execute_result"
    }
   ],
   "source": [
    "x"
   ]
  },
  {
   "cell_type": "code",
   "execution_count": 221,
   "metadata": {},
   "outputs": [
    {
     "ename": "SyntaxError",
     "evalue": "Missing parentheses in call to 'print'. Did you mean print(1)? (<ipython-input-221-1c7ccec2b9c9>, line 2)",
     "output_type": "error",
     "traceback": [
      "\u001b[0;36m  File \u001b[0;32m\"<ipython-input-221-1c7ccec2b9c9>\"\u001b[0;36m, line \u001b[0;32m2\u001b[0m\n\u001b[0;31m    print 1\u001b[0m\n\u001b[0m          ^\u001b[0m\n\u001b[0;31mSyntaxError\u001b[0m\u001b[0;31m:\u001b[0m Missing parentheses in call to 'print'. Did you mean print(1)?\n"
     ]
    }
   ],
   "source": [
    "# Původní zápis příkazu print v Pythonu 2 (už není dále podporován)\n",
    "print 1"
   ]
  },
  {
   "cell_type": "code",
   "execution_count": 27,
   "metadata": {},
   "outputs": [],
   "source": [
    "x = 10"
   ]
  },
  {
   "cell_type": "code",
   "execution_count": 222,
   "metadata": {},
   "outputs": [
    {
     "data": {
      "text/plain": [
       "int"
      ]
     },
     "execution_count": 222,
     "metadata": {},
     "output_type": "execute_result"
    }
   ],
   "source": [
    "# Zjištění typu hodnoty\n",
    "type(x)"
   ]
  },
  {
   "cell_type": "code",
   "execution_count": 223,
   "metadata": {},
   "outputs": [
    {
     "data": {
      "text/plain": [
       "float"
      ]
     },
     "execution_count": 223,
     "metadata": {},
     "output_type": "execute_result"
    }
   ],
   "source": [
    "# Po dělení je výsledek typu float\n",
    "x = x / 2\n",
    "type(x)"
   ]
  },
  {
   "cell_type": "code",
   "execution_count": 32,
   "metadata": {},
   "outputs": [
    {
     "data": {
      "text/plain": [
       "4.5"
      ]
     },
     "execution_count": 32,
     "metadata": {},
     "output_type": "execute_result"
    }
   ],
   "source": [
    "x = 9\n",
    "x /= 2\n",
    "x"
   ]
  },
  {
   "cell_type": "code",
   "execution_count": 224,
   "metadata": {},
   "outputs": [
    {
     "data": {
      "text/plain": [
       "True"
      ]
     },
     "execution_count": 224,
     "metadata": {},
     "output_type": "execute_result"
    }
   ],
   "source": [
    "# Základní použití operátoru is\n",
    "x is x"
   ]
  },
  {
   "cell_type": "code",
   "execution_count": 225,
   "metadata": {},
   "outputs": [
    {
     "data": {
      "text/plain": [
       "'   3.33'"
      ]
     },
     "execution_count": 225,
     "metadata": {},
     "output_type": "execute_result"
    }
   ],
   "source": [
    "# Naformátování výsledku: 7 znaků, z toho 2 za desetinnou tečkou, číslo doplněno mezerami zleva\n",
    "\"{:7.2f}\".format(10.0/3)"
   ]
  },
  {
   "cell_type": "code",
   "execution_count": 226,
   "metadata": {},
   "outputs": [
    {
     "data": {
      "text/plain": [
       "'0003.33'"
      ]
     },
     "execution_count": 226,
     "metadata": {},
     "output_type": "execute_result"
    }
   ],
   "source": [
    "# Naformátování výsledku: 7 znaků, z toho 2 za desetinnou tečkou, číslo doplněno nulami zlevo\n",
    "\"{:07.2f}\".format(10.0/3)"
   ]
  },
  {
   "cell_type": "code",
   "execution_count": 227,
   "metadata": {},
   "outputs": [
    {
     "data": {
      "text/plain": [
       "7"
      ]
     },
     "execution_count": 227,
     "metadata": {},
     "output_type": "execute_result"
    }
   ],
   "source": [
    "# Priority operátorů + a *\n",
    "1 + 2 * 3"
   ]
  },
  {
   "cell_type": "code",
   "execution_count": 228,
   "metadata": {},
   "outputs": [
    {
     "data": {
      "text/plain": [
       "-4"
      ]
     },
     "execution_count": 228,
     "metadata": {},
     "output_type": "execute_result"
    }
   ],
   "source": [
    "# Unární operátor -\n",
    "-4"
   ]
  },
  {
   "cell_type": "code",
   "execution_count": 229,
   "metadata": {},
   "outputs": [
    {
     "data": {
      "text/plain": [
       "False"
      ]
     },
     "execution_count": 229,
     "metadata": {},
     "output_type": "execute_result"
    }
   ],
   "source": [
    "# Priority operátorů\n",
    "1 + x * 2 > 10 and y < 3 + 2 * x"
   ]
  },
  {
   "cell_type": "code",
   "execution_count": 230,
   "metadata": {},
   "outputs": [
    {
     "data": {
      "text/plain": [
       "False"
      ]
     },
     "execution_count": 230,
     "metadata": {},
     "output_type": "execute_result"
    }
   ],
   "source": [
    "# Explicitní zápis priorit\n",
    "((1+(x*2)) > 10) and (y < (3 + (2*x)))"
   ]
  },
  {
   "cell_type": "code",
   "execution_count": 50,
   "metadata": {},
   "outputs": [
    {
     "data": {
      "text/plain": [
       "4.5"
      ]
     },
     "execution_count": 50,
     "metadata": {},
     "output_type": "execute_result"
    }
   ],
   "source": [
    "x"
   ]
  },
  {
   "cell_type": "code",
   "execution_count": 231,
   "metadata": {},
   "outputs": [
    {
     "name": "stdout",
     "output_type": "stream",
     "text": [
      "x je kladne cislo\n",
      "pokračujeme\n"
     ]
    }
   ],
   "source": [
    "# Jednoduché větvení typu if (neúplná větev)\n",
    "x = 10\n",
    "if x > 0:\n",
    "    print(\"x je kladne cislo\")\n",
    "\n",
    "print(\"pokračujeme\")"
   ]
  },
  {
   "cell_type": "code",
   "execution_count": 232,
   "metadata": {},
   "outputs": [
    {
     "name": "stdout",
     "output_type": "stream",
     "text": [
      "x je záporné číslo nebo nula\n",
      "=================\n",
      "pokračujeme\n"
     ]
    }
   ],
   "source": [
    "# Úplné větvení typu if\n",
    "x = -10\n",
    "if x > 0:\n",
    "    print(\"x je kladné číslo\")\n",
    "    print(\"-----------------\")\n",
    "else:\n",
    "    print(\"x je záporné číslo nebo nula\")\n",
    "    print(\"=================\")\n",
    "\n",
    "print(\"pokračujeme\")"
   ]
  },
  {
   "cell_type": "code",
   "execution_count": 63,
   "metadata": {},
   "outputs": [
    {
     "name": "stdout",
     "output_type": "stream",
     "text": [
      "x je kladné číslo\n",
      "-----------------\n",
      "pokračujeme\n"
     ]
    }
   ],
   "source": [
    "# Vnořené větve if-else\n",
    "x = 10\n",
    "if x > 0:\n",
    "    print(\"x je kladné číslo\")\n",
    "    print(\"-----------------\")\n",
    "else:\n",
    "    if x == 0:\n",
    "        print(\"x je nulové\")\n",
    "    else:\n",
    "        print(\"x je záporné číslo\")\n",
    "    print(\"=================\")\n",
    "\n",
    "print(\"pokračujeme\")"
   ]
  },
  {
   "cell_type": "code",
   "execution_count": 233,
   "metadata": {},
   "outputs": [
    {
     "name": "stdout",
     "output_type": "stream",
     "text": [
      "x je kladné číslo\n",
      "-----------------\n",
      "pokračujeme\n"
     ]
    }
   ],
   "source": [
    "# Vícenásobné větvení založené na if-elif-elif-elif-else\n",
    "x = 10\n",
    "if x > 0:\n",
    "    print(\"x je kladné číslo\")\n",
    "    print(\"-----------------\")\n",
    "elif x == 0:\n",
    "    print(\"x je nulové\")\n",
    "    print(\"=================\")\n",
    "else:\n",
    "    print(\"x je záporné číslo\")\n",
    "    print(\"=================\")\n",
    "\n",
    "print(\"pokračujeme\")"
   ]
  },
  {
   "cell_type": "code",
   "execution_count": 234,
   "metadata": {},
   "outputs": [
    {
     "name": "stdout",
     "output_type": "stream",
     "text": [
      "quit\n"
     ]
    }
   ],
   "source": [
    "# Vstup dat z klávesnice\n",
    "cmd = input()"
   ]
  },
  {
   "cell_type": "code",
   "execution_count": 66,
   "metadata": {},
   "outputs": [
    {
     "name": "stdout",
     "output_type": "stream",
     "text": [
      "unknown command!\n"
     ]
    }
   ],
   "source": [
    "# Rozhodovací konstrukce na základě vstupu z klávesnice\n",
    "if cmd == \"quit\":\n",
    "    print(\"konec\")\n",
    "elif cmd == \"new account\":\n",
    "    print(\"...\")\n",
    "elif cmd == \"delete account\":\n",
    "    print(\"...\")\n",
    "else:\n",
    "    print(\"unknown command!\")"
   ]
  },
  {
   "cell_type": "code",
   "execution_count": 235,
   "metadata": {},
   "outputs": [
    {
     "name": "stdout",
     "output_type": "stream",
     "text": [
      "1\n",
      "2\n",
      "3\n",
      "4\n",
      "5\n",
      "6\n",
      "7\n",
      "8\n",
      "9\n",
      "10\n"
     ]
    }
   ],
   "source": [
    "# Programová smyčka typu while s testem na začátku\n",
    "i = 1\n",
    "while i <= 10:\n",
    "    print(i)\n",
    "    i = i + 1"
   ]
  },
  {
   "cell_type": "code",
   "execution_count": 236,
   "metadata": {},
   "outputs": [
    {
     "name": "stdout",
     "output_type": "stream",
     "text": [
      "one\n",
      "two\n",
      "three\n",
      "four\n"
     ]
    }
   ],
   "source": [
    "# Průchod prvky seznamu ve smyčce for\n",
    "list = [\"one\", \"two\", \"three\", \"four\"]\n",
    "\n",
    "for item in list:\n",
    "    print(item)"
   ]
  },
  {
   "cell_type": "code",
   "execution_count": 237,
   "metadata": {},
   "outputs": [
    {
     "name": "stdout",
     "output_type": "stream",
     "text": [
      "one\n",
      "two\n",
      "NALEZENO\n",
      "three\n",
      "four\n"
     ]
    }
   ],
   "source": [
    "# Vyhledání určitého prvku ze seznamu\n",
    "list = [\"one\", \"two\", \"three\", \"four\"]\n",
    "\n",
    "for item in list:\n",
    "    if item == \"three\":\n",
    "        print(\"NALEZENO\")\n",
    "    print(item)"
   ]
  },
  {
   "cell_type": "code",
   "execution_count": 73,
   "metadata": {},
   "outputs": [
    {
     "data": {
      "text/plain": [
       "range(0, 10)"
      ]
     },
     "execution_count": 73,
     "metadata": {},
     "output_type": "execute_result"
    }
   ],
   "source": [
    "range(10)"
   ]
  },
  {
   "cell_type": "code",
   "execution_count": 238,
   "metadata": {},
   "outputs": [
    {
     "name": "stdout",
     "output_type": "stream",
     "text": [
      "0\n",
      "1\n",
      "2\n",
      "3\n",
      "4\n",
      "5\n",
      "6\n",
      "7\n",
      "8\n",
      "9\n"
     ]
    }
   ],
   "source": [
    "# Počitadlo smyčky vytvořené funkcí range()\n",
    "for i in range(10):\n",
    "    print(i)"
   ]
  },
  {
   "cell_type": "code",
   "execution_count": 239,
   "metadata": {},
   "outputs": [
    {
     "name": "stdout",
     "output_type": "stream",
     "text": [
      "5\n",
      "6\n",
      "7\n",
      "8\n",
      "9\n",
      "10\n",
      "11\n",
      "12\n",
      "13\n",
      "14\n",
      "15\n",
      "16\n",
      "17\n",
      "18\n",
      "19\n"
     ]
    }
   ],
   "source": [
    "# První a poslední hodnota počitadla (kromě)\n",
    "for i in range(5, 20):\n",
    "    print(i)"
   ]
  },
  {
   "cell_type": "code",
   "execution_count": 241,
   "metadata": {},
   "outputs": [
    {
     "name": "stdout",
     "output_type": "stream",
     "text": [
      "0\n",
      "5\n",
      "10\n",
      "15\n",
      "20\n",
      "25\n"
     ]
    }
   ],
   "source": [
    "# Specifikace kroku počitadla\n",
    "for i in range(0, 30, 5):\n",
    "    print(i)"
   ]
  },
  {
   "cell_type": "code",
   "execution_count": 242,
   "metadata": {},
   "outputs": [
    {
     "name": "stdout",
     "output_type": "stream",
     "text": [
      "10\n",
      "8\n",
      "6\n",
      "4\n",
      "2\n"
     ]
    }
   ],
   "source": [
    "# Záporný krok počitadla\n",
    "for i in range(10, 0, -2):\n",
    "    print(i)"
   ]
  },
  {
   "cell_type": "code",
   "execution_count": 243,
   "metadata": {},
   "outputs": [
    {
     "name": "stdout",
     "output_type": "stream",
     "text": [
      "2020 1100.0\n",
      "2021 1210.0\n",
      "2022 1331.0\n",
      "2023 1464.1000000000001\n",
      "2024 1610.5100000000002\n",
      "2025 1771.5610000000004\n",
      "2026 1948.7171000000005\n",
      "2027 2143.5888100000006\n",
      "2028 2357.9476910000008\n",
      "2029 2593.742460100001\n"
     ]
    }
   ],
   "source": [
    "# Výpočet složeného úroku\n",
    "r = 10\n",
    "z = 1000\n",
    "for i in range(0, 10):\n",
    "    z = z * (1 + r/100.0)\n",
    "    print(2020+i, z)"
   ]
  },
  {
   "cell_type": "code",
   "execution_count": 244,
   "metadata": {},
   "outputs": [
    {
     "name": "stdout",
     "output_type": "stream",
     "text": [
      "2020  1100.00\n",
      "2021  1210.00\n",
      "2022  1331.00\n",
      "2023  1464.10\n",
      "2024  1610.51\n",
      "2025  1771.56\n",
      "2026  1948.72\n",
      "2027  2143.59\n",
      "2028  2357.95\n",
      "2029  2593.74\n"
     ]
    }
   ],
   "source": [
    "# Výpočet složeného úroku + formátování tabulky s výsledky\n",
    "r = 10\n",
    "z = 1000\n",
    "for i in range(0, 10):\n",
    "    z = z * (1 + r/100.0)\n",
    "    print(\"{:4}  {:6.2f}\".format(2020+i, z))"
   ]
  },
  {
   "cell_type": "code",
   "execution_count": 246,
   "metadata": {},
   "outputs": [],
   "source": [
    "# Tělo smyčky se nemusí provést ani jednou\n",
    "for i in range(0, 10, -1):\n",
    "    print(i)"
   ]
  },
  {
   "cell_type": "code",
   "execution_count": 247,
   "metadata": {},
   "outputs": [
    {
     "name": "stdout",
     "output_type": "stream",
     "text": [
      "toto neni hledana hodnota: one\n",
      "toto neni hledana hodnota: two\n",
      "NALEZENO\n"
     ]
    }
   ],
   "source": [
    "# Ukončení smyčky po nalezení prvku\n",
    "list = [\"one\", \"two\", \"three\", \"four\"]\n",
    "\n",
    "for item in list:\n",
    "    # print(item)\n",
    "    if item == \"three\":\n",
    "        print(\"NALEZENO\")\n",
    "        break\n",
    "    else:\n",
    "        print(\"toto neni hledana hodnota:\", item)"
   ]
  },
  {
   "cell_type": "code",
   "execution_count": 248,
   "metadata": {},
   "outputs": [
    {
     "name": "stdout",
     "output_type": "stream",
     "text": [
      "2020  1100.00\n",
      "2021  1210.00\n",
      "2022  1331.00\n",
      "2023  1464.10\n",
      "2024  1610.51\n",
      "2025  1771.56\n",
      "2026  1948.72\n",
      "2027  2143.59\n",
      "to uz je hodne\n"
     ]
    }
   ],
   "source": [
    "# Ukončení smyčky po splnění zapsané podmínky\n",
    "r = 10\n",
    "z = 1000\n",
    "for i in range(0, 1000):\n",
    "    z = z * (1 + r/100.0)\n",
    "    print(\"{:4}  {:6.2f}\".format(2020+i, z))\n",
    "    if z > 2000:\n",
    "        print(\"to uz je hodne\")\n",
    "        break"
   ]
  },
  {
   "cell_type": "code",
   "execution_count": 249,
   "metadata": {},
   "outputs": [
    {
     "name": "stdout",
     "output_type": "stream",
     "text": [
      "128\n",
      "256\n",
      "512\n",
      "1024\n"
     ]
    }
   ],
   "source": [
    "# Konstrukce break a continue\n",
    "x = 1\n",
    "\n",
    "while True:\n",
    "    if x > 1000:\n",
    "        break\n",
    "    x *= 2\n",
    "    if x < 100:\n",
    "        continue\n",
    "    print(x)"
   ]
  },
  {
   "cell_type": "code",
   "execution_count": 250,
   "metadata": {},
   "outputs": [],
   "source": [
    "# Funkce se dvěma parametry\n",
    "def soucet(a, b):\n",
    "    vysledek = a + b\n",
    "    return vysledek"
   ]
  },
  {
   "cell_type": "code",
   "execution_count": 92,
   "metadata": {},
   "outputs": [
    {
     "data": {
      "text/plain": [
       "3"
      ]
     },
     "execution_count": 92,
     "metadata": {},
     "output_type": "execute_result"
    }
   ],
   "source": [
    "soucet(1, 2)"
   ]
  },
  {
   "cell_type": "code",
   "execution_count": 93,
   "metadata": {},
   "outputs": [
    {
     "ename": "NameError",
     "evalue": "name 'vysledek' is not defined",
     "output_type": "error",
     "traceback": [
      "\u001b[0;31m---------------------------------------------------------------------------\u001b[0m",
      "\u001b[0;31mNameError\u001b[0m                                 Traceback (most recent call last)",
      "\u001b[0;32m<ipython-input-93-58347df97f49>\u001b[0m in \u001b[0;36m<module>\u001b[0;34m\u001b[0m\n\u001b[0;32m----> 1\u001b[0;31m \u001b[0mvysledek\u001b[0m\u001b[0;34m\u001b[0m\u001b[0;34m\u001b[0m\u001b[0m\n\u001b[0m",
      "\u001b[0;31mNameError\u001b[0m: name 'vysledek' is not defined"
     ]
    }
   ],
   "source": [
    "vysledek"
   ]
  },
  {
   "cell_type": "code",
   "execution_count": 251,
   "metadata": {},
   "outputs": [],
   "source": [
    "# Funkce se třemi povinnými parametry\n",
    "def slozeny_urok(zaklad, urok, roky):\n",
    "    r = urok\n",
    "    z = zaklad\n",
    "    for i in range(0, roky):\n",
    "        z = z * (1 + r/100.0)\n",
    "    return z"
   ]
  },
  {
   "cell_type": "code",
   "execution_count": 95,
   "metadata": {},
   "outputs": [
    {
     "data": {
      "text/plain": [
       "1100.0"
      ]
     },
     "execution_count": 95,
     "metadata": {},
     "output_type": "execute_result"
    }
   ],
   "source": [
    "slozeny_urok(1000, 10, 1)"
   ]
  },
  {
   "cell_type": "code",
   "execution_count": 96,
   "metadata": {},
   "outputs": [
    {
     "data": {
      "text/plain": [
       "2593.742460100001"
      ]
     },
     "execution_count": 96,
     "metadata": {},
     "output_type": "execute_result"
    }
   ],
   "source": [
    "slozeny_urok(1000, 10, 10)"
   ]
  },
  {
   "cell_type": "code",
   "execution_count": 97,
   "metadata": {},
   "outputs": [
    {
     "name": "stdout",
     "output_type": "stream",
     "text": [
      "1051.0100501\n",
      "1104.0808032\n",
      "1159.2740743000002\n",
      "1216.6529024000004\n",
      "1276.2815625000003\n",
      "1338.2255776000004\n",
      "1402.5517307000005\n",
      "1469.3280768000004\n",
      "1538.6239549000006\n"
     ]
    }
   ],
   "source": [
    "for urok in range(1, 10):\n",
    "    print(slozeny_urok(1000, urok, 5))"
   ]
  },
  {
   "cell_type": "code",
   "execution_count": 252,
   "metadata": {},
   "outputs": [],
   "source": [
    "# Rekurzivní funkce\n",
    "def factorial(n):\n",
    "    if n <= 1:\n",
    "        return 1\n",
    "    else:\n",
    "        return n * factorial(n - 1)"
   ]
  },
  {
   "cell_type": "code",
   "execution_count": 100,
   "metadata": {},
   "outputs": [
    {
     "data": {
      "text/plain": [
       "93326215443944152681699238856266700490715968264381621468592963895217599993229915608941463976156518286253697920827223758251185210916864000000000000000000000000"
      ]
     },
     "execution_count": 100,
     "metadata": {},
     "output_type": "execute_result"
    }
   ],
   "source": [
    "factorial(100)"
   ]
  },
  {
   "cell_type": "code",
   "execution_count": 253,
   "metadata": {},
   "outputs": [],
   "source": [
    "# Funkce s nepovinným parametrem s implicitní hodnotou\n",
    "def slozeny_urok(zaklad, urok, roky=10):\n",
    "    r = urok\n",
    "    z = zaklad\n",
    "    for i in range(0, roky):\n",
    "        z = z * (1 + r/100.0)\n",
    "    return z"
   ]
  },
  {
   "cell_type": "code",
   "execution_count": 103,
   "metadata": {},
   "outputs": [
    {
     "data": {
      "text/plain": [
       "2593.742460100001"
      ]
     },
     "execution_count": 103,
     "metadata": {},
     "output_type": "execute_result"
    }
   ],
   "source": [
    "slozeny_urok(1000, 10)"
   ]
  },
  {
   "cell_type": "code",
   "execution_count": 104,
   "metadata": {},
   "outputs": [
    {
     "name": "stdout",
     "output_type": "stream",
     "text": [
      "1 2\n"
     ]
    }
   ],
   "source": [
    "print(1, 2)"
   ]
  },
  {
   "cell_type": "code",
   "execution_count": 105,
   "metadata": {},
   "outputs": [
    {
     "name": "stdout",
     "output_type": "stream",
     "text": [
      "1,2\n"
     ]
    }
   ],
   "source": [
    "print(1, 2, sep=\",\")"
   ]
  },
  {
   "cell_type": "code",
   "execution_count": 126,
   "metadata": {},
   "outputs": [],
   "source": [
    "# Dva povinné parametry následované libovolným počtem nepovinných parametrů\n",
    "def soucet(a, b, *dalsi):\n",
    "    vysledek = a + b\n",
    "    for hodnota in dalsi:\n",
    "        vysledek += hodnota\n",
    "    return vysledek"
   ]
  },
  {
   "cell_type": "code",
   "execution_count": 127,
   "metadata": {},
   "outputs": [],
   "source": [
    "# Funkce, která akceptuje libovolný počet parametrů\n",
    "def soucet(*dalsi):\n",
    "    vysledek = 0     #a + b\n",
    "    for hodnota in dalsi:\n",
    "        vysledek += hodnota\n",
    "    return vysledek"
   ]
  },
  {
   "cell_type": "code",
   "execution_count": 120,
   "metadata": {},
   "outputs": [
    {
     "data": {
      "text/plain": [
       "9"
      ]
     },
     "execution_count": 120,
     "metadata": {},
     "output_type": "execute_result"
    }
   ],
   "source": [
    "soucet(2, 3, 4)"
   ]
  },
  {
   "cell_type": "code",
   "execution_count": 254,
   "metadata": {},
   "outputs": [],
   "source": [
    "# Funkce akceptující libovolný počet pojmenovaných parametrů\n",
    "def delej(**parametry):\n",
    "    print(parametry)"
   ]
  },
  {
   "cell_type": "code",
   "execution_count": 125,
   "metadata": {},
   "outputs": [
    {
     "name": "stdout",
     "output_type": "stream",
     "text": [
      "{'x': 10, 'y': 20, 'z': 'ahoj'}\n"
     ]
    }
   ],
   "source": [
    "delej(x=10, y=20, z=\"ahoj\")"
   ]
  },
  {
   "cell_type": "code",
   "execution_count": 129,
   "metadata": {},
   "outputs": [
    {
     "name": "stdout",
     "output_type": "stream",
     "text": [
      "1\n",
      "1\n",
      "1\n",
      "3\n"
     ]
    }
   ],
   "source": [
    "# Lokální a globální proměnné\n",
    "x = 1\n",
    "\n",
    "def fn1():\n",
    "    pass\n",
    "\n",
    "\n",
    "def fn2():\n",
    "    x = 2\n",
    "\n",
    "\n",
    "def fn3():\n",
    "    global x\n",
    "    x = 3\n",
    "\n",
    "\n",
    "print(x)\n",
    "fn1()\n",
    "print(x)\n",
    "fn2()\n",
    "print(x)\n",
    "fn3()\n",
    "print(x)"
   ]
  },
  {
   "cell_type": "code",
   "execution_count": 27,
   "metadata": {},
   "outputs": [],
   "source": [
    "# Generátorová notace seznamu - nový seznam, jehož prvky mají oproti původnímu dvojnásobnou hodnotu\n",
    "seznam = [1, 2, 3, 4, 5, 6, 7, 8, 9, 10]\n",
    "\n",
    "seznam2 = [item*2 for item in seznam]"
   ]
  },
  {
   "cell_type": "code",
   "execution_count": 131,
   "metadata": {},
   "outputs": [
    {
     "data": {
      "text/plain": [
       "[1, 2, 3, 4, 5, 6, 7, 8, 9, 10]"
      ]
     },
     "execution_count": 131,
     "metadata": {},
     "output_type": "execute_result"
    }
   ],
   "source": [
    "seznam"
   ]
  },
  {
   "cell_type": "code",
   "execution_count": 132,
   "metadata": {},
   "outputs": [
    {
     "data": {
      "text/plain": [
       "[2, 4, 6, 8, 10, 12, 14, 16, 18, 20]"
      ]
     },
     "execution_count": 132,
     "metadata": {},
     "output_type": "execute_result"
    }
   ],
   "source": [
    "seznam2"
   ]
  },
  {
   "cell_type": "code",
   "execution_count": 138,
   "metadata": {},
   "outputs": [
    {
     "data": {
      "text/plain": [
       "[1.0,\n",
       " 0.5,\n",
       " 0.3333333333333333,\n",
       " 0.25,\n",
       " 0.2,\n",
       " 0.16666666666666666,\n",
       " 0.14285714285714285,\n",
       " 0.125,\n",
       " 0.1111111111111111,\n",
       " 0.1]"
      ]
     },
     "execution_count": 138,
     "metadata": {},
     "output_type": "execute_result"
    }
   ],
   "source": [
    "# Generátorová notace seznamu\n",
    "[1.0/item for item in seznam]"
   ]
  },
  {
   "cell_type": "code",
   "execution_count": 139,
   "metadata": {},
   "outputs": [
    {
     "data": {
      "text/plain": [
       "<generator object <genexpr> at 0x7fa6584f9740>"
      ]
     },
     "execution_count": 139,
     "metadata": {},
     "output_type": "execute_result"
    }
   ],
   "source": [
    "(1.0/item for item in seznam)"
   ]
  },
  {
   "cell_type": "code",
   "execution_count": 140,
   "metadata": {},
   "outputs": [
    {
     "data": {
      "text/plain": [
       "[3, 6, 9]"
      ]
     },
     "execution_count": 140,
     "metadata": {},
     "output_type": "execute_result"
    }
   ],
   "source": [
    "# Filtrace prvků splňujících zadanou podmínku\n",
    "[item for item in seznam if item % 3 == 0]"
   ]
  },
  {
   "cell_type": "code",
   "execution_count": 141,
   "metadata": {},
   "outputs": [
    {
     "data": {
      "text/plain": [
       "[6, 7, 8, 9, 10]"
      ]
     },
     "execution_count": 141,
     "metadata": {},
     "output_type": "execute_result"
    }
   ],
   "source": [
    "# Filtrace prvků splňujících zadanou podmínku\n",
    "[item for item in seznam if item > 5]"
   ]
  },
  {
   "cell_type": "code",
   "execution_count": 142,
   "metadata": {},
   "outputs": [
    {
     "data": {
      "text/plain": [
       "[2.5937424601000023,\n",
       " 5.187484920200005,\n",
       " 7.781227380300005,\n",
       " 10.37496984040001,\n",
       " 12.968712300500009,\n",
       " 15.56245476060001,\n",
       " 18.15619722070002,\n",
       " 20.74993968080002,\n",
       " 23.34368214090001,\n",
       " 25.937424601000018]"
      ]
     },
     "execution_count": 142,
     "metadata": {},
     "output_type": "execute_result"
    }
   ],
   "source": [
    "# Zkrácený zápis tabulky složených úroků\n",
    "[slozeny_urok(item, 10, 10) for item in seznam]"
   ]
  },
  {
   "cell_type": "code",
   "execution_count": 28,
   "metadata": {},
   "outputs": [
    {
     "data": {
      "text/plain": [
       "[2.5937424601000023,\n",
       " 5.187484920200005,\n",
       " 7.781227380300005,\n",
       " 10.37496984040001,\n",
       " 12.968712300500009,\n",
       " 15.56245476060001,\n",
       " 18.15619722070002,\n",
       " 20.74993968080002,\n",
       " 23.34368214090001,\n",
       " 25.937424601000018]"
      ]
     },
     "execution_count": 28,
     "metadata": {},
     "output_type": "execute_result"
    }
   ],
   "source": [
    "# Plný zápis výpočtu tabulky složených úroků\n",
    "vysledek = []\n",
    "for item in seznam:\n",
    "    vysledek.append(slozeny_urok(item, 10, 10))\n",
    "    \n",
    "vysledek"
   ]
  },
  {
   "cell_type": "markdown",
   "metadata": {},
   "source": [
    "## Druhý den"
   ]
  },
  {
   "cell_type": "markdown",
   "metadata": {},
   "source": [
    "### Moduly, popis standardní knihovny Pythonu: https://docs.python.org/3.7/library/index.html"
   ]
  },
  {
   "cell_type": "code",
   "execution_count": 2,
   "metadata": {},
   "outputs": [],
   "source": [
    "import math"
   ]
  },
  {
   "cell_type": "code",
   "execution_count": 3,
   "metadata": {},
   "outputs": [
    {
     "data": {
      "text/plain": [
       "3"
      ]
     },
     "execution_count": 3,
     "metadata": {},
     "output_type": "execute_result"
    }
   ],
   "source": [
    "math.floor(10/3)"
   ]
  },
  {
   "cell_type": "code",
   "execution_count": 4,
   "metadata": {},
   "outputs": [
    {
     "data": {
      "text/plain": [
       "4"
      ]
     },
     "execution_count": 4,
     "metadata": {},
     "output_type": "execute_result"
    }
   ],
   "source": [
    "math.ceil(10/3)"
   ]
  },
  {
   "cell_type": "code",
   "execution_count": 8,
   "metadata": {},
   "outputs": [
    {
     "data": {
      "text/plain": [
       "1.0"
      ]
     },
     "execution_count": 8,
     "metadata": {},
     "output_type": "execute_result"
    }
   ],
   "source": [
    "math.sin(math.pi/2)"
   ]
  },
  {
   "cell_type": "code",
   "execution_count": 10,
   "metadata": {},
   "outputs": [],
   "source": [
    "from math import floor"
   ]
  },
  {
   "cell_type": "code",
   "execution_count": 11,
   "metadata": {},
   "outputs": [
    {
     "data": {
      "text/plain": [
       "3"
      ]
     },
     "execution_count": 11,
     "metadata": {},
     "output_type": "execute_result"
    }
   ],
   "source": [
    "floor(10/3)"
   ]
  },
  {
   "cell_type": "code",
   "execution_count": 12,
   "metadata": {},
   "outputs": [],
   "source": [
    "from math import floor, ceil"
   ]
  },
  {
   "cell_type": "code",
   "execution_count": 13,
   "metadata": {},
   "outputs": [],
   "source": [
    "from math import *"
   ]
  },
  {
   "cell_type": "code",
   "execution_count": 25,
   "metadata": {},
   "outputs": [
    {
     "data": {
      "text/plain": [
       "1.0"
      ]
     },
     "execution_count": 25,
     "metadata": {},
     "output_type": "execute_result"
    }
   ],
   "source": [
    "sin(pi/2)"
   ]
  },
  {
   "cell_type": "code",
   "execution_count": 15,
   "metadata": {},
   "outputs": [],
   "source": [
    "import matplotlib as plt"
   ]
  },
  {
   "cell_type": "markdown",
   "metadata": {},
   "source": [
    "### Zobrazení nápovědy"
   ]
  },
  {
   "cell_type": "code",
   "execution_count": 29,
   "metadata": {},
   "outputs": [
    {
     "name": "stdout",
     "output_type": "stream",
     "text": [
      "Help on module math:\n",
      "\n",
      "NAME\n",
      "    math\n",
      "\n",
      "MODULE REFERENCE\n",
      "    https://docs.python.org/3.8/library/math\n",
      "    \n",
      "    The following documentation is automatically generated from the Python\n",
      "    source files.  It may be incomplete, incorrect or include features that\n",
      "    are considered implementation detail and may vary between Python\n",
      "    implementations.  When in doubt, consult the module reference at the\n",
      "    location listed above.\n",
      "\n",
      "DESCRIPTION\n",
      "    This module provides access to the mathematical functions\n",
      "    defined by the C standard.\n",
      "\n",
      "FUNCTIONS\n",
      "    acos(x, /)\n",
      "        Return the arc cosine (measured in radians) of x.\n",
      "    \n",
      "    acosh(x, /)\n",
      "        Return the inverse hyperbolic cosine of x.\n",
      "    \n",
      "    asin(x, /)\n",
      "        Return the arc sine (measured in radians) of x.\n",
      "    \n",
      "    asinh(x, /)\n",
      "        Return the inverse hyperbolic sine of x.\n",
      "    \n",
      "    atan(x, /)\n",
      "        Return the arc tangent (measured in radians) of x.\n",
      "    \n",
      "    atan2(y, x, /)\n",
      "        Return the arc tangent (measured in radians) of y/x.\n",
      "        \n",
      "        Unlike atan(y/x), the signs of both x and y are considered.\n",
      "    \n",
      "    atanh(x, /)\n",
      "        Return the inverse hyperbolic tangent of x.\n",
      "    \n",
      "    ceil(x, /)\n",
      "        Return the ceiling of x as an Integral.\n",
      "        \n",
      "        This is the smallest integer >= x.\n",
      "    \n",
      "    comb(n, k, /)\n",
      "        Number of ways to choose k items from n items without repetition and without order.\n",
      "        \n",
      "        Evaluates to n! / (k! * (n - k)!) when k <= n and evaluates\n",
      "        to zero when k > n.\n",
      "        \n",
      "        Also called the binomial coefficient because it is equivalent\n",
      "        to the coefficient of k-th term in polynomial expansion of the\n",
      "        expression (1 + x)**n.\n",
      "        \n",
      "        Raises TypeError if either of the arguments are not integers.\n",
      "        Raises ValueError if either of the arguments are negative.\n",
      "    \n",
      "    copysign(x, y, /)\n",
      "        Return a float with the magnitude (absolute value) of x but the sign of y.\n",
      "        \n",
      "        On platforms that support signed zeros, copysign(1.0, -0.0)\n",
      "        returns -1.0.\n",
      "    \n",
      "    cos(x, /)\n",
      "        Return the cosine of x (measured in radians).\n",
      "    \n",
      "    cosh(x, /)\n",
      "        Return the hyperbolic cosine of x.\n",
      "    \n",
      "    degrees(x, /)\n",
      "        Convert angle x from radians to degrees.\n",
      "    \n",
      "    dist(p, q, /)\n",
      "        Return the Euclidean distance between two points p and q.\n",
      "        \n",
      "        The points should be specified as sequences (or iterables) of\n",
      "        coordinates.  Both inputs must have the same dimension.\n",
      "        \n",
      "        Roughly equivalent to:\n",
      "            sqrt(sum((px - qx) ** 2.0 for px, qx in zip(p, q)))\n",
      "    \n",
      "    erf(x, /)\n",
      "        Error function at x.\n",
      "    \n",
      "    erfc(x, /)\n",
      "        Complementary error function at x.\n",
      "    \n",
      "    exp(x, /)\n",
      "        Return e raised to the power of x.\n",
      "    \n",
      "    expm1(x, /)\n",
      "        Return exp(x)-1.\n",
      "        \n",
      "        This function avoids the loss of precision involved in the direct evaluation of exp(x)-1 for small x.\n",
      "    \n",
      "    fabs(x, /)\n",
      "        Return the absolute value of the float x.\n",
      "    \n",
      "    factorial(x, /)\n",
      "        Find x!.\n",
      "        \n",
      "        Raise a ValueError if x is negative or non-integral.\n",
      "    \n",
      "    floor(x, /)\n",
      "        Return the floor of x as an Integral.\n",
      "        \n",
      "        This is the largest integer <= x.\n",
      "    \n",
      "    fmod(x, y, /)\n",
      "        Return fmod(x, y), according to platform C.\n",
      "        \n",
      "        x % y may differ.\n",
      "    \n",
      "    frexp(x, /)\n",
      "        Return the mantissa and exponent of x, as pair (m, e).\n",
      "        \n",
      "        m is a float and e is an int, such that x = m * 2.**e.\n",
      "        If x is 0, m and e are both 0.  Else 0.5 <= abs(m) < 1.0.\n",
      "    \n",
      "    fsum(seq, /)\n",
      "        Return an accurate floating point sum of values in the iterable seq.\n",
      "        \n",
      "        Assumes IEEE-754 floating point arithmetic.\n",
      "    \n",
      "    gamma(x, /)\n",
      "        Gamma function at x.\n",
      "    \n",
      "    gcd(x, y, /)\n",
      "        greatest common divisor of x and y\n",
      "    \n",
      "    hypot(...)\n",
      "        hypot(*coordinates) -> value\n",
      "        \n",
      "        Multidimensional Euclidean distance from the origin to a point.\n",
      "        \n",
      "        Roughly equivalent to:\n",
      "            sqrt(sum(x**2 for x in coordinates))\n",
      "        \n",
      "        For a two dimensional point (x, y), gives the hypotenuse\n",
      "        using the Pythagorean theorem:  sqrt(x*x + y*y).\n",
      "        \n",
      "        For example, the hypotenuse of a 3/4/5 right triangle is:\n",
      "        \n",
      "            >>> hypot(3.0, 4.0)\n",
      "            5.0\n",
      "    \n",
      "    isclose(a, b, *, rel_tol=1e-09, abs_tol=0.0)\n",
      "        Determine whether two floating point numbers are close in value.\n",
      "        \n",
      "          rel_tol\n",
      "            maximum difference for being considered \"close\", relative to the\n",
      "            magnitude of the input values\n",
      "          abs_tol\n",
      "            maximum difference for being considered \"close\", regardless of the\n",
      "            magnitude of the input values\n",
      "        \n",
      "        Return True if a is close in value to b, and False otherwise.\n",
      "        \n",
      "        For the values to be considered close, the difference between them\n",
      "        must be smaller than at least one of the tolerances.\n",
      "        \n",
      "        -inf, inf and NaN behave similarly to the IEEE 754 Standard.  That\n",
      "        is, NaN is not close to anything, even itself.  inf and -inf are\n",
      "        only close to themselves.\n",
      "    \n",
      "    isfinite(x, /)\n",
      "        Return True if x is neither an infinity nor a NaN, and False otherwise.\n",
      "    \n",
      "    isinf(x, /)\n",
      "        Return True if x is a positive or negative infinity, and False otherwise.\n",
      "    \n",
      "    isnan(x, /)\n",
      "        Return True if x is a NaN (not a number), and False otherwise.\n",
      "    \n",
      "    isqrt(n, /)\n",
      "        Return the integer part of the square root of the input.\n",
      "    \n",
      "    ldexp(x, i, /)\n",
      "        Return x * (2**i).\n",
      "        \n",
      "        This is essentially the inverse of frexp().\n",
      "    \n",
      "    lgamma(x, /)\n",
      "        Natural logarithm of absolute value of Gamma function at x.\n",
      "    \n",
      "    log(...)\n",
      "        log(x, [base=math.e])\n",
      "        Return the logarithm of x to the given base.\n",
      "        \n",
      "        If the base not specified, returns the natural logarithm (base e) of x.\n",
      "    \n",
      "    log10(x, /)\n",
      "        Return the base 10 logarithm of x.\n",
      "    \n",
      "    log1p(x, /)\n",
      "        Return the natural logarithm of 1+x (base e).\n",
      "        \n",
      "        The result is computed in a way which is accurate for x near zero.\n",
      "    \n",
      "    log2(x, /)\n",
      "        Return the base 2 logarithm of x.\n",
      "    \n",
      "    modf(x, /)\n",
      "        Return the fractional and integer parts of x.\n",
      "        \n",
      "        Both results carry the sign of x and are floats.\n",
      "    \n",
      "    perm(n, k=None, /)\n",
      "        Number of ways to choose k items from n items without repetition and with order.\n",
      "        \n",
      "        Evaluates to n! / (n - k)! when k <= n and evaluates\n",
      "        to zero when k > n.\n",
      "        \n",
      "        If k is not specified or is None, then k defaults to n\n",
      "        and the function returns n!.\n",
      "        \n",
      "        Raises TypeError if either of the arguments are not integers.\n",
      "        Raises ValueError if either of the arguments are negative.\n",
      "    \n",
      "    pow(x, y, /)\n",
      "        Return x**y (x to the power of y).\n",
      "    \n",
      "    prod(iterable, /, *, start=1)\n",
      "        Calculate the product of all the elements in the input iterable.\n",
      "        \n",
      "        The default start value for the product is 1.\n",
      "        \n",
      "        When the iterable is empty, return the start value.  This function is\n",
      "        intended specifically for use with numeric values and may reject\n",
      "        non-numeric types.\n",
      "    \n",
      "    radians(x, /)\n",
      "        Convert angle x from degrees to radians.\n",
      "    \n",
      "    remainder(x, y, /)\n",
      "        Difference between x and the closest integer multiple of y.\n",
      "        \n",
      "        Return x - n*y where n*y is the closest integer multiple of y.\n",
      "        In the case where x is exactly halfway between two multiples of\n",
      "        y, the nearest even value of n is used. The result is always exact.\n",
      "    \n",
      "    sin(x, /)\n",
      "        Return the sine of x (measured in radians).\n",
      "    \n",
      "    sinh(x, /)\n",
      "        Return the hyperbolic sine of x.\n",
      "    \n",
      "    sqrt(x, /)\n",
      "        Return the square root of x.\n",
      "    \n",
      "    tan(x, /)\n",
      "        Return the tangent of x (measured in radians).\n",
      "    \n",
      "    tanh(x, /)\n",
      "        Return the hyperbolic tangent of x.\n",
      "    \n",
      "    trunc(x, /)\n",
      "        Truncates the Real x to the nearest Integral toward 0.\n",
      "        \n",
      "        Uses the __trunc__ magic method.\n",
      "\n",
      "DATA\n",
      "    e = 2.718281828459045\n",
      "    inf = inf\n",
      "    nan = nan\n",
      "    pi = 3.141592653589793\n",
      "    tau = 6.283185307179586\n",
      "\n",
      "FILE\n",
      "    /usr/lib64/python3.8/lib-dynload/math.cpython-38-x86_64-linux-gnu.so\n",
      "\n",
      "\n"
     ]
    }
   ],
   "source": [
    "help(math)"
   ]
  },
  {
   "cell_type": "code",
   "execution_count": 17,
   "metadata": {},
   "outputs": [
    {
     "name": "stdout",
     "output_type": "stream",
     "text": [
      "Help on built-in function floor in module math:\n",
      "\n",
      "floor(x, /)\n",
      "    Return the floor of x as an Integral.\n",
      "    \n",
      "    This is the largest integer <= x.\n",
      "\n"
     ]
    }
   ],
   "source": [
    "help(math.floor)"
   ]
  },
  {
   "cell_type": "code",
   "execution_count": 18,
   "metadata": {},
   "outputs": [
    {
     "name": "stdout",
     "output_type": "stream",
     "text": [
      "Help on class range in module builtins:\n",
      "\n",
      "class range(object)\n",
      " |  range(stop) -> range object\n",
      " |  range(start, stop[, step]) -> range object\n",
      " |  \n",
      " |  Return an object that produces a sequence of integers from start (inclusive)\n",
      " |  to stop (exclusive) by step.  range(i, j) produces i, i+1, i+2, ..., j-1.\n",
      " |  start defaults to 0, and stop is omitted!  range(4) produces 0, 1, 2, 3.\n",
      " |  These are exactly the valid indices for a list of 4 elements.\n",
      " |  When step is given, it specifies the increment (or decrement).\n",
      " |  \n",
      " |  Methods defined here:\n",
      " |  \n",
      " |  __bool__(self, /)\n",
      " |      self != 0\n",
      " |  \n",
      " |  __contains__(self, key, /)\n",
      " |      Return key in self.\n",
      " |  \n",
      " |  __eq__(self, value, /)\n",
      " |      Return self==value.\n",
      " |  \n",
      " |  __ge__(self, value, /)\n",
      " |      Return self>=value.\n",
      " |  \n",
      " |  __getattribute__(self, name, /)\n",
      " |      Return getattr(self, name).\n",
      " |  \n",
      " |  __getitem__(self, key, /)\n",
      " |      Return self[key].\n",
      " |  \n",
      " |  __gt__(self, value, /)\n",
      " |      Return self>value.\n",
      " |  \n",
      " |  __hash__(self, /)\n",
      " |      Return hash(self).\n",
      " |  \n",
      " |  __iter__(self, /)\n",
      " |      Implement iter(self).\n",
      " |  \n",
      " |  __le__(self, value, /)\n",
      " |      Return self<=value.\n",
      " |  \n",
      " |  __len__(self, /)\n",
      " |      Return len(self).\n",
      " |  \n",
      " |  __lt__(self, value, /)\n",
      " |      Return self<value.\n",
      " |  \n",
      " |  __ne__(self, value, /)\n",
      " |      Return self!=value.\n",
      " |  \n",
      " |  __reduce__(...)\n",
      " |      Helper for pickle.\n",
      " |  \n",
      " |  __repr__(self, /)\n",
      " |      Return repr(self).\n",
      " |  \n",
      " |  __reversed__(...)\n",
      " |      Return a reverse iterator.\n",
      " |  \n",
      " |  count(...)\n",
      " |      rangeobject.count(value) -> integer -- return number of occurrences of value\n",
      " |  \n",
      " |  index(...)\n",
      " |      rangeobject.index(value) -> integer -- return index of value.\n",
      " |      Raise ValueError if the value is not present.\n",
      " |  \n",
      " |  ----------------------------------------------------------------------\n",
      " |  Static methods defined here:\n",
      " |  \n",
      " |  __new__(*args, **kwargs) from builtins.type\n",
      " |      Create and return a new object.  See help(type) for accurate signature.\n",
      " |  \n",
      " |  ----------------------------------------------------------------------\n",
      " |  Data descriptors defined here:\n",
      " |  \n",
      " |  start\n",
      " |  \n",
      " |  step\n",
      " |  \n",
      " |  stop\n",
      "\n"
     ]
    }
   ],
   "source": [
    "help(range)"
   ]
  },
  {
   "cell_type": "code",
   "execution_count": 23,
   "metadata": {},
   "outputs": [],
   "source": [
    "# Funkce s nepovinným parametrem s implicitní hodnotou\n",
    "def slozeny_urok(zaklad, urok, roky=10):\n",
    "    \"\"\"Výpočet složeného úroku ze zadaného základu a % p.a.\n",
    "    \n",
    "    Očekává tyto paramety:\n",
    "    - základ ....\n",
    "    \"\"\"\n",
    "    r = urok\n",
    "    z = zaklad\n",
    "    for i in range(0, roky):\n",
    "        z = z * (1 + r/100.0)\n",
    "    return z"
   ]
  },
  {
   "cell_type": "code",
   "execution_count": 24,
   "metadata": {},
   "outputs": [
    {
     "name": "stdout",
     "output_type": "stream",
     "text": [
      "Help on function slozeny_urok in module __main__:\n",
      "\n",
      "slozeny_urok(zaklad, urok, roky=10)\n",
      "    Výpočet složeného úroku ze zadaného základu a % p.a.\n",
      "    \n",
      "    Očekává tyto paramety:\n",
      "    - základ ....\n",
      "\n"
     ]
    }
   ],
   "source": [
    "help(slozeny_urok)"
   ]
  },
  {
   "cell_type": "markdown",
   "metadata": {},
   "source": [
    "## Základní práce se soubory"
   ]
  },
  {
   "cell_type": "markdown",
   "metadata": {},
   "source": [
    "### Open+write+close"
   ]
  },
  {
   "cell_type": "code",
   "execution_count": 30,
   "metadata": {},
   "outputs": [],
   "source": [
    "fout = open(\"hello.txt\", \"w\")\n",
    "fout.write(\"Hello World\")\n",
    "fout.close()"
   ]
  },
  {
   "cell_type": "markdown",
   "metadata": {},
   "source": [
    "### Open+read+close"
   ]
  },
  {
   "cell_type": "code",
   "execution_count": 31,
   "metadata": {},
   "outputs": [
    {
     "name": "stdout",
     "output_type": "stream",
     "text": [
      "Hello World\n"
     ]
    }
   ],
   "source": [
    "vstup = open(\"hello.txt\", \"r\")\n",
    "data = vstup.read()\n",
    "vstup.close()\n",
    "print(data)"
   ]
  },
  {
   "cell_type": "markdown",
   "metadata": {},
   "source": [
    "### Blok with a open+write a open+read"
   ]
  },
  {
   "cell_type": "code",
   "execution_count": null,
   "metadata": {},
   "outputs": [],
   "source": [
    "with open(\"hello2.txt\", \"w\") as vystup:\n",
    "    vystup.write(\"Hello world #2\")"
   ]
  },
  {
   "cell_type": "code",
   "execution_count": 34,
   "metadata": {},
   "outputs": [
    {
     "name": "stdout",
     "output_type": "stream",
     "text": [
      "Hello world #2\n"
     ]
    }
   ],
   "source": [
    "with open(\"hello2.txt\", \"r\") as vstup:\n",
    "    data = vstup.read()\n",
    "    print(data)"
   ]
  },
  {
   "cell_type": "code",
   "execution_count": 36,
   "metadata": {},
   "outputs": [],
   "source": [
    "with open(\"hello3.txt\", \"w\") as vystup:\n",
    "    vystup.write(\"abc\\n\")\n",
    "    vystup.write(\"def\\n\")\n",
    "    vystup.write(\"xyz\\n\")"
   ]
  },
  {
   "cell_type": "markdown",
   "metadata": {},
   "source": [
    "### Použití funkce print pro zápis dat do souboru"
   ]
  },
  {
   "cell_type": "code",
   "execution_count": 37,
   "metadata": {},
   "outputs": [
    {
     "name": "stdout",
     "output_type": "stream",
     "text": [
      "Help on built-in function print in module builtins:\n",
      "\n",
      "print(...)\n",
      "    print(value, ..., sep=' ', end='\\n', file=sys.stdout, flush=False)\n",
      "    \n",
      "    Prints the values to a stream, or to sys.stdout by default.\n",
      "    Optional keyword arguments:\n",
      "    file:  a file-like object (stream); defaults to the current sys.stdout.\n",
      "    sep:   string inserted between values, default a space.\n",
      "    end:   string appended after the last value, default a newline.\n",
      "    flush: whether to forcibly flush the stream.\n",
      "\n"
     ]
    }
   ],
   "source": [
    "help(print)"
   ]
  },
  {
   "cell_type": "code",
   "execution_count": 38,
   "metadata": {},
   "outputs": [],
   "source": [
    "with open(\"hello4.txt\", \"w\") as vystup:\n",
    "    print(\"abc\", file=vystup)\n",
    "    print(\"def\", file=vystup)\n",
    "    print(\"xyz\", file=vystup)"
   ]
  },
  {
   "cell_type": "code",
   "execution_count": 39,
   "metadata": {},
   "outputs": [
    {
     "name": "stdout",
     "output_type": "stream",
     "text": [
      "abc\n",
      "def\n",
      "xyz\n",
      "\n"
     ]
    }
   ],
   "source": [
    "with open(\"hello4.txt\", \"r\") as vstup:\n",
    "    data = vstup.read()\n",
    "    print(data)"
   ]
  },
  {
   "cell_type": "code",
   "execution_count": 40,
   "metadata": {},
   "outputs": [
    {
     "name": "stdout",
     "output_type": "stream",
     "text": [
      "abc\n",
      "\n",
      "def\n",
      "\n",
      "xyz\n",
      "\n"
     ]
    }
   ],
   "source": [
    "with open(\"hello4.txt\", \"r\") as vstup:\n",
    "    for radek in vstup:\n",
    "        print(radek)"
   ]
  },
  {
   "cell_type": "code",
   "execution_count": 41,
   "metadata": {},
   "outputs": [
    {
     "name": "stdout",
     "output_type": "stream",
     "text": [
      "abc\n",
      "def\n",
      "xyz\n"
     ]
    }
   ],
   "source": [
    "with open(\"hello4.txt\", \"r\") as vstup:\n",
    "    for radek in vstup:\n",
    "        print(radek.strip())"
   ]
  },
  {
   "cell_type": "markdown",
   "metadata": {},
   "source": [
    "### Formátování výstupu\n",
    "https://docs.python.org/3.7/library/string.html#formatspec"
   ]
  },
  {
   "cell_type": "code",
   "execution_count": 42,
   "metadata": {},
   "outputs": [
    {
     "name": "stdout",
     "output_type": "stream",
     "text": [
      "1 1.0\n",
      "2 0.5\n",
      "3 0.3333333333333333\n",
      "4 0.25\n",
      "5 0.2\n",
      "6 0.16666666666666666\n",
      "7 0.14285714285714285\n",
      "8 0.125\n",
      "9 0.1111111111111111\n",
      "10 0.1\n"
     ]
    }
   ],
   "source": [
    "for x in range(1, 11):\n",
    "    y = 1.0/x\n",
    "    print(x, y)"
   ]
  },
  {
   "cell_type": "code",
   "execution_count": 43,
   "metadata": {},
   "outputs": [
    {
     "name": "stdout",
     "output_type": "stream",
     "text": [
      "1/ 1 = 1.000\n",
      "1/ 2 = 0.500\n",
      "1/ 3 = 0.333\n",
      "1/ 4 = 0.250\n",
      "1/ 5 = 0.200\n",
      "1/ 6 = 0.167\n",
      "1/ 7 = 0.143\n",
      "1/ 8 = 0.125\n",
      "1/ 9 = 0.111\n",
      "1/10 = 0.100\n"
     ]
    }
   ],
   "source": [
    "for x in range(1, 11):\n",
    "    y = 1.0/x\n",
    "    print(\"1/{:2d} = {:5.3f}\".format(x, y))"
   ]
  },
  {
   "cell_type": "code",
   "execution_count": 44,
   "metadata": {},
   "outputs": [
    {
     "name": "stdout",
     "output_type": "stream",
     "text": [
      "1/001 = 1.000\n",
      "1/002 = 0.500\n",
      "1/003 = 0.333\n",
      "1/004 = 0.250\n",
      "1/005 = 0.200\n",
      "1/006 = 0.167\n",
      "1/007 = 0.143\n",
      "1/008 = 0.125\n",
      "1/009 = 0.111\n",
      "1/010 = 0.100\n"
     ]
    }
   ],
   "source": [
    "for x in range(1, 11):\n",
    "    y = 1.0/x\n",
    "    print(\"1/{:03d} = {:5.3f}\".format(x, y))"
   ]
  },
  {
   "cell_type": "code",
   "execution_count": 45,
   "metadata": {},
   "outputs": [
    {
     "name": "stdout",
     "output_type": "stream",
     "text": [
      "1/001 = 1.0000\n",
      "1/002 = 0.5000\n",
      "1/003 = 0.3333\n",
      "1/004 = 0.2500\n",
      "1/005 = 0.2000\n",
      "1/006 = 0.1667\n",
      "1/007 = 0.1429\n",
      "1/008 = 0.1250\n",
      "1/009 = 0.1111\n",
      "1/010 = 0.1000\n"
     ]
    }
   ],
   "source": [
    "for x in range(1, 11):\n",
    "    y = 1.0/x\n",
    "    print(\"1/{:03d} = {:6.4f}\".format(x, y))"
   ]
  },
  {
   "cell_type": "markdown",
   "metadata": {},
   "source": [
    "### Vytvoření souboru s tabulkou s výsledky"
   ]
  },
  {
   "cell_type": "code",
   "execution_count": 47,
   "metadata": {},
   "outputs": [],
   "source": [
    "with open(\"vysledky.txt\", \"w\") as vystup:\n",
    "    for x in range(1, 11):\n",
    "        y = 1.0/x\n",
    "        print(\"1/{:2d} = {:5.3f}\".format(x, y), file=vystup)"
   ]
  },
  {
   "cell_type": "code",
   "execution_count": 48,
   "metadata": {},
   "outputs": [],
   "source": [
    "import pandas"
   ]
  },
  {
   "cell_type": "code",
   "execution_count": 52,
   "metadata": {},
   "outputs": [],
   "source": [
    "tabulka = pandas.read_csv(\"data_update_2020.csv\", sep=\";\")"
   ]
  },
  {
   "cell_type": "code",
   "execution_count": 53,
   "metadata": {},
   "outputs": [
    {
     "data": {
      "text/html": [
       "<div>\n",
       "<style scoped>\n",
       "    .dataframe tbody tr th:only-of-type {\n",
       "        vertical-align: middle;\n",
       "    }\n",
       "\n",
       "    .dataframe tbody tr th {\n",
       "        vertical-align: top;\n",
       "    }\n",
       "\n",
       "    .dataframe thead th {\n",
       "        text-align: right;\n",
       "    }\n",
       "</style>\n",
       "<table border=\"1\" class=\"dataframe\">\n",
       "  <thead>\n",
       "    <tr style=\"text-align: right;\">\n",
       "      <th></th>\n",
       "      <th>ZUJ</th>\n",
       "      <th>IC</th>\n",
       "      <th>OBEC</th>\n",
       "      <th>IMC</th>\n",
       "      <th>period-f</th>\n",
       "      <th>period</th>\n",
       "      <th>avg-exp-pc</th>\n",
       "    </tr>\n",
       "  </thead>\n",
       "  <tbody>\n",
       "    <tr>\n",
       "      <th>0</th>\n",
       "      <td>593761</td>\n",
       "      <td>600130</td>\n",
       "      <td>Blanné</td>\n",
       "      <td>1</td>\n",
       "      <td>2010</td>\n",
       "      <td>0</td>\n",
       "      <td>750.3</td>\n",
       "    </tr>\n",
       "    <tr>\n",
       "      <th>1</th>\n",
       "      <td>593770</td>\n",
       "      <td>292516</td>\n",
       "      <td>Blížkovice</td>\n",
       "      <td>1</td>\n",
       "      <td>2010</td>\n",
       "      <td>0</td>\n",
       "      <td>486.6</td>\n",
       "    </tr>\n",
       "    <tr>\n",
       "      <th>2</th>\n",
       "      <td>593869</td>\n",
       "      <td>600245</td>\n",
       "      <td>Ctidružice</td>\n",
       "      <td>1</td>\n",
       "      <td>2010</td>\n",
       "      <td>0</td>\n",
       "      <td>442.6</td>\n",
       "    </tr>\n",
       "    <tr>\n",
       "      <th>3</th>\n",
       "      <td>594016</td>\n",
       "      <td>637386</td>\n",
       "      <td>Grešlové Mýto</td>\n",
       "      <td>1</td>\n",
       "      <td>2010</td>\n",
       "      <td>0</td>\n",
       "      <td>479.0</td>\n",
       "    </tr>\n",
       "    <tr>\n",
       "      <th>4</th>\n",
       "      <td>594121</td>\n",
       "      <td>292842</td>\n",
       "      <td>Hostim</td>\n",
       "      <td>1</td>\n",
       "      <td>2010</td>\n",
       "      <td>0</td>\n",
       "      <td>720.8</td>\n",
       "    </tr>\n",
       "    <tr>\n",
       "      <th>...</th>\n",
       "      <td>...</td>\n",
       "      <td>...</td>\n",
       "      <td>...</td>\n",
       "      <td>...</td>\n",
       "      <td>...</td>\n",
       "      <td>...</td>\n",
       "      <td>...</td>\n",
       "    </tr>\n",
       "    <tr>\n",
       "      <th>6635</th>\n",
       "      <td>596698</td>\n",
       "      <td>599794</td>\n",
       "      <td>Řikonín</td>\n",
       "      <td>0</td>\n",
       "      <td>2019</td>\n",
       "      <td>9</td>\n",
       "      <td>452.6</td>\n",
       "    </tr>\n",
       "    <tr>\n",
       "      <th>6636</th>\n",
       "      <td>596892</td>\n",
       "      <td>599883</td>\n",
       "      <td>Tišnovská Nová Ves</td>\n",
       "      <td>0</td>\n",
       "      <td>2019</td>\n",
       "      <td>9</td>\n",
       "      <td>711.2</td>\n",
       "    </tr>\n",
       "    <tr>\n",
       "      <th>6637</th>\n",
       "      <td>597104</td>\n",
       "      <td>599930</td>\n",
       "      <td>Vratislávka</td>\n",
       "      <td>0</td>\n",
       "      <td>2019</td>\n",
       "      <td>9</td>\n",
       "      <td>512.6</td>\n",
       "    </tr>\n",
       "    <tr>\n",
       "      <th>6638</th>\n",
       "      <td>597171</td>\n",
       "      <td>295833</td>\n",
       "      <td>Žďárec</td>\n",
       "      <td>0</td>\n",
       "      <td>2019</td>\n",
       "      <td>9</td>\n",
       "      <td>559.2</td>\n",
       "    </tr>\n",
       "    <tr>\n",
       "      <th>6639</th>\n",
       "      <td>584266</td>\n",
       "      <td>282952</td>\n",
       "      <td>Želešice</td>\n",
       "      <td>0</td>\n",
       "      <td>2019</td>\n",
       "      <td>9</td>\n",
       "      <td>427.6</td>\n",
       "    </tr>\n",
       "  </tbody>\n",
       "</table>\n",
       "<p>6640 rows × 7 columns</p>\n",
       "</div>"
      ],
      "text/plain": [
       "         ZUJ      IC                OBEC  IMC  period-f  period avg-exp-pc\n",
       "0     593761  600130              Blanné    1      2010       0      750.3\n",
       "1     593770  292516          Blížkovice    1      2010       0      486.6\n",
       "2     593869  600245          Ctidružice    1      2010       0      442.6\n",
       "3     594016  637386       Grešlové Mýto    1      2010       0      479.0\n",
       "4     594121  292842              Hostim    1      2010       0      720.8\n",
       "...      ...     ...                 ...  ...       ...     ...        ...\n",
       "6635  596698  599794             Řikonín    0      2019       9      452.6\n",
       "6636  596892  599883  Tišnovská Nová Ves    0      2019       9      711.2\n",
       "6637  597104  599930         Vratislávka    0      2019       9      512.6\n",
       "6638  597171  295833              Žďárec    0      2019       9      559.2\n",
       "6639  584266  282952            Želešice    0      2019       9      427.6\n",
       "\n",
       "[6640 rows x 7 columns]"
      ]
     },
     "execution_count": 53,
     "metadata": {},
     "output_type": "execute_result"
    }
   ],
   "source": [
    "tabulka"
   ]
  },
  {
   "cell_type": "code",
   "execution_count": 58,
   "metadata": {},
   "outputs": [
    {
     "name": "stdout",
     "output_type": "stream",
     "text": [
      "<class 'pandas.core.frame.DataFrame'>\n",
      "RangeIndex: 6640 entries, 0 to 6639\n",
      "Data columns (total 7 columns):\n",
      "ZUJ           6640 non-null int64\n",
      "IC            6640 non-null int64\n",
      "OBEC          6640 non-null object\n",
      "IMC           6640 non-null int64\n",
      "period-f      6640 non-null int64\n",
      "period        6640 non-null int64\n",
      "avg-exp-pc    6640 non-null object\n",
      "dtypes: int64(5), object(2)\n",
      "memory usage: 363.2+ KB\n"
     ]
    }
   ],
   "source": [
    "tabulka.info()"
   ]
  },
  {
   "cell_type": "code",
   "execution_count": 54,
   "metadata": {},
   "outputs": [
    {
     "data": {
      "text/html": [
       "<div>\n",
       "<style scoped>\n",
       "    .dataframe tbody tr th:only-of-type {\n",
       "        vertical-align: middle;\n",
       "    }\n",
       "\n",
       "    .dataframe tbody tr th {\n",
       "        vertical-align: top;\n",
       "    }\n",
       "\n",
       "    .dataframe thead th {\n",
       "        text-align: right;\n",
       "    }\n",
       "</style>\n",
       "<table border=\"1\" class=\"dataframe\">\n",
       "  <thead>\n",
       "    <tr style=\"text-align: right;\">\n",
       "      <th></th>\n",
       "      <th>ZUJ</th>\n",
       "      <th>IC</th>\n",
       "      <th>IMC</th>\n",
       "      <th>period-f</th>\n",
       "      <th>period</th>\n",
       "    </tr>\n",
       "  </thead>\n",
       "  <tbody>\n",
       "    <tr>\n",
       "      <th>count</th>\n",
       "      <td>6640.000000</td>\n",
       "      <td>6.640000e+03</td>\n",
       "      <td>6640.000000</td>\n",
       "      <td>6640.000000</td>\n",
       "      <td>6640.000000</td>\n",
       "    </tr>\n",
       "    <tr>\n",
       "      <th>mean</th>\n",
       "      <td>585270.756024</td>\n",
       "      <td>2.076825e+06</td>\n",
       "      <td>0.140060</td>\n",
       "      <td>2014.500000</td>\n",
       "      <td>4.500000</td>\n",
       "    </tr>\n",
       "    <tr>\n",
       "      <th>std</th>\n",
       "      <td>11211.246057</td>\n",
       "      <td>9.351306e+06</td>\n",
       "      <td>0.347076</td>\n",
       "      <td>2.872498</td>\n",
       "      <td>2.872498</td>\n",
       "    </tr>\n",
       "    <tr>\n",
       "      <th>min</th>\n",
       "      <td>506699.000000</td>\n",
       "      <td>4.218800e+04</td>\n",
       "      <td>0.000000</td>\n",
       "      <td>2010.000000</td>\n",
       "      <td>0.000000</td>\n",
       "    </tr>\n",
       "    <tr>\n",
       "      <th>25%</th>\n",
       "      <td>582919.000000</td>\n",
       "      <td>2.836878e+05</td>\n",
       "      <td>0.000000</td>\n",
       "      <td>2012.000000</td>\n",
       "      <td>2.000000</td>\n",
       "    </tr>\n",
       "    <tr>\n",
       "      <th>50%</th>\n",
       "      <td>584839.000000</td>\n",
       "      <td>3.654900e+05</td>\n",
       "      <td>0.000000</td>\n",
       "      <td>2014.500000</td>\n",
       "      <td>4.500000</td>\n",
       "    </tr>\n",
       "    <tr>\n",
       "      <th>75%</th>\n",
       "      <td>593615.000000</td>\n",
       "      <td>6.003280e+05</td>\n",
       "      <td>0.000000</td>\n",
       "      <td>2017.000000</td>\n",
       "      <td>7.000000</td>\n",
       "    </tr>\n",
       "    <tr>\n",
       "      <th>max</th>\n",
       "      <td>597171.000000</td>\n",
       "      <td>7.508213e+07</td>\n",
       "      <td>1.000000</td>\n",
       "      <td>2019.000000</td>\n",
       "      <td>9.000000</td>\n",
       "    </tr>\n",
       "  </tbody>\n",
       "</table>\n",
       "</div>"
      ],
      "text/plain": [
       "                 ZUJ            IC          IMC     period-f       period\n",
       "count    6640.000000  6.640000e+03  6640.000000  6640.000000  6640.000000\n",
       "mean   585270.756024  2.076825e+06     0.140060  2014.500000     4.500000\n",
       "std     11211.246057  9.351306e+06     0.347076     2.872498     2.872498\n",
       "min    506699.000000  4.218800e+04     0.000000  2010.000000     0.000000\n",
       "25%    582919.000000  2.836878e+05     0.000000  2012.000000     2.000000\n",
       "50%    584839.000000  3.654900e+05     0.000000  2014.500000     4.500000\n",
       "75%    593615.000000  6.003280e+05     0.000000  2017.000000     7.000000\n",
       "max    597171.000000  7.508213e+07     1.000000  2019.000000     9.000000"
      ]
     },
     "execution_count": 54,
     "metadata": {},
     "output_type": "execute_result"
    }
   ],
   "source": [
    "tabulka.describe()"
   ]
  },
  {
   "cell_type": "code",
   "execution_count": 55,
   "metadata": {},
   "outputs": [
    {
     "data": {
      "text/plain": [
       "0       600130\n",
       "1       292516\n",
       "2       600245\n",
       "3       637386\n",
       "4       292842\n",
       "         ...  \n",
       "6635    599794\n",
       "6636    599883\n",
       "6637    599930\n",
       "6638    295833\n",
       "6639    282952\n",
       "Name: IC, Length: 6640, dtype: int64"
      ]
     },
     "execution_count": 55,
     "metadata": {},
     "output_type": "execute_result"
    }
   ],
   "source": [
    "tabulka[\"IC\"]"
   ]
  },
  {
   "cell_type": "code",
   "execution_count": 56,
   "metadata": {},
   "outputs": [
    {
     "data": {
      "text/plain": [
       "283258"
      ]
     },
     "execution_count": 56,
     "metadata": {},
     "output_type": "execute_result"
    }
   ],
   "source": [
    "tabulka[\"IC\"][20]"
   ]
  },
  {
   "cell_type": "code",
   "execution_count": 62,
   "metadata": {},
   "outputs": [],
   "source": [
    "s = \"1 076.8\""
   ]
  },
  {
   "cell_type": "code",
   "execution_count": 64,
   "metadata": {},
   "outputs": [
    {
     "data": {
      "text/plain": [
       "'1076.8'"
      ]
     },
     "execution_count": 64,
     "metadata": {},
     "output_type": "execute_result"
    }
   ],
   "source": [
    "s.replace(\" \", \"\")"
   ]
  },
  {
   "cell_type": "code",
   "execution_count": 65,
   "metadata": {},
   "outputs": [
    {
     "data": {
      "text/html": [
       "<div>\n",
       "<style scoped>\n",
       "    .dataframe tbody tr th:only-of-type {\n",
       "        vertical-align: middle;\n",
       "    }\n",
       "\n",
       "    .dataframe tbody tr th {\n",
       "        vertical-align: top;\n",
       "    }\n",
       "\n",
       "    .dataframe thead th {\n",
       "        text-align: right;\n",
       "    }\n",
       "</style>\n",
       "<table border=\"1\" class=\"dataframe\">\n",
       "  <thead>\n",
       "    <tr style=\"text-align: right;\">\n",
       "      <th></th>\n",
       "      <th>ZUJ</th>\n",
       "      <th>IC</th>\n",
       "      <th>OBEC</th>\n",
       "      <th>IMC</th>\n",
       "      <th>period-f</th>\n",
       "      <th>period</th>\n",
       "      <th>avg-exp-pc</th>\n",
       "    </tr>\n",
       "  </thead>\n",
       "  <tbody>\n",
       "    <tr>\n",
       "      <th>0</th>\n",
       "      <td>593761</td>\n",
       "      <td>600130</td>\n",
       "      <td>Blanné</td>\n",
       "      <td>1</td>\n",
       "      <td>2010</td>\n",
       "      <td>0</td>\n",
       "      <td>750.3</td>\n",
       "    </tr>\n",
       "    <tr>\n",
       "      <th>1</th>\n",
       "      <td>593770</td>\n",
       "      <td>292516</td>\n",
       "      <td>Blížkovice</td>\n",
       "      <td>1</td>\n",
       "      <td>2010</td>\n",
       "      <td>0</td>\n",
       "      <td>486.6</td>\n",
       "    </tr>\n",
       "    <tr>\n",
       "      <th>2</th>\n",
       "      <td>593869</td>\n",
       "      <td>600245</td>\n",
       "      <td>Ctidružice</td>\n",
       "      <td>1</td>\n",
       "      <td>2010</td>\n",
       "      <td>0</td>\n",
       "      <td>442.6</td>\n",
       "    </tr>\n",
       "    <tr>\n",
       "      <th>3</th>\n",
       "      <td>594016</td>\n",
       "      <td>637386</td>\n",
       "      <td>Grešlové Mýto</td>\n",
       "      <td>1</td>\n",
       "      <td>2010</td>\n",
       "      <td>0</td>\n",
       "      <td>479.0</td>\n",
       "    </tr>\n",
       "    <tr>\n",
       "      <th>4</th>\n",
       "      <td>594121</td>\n",
       "      <td>292842</td>\n",
       "      <td>Hostim</td>\n",
       "      <td>1</td>\n",
       "      <td>2010</td>\n",
       "      <td>0</td>\n",
       "      <td>720.8</td>\n",
       "    </tr>\n",
       "    <tr>\n",
       "      <th>...</th>\n",
       "      <td>...</td>\n",
       "      <td>...</td>\n",
       "      <td>...</td>\n",
       "      <td>...</td>\n",
       "      <td>...</td>\n",
       "      <td>...</td>\n",
       "      <td>...</td>\n",
       "    </tr>\n",
       "    <tr>\n",
       "      <th>6635</th>\n",
       "      <td>596698</td>\n",
       "      <td>599794</td>\n",
       "      <td>Řikonín</td>\n",
       "      <td>0</td>\n",
       "      <td>2019</td>\n",
       "      <td>9</td>\n",
       "      <td>452.6</td>\n",
       "    </tr>\n",
       "    <tr>\n",
       "      <th>6636</th>\n",
       "      <td>596892</td>\n",
       "      <td>599883</td>\n",
       "      <td>Tišnovská Nová Ves</td>\n",
       "      <td>0</td>\n",
       "      <td>2019</td>\n",
       "      <td>9</td>\n",
       "      <td>711.2</td>\n",
       "    </tr>\n",
       "    <tr>\n",
       "      <th>6637</th>\n",
       "      <td>597104</td>\n",
       "      <td>599930</td>\n",
       "      <td>Vratislávka</td>\n",
       "      <td>0</td>\n",
       "      <td>2019</td>\n",
       "      <td>9</td>\n",
       "      <td>512.6</td>\n",
       "    </tr>\n",
       "    <tr>\n",
       "      <th>6638</th>\n",
       "      <td>597171</td>\n",
       "      <td>295833</td>\n",
       "      <td>Žďárec</td>\n",
       "      <td>0</td>\n",
       "      <td>2019</td>\n",
       "      <td>9</td>\n",
       "      <td>559.2</td>\n",
       "    </tr>\n",
       "    <tr>\n",
       "      <th>6639</th>\n",
       "      <td>584266</td>\n",
       "      <td>282952</td>\n",
       "      <td>Želešice</td>\n",
       "      <td>0</td>\n",
       "      <td>2019</td>\n",
       "      <td>9</td>\n",
       "      <td>427.6</td>\n",
       "    </tr>\n",
       "  </tbody>\n",
       "</table>\n",
       "<p>6640 rows × 7 columns</p>\n",
       "</div>"
      ],
      "text/plain": [
       "         ZUJ      IC                OBEC  IMC  period-f  period avg-exp-pc\n",
       "0     593761  600130              Blanné    1      2010       0      750.3\n",
       "1     593770  292516          Blížkovice    1      2010       0      486.6\n",
       "2     593869  600245          Ctidružice    1      2010       0      442.6\n",
       "3     594016  637386       Grešlové Mýto    1      2010       0      479.0\n",
       "4     594121  292842              Hostim    1      2010       0      720.8\n",
       "...      ...     ...                 ...  ...       ...     ...        ...\n",
       "6635  596698  599794             Řikonín    0      2019       9      452.6\n",
       "6636  596892  599883  Tišnovská Nová Ves    0      2019       9      711.2\n",
       "6637  597104  599930         Vratislávka    0      2019       9      512.6\n",
       "6638  597171  295833              Žďárec    0      2019       9      559.2\n",
       "6639  584266  282952            Želešice    0      2019       9      427.6\n",
       "\n",
       "[6640 rows x 7 columns]"
      ]
     },
     "execution_count": 65,
     "metadata": {},
     "output_type": "execute_result"
    }
   ],
   "source": [
    "tabulka"
   ]
  },
  {
   "cell_type": "code",
   "execution_count": 74,
   "metadata": {},
   "outputs": [],
   "source": [
    "# Vytvoření nového sloupce, hodnoty jsou získány ze sloupce \"avg-exp-pc\" a všechny mezery jsou vymazány\n",
    "tabulka[\"new-avg-exp-pc\"] = tabulka[\"avg-exp-pc\"].transform(lambda s:s.replace(\" \", \"\"))"
   ]
  },
  {
   "cell_type": "code",
   "execution_count": 76,
   "metadata": {},
   "outputs": [
    {
     "data": {
      "text/html": [
       "<div>\n",
       "<style scoped>\n",
       "    .dataframe tbody tr th:only-of-type {\n",
       "        vertical-align: middle;\n",
       "    }\n",
       "\n",
       "    .dataframe tbody tr th {\n",
       "        vertical-align: top;\n",
       "    }\n",
       "\n",
       "    .dataframe thead th {\n",
       "        text-align: right;\n",
       "    }\n",
       "</style>\n",
       "<table border=\"1\" class=\"dataframe\">\n",
       "  <thead>\n",
       "    <tr style=\"text-align: right;\">\n",
       "      <th></th>\n",
       "      <th>ZUJ</th>\n",
       "      <th>IC</th>\n",
       "      <th>OBEC</th>\n",
       "      <th>IMC</th>\n",
       "      <th>period-f</th>\n",
       "      <th>period</th>\n",
       "      <th>avg-exp-pc</th>\n",
       "      <th>new-avg-exp-pc</th>\n",
       "      <th>X</th>\n",
       "    </tr>\n",
       "  </thead>\n",
       "  <tbody>\n",
       "    <tr>\n",
       "      <th>0</th>\n",
       "      <td>593761</td>\n",
       "      <td>600130</td>\n",
       "      <td>Blanné</td>\n",
       "      <td>1</td>\n",
       "      <td>2010</td>\n",
       "      <td>0</td>\n",
       "      <td>750.3</td>\n",
       "      <td>750.3</td>\n",
       "      <td>750.3</td>\n",
       "    </tr>\n",
       "    <tr>\n",
       "      <th>1</th>\n",
       "      <td>593770</td>\n",
       "      <td>292516</td>\n",
       "      <td>Blížkovice</td>\n",
       "      <td>1</td>\n",
       "      <td>2010</td>\n",
       "      <td>0</td>\n",
       "      <td>486.6</td>\n",
       "      <td>486.6</td>\n",
       "      <td>486.6</td>\n",
       "    </tr>\n",
       "    <tr>\n",
       "      <th>2</th>\n",
       "      <td>593869</td>\n",
       "      <td>600245</td>\n",
       "      <td>Ctidružice</td>\n",
       "      <td>1</td>\n",
       "      <td>2010</td>\n",
       "      <td>0</td>\n",
       "      <td>442.6</td>\n",
       "      <td>442.6</td>\n",
       "      <td>442.6</td>\n",
       "    </tr>\n",
       "    <tr>\n",
       "      <th>3</th>\n",
       "      <td>594016</td>\n",
       "      <td>637386</td>\n",
       "      <td>Grešlové Mýto</td>\n",
       "      <td>1</td>\n",
       "      <td>2010</td>\n",
       "      <td>0</td>\n",
       "      <td>479.0</td>\n",
       "      <td>479.0</td>\n",
       "      <td>479.0</td>\n",
       "    </tr>\n",
       "    <tr>\n",
       "      <th>4</th>\n",
       "      <td>594121</td>\n",
       "      <td>292842</td>\n",
       "      <td>Hostim</td>\n",
       "      <td>1</td>\n",
       "      <td>2010</td>\n",
       "      <td>0</td>\n",
       "      <td>720.8</td>\n",
       "      <td>720.8</td>\n",
       "      <td>720.8</td>\n",
       "    </tr>\n",
       "    <tr>\n",
       "      <th>...</th>\n",
       "      <td>...</td>\n",
       "      <td>...</td>\n",
       "      <td>...</td>\n",
       "      <td>...</td>\n",
       "      <td>...</td>\n",
       "      <td>...</td>\n",
       "      <td>...</td>\n",
       "      <td>...</td>\n",
       "      <td>...</td>\n",
       "    </tr>\n",
       "    <tr>\n",
       "      <th>6635</th>\n",
       "      <td>596698</td>\n",
       "      <td>599794</td>\n",
       "      <td>Řikonín</td>\n",
       "      <td>0</td>\n",
       "      <td>2019</td>\n",
       "      <td>9</td>\n",
       "      <td>452.6</td>\n",
       "      <td>452.6</td>\n",
       "      <td>452.6</td>\n",
       "    </tr>\n",
       "    <tr>\n",
       "      <th>6636</th>\n",
       "      <td>596892</td>\n",
       "      <td>599883</td>\n",
       "      <td>Tišnovská Nová Ves</td>\n",
       "      <td>0</td>\n",
       "      <td>2019</td>\n",
       "      <td>9</td>\n",
       "      <td>711.2</td>\n",
       "      <td>711.2</td>\n",
       "      <td>711.2</td>\n",
       "    </tr>\n",
       "    <tr>\n",
       "      <th>6637</th>\n",
       "      <td>597104</td>\n",
       "      <td>599930</td>\n",
       "      <td>Vratislávka</td>\n",
       "      <td>0</td>\n",
       "      <td>2019</td>\n",
       "      <td>9</td>\n",
       "      <td>512.6</td>\n",
       "      <td>512.6</td>\n",
       "      <td>512.6</td>\n",
       "    </tr>\n",
       "    <tr>\n",
       "      <th>6638</th>\n",
       "      <td>597171</td>\n",
       "      <td>295833</td>\n",
       "      <td>Žďárec</td>\n",
       "      <td>0</td>\n",
       "      <td>2019</td>\n",
       "      <td>9</td>\n",
       "      <td>559.2</td>\n",
       "      <td>559.2</td>\n",
       "      <td>559.2</td>\n",
       "    </tr>\n",
       "    <tr>\n",
       "      <th>6639</th>\n",
       "      <td>584266</td>\n",
       "      <td>282952</td>\n",
       "      <td>Želešice</td>\n",
       "      <td>0</td>\n",
       "      <td>2019</td>\n",
       "      <td>9</td>\n",
       "      <td>427.6</td>\n",
       "      <td>427.6</td>\n",
       "      <td>427.6</td>\n",
       "    </tr>\n",
       "  </tbody>\n",
       "</table>\n",
       "<p>6640 rows × 9 columns</p>\n",
       "</div>"
      ],
      "text/plain": [
       "         ZUJ      IC                OBEC  IMC  period-f  period avg-exp-pc  \\\n",
       "0     593761  600130              Blanné    1      2010       0      750.3   \n",
       "1     593770  292516          Blížkovice    1      2010       0      486.6   \n",
       "2     593869  600245          Ctidružice    1      2010       0      442.6   \n",
       "3     594016  637386       Grešlové Mýto    1      2010       0      479.0   \n",
       "4     594121  292842              Hostim    1      2010       0      720.8   \n",
       "...      ...     ...                 ...  ...       ...     ...        ...   \n",
       "6635  596698  599794             Řikonín    0      2019       9      452.6   \n",
       "6636  596892  599883  Tišnovská Nová Ves    0      2019       9      711.2   \n",
       "6637  597104  599930         Vratislávka    0      2019       9      512.6   \n",
       "6638  597171  295833              Žďárec    0      2019       9      559.2   \n",
       "6639  584266  282952            Želešice    0      2019       9      427.6   \n",
       "\n",
       "     new-avg-exp-pc      X  \n",
       "0             750.3  750.3  \n",
       "1             486.6  486.6  \n",
       "2             442.6  442.6  \n",
       "3             479.0  479.0  \n",
       "4             720.8  720.8  \n",
       "...             ...    ...  \n",
       "6635          452.6  452.6  \n",
       "6636          711.2  711.2  \n",
       "6637          512.6  512.6  \n",
       "6638          559.2  559.2  \n",
       "6639          427.6  427.6  \n",
       "\n",
       "[6640 rows x 9 columns]"
      ]
     },
     "execution_count": 76,
     "metadata": {},
     "output_type": "execute_result"
    }
   ],
   "source": [
    "tabulka"
   ]
  },
  {
   "cell_type": "code",
   "execution_count": 77,
   "metadata": {},
   "outputs": [
    {
     "name": "stdout",
     "output_type": "stream",
     "text": [
      "<class 'pandas.core.frame.DataFrame'>\n",
      "RangeIndex: 6640 entries, 0 to 6639\n",
      "Data columns (total 9 columns):\n",
      "ZUJ               6640 non-null int64\n",
      "IC                6640 non-null int64\n",
      "OBEC              6640 non-null object\n",
      "IMC               6640 non-null int64\n",
      "period-f          6640 non-null int64\n",
      "period            6640 non-null int64\n",
      "avg-exp-pc        6640 non-null object\n",
      "new-avg-exp-pc    6640 non-null object\n",
      "X                 6640 non-null float64\n",
      "dtypes: float64(1), int64(5), object(3)\n",
      "memory usage: 467.0+ KB\n"
     ]
    }
   ],
   "source": [
    "tabulka.info()"
   ]
  },
  {
   "cell_type": "code",
   "execution_count": 78,
   "metadata": {},
   "outputs": [],
   "source": [
    "# Nový sloupec X, s hodnotami ze sloupce new-avg-exp-pc převedenými na číslo\n",
    "\n",
    "tabulka['X'] = pandas.to_numeric(tabulka['new-avg-exp-pc'])"
   ]
  },
  {
   "cell_type": "code",
   "execution_count": 71,
   "metadata": {},
   "outputs": [
    {
     "data": {
      "text/html": [
       "<div>\n",
       "<style scoped>\n",
       "    .dataframe tbody tr th:only-of-type {\n",
       "        vertical-align: middle;\n",
       "    }\n",
       "\n",
       "    .dataframe tbody tr th {\n",
       "        vertical-align: top;\n",
       "    }\n",
       "\n",
       "    .dataframe thead th {\n",
       "        text-align: right;\n",
       "    }\n",
       "</style>\n",
       "<table border=\"1\" class=\"dataframe\">\n",
       "  <thead>\n",
       "    <tr style=\"text-align: right;\">\n",
       "      <th></th>\n",
       "      <th>ZUJ</th>\n",
       "      <th>IC</th>\n",
       "      <th>OBEC</th>\n",
       "      <th>IMC</th>\n",
       "      <th>period-f</th>\n",
       "      <th>period</th>\n",
       "      <th>avg-exp-pc</th>\n",
       "      <th>new-avg-exp-pc</th>\n",
       "      <th>X</th>\n",
       "    </tr>\n",
       "  </thead>\n",
       "  <tbody>\n",
       "    <tr>\n",
       "      <th>0</th>\n",
       "      <td>593761</td>\n",
       "      <td>600130</td>\n",
       "      <td>Blanné</td>\n",
       "      <td>1</td>\n",
       "      <td>2010</td>\n",
       "      <td>0</td>\n",
       "      <td>750.3</td>\n",
       "      <td>750.3</td>\n",
       "      <td>750.3</td>\n",
       "    </tr>\n",
       "    <tr>\n",
       "      <th>1</th>\n",
       "      <td>593770</td>\n",
       "      <td>292516</td>\n",
       "      <td>Blížkovice</td>\n",
       "      <td>1</td>\n",
       "      <td>2010</td>\n",
       "      <td>0</td>\n",
       "      <td>486.6</td>\n",
       "      <td>486.6</td>\n",
       "      <td>486.6</td>\n",
       "    </tr>\n",
       "    <tr>\n",
       "      <th>2</th>\n",
       "      <td>593869</td>\n",
       "      <td>600245</td>\n",
       "      <td>Ctidružice</td>\n",
       "      <td>1</td>\n",
       "      <td>2010</td>\n",
       "      <td>0</td>\n",
       "      <td>442.6</td>\n",
       "      <td>442.6</td>\n",
       "      <td>442.6</td>\n",
       "    </tr>\n",
       "    <tr>\n",
       "      <th>3</th>\n",
       "      <td>594016</td>\n",
       "      <td>637386</td>\n",
       "      <td>Grešlové Mýto</td>\n",
       "      <td>1</td>\n",
       "      <td>2010</td>\n",
       "      <td>0</td>\n",
       "      <td>479.0</td>\n",
       "      <td>479.0</td>\n",
       "      <td>479.0</td>\n",
       "    </tr>\n",
       "    <tr>\n",
       "      <th>4</th>\n",
       "      <td>594121</td>\n",
       "      <td>292842</td>\n",
       "      <td>Hostim</td>\n",
       "      <td>1</td>\n",
       "      <td>2010</td>\n",
       "      <td>0</td>\n",
       "      <td>720.8</td>\n",
       "      <td>720.8</td>\n",
       "      <td>720.8</td>\n",
       "    </tr>\n",
       "    <tr>\n",
       "      <th>...</th>\n",
       "      <td>...</td>\n",
       "      <td>...</td>\n",
       "      <td>...</td>\n",
       "      <td>...</td>\n",
       "      <td>...</td>\n",
       "      <td>...</td>\n",
       "      <td>...</td>\n",
       "      <td>...</td>\n",
       "      <td>...</td>\n",
       "    </tr>\n",
       "    <tr>\n",
       "      <th>6635</th>\n",
       "      <td>596698</td>\n",
       "      <td>599794</td>\n",
       "      <td>Řikonín</td>\n",
       "      <td>0</td>\n",
       "      <td>2019</td>\n",
       "      <td>9</td>\n",
       "      <td>452.6</td>\n",
       "      <td>452.6</td>\n",
       "      <td>452.6</td>\n",
       "    </tr>\n",
       "    <tr>\n",
       "      <th>6636</th>\n",
       "      <td>596892</td>\n",
       "      <td>599883</td>\n",
       "      <td>Tišnovská Nová Ves</td>\n",
       "      <td>0</td>\n",
       "      <td>2019</td>\n",
       "      <td>9</td>\n",
       "      <td>711.2</td>\n",
       "      <td>711.2</td>\n",
       "      <td>711.2</td>\n",
       "    </tr>\n",
       "    <tr>\n",
       "      <th>6637</th>\n",
       "      <td>597104</td>\n",
       "      <td>599930</td>\n",
       "      <td>Vratislávka</td>\n",
       "      <td>0</td>\n",
       "      <td>2019</td>\n",
       "      <td>9</td>\n",
       "      <td>512.6</td>\n",
       "      <td>512.6</td>\n",
       "      <td>512.6</td>\n",
       "    </tr>\n",
       "    <tr>\n",
       "      <th>6638</th>\n",
       "      <td>597171</td>\n",
       "      <td>295833</td>\n",
       "      <td>Žďárec</td>\n",
       "      <td>0</td>\n",
       "      <td>2019</td>\n",
       "      <td>9</td>\n",
       "      <td>559.2</td>\n",
       "      <td>559.2</td>\n",
       "      <td>559.2</td>\n",
       "    </tr>\n",
       "    <tr>\n",
       "      <th>6639</th>\n",
       "      <td>584266</td>\n",
       "      <td>282952</td>\n",
       "      <td>Želešice</td>\n",
       "      <td>0</td>\n",
       "      <td>2019</td>\n",
       "      <td>9</td>\n",
       "      <td>427.6</td>\n",
       "      <td>427.6</td>\n",
       "      <td>427.6</td>\n",
       "    </tr>\n",
       "  </tbody>\n",
       "</table>\n",
       "<p>6640 rows × 9 columns</p>\n",
       "</div>"
      ],
      "text/plain": [
       "         ZUJ      IC                OBEC  IMC  period-f  period avg-exp-pc  \\\n",
       "0     593761  600130              Blanné    1      2010       0      750.3   \n",
       "1     593770  292516          Blížkovice    1      2010       0      486.6   \n",
       "2     593869  600245          Ctidružice    1      2010       0      442.6   \n",
       "3     594016  637386       Grešlové Mýto    1      2010       0      479.0   \n",
       "4     594121  292842              Hostim    1      2010       0      720.8   \n",
       "...      ...     ...                 ...  ...       ...     ...        ...   \n",
       "6635  596698  599794             Řikonín    0      2019       9      452.6   \n",
       "6636  596892  599883  Tišnovská Nová Ves    0      2019       9      711.2   \n",
       "6637  597104  599930         Vratislávka    0      2019       9      512.6   \n",
       "6638  597171  295833              Žďárec    0      2019       9      559.2   \n",
       "6639  584266  282952            Želešice    0      2019       9      427.6   \n",
       "\n",
       "     new-avg-exp-pc      X  \n",
       "0             750.3  750.3  \n",
       "1             486.6  486.6  \n",
       "2             442.6  442.6  \n",
       "3             479.0  479.0  \n",
       "4             720.8  720.8  \n",
       "...             ...    ...  \n",
       "6635          452.6  452.6  \n",
       "6636          711.2  711.2  \n",
       "6637          512.6  512.6  \n",
       "6638          559.2  559.2  \n",
       "6639          427.6  427.6  \n",
       "\n",
       "[6640 rows x 9 columns]"
      ]
     },
     "execution_count": 71,
     "metadata": {},
     "output_type": "execute_result"
    }
   ],
   "source": [
    "tabulka"
   ]
  },
  {
   "cell_type": "code",
   "execution_count": 72,
   "metadata": {},
   "outputs": [
    {
     "data": {
      "text/html": [
       "<div>\n",
       "<style scoped>\n",
       "    .dataframe tbody tr th:only-of-type {\n",
       "        vertical-align: middle;\n",
       "    }\n",
       "\n",
       "    .dataframe tbody tr th {\n",
       "        vertical-align: top;\n",
       "    }\n",
       "\n",
       "    .dataframe thead th {\n",
       "        text-align: right;\n",
       "    }\n",
       "</style>\n",
       "<table border=\"1\" class=\"dataframe\">\n",
       "  <thead>\n",
       "    <tr style=\"text-align: right;\">\n",
       "      <th></th>\n",
       "      <th>ZUJ</th>\n",
       "      <th>IC</th>\n",
       "      <th>IMC</th>\n",
       "      <th>period-f</th>\n",
       "      <th>period</th>\n",
       "      <th>X</th>\n",
       "    </tr>\n",
       "  </thead>\n",
       "  <tbody>\n",
       "    <tr>\n",
       "      <th>count</th>\n",
       "      <td>6640.000000</td>\n",
       "      <td>6.640000e+03</td>\n",
       "      <td>6640.000000</td>\n",
       "      <td>6640.000000</td>\n",
       "      <td>6640.000000</td>\n",
       "      <td>6640.000000</td>\n",
       "    </tr>\n",
       "    <tr>\n",
       "      <th>mean</th>\n",
       "      <td>585270.756024</td>\n",
       "      <td>2.076825e+06</td>\n",
       "      <td>0.140060</td>\n",
       "      <td>2014.500000</td>\n",
       "      <td>4.500000</td>\n",
       "      <td>622.893961</td>\n",
       "    </tr>\n",
       "    <tr>\n",
       "      <th>std</th>\n",
       "      <td>11211.246057</td>\n",
       "      <td>9.351306e+06</td>\n",
       "      <td>0.347076</td>\n",
       "      <td>2.872498</td>\n",
       "      <td>2.872498</td>\n",
       "      <td>316.551147</td>\n",
       "    </tr>\n",
       "    <tr>\n",
       "      <th>min</th>\n",
       "      <td>506699.000000</td>\n",
       "      <td>4.218800e+04</td>\n",
       "      <td>0.000000</td>\n",
       "      <td>2010.000000</td>\n",
       "      <td>0.000000</td>\n",
       "      <td>66.000000</td>\n",
       "    </tr>\n",
       "    <tr>\n",
       "      <th>25%</th>\n",
       "      <td>582919.000000</td>\n",
       "      <td>2.836878e+05</td>\n",
       "      <td>0.000000</td>\n",
       "      <td>2012.000000</td>\n",
       "      <td>2.000000</td>\n",
       "      <td>465.475000</td>\n",
       "    </tr>\n",
       "    <tr>\n",
       "      <th>50%</th>\n",
       "      <td>584839.000000</td>\n",
       "      <td>3.654900e+05</td>\n",
       "      <td>0.000000</td>\n",
       "      <td>2014.500000</td>\n",
       "      <td>4.500000</td>\n",
       "      <td>564.300000</td>\n",
       "    </tr>\n",
       "    <tr>\n",
       "      <th>75%</th>\n",
       "      <td>593615.000000</td>\n",
       "      <td>6.003280e+05</td>\n",
       "      <td>0.000000</td>\n",
       "      <td>2017.000000</td>\n",
       "      <td>7.000000</td>\n",
       "      <td>687.575000</td>\n",
       "    </tr>\n",
       "    <tr>\n",
       "      <th>max</th>\n",
       "      <td>597171.000000</td>\n",
       "      <td>7.508213e+07</td>\n",
       "      <td>1.000000</td>\n",
       "      <td>2019.000000</td>\n",
       "      <td>9.000000</td>\n",
       "      <td>7734.500000</td>\n",
       "    </tr>\n",
       "  </tbody>\n",
       "</table>\n",
       "</div>"
      ],
      "text/plain": [
       "                 ZUJ            IC          IMC     period-f       period  \\\n",
       "count    6640.000000  6.640000e+03  6640.000000  6640.000000  6640.000000   \n",
       "mean   585270.756024  2.076825e+06     0.140060  2014.500000     4.500000   \n",
       "std     11211.246057  9.351306e+06     0.347076     2.872498     2.872498   \n",
       "min    506699.000000  4.218800e+04     0.000000  2010.000000     0.000000   \n",
       "25%    582919.000000  2.836878e+05     0.000000  2012.000000     2.000000   \n",
       "50%    584839.000000  3.654900e+05     0.000000  2014.500000     4.500000   \n",
       "75%    593615.000000  6.003280e+05     0.000000  2017.000000     7.000000   \n",
       "max    597171.000000  7.508213e+07     1.000000  2019.000000     9.000000   \n",
       "\n",
       "                 X  \n",
       "count  6640.000000  \n",
       "mean    622.893961  \n",
       "std     316.551147  \n",
       "min      66.000000  \n",
       "25%     465.475000  \n",
       "50%     564.300000  \n",
       "75%     687.575000  \n",
       "max    7734.500000  "
      ]
     },
     "execution_count": 72,
     "metadata": {},
     "output_type": "execute_result"
    }
   ],
   "source": [
    "tabulka.describe()"
   ]
  },
  {
   "cell_type": "code",
   "execution_count": 80,
   "metadata": {},
   "outputs": [],
   "source": [
    "import matplotlib.pyplot as plt"
   ]
  },
  {
   "cell_type": "code",
   "execution_count": 81,
   "metadata": {},
   "outputs": [
    {
     "data": {
      "text/plain": [
       "[<matplotlib.lines.Line2D at 0x7fa90064ae80>]"
      ]
     },
     "execution_count": 81,
     "metadata": {},
     "output_type": "execute_result"
    },
    {
     "data": {
      "image/png": "[encoded data removed]",
      "text/plain": [
       "<Figure size 432x288 with 1 Axes>"
      ]
     },
     "metadata": {
      "needs_background": "light"
     },
     "output_type": "display_data"
    }
   ],
   "source": [
    "plt.plot(tabulka[\"X\"])"
   ]
  },
  {
   "cell_type": "code",
   "execution_count": 82,
   "metadata": {},
   "outputs": [
    {
     "name": "stdout",
     "output_type": "stream",
     "text": [
      "Help on function read_excel in module pandas.io.excel._base:\n",
      "\n",
      "read_excel(io, sheet_name=0, header=0, names=None, index_col=None, usecols=None, squeeze=False, dtype=None, engine=None, converters=None, true_values=None, false_values=None, skiprows=None, nrows=None, na_values=None, keep_default_na=True, verbose=False, parse_dates=False, date_parser=None, thousands=None, comment=None, skip_footer=0, skipfooter=0, convert_float=True, mangle_dupe_cols=True, **kwds)\n",
      "    Read an Excel file into a pandas DataFrame.\n",
      "    \n",
      "    Support both `xls` and `xlsx` file extensions from a local filesystem or URL.\n",
      "    Support an option to read a single sheet or a list of sheets.\n",
      "    \n",
      "    Parameters\n",
      "    ----------\n",
      "    io : str, ExcelFile, xlrd.Book, path object or file-like object\n",
      "        Any valid string path is acceptable. The string could be a URL. Valid\n",
      "        URL schemes include http, ftp, s3, and file. For file URLs, a host is\n",
      "        expected. A local file could be: ``file://localhost/path/to/table.xlsx``.\n",
      "    \n",
      "        If you want to pass in a path object, pandas accepts any ``os.PathLike``.\n",
      "    \n",
      "        By file-like object, we refer to objects with a ``read()`` method,\n",
      "        such as a file handler (e.g. via builtin ``open`` function)\n",
      "        or ``StringIO``.\n",
      "    sheet_name : str, int, list, or None, default 0\n",
      "        Strings are used for sheet names. Integers are used in zero-indexed\n",
      "        sheet positions. Lists of strings/integers are used to request\n",
      "        multiple sheets. Specify None to get all sheets.\n",
      "    \n",
      "        Available cases:\n",
      "    \n",
      "        * Defaults to ``0``: 1st sheet as a `DataFrame`\n",
      "        * ``1``: 2nd sheet as a `DataFrame`\n",
      "        * ``\"Sheet1\"``: Load sheet with name \"Sheet1\"\n",
      "        * ``[0, 1, \"Sheet5\"]``: Load first, second and sheet named \"Sheet5\"\n",
      "          as a dict of `DataFrame`\n",
      "        * None: All sheets.\n",
      "    \n",
      "    header : int, list of int, default 0\n",
      "        Row (0-indexed) to use for the column labels of the parsed\n",
      "        DataFrame. If a list of integers is passed those row positions will\n",
      "        be combined into a ``MultiIndex``. Use None if there is no header.\n",
      "    names : array-like, default None\n",
      "        List of column names to use. If file contains no header row,\n",
      "        then you should explicitly pass header=None.\n",
      "    index_col : int, list of int, default None\n",
      "        Column (0-indexed) to use as the row labels of the DataFrame.\n",
      "        Pass None if there is no such column.  If a list is passed,\n",
      "        those columns will be combined into a ``MultiIndex``.  If a\n",
      "        subset of data is selected with ``usecols``, index_col\n",
      "        is based on the subset.\n",
      "    usecols : int, str, list-like, or callable default None\n",
      "        Return a subset of the columns.\n",
      "    \n",
      "        * If None, then parse all columns.\n",
      "        * If int, then indicates last column to be parsed.\n",
      "    \n",
      "          .. deprecated:: 0.24.0\n",
      "             Pass in a list of int instead from 0 to `usecols` inclusive.\n",
      "    \n",
      "        * If str, then indicates comma separated list of Excel column letters\n",
      "          and column ranges (e.g. \"A:E\" or \"A,C,E:F\"). Ranges are inclusive of\n",
      "          both sides.\n",
      "        * If list of int, then indicates list of column numbers to be parsed.\n",
      "        * If list of string, then indicates list of column names to be parsed.\n",
      "    \n",
      "          .. versionadded:: 0.24.0\n",
      "    \n",
      "        * If callable, then evaluate each column name against it and parse the\n",
      "          column if the callable returns ``True``.\n",
      "    \n",
      "          .. versionadded:: 0.24.0\n",
      "    \n",
      "    squeeze : bool, default False\n",
      "        If the parsed data only contains one column then return a Series.\n",
      "    dtype : Type name or dict of column -> type, default None\n",
      "        Data type for data or columns. E.g. {'a': np.float64, 'b': np.int32}\n",
      "        Use `object` to preserve data as stored in Excel and not interpret dtype.\n",
      "        If converters are specified, they will be applied INSTEAD\n",
      "        of dtype conversion.\n",
      "    \n",
      "        .. versionadded:: 0.20.0\n",
      "    \n",
      "    engine : str, default None\n",
      "        If io is not a buffer or path, this must be set to identify io.\n",
      "        Acceptable values are None or xlrd.\n",
      "    converters : dict, default None\n",
      "        Dict of functions for converting values in certain columns. Keys can\n",
      "        either be integers or column labels, values are functions that take one\n",
      "        input argument, the Excel cell content, and return the transformed\n",
      "        content.\n",
      "    true_values : list, default None\n",
      "        Values to consider as True.\n",
      "    \n",
      "        .. versionadded:: 0.19.0\n",
      "    \n",
      "    false_values : list, default None\n",
      "        Values to consider as False.\n",
      "    \n",
      "        .. versionadded:: 0.19.0\n",
      "    \n",
      "    skiprows : list-like\n",
      "        Rows to skip at the beginning (0-indexed).\n",
      "    nrows : int, default None\n",
      "        Number of rows to parse.\n",
      "    \n",
      "        .. versionadded:: 0.23.0\n",
      "    \n",
      "    na_values : scalar, str, list-like, or dict, default None\n",
      "        Additional strings to recognize as NA/NaN. If dict passed, specific\n",
      "        per-column NA values. By default the following values are interpreted\n",
      "        as NaN: '', '#N/A', '#N/A N/A', '#NA', '-1.#IND', '-1.#QNAN', '-NaN', '-nan',\n",
      "        '1.#IND', '1.#QNAN', 'N/A', 'NA', 'NULL', 'NaN', 'n/a', 'nan',\n",
      "        'null'.\n",
      "    keep_default_na : bool, default True\n",
      "        If na_values are specified and keep_default_na is False the default NaN\n",
      "        values are overridden, otherwise they're appended to.\n",
      "    verbose : bool, default False\n",
      "        Indicate number of NA values placed in non-numeric columns.\n",
      "    parse_dates : bool, list-like, or dict, default False\n",
      "        The behavior is as follows:\n",
      "    \n",
      "        * bool. If True -> try parsing the index.\n",
      "        * list of int or names. e.g. If [1, 2, 3] -> try parsing columns 1, 2, 3\n",
      "          each as a separate date column.\n",
      "        * list of lists. e.g.  If [[1, 3]] -> combine columns 1 and 3 and parse as\n",
      "          a single date column.\n",
      "        * dict, e.g. {'foo' : [1, 3]} -> parse columns 1, 3 as date and call\n",
      "          result 'foo'\n",
      "    \n",
      "        If a column or index contains an unparseable date, the entire column or\n",
      "        index will be returned unaltered as an object data type. For non-standard\n",
      "        datetime parsing, use ``pd.to_datetime`` after ``pd.read_excel``.\n",
      "    \n",
      "        Note: A fast-path exists for iso8601-formatted dates.\n",
      "    date_parser : function, optional\n",
      "        Function to use for converting a sequence of string columns to an array of\n",
      "        datetime instances. The default uses ``dateutil.parser.parser`` to do the\n",
      "        conversion. Pandas will try to call `date_parser` in three different ways,\n",
      "        advancing to the next if an exception occurs: 1) Pass one or more arrays\n",
      "        (as defined by `parse_dates`) as arguments; 2) concatenate (row-wise) the\n",
      "        string values from the columns defined by `parse_dates` into a single array\n",
      "        and pass that; and 3) call `date_parser` once for each row using one or\n",
      "        more strings (corresponding to the columns defined by `parse_dates`) as\n",
      "        arguments.\n",
      "    thousands : str, default None\n",
      "        Thousands separator for parsing string columns to numeric.  Note that\n",
      "        this parameter is only necessary for columns stored as TEXT in Excel,\n",
      "        any numeric columns will automatically be parsed, regardless of display\n",
      "        format.\n",
      "    comment : str, default None\n",
      "        Comments out remainder of line. Pass a character or characters to this\n",
      "        argument to indicate comments in the input file. Any data between the\n",
      "        comment string and the end of the current line is ignored.\n",
      "    skip_footer : int, default 0\n",
      "        Alias of `skipfooter`.\n",
      "    \n",
      "        .. deprecated:: 0.23.0\n",
      "           Use `skipfooter` instead.\n",
      "    skipfooter : int, default 0\n",
      "        Rows at the end to skip (0-indexed).\n",
      "    convert_float : bool, default True\n",
      "        Convert integral floats to int (i.e., 1.0 --> 1). If False, all numeric\n",
      "        data will be read in as floats: Excel stores all numbers as floats\n",
      "        internally.\n",
      "    mangle_dupe_cols : bool, default True\n",
      "        Duplicate columns will be specified as 'X', 'X.1', ...'X.N', rather than\n",
      "        'X'...'X'. Passing in False will cause data to be overwritten if there\n",
      "        are duplicate names in the columns.\n",
      "    **kwds : optional\n",
      "            Optional keyword arguments can be passed to ``TextFileReader``.\n",
      "    \n",
      "    Returns\n",
      "    -------\n",
      "    DataFrame or dict of DataFrames\n",
      "        DataFrame from the passed in Excel file. See notes in sheet_name\n",
      "        argument for more information on when a dict of DataFrames is returned.\n",
      "    \n",
      "    See Also\n",
      "    --------\n",
      "    to_excel : Write DataFrame to an Excel file.\n",
      "    to_csv : Write DataFrame to a comma-separated values (csv) file.\n",
      "    read_csv : Read a comma-separated values (csv) file into DataFrame.\n",
      "    read_fwf : Read a table of fixed-width formatted lines into DataFrame.\n",
      "    \n",
      "    Examples\n",
      "    --------\n",
      "    The file can be read using the file name as string or an open file object:\n",
      "    \n",
      "    >>> pd.read_excel('tmp.xlsx', index_col=0)  # doctest: +SKIP\n",
      "           Name  Value\n",
      "    0   string1      1\n",
      "    1   string2      2\n",
      "    2  #Comment      3\n",
      "    \n",
      "    >>> pd.read_excel(open('tmp.xlsx', 'rb'),\n",
      "    ...               sheet_name='Sheet3')  # doctest: +SKIP\n",
      "       Unnamed: 0      Name  Value\n",
      "    0           0   string1      1\n",
      "    1           1   string2      2\n",
      "    2           2  #Comment      3\n",
      "    \n",
      "    Index and header can be specified via the `index_col` and `header` arguments\n",
      "    \n",
      "    >>> pd.read_excel('tmp.xlsx', index_col=None, header=None)  # doctest: +SKIP\n",
      "         0         1      2\n",
      "    0  NaN      Name  Value\n",
      "    1  0.0   string1      1\n",
      "    2  1.0   string2      2\n",
      "    3  2.0  #Comment      3\n",
      "    \n",
      "    Column types are inferred but can be explicitly specified\n",
      "    \n",
      "    >>> pd.read_excel('tmp.xlsx', index_col=0,\n",
      "    ...               dtype={'Name': str, 'Value': float})  # doctest: +SKIP\n",
      "           Name  Value\n",
      "    0   string1    1.0\n",
      "    1   string2    2.0\n",
      "    2  #Comment    3.0\n",
      "    \n",
      "    True, False, and NA values, and thousands separators have defaults,\n",
      "    but can be explicitly specified, too. Supply the values you would like\n",
      "    as strings or lists of strings!\n",
      "    \n",
      "    >>> pd.read_excel('tmp.xlsx', index_col=0,\n",
      "    ...               na_values=['string1', 'string2'])  # doctest: +SKIP\n",
      "           Name  Value\n",
      "    0       NaN      1\n",
      "    1       NaN      2\n",
      "    2  #Comment      3\n",
      "    \n",
      "    Comment lines in the excel input file can be skipped using the `comment` kwarg\n",
      "    \n",
      "    >>> pd.read_excel('tmp.xlsx', index_col=0, comment='#')  # doctest: +SKIP\n",
      "          Name  Value\n",
      "    0  string1    1.0\n",
      "    1  string2    2.0\n",
      "    2     None    NaN\n",
      "\n"
     ]
    }
   ],
   "source": [
    "help(pandas.read_excel)"
   ]
  },
  {
   "cell_type": "code",
   "execution_count": 84,
   "metadata": {},
   "outputs": [
    {
     "ename": "FileNotFoundError",
     "evalue": "[Errno 2] No such file or directory: 'c:\\\\dokumenty\\\\test.xlsx'",
     "output_type": "error",
     "traceback": [
      "\u001b[0;31m---------------------------------------------------------------------------\u001b[0m",
      "\u001b[0;31mFileNotFoundError\u001b[0m                         Traceback (most recent call last)",
      "\u001b[0;32m<ipython-input-84-91b998cb3c45>\u001b[0m in \u001b[0;36m<module>\u001b[0;34m\u001b[0m\n\u001b[1;32m      1\u001b[0m \u001b[0;31m# Přímé načtení souboru z Excelu\u001b[0m\u001b[0;34m\u001b[0m\u001b[0;34m\u001b[0m\u001b[0;34m\u001b[0m\u001b[0m\n\u001b[0;32m----> 2\u001b[0;31m \u001b[0mpandas\u001b[0m\u001b[0;34m.\u001b[0m\u001b[0mread_excel\u001b[0m\u001b[0;34m(\u001b[0m\u001b[0;34mr\"c:\\dokumenty\\test.xlsx\"\u001b[0m\u001b[0;34m)\u001b[0m\u001b[0;34m\u001b[0m\u001b[0;34m\u001b[0m\u001b[0m\n\u001b[0m",
      "\u001b[0;32m/usr/lib64/python3.8/site-packages/pandas/util/_decorators.py\u001b[0m in \u001b[0;36mwrapper\u001b[0;34m(*args, **kwargs)\u001b[0m\n\u001b[1;32m    206\u001b[0m                 \u001b[0;32melse\u001b[0m\u001b[0;34m:\u001b[0m\u001b[0;34m\u001b[0m\u001b[0;34m\u001b[0m\u001b[0m\n\u001b[1;32m    207\u001b[0m                     \u001b[0mkwargs\u001b[0m\u001b[0;34m[\u001b[0m\u001b[0mnew_arg_name\u001b[0m\u001b[0;34m]\u001b[0m \u001b[0;34m=\u001b[0m \u001b[0mnew_arg_value\u001b[0m\u001b[0;34m\u001b[0m\u001b[0;34m\u001b[0m\u001b[0m\n\u001b[0;32m--> 208\u001b[0;31m             \u001b[0;32mreturn\u001b[0m \u001b[0mfunc\u001b[0m\u001b[0;34m(\u001b[0m\u001b[0;34m*\u001b[0m\u001b[0margs\u001b[0m\u001b[0;34m,\u001b[0m \u001b[0;34m**\u001b[0m\u001b[0mkwargs\u001b[0m\u001b[0;34m)\u001b[0m\u001b[0;34m\u001b[0m\u001b[0;34m\u001b[0m\u001b[0m\n\u001b[0m\u001b[1;32m    209\u001b[0m \u001b[0;34m\u001b[0m\u001b[0m\n\u001b[1;32m    210\u001b[0m         \u001b[0;32mreturn\u001b[0m \u001b[0mwrapper\u001b[0m\u001b[0;34m\u001b[0m\u001b[0;34m\u001b[0m\u001b[0m\n",
      "\u001b[0;32m/usr/lib64/python3.8/site-packages/pandas/io/excel/_base.py\u001b[0m in \u001b[0;36mread_excel\u001b[0;34m(io, sheet_name, header, names, index_col, usecols, squeeze, dtype, engine, converters, true_values, false_values, skiprows, nrows, na_values, keep_default_na, verbose, parse_dates, date_parser, thousands, comment, skip_footer, skipfooter, convert_float, mangle_dupe_cols, **kwds)\u001b[0m\n\u001b[1;32m    308\u001b[0m \u001b[0;34m\u001b[0m\u001b[0m\n\u001b[1;32m    309\u001b[0m     \u001b[0;32mif\u001b[0m \u001b[0;32mnot\u001b[0m \u001b[0misinstance\u001b[0m\u001b[0;34m(\u001b[0m\u001b[0mio\u001b[0m\u001b[0;34m,\u001b[0m \u001b[0mExcelFile\u001b[0m\u001b[0;34m)\u001b[0m\u001b[0;34m:\u001b[0m\u001b[0;34m\u001b[0m\u001b[0;34m\u001b[0m\u001b[0m\n\u001b[0;32m--> 310\u001b[0;31m         \u001b[0mio\u001b[0m \u001b[0;34m=\u001b[0m \u001b[0mExcelFile\u001b[0m\u001b[0;34m(\u001b[0m\u001b[0mio\u001b[0m\u001b[0;34m,\u001b[0m \u001b[0mengine\u001b[0m\u001b[0;34m=\u001b[0m\u001b[0mengine\u001b[0m\u001b[0;34m)\u001b[0m\u001b[0;34m\u001b[0m\u001b[0;34m\u001b[0m\u001b[0m\n\u001b[0m\u001b[1;32m    311\u001b[0m     \u001b[0;32melif\u001b[0m \u001b[0mengine\u001b[0m \u001b[0;32mand\u001b[0m \u001b[0mengine\u001b[0m \u001b[0;34m!=\u001b[0m \u001b[0mio\u001b[0m\u001b[0;34m.\u001b[0m\u001b[0mengine\u001b[0m\u001b[0;34m:\u001b[0m\u001b[0;34m\u001b[0m\u001b[0;34m\u001b[0m\u001b[0m\n\u001b[1;32m    312\u001b[0m         raise ValueError(\n",
      "\u001b[0;32m/usr/lib64/python3.8/site-packages/pandas/io/excel/_base.py\u001b[0m in \u001b[0;36m__init__\u001b[0;34m(self, io, engine)\u001b[0m\n\u001b[1;32m    817\u001b[0m         \u001b[0mself\u001b[0m\u001b[0;34m.\u001b[0m\u001b[0m_io\u001b[0m \u001b[0;34m=\u001b[0m \u001b[0m_stringify_path\u001b[0m\u001b[0;34m(\u001b[0m\u001b[0mio\u001b[0m\u001b[0;34m)\u001b[0m\u001b[0;34m\u001b[0m\u001b[0;34m\u001b[0m\u001b[0m\n\u001b[1;32m    818\u001b[0m \u001b[0;34m\u001b[0m\u001b[0m\n\u001b[0;32m--> 819\u001b[0;31m         \u001b[0mself\u001b[0m\u001b[0;34m.\u001b[0m\u001b[0m_reader\u001b[0m \u001b[0;34m=\u001b[0m \u001b[0mself\u001b[0m\u001b[0;34m.\u001b[0m\u001b[0m_engines\u001b[0m\u001b[0;34m[\u001b[0m\u001b[0mengine\u001b[0m\u001b[0;34m]\u001b[0m\u001b[0;34m(\u001b[0m\u001b[0mself\u001b[0m\u001b[0;34m.\u001b[0m\u001b[0m_io\u001b[0m\u001b[0;34m)\u001b[0m\u001b[0;34m\u001b[0m\u001b[0;34m\u001b[0m\u001b[0m\n\u001b[0m\u001b[1;32m    820\u001b[0m \u001b[0;34m\u001b[0m\u001b[0m\n\u001b[1;32m    821\u001b[0m     \u001b[0;32mdef\u001b[0m \u001b[0m__fspath__\u001b[0m\u001b[0;34m(\u001b[0m\u001b[0mself\u001b[0m\u001b[0;34m)\u001b[0m\u001b[0;34m:\u001b[0m\u001b[0;34m\u001b[0m\u001b[0;34m\u001b[0m\u001b[0m\n",
      "\u001b[0;32m/usr/lib64/python3.8/site-packages/pandas/io/excel/_xlrd.py\u001b[0m in \u001b[0;36m__init__\u001b[0;34m(self, filepath_or_buffer)\u001b[0m\n\u001b[1;32m     19\u001b[0m         \u001b[0merr_msg\u001b[0m \u001b[0;34m=\u001b[0m \u001b[0;34m\"Install xlrd >= 1.0.0 for Excel support\"\u001b[0m\u001b[0;34m\u001b[0m\u001b[0;34m\u001b[0m\u001b[0m\n\u001b[1;32m     20\u001b[0m         \u001b[0mimport_optional_dependency\u001b[0m\u001b[0;34m(\u001b[0m\u001b[0;34m\"xlrd\"\u001b[0m\u001b[0;34m,\u001b[0m \u001b[0mextra\u001b[0m\u001b[0;34m=\u001b[0m\u001b[0merr_msg\u001b[0m\u001b[0;34m)\u001b[0m\u001b[0;34m\u001b[0m\u001b[0;34m\u001b[0m\u001b[0m\n\u001b[0;32m---> 21\u001b[0;31m         \u001b[0msuper\u001b[0m\u001b[0;34m(\u001b[0m\u001b[0;34m)\u001b[0m\u001b[0;34m.\u001b[0m\u001b[0m__init__\u001b[0m\u001b[0;34m(\u001b[0m\u001b[0mfilepath_or_buffer\u001b[0m\u001b[0;34m)\u001b[0m\u001b[0;34m\u001b[0m\u001b[0;34m\u001b[0m\u001b[0m\n\u001b[0m\u001b[1;32m     22\u001b[0m \u001b[0;34m\u001b[0m\u001b[0m\n\u001b[1;32m     23\u001b[0m     \u001b[0;34m@\u001b[0m\u001b[0mproperty\u001b[0m\u001b[0;34m\u001b[0m\u001b[0;34m\u001b[0m\u001b[0m\n",
      "\u001b[0;32m/usr/lib64/python3.8/site-packages/pandas/io/excel/_base.py\u001b[0m in \u001b[0;36m__init__\u001b[0;34m(self, filepath_or_buffer)\u001b[0m\n\u001b[1;32m    357\u001b[0m             \u001b[0mself\u001b[0m\u001b[0;34m.\u001b[0m\u001b[0mbook\u001b[0m \u001b[0;34m=\u001b[0m \u001b[0mself\u001b[0m\u001b[0;34m.\u001b[0m\u001b[0mload_workbook\u001b[0m\u001b[0;34m(\u001b[0m\u001b[0mfilepath_or_buffer\u001b[0m\u001b[0;34m)\u001b[0m\u001b[0;34m\u001b[0m\u001b[0;34m\u001b[0m\u001b[0m\n\u001b[1;32m    358\u001b[0m         \u001b[0;32melif\u001b[0m \u001b[0misinstance\u001b[0m\u001b[0;34m(\u001b[0m\u001b[0mfilepath_or_buffer\u001b[0m\u001b[0;34m,\u001b[0m \u001b[0mstr\u001b[0m\u001b[0;34m)\u001b[0m\u001b[0;34m:\u001b[0m\u001b[0;34m\u001b[0m\u001b[0;34m\u001b[0m\u001b[0m\n\u001b[0;32m--> 359\u001b[0;31m             \u001b[0mself\u001b[0m\u001b[0;34m.\u001b[0m\u001b[0mbook\u001b[0m \u001b[0;34m=\u001b[0m \u001b[0mself\u001b[0m\u001b[0;34m.\u001b[0m\u001b[0mload_workbook\u001b[0m\u001b[0;34m(\u001b[0m\u001b[0mfilepath_or_buffer\u001b[0m\u001b[0;34m)\u001b[0m\u001b[0;34m\u001b[0m\u001b[0;34m\u001b[0m\u001b[0m\n\u001b[0m\u001b[1;32m    360\u001b[0m         \u001b[0;32melse\u001b[0m\u001b[0;34m:\u001b[0m\u001b[0;34m\u001b[0m\u001b[0;34m\u001b[0m\u001b[0m\n\u001b[1;32m    361\u001b[0m             raise ValueError(\n",
      "\u001b[0;32m/usr/lib64/python3.8/site-packages/pandas/io/excel/_xlrd.py\u001b[0m in \u001b[0;36mload_workbook\u001b[0;34m(self, filepath_or_buffer)\u001b[0m\n\u001b[1;32m     34\u001b[0m             \u001b[0;32mreturn\u001b[0m \u001b[0mopen_workbook\u001b[0m\u001b[0;34m(\u001b[0m\u001b[0mfile_contents\u001b[0m\u001b[0;34m=\u001b[0m\u001b[0mdata\u001b[0m\u001b[0;34m)\u001b[0m\u001b[0;34m\u001b[0m\u001b[0;34m\u001b[0m\u001b[0m\n\u001b[1;32m     35\u001b[0m         \u001b[0;32melse\u001b[0m\u001b[0;34m:\u001b[0m\u001b[0;34m\u001b[0m\u001b[0;34m\u001b[0m\u001b[0m\n\u001b[0;32m---> 36\u001b[0;31m             \u001b[0;32mreturn\u001b[0m \u001b[0mopen_workbook\u001b[0m\u001b[0;34m(\u001b[0m\u001b[0mfilepath_or_buffer\u001b[0m\u001b[0;34m)\u001b[0m\u001b[0;34m\u001b[0m\u001b[0;34m\u001b[0m\u001b[0m\n\u001b[0m\u001b[1;32m     37\u001b[0m \u001b[0;34m\u001b[0m\u001b[0m\n\u001b[1;32m     38\u001b[0m     \u001b[0;34m@\u001b[0m\u001b[0mproperty\u001b[0m\u001b[0;34m\u001b[0m\u001b[0;34m\u001b[0m\u001b[0m\n",
      "\u001b[0;32m/usr/lib/python3.8/site-packages/xlrd/__init__.py\u001b[0m in \u001b[0;36mopen_workbook\u001b[0;34m(filename, logfile, verbosity, use_mmap, file_contents, encoding_override, formatting_info, on_demand, ragged_rows)\u001b[0m\n\u001b[1;32m    109\u001b[0m     \u001b[0;32melse\u001b[0m\u001b[0;34m:\u001b[0m\u001b[0;34m\u001b[0m\u001b[0;34m\u001b[0m\u001b[0m\n\u001b[1;32m    110\u001b[0m         \u001b[0mfilename\u001b[0m \u001b[0;34m=\u001b[0m \u001b[0mos\u001b[0m\u001b[0;34m.\u001b[0m\u001b[0mpath\u001b[0m\u001b[0;34m.\u001b[0m\u001b[0mexpanduser\u001b[0m\u001b[0;34m(\u001b[0m\u001b[0mfilename\u001b[0m\u001b[0;34m)\u001b[0m\u001b[0;34m\u001b[0m\u001b[0;34m\u001b[0m\u001b[0m\n\u001b[0;32m--> 111\u001b[0;31m         \u001b[0;32mwith\u001b[0m \u001b[0mopen\u001b[0m\u001b[0;34m(\u001b[0m\u001b[0mfilename\u001b[0m\u001b[0;34m,\u001b[0m \u001b[0;34m\"rb\"\u001b[0m\u001b[0;34m)\u001b[0m \u001b[0;32mas\u001b[0m \u001b[0mf\u001b[0m\u001b[0;34m:\u001b[0m\u001b[0;34m\u001b[0m\u001b[0;34m\u001b[0m\u001b[0m\n\u001b[0m\u001b[1;32m    112\u001b[0m             \u001b[0mpeek\u001b[0m \u001b[0;34m=\u001b[0m \u001b[0mf\u001b[0m\u001b[0;34m.\u001b[0m\u001b[0mread\u001b[0m\u001b[0;34m(\u001b[0m\u001b[0mpeeksz\u001b[0m\u001b[0;34m)\u001b[0m\u001b[0;34m\u001b[0m\u001b[0;34m\u001b[0m\u001b[0m\n\u001b[1;32m    113\u001b[0m     \u001b[0;32mif\u001b[0m \u001b[0mpeek\u001b[0m \u001b[0;34m==\u001b[0m \u001b[0;34mb\"PK\\x03\\x04\"\u001b[0m\u001b[0;34m:\u001b[0m \u001b[0;31m# a ZIP file\u001b[0m\u001b[0;34m\u001b[0m\u001b[0;34m\u001b[0m\u001b[0m\n",
      "\u001b[0;31mFileNotFoundError\u001b[0m: [Errno 2] No such file or directory: 'c:\\\\dokumenty\\\\test.xlsx'"
     ]
    }
   ],
   "source": [
    "# Přímé načtení souboru z Excelu\n",
    "pandas.read_excel(r\"c:\\dokumenty\\test.xlsx\")"
   ]
  },
  {
   "cell_type": "markdown",
   "metadata": {},
   "source": [
    "## Obsluha výjimek"
   ]
  },
  {
   "cell_type": "code",
   "execution_count": 87,
   "metadata": {},
   "outputs": [
    {
     "name": "stdout",
     "output_type": "stream",
     "text": [
      "Chyba při načítání Excelovského sešitu\n"
     ]
    }
   ],
   "source": [
    "# Přímé načtení souboru z Excelu\n",
    "try:\n",
    "    # zde může dojít k výjimce, když soubor neexistuje\n",
    "    tabulka = pandas.read_excel(r\"c:\\dokumenty\\test.xlsx\")\n",
    "    print(\"Načtení se podařilo\")\n",
    "    tabulka.describe()\n",
    "except FileNotFoundError:\n",
    "    # obsluha výjimky\n",
    "    print(\"Chyba při načítání Excelovského sešitu\")"
   ]
  },
  {
   "cell_type": "markdown",
   "metadata": {},
   "source": [
    "### Pokus o načtení neexistujícího souboru - výjimka typu `FileNotFoundError`"
   ]
  },
  {
   "cell_type": "code",
   "execution_count": 89,
   "metadata": {},
   "outputs": [
    {
     "name": "stdout",
     "output_type": "stream",
     "text": [
      "Chyba při načítání Excelovského sešitu\n",
      "Podrobnější informace o chybě: [Errno 2] No such file or directory: 'c:\\\\dokumenty\\\\test.xlsx'\n"
     ]
    }
   ],
   "source": [
    "# Přímé načtení souboru z Excelu\n",
    "try:\n",
    "    # zde může dojít k výjimce, když soubor neexistuje\n",
    "    tabulka = pandas.read_excel(r\"c:\\dokumenty\\test.xlsx\")\n",
    "    print(\"Načtení se podařilo\")\n",
    "    print(tabulka.describe())\n",
    "except FileNotFoundError as e:\n",
    "    # obsluha výjimky\n",
    "    print(\"Chyba při načítání Excelovského sešitu\")\n",
    "    print(\"Podrobnější informace o chybě:\", e)"
   ]
  },
  {
   "cell_type": "markdown",
   "metadata": {},
   "source": [
    "### Pokus o načtení neexistujícího souboru - dojde k výjimce typu `FileNotFoundError`"
   ]
  },
  {
   "cell_type": "code",
   "execution_count": 101,
   "metadata": {},
   "outputs": [
    {
     "name": "stdout",
     "output_type": "stream",
     "text": [
      "Chyba při načítání CSV souboru\n",
      "Podrobnější informace o chybě: [Errno 2] File b'neexistujici_soubor.csv' does not exist: b'neexistujici_soubor.csv'\n"
     ]
    }
   ],
   "source": [
    "try:\n",
    "    tabulka = pandas.read_csv(\"neexistujici_soubor.csv\", sep=\";\")\n",
    "    tabulka['X'] = pandas.to_numeric(tabulka['avg-exp-pc'])\n",
    "    print(\"Tabulka byla načtena a zkonvertována!\")\n",
    "    print(tabulka.describe())\n",
    "except FileNotFoundError as e:\n",
    "    # obsluha první výjimky\n",
    "    print(\"Chyba při načítání CSV souboru\")\n",
    "    print(\"Podrobnější informace o chybě:\", e)\n",
    "except ValueError as e:\n",
    "    # obsluha druhé výjimky\n",
    "    print(\"Chyba při konverzi dat\")\n",
    "    print(\"Podrobnější informace o chybě:\", e)\n",
    "except Exception as e:\n",
    "    # obsluha všech zbývajících typů výjimek\n",
    "    print(\"Neznámá chyba: \", e)"
   ]
  },
  {
   "cell_type": "markdown",
   "metadata": {},
   "source": [
    "### V tomto příkladu dojde k výjimce při konverzi dat - `ValueError`"
   ]
  },
  {
   "cell_type": "code",
   "execution_count": 98,
   "metadata": {},
   "outputs": [
    {
     "name": "stdout",
     "output_type": "stream",
     "text": [
      "Chyba při konverzi dat\n",
      "Podrobnější informace o chybě: Unable to parse string \"1 076.8\" at position 45\n"
     ]
    }
   ],
   "source": [
    "try:\n",
    "    tabulka = pandas.read_csv(\"data_update_2020.csv\", sep=\";\")\n",
    "    tabulka['X'] = pandas.to_numeric(tabulka['avg-exp-pc'])\n",
    "    print(\"Tabulka byla načtena a zkonvertována!\")\n",
    "    print(tabulka.describe())\n",
    "except FileNotFoundError as e:\n",
    "    # obsluha první výjimky\n",
    "    print(\"Chyba při načítání CSV souboru\")\n",
    "    print(\"Podrobnější informace o chybě:\", e)\n",
    "except ValueError as e:\n",
    "    # obsluha druhé výjimky\n",
    "    print(\"Chyba při konverzi dat\")\n",
    "    print(\"Podrobnější informace o chybě:\", e)\n",
    "except Exception as e:\n",
    "    # obsluha všech zbývajících typů výjimek\n",
    "    print(\"Neznámá chyba: \", e)"
   ]
  },
  {
   "cell_type": "markdown",
   "metadata": {},
   "source": [
    "### V tomto příkladu k výjimce nedojde"
   ]
  },
  {
   "cell_type": "code",
   "execution_count": 100,
   "metadata": {},
   "outputs": [
    {
     "name": "stdout",
     "output_type": "stream",
     "text": [
      "Tabulka byla načtena a zkonvertována!\n",
      "                 ZUJ            IC          IMC     period-f       period  \\\n",
      "count    6640.000000  6.640000e+03  6640.000000  6640.000000  6640.000000   \n",
      "mean   585270.756024  2.076825e+06     0.140060  2014.500000     4.500000   \n",
      "std     11211.246057  9.351306e+06     0.347076     2.872498     2.872498   \n",
      "min    506699.000000  4.218800e+04     0.000000  2010.000000     0.000000   \n",
      "25%    582919.000000  2.836878e+05     0.000000  2012.000000     2.000000   \n",
      "50%    584839.000000  3.654900e+05     0.000000  2014.500000     4.500000   \n",
      "75%    593615.000000  6.003280e+05     0.000000  2017.000000     7.000000   \n",
      "max    597171.000000  7.508213e+07     1.000000  2019.000000     9.000000   \n",
      "\n",
      "                 X  \n",
      "count  6640.000000  \n",
      "mean    622.893961  \n",
      "std     316.551147  \n",
      "min      66.000000  \n",
      "25%     465.475000  \n",
      "50%     564.300000  \n",
      "75%     687.575000  \n",
      "max    7734.500000  \n"
     ]
    }
   ],
   "source": [
    "try:\n",
    "    tabulka = pandas.read_csv(\"data_update_2020.csv\", sep=\";\")\n",
    "    # Vytvoření nového sloupce, hodnoty jsou získány ze sloupce \"avg-exp-pc\" a všechny mezery jsou vymazány\n",
    "    tabulka[\"new-avg-exp-pc\"] = tabulka[\"avg-exp-pc\"].transform(lambda s:s.replace(\" \", \"\"))\n",
    "    tabulka['X'] = pandas.to_numeric(tabulka['new-avg-exp-pc'])\n",
    "    print(\"Tabulka byla načtena a zkonvertována!\")\n",
    "    print(tabulka.describe())\n",
    "except FileNotFoundError as e:\n",
    "    # obsluha první výjimky\n",
    "    print(\"Chyba při načítání CSV souboru\")\n",
    "    print(\"Podrobnější informace o chybě:\", e)\n",
    "except ValueError as e:\n",
    "    # obsluha druhé výjimky\n",
    "    print(\"Chyba při konverzi dat\")\n",
    "    print(\"Podrobnější informace o chybě:\", e)\n",
    "except Exception as e:\n",
    "    # obsluha všech zbývajících typů výjimek\n",
    "    print(\"Neznámá chyba: \", e)"
   ]
  },
  {
   "cell_type": "markdown",
   "metadata": {},
   "source": [
    "### Vyhození vlastní výjimky po splnění nějaké podmínky"
   ]
  },
  {
   "cell_type": "code",
   "execution_count": 106,
   "metadata": {},
   "outputs": [
    {
     "name": "stdout",
     "output_type": "stream",
     "text": [
      "Chyba při konverzi dat\n",
      "Podrobnější informace o chybě: Sloupec avg-exp-pc obsahuje špatné hodnoty\n"
     ]
    }
   ],
   "source": [
    "try:\n",
    "    tabulka = pandas.read_csv(\"data_update_2020.csv\", sep=\";\")\n",
    "    # test, jestli má sloupec avg-exp-pc správný typ\n",
    "    if tabulka['avg-exp-pc'].dtypes == \"object\":\n",
    "        raise ValueError(\"Sloupec avg-exp-pc obsahuje špatné hodnoty\")\n",
    "    print(tabulka.describe())\n",
    "    print(tabulka['avg-exp-pc'].mean())\n",
    "except FileNotFoundError as e:\n",
    "    # obsluha první výjimky\n",
    "    print(\"Chyba při načítání CSV souboru\")\n",
    "    print(\"Podrobnější informace o chybě:\", e)\n",
    "except ValueError as e:\n",
    "    # obsluha druhé výjimky\n",
    "    print(\"Chyba při konverzi dat\")\n",
    "    print(\"Podrobnější informace o chybě:\", e)\n",
    "except Exception as e:\n",
    "    # obsluha všech zbývajících typů výjimek\n",
    "    print(\"Neznámá chyba: \", e)"
   ]
  },
  {
   "cell_type": "markdown",
   "metadata": {},
   "source": [
    "### Použití bloku `finally`"
   ]
  },
  {
   "cell_type": "code",
   "execution_count": 107,
   "metadata": {},
   "outputs": [
    {
     "name": "stdout",
     "output_type": "stream",
     "text": [
      "Chyba při konverzi dat\n",
      "Podrobnější informace o chybě: Sloupec avg-exp-pc obsahuje špatné hodnoty\n",
      "Blok finally\n"
     ]
    }
   ],
   "source": [
    "try:\n",
    "    tabulka = pandas.read_csv(\"data_update_2020.csv\", sep=\";\")\n",
    "    # test, jestli má sloupec avg-exp-pc správný typ\n",
    "    if tabulka['avg-exp-pc'].dtypes == \"object\":\n",
    "        raise ValueError(\"Sloupec avg-exp-pc obsahuje špatné hodnoty\")\n",
    "    print(tabulka.describe())\n",
    "    print(tabulka['avg-exp-pc'].mean())\n",
    "except FileNotFoundError as e:\n",
    "    # obsluha první výjimky\n",
    "    print(\"Chyba při načítání CSV souboru\")\n",
    "    print(\"Podrobnější informace o chybě:\", e)\n",
    "except ValueError as e:\n",
    "    # obsluha druhé výjimky\n",
    "    print(\"Chyba při konverzi dat\")\n",
    "    print(\"Podrobnější informace o chybě:\", e)\n",
    "except Exception as e:\n",
    "    # obsluha všech zbývajících typů výjimek\n",
    "    print(\"Neznámá chyba: \", e)\n",
    "finally:\n",
    "    print(\"Blok finally\")"
   ]
  },
  {
   "cell_type": "markdown",
   "metadata": {},
   "source": [
    "### Deklarace třídy"
   ]
  },
  {
   "cell_type": "code",
   "execution_count": 111,
   "metadata": {},
   "outputs": [],
   "source": [
    "class Employee:\n",
    "    pass\n",
    "\n",
    "# vytvoření objektu typu Employee\n",
    "# neboli vytvoření instance třídy Employee\n",
    "e = Employee()"
   ]
  },
  {
   "cell_type": "code",
   "execution_count": 112,
   "metadata": {},
   "outputs": [
    {
     "data": {
      "text/plain": [
       "<__main__.Employee at 0x7fa8f62212b0>"
      ]
     },
     "execution_count": 112,
     "metadata": {},
     "output_type": "execute_result"
    }
   ],
   "source": [
    "e"
   ]
  },
  {
   "cell_type": "markdown",
   "metadata": {},
   "source": [
    "### Více instancí třídy"
   ]
  },
  {
   "cell_type": "code",
   "execution_count": 113,
   "metadata": {},
   "outputs": [
    {
     "name": "stdout",
     "output_type": "stream",
     "text": [
      "<__main__.Employee object at 0x7fa8f6221af0>\n",
      "<__main__.Employee object at 0x7fa8f6221100>\n"
     ]
    }
   ],
   "source": [
    "e1 = Employee()\n",
    "e2 = Employee()\n",
    "print(e1)\n",
    "print(e2)"
   ]
  },
  {
   "cell_type": "code",
   "execution_count": 125,
   "metadata": {},
   "outputs": [
    {
     "name": "stdout",
     "output_type": "stream",
     "text": [
      "Konstruktor Pepa Vyskoč 15000\n",
      "Konstruktor Petr Pavel 20000\n"
     ]
    }
   ],
   "source": [
    "class Employee:\n",
    "\n",
    "    # konstruktor - první parametr musí být self\n",
    "    def __init__(self, first_name, surname, salary):\n",
    "        print(\"Konstruktor\", first_name, surname, salary)\n",
    "        # vytvoření a inicializace atributů objektu\n",
    "        self._first_name = first_name\n",
    "        self._surname = surname\n",
    "        self._salary = salary\n",
    "        self._test = 1000\n",
    "\n",
    "    # metoda -- funkce deklarovaná uvnitř třídy, má přístup k atributům objektu\n",
    "    def display_employee(self):\n",
    "        print(\"Full name: \", self._first_name, self._surname, \"   Salary: \", self._salary)\n",
    "\n",
    "\n",
    "# Vytvoříme dvě instance třídy Employee\n",
    "e1 = Employee(\"Pepa\", \"Vyskoč\", 15000)\n",
    "e2 = Employee(\"Petr\", \"Pavel\", 20000)"
   ]
  },
  {
   "cell_type": "code",
   "execution_count": 128,
   "metadata": {},
   "outputs": [
    {
     "name": "stdout",
     "output_type": "stream",
     "text": [
      "Full name:  Pepa Vyskoč    Salary:  15000\n"
     ]
    }
   ],
   "source": [
    "# Zavoláme metodu display_employee()\n",
    "e1.display_employee()"
   ]
  },
  {
   "cell_type": "code",
   "execution_count": 129,
   "metadata": {},
   "outputs": [
    {
     "name": "stdout",
     "output_type": "stream",
     "text": [
      "Full name:  Petr Pavel    Salary:  20000\n"
     ]
    }
   ],
   "source": [
    "# Zavoláme metodu display_employee()\n",
    "e2.display_employee()"
   ]
  },
  {
   "cell_type": "code",
   "execution_count": 131,
   "metadata": {},
   "outputs": [
    {
     "name": "stdout",
     "output_type": "stream",
     "text": [
      "Full name:  Pepa Vyskoč    Salary:  15000\n",
      "Full name:  Pepa Vyskoč    Salary:  15000\n"
     ]
    }
   ],
   "source": [
    "e1.display_employee()\n",
    "Employee.display_employee(e1)"
   ]
  },
  {
   "cell_type": "code",
   "execution_count": 134,
   "metadata": {},
   "outputs": [
    {
     "name": "stdout",
     "output_type": "stream",
     "text": [
      "Konstruktor Pepa Vyskoč 15000\n",
      "Konstruktor Petr Pavel 20000\n",
      "Full name:  Pepa Vyskoč    Salary:  15000\n",
      "Full name:  *** Vyskoč    Salary:  15000\n",
      "Full name:  *** Vyskoč    Salary:  16500.0\n"
     ]
    }
   ],
   "source": [
    "class Employee:\n",
    "\n",
    "    # konstruktor - první parametr musí být self\n",
    "    def __init__(self, first_name, surname, salary):\n",
    "        print(\"Konstruktor\", first_name, surname, salary)\n",
    "        # vytvoření a inicializace atributů objektu\n",
    "        self._first_name = first_name\n",
    "        self._surname = surname\n",
    "        self._salary = salary\n",
    "        self._test = 1000\n",
    "\n",
    "    # metoda -- funkce deklarovaná uvnitř třídy, má přístup k atributům objektu\n",
    "    def display_employee(self):\n",
    "        print(\"Full name: \", self._first_name, self._surname, \"   Salary: \", self._salary)\n",
    "\n",
    "    # metoda, která mění jeden atribut objektu\n",
    "    def set_first_name(self, new_first_name):\n",
    "        self._first_name = new_first_name\n",
    "    \n",
    "    def increase_salary(self, ratio):\n",
    "        self._salary = self._salary * (1 + ratio/100.0)\n",
    "        \n",
    "\n",
    "# Vytvoříme dvě instance třídy Employee\n",
    "e1 = Employee(\"Pepa\", \"Vyskoč\", 15000)\n",
    "e2 = Employee(\"Petr\", \"Pavel\", 20000)\n",
    "\n",
    "e1.display_employee()\n",
    "e1.set_first_name(\"***\")\n",
    "e1.display_employee()\n",
    "e1.increase_salary(10)\n",
    "e1.display_employee()"
   ]
  },
  {
   "cell_type": "code",
   "execution_count": 137,
   "metadata": {},
   "outputs": [
    {
     "name": "stdout",
     "output_type": "stream",
     "text": [
      "Konstruktor Pepa Vyskoč 15000\n",
      "Konstruktor Petr Pavel 20000\n",
      "Konstruktor Kamil Vedoucí 60000\n"
     ]
    }
   ],
   "source": [
    "employes = [\n",
    "    Employee(\"Pepa\", \"Vyskoč\", 15000),\n",
    "    Employee(\"Petr\", \"Pavel\", 20000),\n",
    "    Employee(\"Kamil\", \"Vedoucí\", 60000),\n",
    "]"
   ]
  },
  {
   "cell_type": "code",
   "execution_count": 138,
   "metadata": {},
   "outputs": [
    {
     "data": {
      "text/plain": [
       "[<__main__.Employee at 0x7fa8f620b610>,\n",
       " <__main__.Employee at 0x7fa8ffddd8b0>,\n",
       " <__main__.Employee at 0x7fa8ffddd130>]"
      ]
     },
     "execution_count": 138,
     "metadata": {},
     "output_type": "execute_result"
    }
   ],
   "source": [
    "employes"
   ]
  },
  {
   "cell_type": "code",
   "execution_count": 140,
   "metadata": {},
   "outputs": [
    {
     "name": "stdout",
     "output_type": "stream",
     "text": [
      "Full name:  Pepa Vyskoč    Salary:  15000\n",
      "Full name:  Petr Pavel    Salary:  20000\n",
      "Full name:  Kamil Vedoucí    Salary:  60000\n"
     ]
    }
   ],
   "source": [
    "for e in employes:\n",
    "    e.display_employee()"
   ]
  },
  {
   "cell_type": "code",
   "execution_count": 141,
   "metadata": {},
   "outputs": [],
   "source": [
    "for e in employes:\n",
    "    e.increase_salary(10)"
   ]
  },
  {
   "cell_type": "code",
   "execution_count": 143,
   "metadata": {},
   "outputs": [
    {
     "name": "stdout",
     "output_type": "stream",
     "text": [
      "<__main__.Employee object at 0x7fa8f620b610>\n",
      "<__main__.Employee object at 0x7fa8ffddd8b0>\n",
      "<__main__.Employee object at 0x7fa8ffddd130>\n"
     ]
    }
   ],
   "source": [
    "for e in employes:\n",
    "    print(e)"
   ]
  },
  {
   "cell_type": "markdown",
   "metadata": {},
   "source": [
    "### Použití speciální metody `__str__`"
   ]
  },
  {
   "cell_type": "code",
   "execution_count": 144,
   "metadata": {},
   "outputs": [],
   "source": [
    "class Employee:\n",
    "\n",
    "    # konstruktor - první parametr musí být self\n",
    "    def __init__(self, first_name, surname, salary):\n",
    "        print(\"Konstruktor\", first_name, surname, salary)\n",
    "        # vytvoření a inicializace atributů objektu\n",
    "        self._first_name = first_name\n",
    "        self._surname = surname\n",
    "        self._salary = salary\n",
    "        self._test = 1000\n",
    "\n",
    "    # metoda -- funkce deklarovaná uvnitř třídy, má přístup k atributům objektu\n",
    "    def display_employee(self):\n",
    "        print(\"Full name: \", self._first_name, self._surname, \"   Salary: \", self._salary)\n",
    "\n",
    "    # metoda, která mění jeden atribut objektu\n",
    "    def set_first_name(self, new_first_name):\n",
    "        self._first_name = new_first_name\n",
    "    \n",
    "    def increase_salary(self, ratio):\n",
    "        self._salary = self._salary * (1 + ratio/100.0)\n",
    "        \n",
    "    # speciální metoda __str__\n",
    "    def __str__(self):\n",
    "        return \"Full name: \" + self._first_name + \" \" + self._surname + \"   Salary: \" + str(self._salary)"
   ]
  },
  {
   "cell_type": "code",
   "execution_count": 147,
   "metadata": {},
   "outputs": [
    {
     "name": "stdout",
     "output_type": "stream",
     "text": [
      "Konstruktor Pepa Vyskoč 15000\n",
      "Konstruktor Petr Pavel 20000\n",
      "Konstruktor Kamil Vedoucí 60000\n",
      "\n",
      "Full name: Pepa Vyskoč   Salary: 15000\n",
      "Full name: Petr Pavel   Salary: 20000\n",
      "Full name: Kamil Vedoucí   Salary: 60000\n"
     ]
    }
   ],
   "source": [
    "employes = [\n",
    "    Employee(\"Pepa\", \"Vyskoč\", 15000),\n",
    "    Employee(\"Petr\", \"Pavel\", 20000),\n",
    "    Employee(\"Kamil\", \"Vedoucí\", 60000),\n",
    "]\n",
    "print()\n",
    "\n",
    "for e in employes:\n",
    "    print(e)"
   ]
  },
  {
   "cell_type": "code",
   "execution_count": 152,
   "metadata": {},
   "outputs": [],
   "source": [
    "class Person:\n",
    "    # konstruktor - první parametr musí být self\n",
    "    def __init__(self, first_name, surname):\n",
    "        print(\"Konstruktor\", first_name, surname)\n",
    "        # vytvoření a inicializace atributů objektu\n",
    "        self._first_name = first_name\n",
    "        self._surname = surname\n",
    "\n",
    "    # metoda, která mění jeden atribut objektu\n",
    "    def set_first_name(self, new_first_name):\n",
    "        self._first_name = new_first_name\n",
    "    \n",
    "    # speciální metoda __str__\n",
    "    def __str__(self):\n",
    "        return \"Full name: \" + self._first_name + \" \" + self._surname\n",
    "\n",
    "\n",
    "# Třída Employee je odvozena od třídy Person\n",
    "# Employee je předek Person\n",
    "# Person je potom Employee\n",
    "class Employee(Person):\n",
    "\n",
    "    # konstruktor - první parametr musí být self\n",
    "    def __init__(self, first_name, surname, salary):\n",
    "        print(\"Konstruktor\", first_name, surname, salary)\n",
    "        # vytvoření a inicializace atributů objektu\n",
    "        self._first_name = first_name\n",
    "        self._surname = surname\n",
    "        self._salary = salary\n",
    "\n",
    "    # metoda -- funkce deklarovaná uvnitř třídy, má přístup k atributům objektu\n",
    "    def display_employee(self):\n",
    "        print(\"Full name: \", self._first_name, self._surname, \"   Salary: \", self._salary)\n",
    "\n",
    "    def increase_salary(self, ratio):\n",
    "        self._salary = self._salary * (1 + ratio/100.0)\n",
    "        \n",
    "    # speciální metoda __str__\n",
    "    def __str__(self):\n",
    "        return \"Full name: \" + self._first_name + \" \" + self._surname + \"   Salary: \" + str(self._salary)"
   ]
  },
  {
   "cell_type": "code",
   "execution_count": 150,
   "metadata": {},
   "outputs": [
    {
     "name": "stdout",
     "output_type": "stream",
     "text": [
      "Konstruktor first surname 10000\n"
     ]
    }
   ],
   "source": [
    "e = Employee(\"first\", \"surname\", 10000)"
   ]
  },
  {
   "cell_type": "code",
   "execution_count": 151,
   "metadata": {},
   "outputs": [],
   "source": [
    "e.set_first_name(\"new first name\")"
   ]
  },
  {
   "cell_type": "markdown",
   "metadata": {},
   "source": [
    "## Klíčové slovo `assert`"
   ]
  },
  {
   "cell_type": "code",
   "execution_count": 153,
   "metadata": {},
   "outputs": [],
   "source": [
    "assert 1==1"
   ]
  },
  {
   "cell_type": "code",
   "execution_count": 154,
   "metadata": {},
   "outputs": [
    {
     "ename": "AssertionError",
     "evalue": "",
     "output_type": "error",
     "traceback": [
      "\u001b[0;31m---------------------------------------------------------------------------\u001b[0m",
      "\u001b[0;31mAssertionError\u001b[0m                            Traceback (most recent call last)",
      "\u001b[0;32m<ipython-input-154-3b52dd347818>\u001b[0m in \u001b[0;36m<module>\u001b[0;34m\u001b[0m\n\u001b[0;32m----> 1\u001b[0;31m \u001b[0;32massert\u001b[0m \u001b[0;36m1\u001b[0m\u001b[0;34m!=\u001b[0m\u001b[0;36m1\u001b[0m\u001b[0;34m\u001b[0m\u001b[0;34m\u001b[0m\u001b[0m\n\u001b[0m",
      "\u001b[0;31mAssertionError\u001b[0m: "
     ]
    }
   ],
   "source": [
    "assert 1!=1"
   ]
  },
  {
   "cell_type": "code",
   "execution_count": 169,
   "metadata": {},
   "outputs": [],
   "source": [
    "# Funkce se třemi povinnými parametry\n",
    "def slozeny_urok(zaklad, urok, roky):\n",
    "    assert zaklad >= 0, \"Základ musí být nezáporný\"\n",
    "    assert urok >= 0, \"Úrok by měl být kladný\"\n",
    "    \n",
    "    r = urok\n",
    "    z = zaklad\n",
    "    for i in range(0, roky):\n",
    "        z = z * (1 + r/100.0)\n",
    "        assert z > 0, \"Mezivýpočet...\"\n",
    "    return z"
   ]
  },
  {
   "cell_type": "code",
   "execution_count": 168,
   "metadata": {},
   "outputs": [
    {
     "ename": "AssertionError",
     "evalue": "Mezivýpočet...",
     "output_type": "error",
     "traceback": [
      "\u001b[0;31m---------------------------------------------------------------------------\u001b[0m",
      "\u001b[0;31mAssertionError\u001b[0m                            Traceback (most recent call last)",
      "\u001b[0;32m<ipython-input-168-ecb6713628d8>\u001b[0m in \u001b[0;36m<module>\u001b[0;34m\u001b[0m\n\u001b[0;32m----> 1\u001b[0;31m \u001b[0mslozeny_urok\u001b[0m\u001b[0;34m(\u001b[0m\u001b[0;36m10000\u001b[0m\u001b[0;34m,\u001b[0m \u001b[0;36m500\u001b[0m\u001b[0;34m,\u001b[0m \u001b[0;36m50\u001b[0m\u001b[0;34m)\u001b[0m\u001b[0;34m\u001b[0m\u001b[0;34m\u001b[0m\u001b[0m\n\u001b[0m",
      "\u001b[0;32m<ipython-input-166-c4d2a3a93852>\u001b[0m in \u001b[0;36mslozeny_urok\u001b[0;34m(zaklad, urok, roky)\u001b[0m\n\u001b[1;32m      8\u001b[0m     \u001b[0;32mfor\u001b[0m \u001b[0mi\u001b[0m \u001b[0;32min\u001b[0m \u001b[0mrange\u001b[0m\u001b[0;34m(\u001b[0m\u001b[0;36m0\u001b[0m\u001b[0;34m,\u001b[0m \u001b[0mroky\u001b[0m\u001b[0;34m)\u001b[0m\u001b[0;34m:\u001b[0m\u001b[0;34m\u001b[0m\u001b[0;34m\u001b[0m\u001b[0m\n\u001b[1;32m      9\u001b[0m         \u001b[0mz\u001b[0m \u001b[0;34m=\u001b[0m \u001b[0mz\u001b[0m \u001b[0;34m*\u001b[0m \u001b[0;34m(\u001b[0m\u001b[0;36m1\u001b[0m \u001b[0;34m-\u001b[0m \u001b[0mr\u001b[0m\u001b[0;34m/\u001b[0m\u001b[0;36m100.0\u001b[0m\u001b[0;34m)\u001b[0m\u001b[0;34m\u001b[0m\u001b[0;34m\u001b[0m\u001b[0m\n\u001b[0;32m---> 10\u001b[0;31m         \u001b[0;32massert\u001b[0m \u001b[0mz\u001b[0m \u001b[0;34m>\u001b[0m \u001b[0;36m0\u001b[0m\u001b[0;34m,\u001b[0m \u001b[0;34m\"Mezivýpočet...\"\u001b[0m\u001b[0;34m\u001b[0m\u001b[0;34m\u001b[0m\u001b[0m\n\u001b[0m\u001b[1;32m     11\u001b[0m     \u001b[0;32mreturn\u001b[0m \u001b[0mz\u001b[0m\u001b[0;34m\u001b[0m\u001b[0;34m\u001b[0m\u001b[0m\n",
      "\u001b[0;31mAssertionError\u001b[0m: Mezivýpočet..."
     ]
    }
   ],
   "source": [
    "slozeny_urok(10000, 500, 50)"
   ]
  },
  {
   "cell_type": "code",
   "execution_count": 213,
   "metadata": {},
   "outputs": [
    {
     "name": "stdout",
     "output_type": "stream",
     "text": [
      "Tabulka byla načtena a zkonvertována!\n",
      "7734.5\n",
      "1002.1\n",
      "1560.6596491228063\n",
      "533745.6000000001\n",
      "Suma: 533745.5999999997\n"
     ]
    },
    {
     "data": {
      "image/png": "[encoded data removed]",
      "text/plain": [
       "<Figure size 432x288 with 1 Axes>"
      ]
     },
     "metadata": {
      "needs_background": "light"
     },
     "output_type": "display_data"
    }
   ],
   "source": [
    "try:\n",
    "    tabulka = pandas.read_csv(\"data_update_2020.csv\", sep=\";\")\n",
    "    # Vytvoření nového sloupce, hodnoty jsou získány ze sloupce \"avg-exp-pc\" a všechny mezery jsou vymazány\n",
    "    tabulka[\"new-avg-exp-pc\"] = tabulka[\"avg-exp-pc\"].transform(lambda s:s.replace(\" \", \"\"))\n",
    "    tabulka['X'] = pandas.to_numeric(tabulka['new-avg-exp-pc'])\n",
    "    del tabulka[\"avg-exp-pc\"]\n",
    "    del tabulka[\"new-avg-exp-pc\"]\n",
    "    tabulka[\"avg-exp-pc\"] = tabulka[\"X\"]\n",
    "    print(\"Tabulka byla načtena a zkonvertována!\")\n",
    "    \n",
    "    # průchod přes řádky tabulky\n",
    "    #for i, zaznam in tabulka.iterrows():\n",
    "    #    if zaznam[\"avg-exp-pc\"] > 1000:\n",
    "    #        print(i, zaznam[\"OBEC\"], zaznam[\"avg-exp-pc\"])\n",
    "\n",
    "    vyber2 = tabulka[tabulka[\"avg-exp-pc\"] > 1000]\n",
    "    print(vyber2[\"avg-exp-pc\"].max())\n",
    "    print(vyber2[\"avg-exp-pc\"].min())\n",
    "    print(vyber2[\"avg-exp-pc\"].mean())\n",
    "    print(vyber2[\"avg-exp-pc\"].sum())\n",
    "    \n",
    "    # ruční výpočet sumy\n",
    "    avg = vyber2[\"avg-exp-pc\"]\n",
    "    suma = 0\n",
    "    for i, a in avg.items():\n",
    "        suma += a\n",
    "    print(\"Suma:\", suma)\n",
    "    \n",
    "    #plt.plot(vyber2[\"avg-exp-pc\"])\n",
    "    #plt.plot(vyber2[\"avg-exp-pc\"])\n",
    "    #vyber2[\"avg-exp-pc\"].plot.bar()\n",
    "    vyber2[\"avg-exp-pc\"].plot.hist()\n",
    "        \n",
    "except FileNotFoundError as e:\n",
    "    # obsluha první výjimky\n",
    "    print(\"Chyba při načítání CSV souboru\")\n",
    "    print(\"Podrobnější informace o chybě:\", e)\n",
    "except ValueError as e:\n",
    "    # obsluha druhé výjimky\n",
    "    print(\"Chyba při konverzi dat\")\n",
    "    print(\"Podrobnější informace o chybě:\", e)\n",
    "except Exception as e:\n",
    "    # obsluha všech zbývajících typů výjimek\n",
    "    print(\"Neznámá chyba: \", e)"
   ]
  },
  {
   "cell_type": "code",
   "execution_count": 199,
   "metadata": {},
   "outputs": [],
   "source": [
    "# Dokumentace Pandas: https://pandas.pydata.org/pandas-docs/stable/reference/index.html#api"
   ]
  },
  {
   "cell_type": "markdown",
   "metadata": {},
   "source": [
    "# Numpy a Matplotlib"
   ]
  },
  {
   "cell_type": "markdown",
   "metadata": {},
   "source": [
    "https://github.com/tisnik/python-programming-courses/blob/master/Matplotlib/matplotlib_in_action.py"
   ]
  },
  {
   "cell_type": "code",
   "execution_count": 214,
   "metadata": {},
   "outputs": [],
   "source": [
    "# Pro potřeby prezentace naimportujeme všechny funkce a konstanty z knihovny `matplotlib.pyplot`\n",
    "import matplotlib.pyplot as plt\n",
    "\n",
    "# Taktéž budeme potřebovat některé funkce z knihovny `numpy`\n",
    "import numpy as np"
   ]
  },
  {
   "cell_type": "code",
   "execution_count": 215,
   "metadata": {},
   "outputs": [
    {
     "data": {
      "text/plain": [
       "[<matplotlib.lines.Line2D at 0x7fa8f421d6a0>]"
      ]
     },
     "execution_count": 215,
     "metadata": {},
     "output_type": "execute_result"
    },
    {
     "data": {
      "image/png": "[encoded data removed]",
      "text/plain": [
       "<Figure size 432x288 with 1 Axes>"
      ]
     },
     "metadata": {
      "needs_background": "light"
     },
     "output_type": "display_data"
    }
   ],
   "source": [
    "# hodnoty na x-ové ose\n",
    "x = np.linspace(0, 2*np.pi, 100)\n",
    "\n",
    "# hodnoty na y-ové ose\n",
    "y = np.sin(x)\n",
    "\n",
    "# vykreslit průběh funkce\n",
    "plt.plot(x, y)"
   ]
  },
  {
   "cell_type": "code",
   "execution_count": 216,
   "metadata": {},
   "outputs": [
    {
     "data": {
      "text/plain": [
       "array([0.        , 0.06346652, 0.12693304, 0.19039955, 0.25386607,\n",
       "       0.31733259, 0.38079911, 0.44426563, 0.50773215, 0.57119866,\n",
       "       0.63466518, 0.6981317 , 0.76159822, 0.82506474, 0.88853126,\n",
       "       0.95199777, 1.01546429, 1.07893081, 1.14239733, 1.20586385,\n",
       "       1.26933037, 1.33279688, 1.3962634 , 1.45972992, 1.52319644,\n",
       "       1.58666296, 1.65012947, 1.71359599, 1.77706251, 1.84052903,\n",
       "       1.90399555, 1.96746207, 2.03092858, 2.0943951 , 2.15786162,\n",
       "       2.22132814, 2.28479466, 2.34826118, 2.41172769, 2.47519421,\n",
       "       2.53866073, 2.60212725, 2.66559377, 2.72906028, 2.7925268 ,\n",
       "       2.85599332, 2.91945984, 2.98292636, 3.04639288, 3.10985939,\n",
       "       3.17332591, 3.23679243, 3.30025895, 3.36372547, 3.42719199,\n",
       "       3.4906585 , 3.55412502, 3.61759154, 3.68105806, 3.74452458,\n",
       "       3.8079911 , 3.87145761, 3.93492413, 3.99839065, 4.06185717,\n",
       "       4.12532369, 4.1887902 , 4.25225672, 4.31572324, 4.37918976,\n",
       "       4.44265628, 4.5061228 , 4.56958931, 4.63305583, 4.69652235,\n",
       "       4.75998887, 4.82345539, 4.88692191, 4.95038842, 5.01385494,\n",
       "       5.07732146, 5.14078798, 5.2042545 , 5.26772102, 5.33118753,\n",
       "       5.39465405, 5.45812057, 5.52158709, 5.58505361, 5.64852012,\n",
       "       5.71198664, 5.77545316, 5.83891968, 5.9023862 , 5.96585272,\n",
       "       6.02931923, 6.09278575, 6.15625227, 6.21971879, 6.28318531])"
      ]
     },
     "execution_count": 216,
     "metadata": {},
     "output_type": "execute_result"
    }
   ],
   "source": [
    "x"
   ]
  },
  {
   "cell_type": "code",
   "execution_count": 217,
   "metadata": {},
   "outputs": [
    {
     "data": {
      "text/plain": [
       "[<matplotlib.lines.Line2D at 0x7fa8f4150a90>,\n",
       " <matplotlib.lines.Line2D at 0x7fa8f4150ac0>]"
      ]
     },
     "execution_count": 217,
     "metadata": {},
     "output_type": "execute_result"
    },
    {
     "data": {
      "image/png": "[encoded data removed]",
      "text/plain": [
       "<Figure size 432x288 with 1 Axes>"
      ]
     },
     "metadata": {
      "needs_background": "light"
     },
     "output_type": "display_data"
    }
   ],
   "source": [
    "# hodnoty na x-ové ose\n",
    "x = np.linspace(0, 2*np.pi, 100)\n",
    "\n",
    "# hodnoty na y-ové ose: první funkce\n",
    "y1 = np.sin(x)\n",
    "\n",
    "# hodnoty na y-ové ose: druhá funkce\n",
    "y2 = np.cos(x)\n",
    "\n",
    "# vykreslit průběh obou funkcí\n",
    "plt.plot(x, y1, x, y2)"
   ]
  },
  {
   "cell_type": "code",
   "execution_count": 220,
   "metadata": {},
   "outputs": [
    {
     "data": {
      "text/plain": [
       "Text(0, 0.5, 'sin(x), cos(x) a sinc(x)')"
      ]
     },
     "execution_count": 220,
     "metadata": {},
     "output_type": "execute_result"
    },
    {
     "data": {
      "image/png": "[encoded data removed]",
      "text/plain": [
       "<Figure size 432x288 with 1 Axes>"
      ]
     },
     "metadata": {
      "needs_background": "light"
     },
     "output_type": "display_data"
    }
   ],
   "source": [
    "# hodnoty na x-ové ose\n",
    "x = np.linspace(0.01, 2*np.pi, 100)\n",
    "\n",
    "# hodnoty na y-ové ose: první funkce\n",
    "y1 = np.sin(x)\n",
    "\n",
    "# hodnoty na y-ové ose: druhá funkce\n",
    "y2 = np.cos(x)\n",
    "\n",
    "# hodnoty na y-ové ose: třetí funkce\n",
    "y3 = np.sin(x)/x\n",
    "\n",
    "# vykreslit průběh všech tří funkcí\n",
    "# se změnou stylu vykreslování\n",
    "plt.plot(x, y1, \"b-\", label=\"sin\")\n",
    "plt.plot(x, y2, \"r.\", label=\"cos\")\n",
    "plt.plot(x, y3, \"g--\", label=\"sinc\")\n",
    "\n",
    "# přidání legendy\n",
    "plt.legend(loc=\"lower left\")\n",
    "\n",
    "# zobrazení mřížky\n",
    "plt.grid(True)\n",
    "\n",
    "# popis os\n",
    "plt.xlabel(\"x\")\n",
    "plt.ylabel(\"sin(x), cos(x) a sinc(x)\")"
   ]
  },
  {
   "cell_type": "code",
   "execution_count": 221,
   "metadata": {},
   "outputs": [
    {
     "data": {
      "text/plain": [
       "<matplotlib.legend.Legend at 0x7fa8f3fe8670>"
      ]
     },
     "execution_count": 221,
     "metadata": {},
     "output_type": "execute_result"
    },
    {
     "data": {
      "image/png": "[encoded data removed]",
      "text/plain": [
       "<Figure size 432x288 with 1 Axes>"
      ]
     },
     "metadata": {
      "needs_background": "light"
     },
     "output_type": "display_data"
    }
   ],
   "source": [
    "# historické ceny ropy\n",
    "cena_ropy = [\n",
    "    46.68, 44.68, 46.90, 47.15, 44.59, 44.00, 44.63, 45.92, 44.15, 45.94,\n",
    "    46.05, 46.75, 46.25, 45.41, 49.20, 45.22, 42.56, 38.60, 39.31, 38.24,\n",
    "    40.45, 41.32, 40.80, 42.62, 41.87, 42.50, 42.23, 43.30, 43.08, 44.96,\n",
    "    43.87, 44.66, 45.15, 47.12, 48.52, 48.79, 47.98, 47.39, 48.14, 48.45]\n",
    "\n",
    "# počet prvků\n",
    "N = len(cena_ropy)\n",
    "\n",
    "# indexy prvků\n",
    "indexes = np.arange(N)\n",
    "\n",
    "# šířka sloupců\n",
    "width = 1.00\n",
    "\n",
    "# sloupcový graf\n",
    "plt.bar(indexes, cena_ropy, width, color='yellow', edgecolor='black',\n",
    "        label='Cena ropy')\n",
    "\n",
    "# povolení zobrazení mřížky\n",
    "plt.grid(True)\n",
    "\n",
    "# přidání legendy\n",
    "plt.legend(loc=\"lower right\")"
   ]
  },
  {
   "cell_type": "code",
   "execution_count": 228,
   "metadata": {},
   "outputs": [
    {
     "data": {
      "text/plain": [
       "<matplotlib.legend.Legend at 0x7fa8f4285ca0>"
      ]
     },
     "execution_count": 228,
     "metadata": {},
     "output_type": "execute_result"
    },
    {
     "data": {
      "image/png": "[encoded data removed]",
      "text/plain": [
       "<Figure size 432x288 with 1 Axes>"
      ]
     },
     "metadata": {
      "needs_background": "light"
     },
     "output_type": "display_data"
    }
   ],
   "source": [
    "# první pole hodnot\n",
    "vals1 = [10, 15, 20, 12, 14, 8]\n",
    "\n",
    "# druhé pole hodnot\n",
    "vals2 = [19, 18,  6, 11,  6, 14]\n",
    "\n",
    "# počet prvků\n",
    "N = len(vals1)\n",
    "\n",
    "# indexy prvků\n",
    "indexes = np.arange(N)\n",
    "\n",
    "# šířka sloupců\n",
    "width = 0.30\n",
    "\n",
    "# sloupcový graf se dvěma skupinami sloupců\n",
    "plt.bar(indexes, vals1, width, color='gray', edgecolor='black', label='CPU#1')\n",
    "# posunuté sloupce\n",
    "plt.bar(indexes+width, vals2, width, color='red', edgecolor='black',\n",
    "        label='CPU#2')\n",
    "\n",
    "# povolení zobrazení mřížky\n",
    "plt.grid(True)\n",
    "\n",
    "# přidání legendy\n",
    "plt.legend(loc=\"lower right\")"
   ]
  },
  {
   "cell_type": "code",
   "execution_count": 231,
   "metadata": {},
   "outputs": [
    {
     "data": {
      "text/plain": [
       "(array([5.82003378e-04, 2.91001689e-03, 4.07402365e-03, 9.89405743e-03,\n",
       "        1.33860777e-02, 2.91001689e-02, 5.93643446e-02, 7.97344628e-02,\n",
       "        1.28622747e-01, 2.04865189e-01, 2.89837682e-01, 4.11476388e-01,\n",
       "        5.83749388e-01, 8.64275017e-01, 1.11977450e+00, 1.42532627e+00,\n",
       "        1.80653849e+00, 2.21277684e+00, 2.58991503e+00, 3.03631162e+00,\n",
       "        3.38202163e+00, 3.67709734e+00, 3.98788715e+00, 3.96635302e+00,\n",
       "        3.91862875e+00, 3.88836457e+00, 3.64566916e+00, 3.28599107e+00,\n",
       "        2.88266273e+00, 2.40774798e+00, 2.03933984e+00, 1.63484749e+00,\n",
       "        1.29612152e+00, 1.04062204e+00, 7.49038348e-01, 4.96448882e-01,\n",
       "        3.51530040e-01, 2.51425459e-01, 1.61796939e-01, 1.10580642e-01,\n",
       "        6.51843784e-02, 3.95762297e-02, 2.50261453e-02, 1.45500845e-02,\n",
       "        2.91001689e-03, 2.32801351e-03, 2.91001689e-03, 5.82003378e-04,\n",
       "        0.00000000e+00, 5.82003378e-04]),\n",
       " array([-0.40903387, -0.39185184, -0.37466981, -0.35748778, -0.34030575,\n",
       "        -0.32312372, -0.30594169, -0.28875966, -0.27157763, -0.25439559,\n",
       "        -0.23721356, -0.22003153, -0.2028495 , -0.18566747, -0.16848544,\n",
       "        -0.15130341, -0.13412138, -0.11693935, -0.09975732, -0.08257529,\n",
       "        -0.06539326, -0.04821122, -0.03102919, -0.01384716,  0.00333487,\n",
       "         0.0205169 ,  0.03769893,  0.05488096,  0.07206299,  0.08924502,\n",
       "         0.10642705,  0.12360908,  0.14079112,  0.15797315,  0.17515518,\n",
       "         0.19233721,  0.20951924,  0.22670127,  0.2438833 ,  0.26106533,\n",
       "         0.27824736,  0.29542939,  0.31261142,  0.32979345,  0.34697549,\n",
       "         0.36415752,  0.38133955,  0.39852158,  0.41570361,  0.43288564,\n",
       "         0.45006767]),\n",
       " <a list of 50 Patch objects>)"
      ]
     },
     "execution_count": 231,
     "metadata": {},
     "output_type": "execute_result"
    },
    {
     "data": {
      "image/png": "[encoded data removed]",
      "text/plain": [
       "<Figure size 432x288 with 1 Axes>"
      ]
     },
     "metadata": {
      "needs_background": "light"
     },
     "output_type": "display_data"
    }
   ],
   "source": [
    "# náhodné hodnoty\n",
    "y = np.random.normal(0, 0.1, 100000)\n",
    "\n",
    "plt.hist(y, bins=50, range=None, density=True)"
   ]
  },
  {
   "cell_type": "code",
   "execution_count": 232,
   "metadata": {},
   "outputs": [
    {
     "data": {
      "image/png": "[encoded data removed]",
      "text/plain": [
       "<Figure size 432x288 with 1 Axes>"
      ]
     },
     "metadata": {
      "needs_background": "light"
     },
     "output_type": "display_data"
    }
   ],
   "source": [
    "# první pole hodnot a pole odchylek\n",
    "vals1 = [10, 15, 20, 12, 14, 8]\n",
    "delta1 = [1, 2, 3, 4, 5, 0]\n",
    "\n",
    "# druhé pole hodnot a pole odchylek\n",
    "vals2 = [19, 18,  6, 11,  6, 14]\n",
    "delta2 = [4, 2, 3, 2, 2, 4]\n",
    "\n",
    "# počet prvků\n",
    "N = len(vals1)\n",
    "\n",
    "# indexy prvků\n",
    "indexes = np.arange(N)\n",
    "\n",
    "# šířka sloupců\n",
    "width = 0.30\n",
    "\n",
    "# sloupcový graf se dvěma skupinami sloupců\n",
    "plt.bar(indexes, vals1, width, color='gray', edgecolor='black', label='CPU#1',\n",
    "        yerr=delta1)\n",
    "\n",
    "# posunuté sloupce\n",
    "plt.bar(indexes+width, vals2, width, color='red', edgecolor='black',\n",
    "        label='CPU#2', yerr=delta2)\n",
    "\n",
    "# povolení zobrazení mřížky\n",
    "plt.grid(True)"
   ]
  },
  {
   "cell_type": "code",
   "execution_count": 233,
   "metadata": {},
   "outputs": [
    {
     "data": {
      "text/plain": [
       "<matplotlib.legend.Legend at 0x7fa8f432a400>"
      ]
     },
     "execution_count": 233,
     "metadata": {},
     "output_type": "execute_result"
    },
    {
     "data": {
      "image/png": "[encoded data removed]",
      "text/plain": [
       "<Figure size 432x288 with 1 Axes>"
      ]
     },
     "metadata": {
      "needs_background": "light"
     },
     "output_type": "display_data"
    }
   ],
   "source": [
    "# první pole hodnot a pole odchylek\n",
    "vals1 = [10, 15, 20, 12, 14, 8]\n",
    "delta1 = [1, 2, 3, 4, 5, 0]\n",
    "\n",
    "# druhé pole hodnot a pole odchylek\n",
    "vals2 = [19, 18,  6, 11,  6, 14]\n",
    "delta2 = [4, 2, 3, 2, 2, 4]\n",
    "\n",
    "# počet prvků\n",
    "N = len(vals1)\n",
    "\n",
    "# indexy prvků\n",
    "indexes = np.arange(N)\n",
    "\n",
    "# šířka sloupců\n",
    "width = 0.30\n",
    "\n",
    "# sloupcový graf se dvěma skupinami sloupců\n",
    "plt.bar(indexes, vals1, width, color='gray', edgecolor='black', label='CPU#1',\n",
    "        yerr=delta1, error_kw=dict(elinewidth=2, ecolor='red'))\n",
    "\n",
    "# posunuté sloupce\n",
    "plt.bar(indexes+width, vals2, width, color='red', edgecolor='black',\n",
    "        label='CPU#2',\n",
    "        yerr=delta2, error_kw=dict(elinewidth=2, ecolor='black'))\n",
    "\n",
    "# povolení zobrazení mřížky\n",
    "plt.grid(True)\n",
    "\n",
    "# přidání legendy\n",
    "plt.legend(loc=\"lower right\")"
   ]
  },
  {
   "cell_type": "code",
   "execution_count": null,
   "metadata": {},
   "outputs": [],
   "source": []
  }
 ],
 "metadata": {
  "kernelspec": {
   "display_name": "Python 3",
   "language": "python",
   "name": "python3"
  },
  "language_info": {
   "codemirror_mode": {
    "name": "ipython",
    "version": 3
   },
   "file_extension": ".py",
   "mimetype": "text/x-python",
   "name": "python",
   "nbconvert_exporter": "python",
   "pygments_lexer": "ipython3",
   "version": "3.8.6"
  }
 },
 "nbformat": 4,
 "nbformat_minor": 4
}
