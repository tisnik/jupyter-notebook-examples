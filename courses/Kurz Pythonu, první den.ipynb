{
 "cells": [
  {
   "cell_type": "code",
   "execution_count": 145,
   "metadata": {},
   "outputs": [
    {
     "data": {
      "text/plain": [
       "101"
      ]
     },
     "execution_count": 145,
     "metadata": {},
     "output_type": "execute_result"
    }
   ],
   "source": [
    "# výrazy se přímo vyhodnotí a vypíše se jejich výsledek\n",
    "1+100"
   ]
  },
  {
   "cell_type": "code",
   "execution_count": 146,
   "metadata": {},
   "outputs": [
    {
     "name": "stdout",
     "output_type": "stream",
     "text": [
      "1\n",
      "3\n",
      "5\n"
     ]
    }
   ],
   "source": [
    "# funkce print vypíše hodnotu vypočteného výrazu\n",
    "print(1)\n",
    "print(1+2)\n",
    "\n",
    "# použití proměnných\n",
    "x=5\n",
    "print(x)"
   ]
  },
  {
   "cell_type": "code",
   "execution_count": 147,
   "metadata": {},
   "outputs": [
    {
     "name": "stdout",
     "output_type": "stream",
     "text": [
      "13\n"
     ]
    }
   ],
   "source": [
    "# složitější aritmetický výraz\n",
    "y = 2 * x + 3\n",
    "print(y)"
   ]
  },
  {
   "cell_type": "markdown",
   "metadata": {},
   "source": [
    "Nyní se budeme snažit vypočítat Pi"
   ]
  },
  {
   "cell_type": "code",
   "execution_count": 148,
   "metadata": {},
   "outputs": [
    {
     "data": {
      "text/plain": [
       "'Toto je dokumentační řetězec.'"
      ]
     },
     "execution_count": 148,
     "metadata": {},
     "output_type": "execute_result"
    }
   ],
   "source": [
    "\"\"\"Toto je dokumentační řetězec.\"\"\""
   ]
  },
  {
   "cell_type": "code",
   "execution_count": 149,
   "metadata": {},
   "outputs": [
    {
     "ename": "SyntaxError",
     "evalue": "invalid syntax (<ipython-input-149-a6ff10bd5900>, line 2)",
     "output_type": "error",
     "traceback": [
      "\u001b[0;36m  File \u001b[0;32m\"<ipython-input-149-a6ff10bd5900>\"\u001b[0;36m, line \u001b[0;32m2\u001b[0m\n\u001b[0;31m    if=3\u001b[0m\n\u001b[0m      ^\u001b[0m\n\u001b[0;31mSyntaxError\u001b[0m\u001b[0;31m:\u001b[0m invalid syntax\n"
     ]
    }
   ],
   "source": [
    "# if je klíčové slovo a nejde použít pro jméno proměnné\n",
    "if=3"
   ]
  },
  {
   "cell_type": "code",
   "execution_count": 150,
   "metadata": {},
   "outputs": [
    {
     "name": "stdout",
     "output_type": "stream",
     "text": [
      "42\n",
      "Python\n",
      "3e+27\n",
      "None\n",
      "10\n",
      "něco jiného\n"
     ]
    }
   ],
   "source": [
    "# vytvoření proměnných různých typů\n",
    "x = 42\n",
    "y = \"Python\"\n",
    "z = 3e27\n",
    "\n",
    "print(x)\n",
    "print(y)\n",
    "print(z)\n",
    "\n",
    "x = None\n",
    "print(x)\n",
    "\n",
    "x = 10\n",
    "print(x)\n",
    "\n",
    "x = \"něco jiného\"\n",
    "print(x)"
   ]
  },
  {
   "cell_type": "code",
   "execution_count": 151,
   "metadata": {},
   "outputs": [],
   "source": [
    "# vymazání proměnné z paměti\n",
    "del x"
   ]
  },
  {
   "cell_type": "code",
   "execution_count": 152,
   "metadata": {},
   "outputs": [],
   "source": [
    "# vytvoření seznamu se třemi prvky\n",
    "s = [1, 2, 3]"
   ]
  },
  {
   "cell_type": "code",
   "execution_count": 153,
   "metadata": {},
   "outputs": [],
   "source": [
    "# seznam je heterogenní - může obsahovat hodnoty libovolného typu\n",
    "s2 = [1, \"XXX\", 3.14, True]"
   ]
  },
  {
   "cell_type": "code",
   "execution_count": 155,
   "metadata": {},
   "outputs": [
    {
     "name": "stdout",
     "output_type": "stream",
     "text": [
      "42000000000000000000000\n",
      "3.1415\n",
      "350000.0\n",
      "-3.1e-09\n",
      "0.5\n"
     ]
    }
   ],
   "source": [
    "# číselné hodnoty\n",
    "print(42000000000000000000000)\n",
    "print(3.1415)\n",
    "# 3.5x10^5\n",
    "print(3.5e5)\n",
    "print(-3.1e-9)\n",
    "print(.5)"
   ]
  },
  {
   "cell_type": "code",
   "execution_count": 156,
   "metadata": {},
   "outputs": [
    {
     "data": {
      "text/plain": [
       "1.3333333333333333"
      ]
     },
     "execution_count": 156,
     "metadata": {},
     "output_type": "execute_result"
    }
   ],
   "source": [
    "# dělení s reálným výsledkem (Python 3)\n",
    "4/3"
   ]
  },
  {
   "cell_type": "code",
   "execution_count": 157,
   "metadata": {},
   "outputs": [
    {
     "data": {
      "text/plain": [
       "1"
      ]
     },
     "execution_count": 157,
     "metadata": {},
     "output_type": "execute_result"
    }
   ],
   "source": [
    "# celočíselné dělení\n",
    "4//3"
   ]
  },
  {
   "cell_type": "code",
   "execution_count": 158,
   "metadata": {},
   "outputs": [
    {
     "ename": "NameError",
     "evalue": "name 'true' is not defined",
     "output_type": "error",
     "traceback": [
      "\u001b[0;31m---------------------------------------------------------------------------\u001b[0m",
      "\u001b[0;31mNameError\u001b[0m                                 Traceback (most recent call last)",
      "\u001b[0;32m<ipython-input-158-ae995c9f5c16>\u001b[0m in \u001b[0;36m<module>\u001b[0;34m\u001b[0m\n\u001b[1;32m      1\u001b[0m \u001b[0;31m# Hodnota True je definována, hodnota true nikoli\u001b[0m\u001b[0;34m\u001b[0m\u001b[0;34m\u001b[0m\u001b[0;34m\u001b[0m\u001b[0m\n\u001b[1;32m      2\u001b[0m \u001b[0ma\u001b[0m \u001b[0;34m=\u001b[0m \u001b[0;32mTrue\u001b[0m\u001b[0;34m\u001b[0m\u001b[0;34m\u001b[0m\u001b[0m\n\u001b[0;32m----> 3\u001b[0;31m \u001b[0mb\u001b[0m \u001b[0;34m=\u001b[0m \u001b[0mtrue\u001b[0m\u001b[0;34m\u001b[0m\u001b[0;34m\u001b[0m\u001b[0m\n\u001b[0m",
      "\u001b[0;31mNameError\u001b[0m: name 'true' is not defined"
     ]
    }
   ],
   "source": [
    "# Hodnota True je definována, hodnota true nikoli\n",
    "a = True\n",
    "b = true"
   ]
  },
  {
   "cell_type": "code",
   "execution_count": 159,
   "metadata": {},
   "outputs": [
    {
     "data": {
      "text/plain": [
       "True"
      ]
     },
     "execution_count": 159,
     "metadata": {},
     "output_type": "execute_result"
    }
   ],
   "source": [
    "# Logický výraz\n",
    "True and False or True"
   ]
  },
  {
   "cell_type": "code",
   "execution_count": 160,
   "metadata": {},
   "outputs": [
    {
     "data": {
      "text/plain": [
       "True"
      ]
     },
     "execution_count": 160,
     "metadata": {},
     "output_type": "execute_result"
    }
   ],
   "source": [
    "# Proměnné s logickými hodnotami\n",
    "a = True\n",
    "b = False\n",
    "c = True\n",
    "a and b or c"
   ]
  },
  {
   "cell_type": "code",
   "execution_count": 161,
   "metadata": {},
   "outputs": [
    {
     "data": {
      "text/plain": [
       "False"
      ]
     },
     "execution_count": 161,
     "metadata": {},
     "output_type": "execute_result"
    }
   ],
   "source": [
    "# Relační operátor\n",
    "1 == 2"
   ]
  },
  {
   "cell_type": "code",
   "execution_count": 162,
   "metadata": {},
   "outputs": [
    {
     "data": {
      "text/plain": [
       "True"
      ]
     },
     "execution_count": 162,
     "metadata": {},
     "output_type": "execute_result"
    }
   ],
   "source": [
    "# Relační operátor\n",
    "2 == 2"
   ]
  },
  {
   "cell_type": "code",
   "execution_count": 163,
   "metadata": {},
   "outputs": [
    {
     "data": {
      "text/plain": [
       "True"
      ]
     },
     "execution_count": 163,
     "metadata": {},
     "output_type": "execute_result"
    }
   ],
   "source": [
    "# Relační operátor\n",
    "10 < 20"
   ]
  },
  {
   "cell_type": "code",
   "execution_count": 164,
   "metadata": {},
   "outputs": [
    {
     "name": "stdout",
     "output_type": "stream",
     "text": [
      "True\n"
     ]
    }
   ],
   "source": [
    "# Relační operátor\n",
    "x = 10\n",
    "y = 20\n",
    "podm = x < y\n",
    "print(podm)"
   ]
  },
  {
   "cell_type": "code",
   "execution_count": 165,
   "metadata": {},
   "outputs": [
    {
     "data": {
      "text/plain": [
       "True"
      ]
     },
     "execution_count": 165,
     "metadata": {},
     "output_type": "execute_result"
    }
   ],
   "source": [
    "# Test, zda seznam obsahuje prvek 2\n",
    "l = [1, 2, 3]\n",
    "2 in l"
   ]
  },
  {
   "cell_type": "code",
   "execution_count": 166,
   "metadata": {},
   "outputs": [
    {
     "data": {
      "text/plain": [
       "False"
      ]
     },
     "execution_count": 166,
     "metadata": {},
     "output_type": "execute_result"
    }
   ],
   "source": [
    "# Test, zda seznam obsahuje prvek 100\n",
    "100 in l"
   ]
  },
  {
   "cell_type": "code",
   "execution_count": 167,
   "metadata": {},
   "outputs": [
    {
     "name": "stdout",
     "output_type": "stream",
     "text": [
      "test \"test\" test \\test\n"
     ]
    }
   ],
   "source": [
    "# Speciální význam zpětného lomítka\n",
    "print(\"test \\\"test\\\" test \\\\test\")"
   ]
  },
  {
   "cell_type": "code",
   "execution_count": 168,
   "metadata": {},
   "outputs": [
    {
     "name": "stdout",
     "output_type": "stream",
     "text": [
      "c:\\Documents\\xyz\n",
      "c:\\Documents\\xyz\n"
     ]
    }
   ],
   "source": [
    "# Tzv. \"raw\" řetězce\n",
    "print(\"c:\\\\Documents\\\\xyz\")\n",
    "print(r\"c:\\Documents\\xyz\")"
   ]
  },
  {
   "cell_type": "code",
   "execution_count": 169,
   "metadata": {},
   "outputs": [
    {
     "name": "stdout",
     "output_type": "stream",
     "text": [
      "A\n",
      "B\n",
      "C\n",
      "D\n",
      "E\n",
      "F\n"
     ]
    }
   ],
   "source": [
    "# Víceřádkové řetězce\n",
    "print(\"\"\"A\n",
    "B\n",
    "C\n",
    "D\n",
    "E\n",
    "F\"\"\")"
   ]
  },
  {
   "cell_type": "code",
   "execution_count": 170,
   "metadata": {},
   "outputs": [
    {
     "ename": "SyntaxError",
     "evalue": "EOL while scanning string literal (<ipython-input-170-3c23f8b08332>, line 2)",
     "output_type": "error",
     "traceback": [
      "\u001b[0;36m  File \u001b[0;32m\"<ipython-input-170-3c23f8b08332>\"\u001b[0;36m, line \u001b[0;32m2\u001b[0m\n\u001b[0;31m    print(\"A\u001b[0m\n\u001b[0m            ^\u001b[0m\n\u001b[0;31mSyntaxError\u001b[0m\u001b[0;31m:\u001b[0m EOL while scanning string literal\n"
     ]
    }
   ],
   "source": [
    "# Nekorektní použití jednořádkového řetězce\n",
    "print(\"A\n",
    "      B\n",
    "      C\")"
   ]
  },
  {
   "cell_type": "code",
   "execution_count": 48,
   "metadata": {},
   "outputs": [
    {
     "ename": "SyntaxError",
     "evalue": "EOL while scanning string literal (<ipython-input-48-3fcfb4c7c6a2>, line 3)",
     "output_type": "error",
     "traceback": [
      "\u001b[0;36m  File \u001b[0;32m\"<ipython-input-48-3fcfb4c7c6a2>\"\u001b[0;36m, line \u001b[0;32m3\u001b[0m\n\u001b[0;31m    print('ahoj\")\u001b[0m\n\u001b[0m                 ^\u001b[0m\n\u001b[0;31mSyntaxError\u001b[0m\u001b[0;31m:\u001b[0m EOL while scanning string literal\n"
     ]
    }
   ],
   "source": [
    "# Použití \" a ' pro uvození řetězců\n",
    "print(\"ahoj\")\n",
    "print('ahoj')\n",
    "print('ahoj\")"
   ]
  },
  {
   "cell_type": "code",
   "execution_count": 171,
   "metadata": {},
   "outputs": [
    {
     "name": "stdout",
     "output_type": "stream",
     "text": [
      "[1, 2, 3, 4]\n",
      "1\n",
      "4\n"
     ]
    }
   ],
   "source": [
    "# Indexování prvků v seznamu\n",
    "seznam = [1,2,3,4]\n",
    "print(seznam)\n",
    "\n",
    "print(seznam[0])\n",
    "print(seznam[3])"
   ]
  },
  {
   "cell_type": "code",
   "execution_count": 172,
   "metadata": {},
   "outputs": [
    {
     "name": "stdout",
     "output_type": "stream",
     "text": [
      "4\n"
     ]
    }
   ],
   "source": [
    "# Délka seznamu\n",
    "print(len(seznam))"
   ]
  },
  {
   "cell_type": "code",
   "execution_count": 173,
   "metadata": {
    "scrolled": true
   },
   "outputs": [
    {
     "name": "stdout",
     "output_type": "stream",
     "text": [
      "4\n"
     ]
    }
   ],
   "source": [
    "# Výběr (indexování) prvků od konce seznamu\n",
    "print(seznam[-1])"
   ]
  },
  {
   "cell_type": "code",
   "execution_count": 174,
   "metadata": {
    "scrolled": true
   },
   "outputs": [
    {
     "name": "stdout",
     "output_type": "stream",
     "text": [
      "3\n"
     ]
    }
   ],
   "source": [
    "# Výběr (indexování) prvků od konce seznamu\n",
    "print(seznam[-2])"
   ]
  },
  {
   "cell_type": "code",
   "execution_count": 175,
   "metadata": {},
   "outputs": [],
   "source": [
    "# Přidání prvku na konec seznamu\n",
    "seznam.append(100)"
   ]
  },
  {
   "cell_type": "code",
   "execution_count": 176,
   "metadata": {},
   "outputs": [
    {
     "data": {
      "text/plain": [
       "[1, 2, 3, 4, 100]"
      ]
     },
     "execution_count": 176,
     "metadata": {},
     "output_type": "execute_result"
    }
   ],
   "source": [
    "seznam"
   ]
  },
  {
   "cell_type": "code",
   "execution_count": 177,
   "metadata": {},
   "outputs": [
    {
     "data": {
      "text/plain": [
       "[1, 2, 3, 4, 100, 10]"
      ]
     },
     "execution_count": 177,
     "metadata": {},
     "output_type": "execute_result"
    }
   ],
   "source": [
    "# Přidání prvku na konec seznamu\n",
    "seznam.append(10)\n",
    "seznam"
   ]
  },
  {
   "cell_type": "code",
   "execution_count": 178,
   "metadata": {},
   "outputs": [],
   "source": [
    "# Vložení prvku na začátek seznamu\n",
    "seznam.insert(0, 100)"
   ]
  },
  {
   "cell_type": "code",
   "execution_count": 179,
   "metadata": {},
   "outputs": [
    {
     "data": {
      "text/plain": [
       "[100, 1, 2, 3, 4, 100, 10]"
      ]
     },
     "execution_count": 179,
     "metadata": {},
     "output_type": "execute_result"
    }
   ],
   "source": [
    "seznam"
   ]
  },
  {
   "cell_type": "code",
   "execution_count": 180,
   "metadata": {},
   "outputs": [],
   "source": [
    "# Změna prvku uloženého v seznamu\n",
    "seznam[3] = \"ahoj\""
   ]
  },
  {
   "cell_type": "code",
   "execution_count": 60,
   "metadata": {},
   "outputs": [
    {
     "data": {
      "text/plain": [
       "[100, 1, 2, 'ahoj', 4, 100, 10]"
      ]
     },
     "execution_count": 60,
     "metadata": {},
     "output_type": "execute_result"
    }
   ],
   "source": [
    "seznam"
   ]
  },
  {
   "cell_type": "code",
   "execution_count": 181,
   "metadata": {},
   "outputs": [],
   "source": [
    "# Smazání prvku ze seznamu\n",
    "del seznam[0]"
   ]
  },
  {
   "cell_type": "code",
   "execution_count": 62,
   "metadata": {},
   "outputs": [
    {
     "data": {
      "text/plain": [
       "[1, 2, 'ahoj', 4, 100, 10]"
      ]
     },
     "execution_count": 62,
     "metadata": {},
     "output_type": "execute_result"
    }
   ],
   "source": [
    "seznam"
   ]
  },
  {
   "cell_type": "code",
   "execution_count": 182,
   "metadata": {},
   "outputs": [
    {
     "name": "stdout",
     "output_type": "stream",
     "text": [
      "[1, 2, 3, 4, 5, 6]\n"
     ]
    }
   ],
   "source": [
    "# Spojení dvou seznamů\n",
    "seznam1 = [1, 2, 3]\n",
    "seznam2 = [4, 5, 6]\n",
    "\n",
    "seznam3 = seznam1 + seznam2\n",
    "\n",
    "print(seznam3)"
   ]
  },
  {
   "cell_type": "code",
   "execution_count": 183,
   "metadata": {},
   "outputs": [],
   "source": [
    "# Spojení dvou seznamů\n",
    "seznam3 = seznam3 + [3]"
   ]
  },
  {
   "cell_type": "code",
   "execution_count": 66,
   "metadata": {},
   "outputs": [
    {
     "name": "stdout",
     "output_type": "stream",
     "text": [
      "[1, 2, 3, 4, 5, 6, 3]\n"
     ]
    }
   ],
   "source": [
    "print(seznam3)"
   ]
  },
  {
   "cell_type": "code",
   "execution_count": 184,
   "metadata": {},
   "outputs": [],
   "source": [
    "# Spojení většího množství seznamů\n",
    "seznam3 = seznam1 + seznam2 + seznam3 + seznam1"
   ]
  },
  {
   "cell_type": "code",
   "execution_count": 68,
   "metadata": {},
   "outputs": [
    {
     "name": "stdout",
     "output_type": "stream",
     "text": [
      "[1, 2, 3, 4, 5, 6, 1, 2, 3, 4, 5, 6, 3, 1, 2, 3]\n"
     ]
    }
   ],
   "source": [
    "print(seznam3)"
   ]
  },
  {
   "cell_type": "code",
   "execution_count": 185,
   "metadata": {},
   "outputs": [
    {
     "name": "stdout",
     "output_type": "stream",
     "text": [
      "[1, 2, 3, 1, 2, 3, 1, 2, 3]\n"
     ]
    }
   ],
   "source": [
    "# Opakování prvků seznamu 3x za sebou\n",
    "seznam1 = [1, 2, 3]\n",
    "\n",
    "seznam2 = seznam1 * 3\n",
    "print(seznam2)"
   ]
  },
  {
   "cell_type": "code",
   "execution_count": 71,
   "metadata": {},
   "outputs": [],
   "source": [
    "seznam4 = [0] * 50"
   ]
  },
  {
   "cell_type": "code",
   "execution_count": 72,
   "metadata": {},
   "outputs": [
    {
     "name": "stdout",
     "output_type": "stream",
     "text": [
      "[0, 0, 0, 0, 0, 0, 0, 0, 0, 0, 0, 0, 0, 0, 0, 0, 0, 0, 0, 0, 0, 0, 0, 0, 0, 0, 0, 0, 0, 0, 0, 0, 0, 0, 0, 0, 0, 0, 0, 0, 0, 0, 0, 0, 0, 0, 0, 0, 0, 0]\n"
     ]
    }
   ],
   "source": [
    "print(seznam4)"
   ]
  },
  {
   "cell_type": "code",
   "execution_count": 78,
   "metadata": {},
   "outputs": [
    {
     "name": "stdout",
     "output_type": "stream",
     "text": [
      "[5, 4, 1, 3, 4, 100, -1]\n",
      "[-1, 1, 3, 4, 4, 5, 100]\n"
     ]
    }
   ],
   "source": [
    "# Seřazení prvků v seznamu\n",
    "seznam = [5, 4, 1, 3, 4, 100, -1]\n",
    "print(seznam)\n",
    "\n",
    "seznam.sort()\n",
    "print(seznam)"
   ]
  },
  {
   "cell_type": "code",
   "execution_count": 186,
   "metadata": {},
   "outputs": [
    {
     "name": "stdout",
     "output_type": "stream",
     "text": [
      "['ABB', 'Citrix', 'IBM']\n"
     ]
    }
   ],
   "source": [
    "# Seřazení prvků v seznamu\n",
    "firmy = [\"Citrix\", \"IBM\", \"ABB\"]\n",
    "firmy.sort()\n",
    "print(firmy)"
   ]
  },
  {
   "cell_type": "code",
   "execution_count": 187,
   "metadata": {},
   "outputs": [
    {
     "name": "stdout",
     "output_type": "stream",
     "text": [
      "[5, 4, 1, 3, 4, 100, -1]\n",
      "[5, 4, 1, 3, 4, 100, -1]\n",
      "[-1, 1, 3, 4, 4, 5, 100]\n"
     ]
    }
   ],
   "source": [
    "# Seřazení prvků DO nového seznamu (původní se nezmění)\n",
    "seznam = [5, 4, 1, 3, 4, 100, -1]\n",
    "print(seznam)\n",
    "\n",
    "seznam2 = sorted(seznam)\n",
    "print(seznam)\n",
    "print(seznam2)"
   ]
  },
  {
   "cell_type": "code",
   "execution_count": 188,
   "metadata": {},
   "outputs": [
    {
     "name": "stdout",
     "output_type": "stream",
     "text": [
      "['c', 'd']\n"
     ]
    }
   ],
   "source": [
    "# Získání výseku ze seznamu\n",
    "seznam = [\"a\", \"b\", \"c\", \"d\", \"e\", \"f\"]\n",
    "\n",
    "print(seznam[2:4])"
   ]
  },
  {
   "cell_type": "code",
   "execution_count": 189,
   "metadata": {},
   "outputs": [
    {
     "name": "stdout",
     "output_type": "stream",
     "text": [
      "[]\n"
     ]
    }
   ],
   "source": [
    "# Získání výseku ze seznamu\n",
    "print(seznam[4:2])"
   ]
  },
  {
   "cell_type": "code",
   "execution_count": 190,
   "metadata": {},
   "outputs": [
    {
     "name": "stdout",
     "output_type": "stream",
     "text": [
      "['a', 'c', 'e']\n"
     ]
    }
   ],
   "source": [
    "# Získání výseku ze seznamu - uvedení kroku\n",
    "print(seznam[0:6:2])"
   ]
  },
  {
   "cell_type": "code",
   "execution_count": 191,
   "metadata": {},
   "outputs": [
    {
     "name": "stdout",
     "output_type": "stream",
     "text": [
      "['e', 'd']\n"
     ]
    }
   ],
   "source": [
    "# Získání výseku ze seznamu - uvedení kroku\n",
    "print(seznam[4:2:-1])"
   ]
  },
  {
   "cell_type": "code",
   "execution_count": 192,
   "metadata": {},
   "outputs": [
    {
     "name": "stdout",
     "output_type": "stream",
     "text": [
      "['f', 'e', 'd', 'c', 'b']\n"
     ]
    }
   ],
   "source": [
    "# Získání výseku ze seznamu - uvedení kroku\n",
    "print(seznam[5:0:-1])"
   ]
  },
  {
   "cell_type": "code",
   "execution_count": 193,
   "metadata": {},
   "outputs": [
    {
     "name": "stdout",
     "output_type": "stream",
     "text": [
      "['e', 'f']\n",
      "['a', 'b', 'c', 'd']\n",
      "['a', 'b', 'c', 'd', 'e', 'f']\n"
     ]
    }
   ],
   "source": [
    "# Vynechání indexu při tvorbě výseku ze seznamu\n",
    "print(seznam[4:])\n",
    "print(seznam[:4])\n",
    "print(seznam[:])"
   ]
  },
  {
   "cell_type": "code",
   "execution_count": 194,
   "metadata": {},
   "outputs": [
    {
     "name": "stdout",
     "output_type": "stream",
     "text": [
      "['f', 'e', 'd', 'c', 'b', 'a']\n"
     ]
    }
   ],
   "source": [
    "# Nový seznam s opačně seřazenými prvky\n",
    "print(seznam[::-1])"
   ]
  },
  {
   "cell_type": "code",
   "execution_count": 200,
   "metadata": {},
   "outputs": [
    {
     "name": "stdout",
     "output_type": "stream",
     "text": [
      "Test XYZ Test\n",
      "Y\n",
      "t\n",
      "XYZ \n",
      "Ts Y et\n",
      "tseT ZYX tseT\n"
     ]
    }
   ],
   "source": [
    "# S řetězci se do určité míry pracuje stejně jako se seznamy\n",
    "x = \"Test XYZ Test\"\n",
    "print(x)\n",
    "\n",
    "# Výběr jednoho znaku\n",
    "print(x[6])\n",
    "print(x[-1])\n",
    "\n",
    "# Výber podřetězce\n",
    "print(x[5:9])\n",
    "print(x[::2])\n",
    "print(x[::-1])"
   ]
  },
  {
   "cell_type": "code",
   "execution_count": 201,
   "metadata": {},
   "outputs": [
    {
     "name": "stdout",
     "output_type": "stream",
     "text": [
      "{'id': 1, 'name': 'Eda', 'surname': 'Wasserfall'}\n"
     ]
    }
   ],
   "source": [
    "# Vytvoření slovníku a tisk jeho obsahu\n",
    "d = {\"id\": 1,\n",
    "     \"name\": \"Eda\",\n",
    "     \"surname\": \"Wasserfall\"}\n",
    "\n",
    "print(d)"
   ]
  },
  {
   "cell_type": "code",
   "execution_count": 202,
   "metadata": {},
   "outputs": [
    {
     "name": "stdout",
     "output_type": "stream",
     "text": [
      "Eda\n"
     ]
    }
   ],
   "source": [
    "# Přečtení prvku s využitím klíče\n",
    "print(d[\"name\"])"
   ]
  },
  {
   "cell_type": "code",
   "execution_count": 203,
   "metadata": {},
   "outputs": [
    {
     "ename": "KeyError",
     "evalue": "'xyzzy'",
     "output_type": "error",
     "traceback": [
      "\u001b[0;31m---------------------------------------------------------------------------\u001b[0m",
      "\u001b[0;31mKeyError\u001b[0m                                  Traceback (most recent call last)",
      "\u001b[0;32m<ipython-input-203-476e72a3da32>\u001b[0m in \u001b[0;36m<module>\u001b[0;34m\u001b[0m\n\u001b[1;32m      1\u001b[0m \u001b[0;31m# Chování ve chvíli, kdy klíč neexistuje\u001b[0m\u001b[0;34m\u001b[0m\u001b[0;34m\u001b[0m\u001b[0;34m\u001b[0m\u001b[0m\n\u001b[0;32m----> 2\u001b[0;31m \u001b[0mprint\u001b[0m\u001b[0;34m(\u001b[0m\u001b[0md\u001b[0m\u001b[0;34m[\u001b[0m\u001b[0;34m\"xyzzy\"\u001b[0m\u001b[0;34m]\u001b[0m\u001b[0;34m)\u001b[0m\u001b[0;34m\u001b[0m\u001b[0;34m\u001b[0m\u001b[0m\n\u001b[0m",
      "\u001b[0;31mKeyError\u001b[0m: 'xyzzy'"
     ]
    }
   ],
   "source": [
    "# Chování ve chvíli, kdy klíč neexistuje\n",
    "print(d[\"xyzzy\"])"
   ]
  },
  {
   "cell_type": "code",
   "execution_count": 204,
   "metadata": {},
   "outputs": [],
   "source": [
    "# Přidání nového prvku do slovníku\n",
    "d[\"hra\"] = \"Svestka\""
   ]
  },
  {
   "cell_type": "code",
   "execution_count": 96,
   "metadata": {},
   "outputs": [
    {
     "data": {
      "text/plain": [
       "{'id': 1, 'name': 'Eda', 'surname': 'Wasserfall', 'hra': 'Svestka'}"
      ]
     },
     "execution_count": 96,
     "metadata": {},
     "output_type": "execute_result"
    }
   ],
   "source": [
    "d"
   ]
  },
  {
   "cell_type": "code",
   "execution_count": 205,
   "metadata": {},
   "outputs": [],
   "source": [
    "# Vymazání prvku ze slovníku\n",
    "del d[\"hra\"]"
   ]
  },
  {
   "cell_type": "code",
   "execution_count": 206,
   "metadata": {},
   "outputs": [
    {
     "data": {
      "text/plain": [
       "{'id': 1, 'name': 'Eda', 'surname': 'Wasserfall'}"
      ]
     },
     "execution_count": 206,
     "metadata": {},
     "output_type": "execute_result"
    }
   ],
   "source": [
    "d"
   ]
  },
  {
   "cell_type": "code",
   "execution_count": 207,
   "metadata": {},
   "outputs": [
    {
     "name": "stdout",
     "output_type": "stream",
     "text": [
      "{1, 2, 3, 4}\n",
      "{0, 'hello', '!', 'world'}\n",
      "set()\n",
      "{}\n"
     ]
    }
   ],
   "source": [
    "# Množiny\n",
    "s = {1, 2, 3, 4}\n",
    "print(s)\n",
    "\n",
    "# Prvky množiny mohou mít různý typ\n",
    "s2 = {\"hello\", \"world\", \"!\", 0}\n",
    "print(s2)\n",
    "\n",
    "# Prázdná množina\n",
    "s3 = set()\n",
    "print(s3)\n",
    "\n",
    "# Další prázdná množina\n",
    "s4 = {}\n",
    "print(s4)"
   ]
  },
  {
   "cell_type": "code",
   "execution_count": 208,
   "metadata": {},
   "outputs": [
    {
     "name": "stdout",
     "output_type": "stream",
     "text": [
      "{1}\n",
      "{1, 2}\n",
      "{1, 2, 3, 4, 5}\n"
     ]
    }
   ],
   "source": [
    "# Přidání jednoho prvku do množiny\n",
    "s3.add(1)\n",
    "print(s3)\n",
    "\n",
    "s3.add(2)\n",
    "print(s3)\n",
    "\n",
    "# Přidání více prvků do množiny\n",
    "s3.update([3, 4, 5])\n",
    "print(s3)"
   ]
  },
  {
   "cell_type": "code",
   "execution_count": 104,
   "metadata": {},
   "outputs": [
    {
     "name": "stdout",
     "output_type": "stream",
     "text": [
      "{1, 2, 3, 4, 5}\n"
     ]
    }
   ],
   "source": [
    "s3.add(4)\n",
    "print(s3)"
   ]
  },
  {
   "cell_type": "code",
   "execution_count": 209,
   "metadata": {},
   "outputs": [
    {
     "name": "stdout",
     "output_type": "stream",
     "text": [
      "{1, 2, 3, 4}\n",
      "{1, 3, 4}\n",
      "{1, 3, 4}\n",
      "{1, 4}\n"
     ]
    },
    {
     "ename": "KeyError",
     "evalue": "1000",
     "output_type": "error",
     "traceback": [
      "\u001b[0;31m---------------------------------------------------------------------------\u001b[0m",
      "\u001b[0;31mKeyError\u001b[0m                                  Traceback (most recent call last)",
      "\u001b[0;32m<ipython-input-209-6ada9311b781>\u001b[0m in \u001b[0;36m<module>\u001b[0;34m\u001b[0m\n\u001b[1;32m     14\u001b[0m \u001b[0mprint\u001b[0m\u001b[0;34m(\u001b[0m\u001b[0ms1\u001b[0m\u001b[0;34m)\u001b[0m\u001b[0;34m\u001b[0m\u001b[0;34m\u001b[0m\u001b[0m\n\u001b[1;32m     15\u001b[0m \u001b[0;34m\u001b[0m\u001b[0m\n\u001b[0;32m---> 16\u001b[0;31m \u001b[0ms1\u001b[0m\u001b[0;34m.\u001b[0m\u001b[0mremove\u001b[0m\u001b[0;34m(\u001b[0m\u001b[0;36m1000\u001b[0m\u001b[0;34m)\u001b[0m\u001b[0;34m\u001b[0m\u001b[0;34m\u001b[0m\u001b[0m\n\u001b[0m\u001b[1;32m     17\u001b[0m \u001b[0mprint\u001b[0m\u001b[0;34m(\u001b[0m\u001b[0ms1\u001b[0m\u001b[0;34m)\u001b[0m\u001b[0;34m\u001b[0m\u001b[0;34m\u001b[0m\u001b[0m\n",
      "\u001b[0;31mKeyError\u001b[0m: 1000"
     ]
    }
   ],
   "source": [
    "# Odebrání prvku z množiny\n",
    "s1 = {1, 2, 3, 4}\n",
    "print(s1)\n",
    "\n",
    "# Nezpůsobí chybu\n",
    "s1.discard(2)\n",
    "print(s1)\n",
    "\n",
    "s1.discard(1000)\n",
    "print(s1)\n",
    "\n",
    "# Může způsobit chybu\n",
    "s1.remove(3)\n",
    "print(s1)\n",
    "\n",
    "s1.remove(1000)\n",
    "print(s1)"
   ]
  },
  {
   "cell_type": "code",
   "execution_count": 210,
   "metadata": {},
   "outputs": [
    {
     "name": "stdout",
     "output_type": "stream",
     "text": [
      "{1, 2, 3, 4}\n",
      "True\n",
      "False\n"
     ]
    }
   ],
   "source": [
    "# Test, jestli prvek leží v množině\n",
    "s1 = {1,2,3,4}\n",
    "print(s1)\n",
    "\n",
    "print(2 in s1)\n",
    "print(1000 in s1)"
   ]
  },
  {
   "cell_type": "code",
   "execution_count": 211,
   "metadata": {},
   "outputs": [
    {
     "name": "stdout",
     "output_type": "stream",
     "text": [
      "False\n",
      "True\n"
     ]
    }
   ],
   "source": [
    "# Logická negace operátoru \"in\"\n",
    "print(2 not in s1)\n",
    "print(1000 not in s1)"
   ]
  },
  {
   "cell_type": "code",
   "execution_count": 212,
   "metadata": {},
   "outputs": [
    {
     "name": "stdout",
     "output_type": "stream",
     "text": [
      "{1, 2, 3, 4}\n",
      "{3, 4, 5, 6}\n",
      "{1, 2, 3, 4, 5, 6}\n",
      "{3, 4}\n",
      "{1, 2}\n",
      "{5, 6}\n",
      "{1, 2, 5, 6}\n"
     ]
    }
   ],
   "source": [
    "# Základní množinové operace\n",
    "s1 = {1, 2, 3, 4}\n",
    "s2 = {3, 4, 5, 6}\n",
    "\n",
    "print(s1)\n",
    "print(s2)\n",
    "\n",
    "# Sjednocení, průnik, rozdíl, symetrická diference\n",
    "print(s1 | s2)\n",
    "print(s1 & s2)\n",
    "print(s1 - s2)\n",
    "print(s2 - s1)\n",
    "print(s1 ^ s2)"
   ]
  },
  {
   "cell_type": "code",
   "execution_count": 1,
   "metadata": {},
   "outputs": [
    {
     "data": {
      "text/plain": [
       "3.3333333333333335"
      ]
     },
     "execution_count": 1,
     "metadata": {},
     "output_type": "execute_result"
    }
   ],
   "source": [
    "10/3"
   ]
  },
  {
   "cell_type": "code",
   "execution_count": 2,
   "metadata": {},
   "outputs": [
    {
     "data": {
      "text/plain": [
       "3"
      ]
     },
     "execution_count": 2,
     "metadata": {},
     "output_type": "execute_result"
    }
   ],
   "source": [
    "10//3"
   ]
  },
  {
   "cell_type": "code",
   "execution_count": 213,
   "metadata": {},
   "outputs": [
    {
     "data": {
      "text/plain": [
       "1"
      ]
     },
     "execution_count": 213,
     "metadata": {},
     "output_type": "execute_result"
    }
   ],
   "source": [
    "# Zbytek po dělení\n",
    "10%3"
   ]
  },
  {
   "cell_type": "code",
   "execution_count": 214,
   "metadata": {},
   "outputs": [
    {
     "data": {
      "text/plain": [
       "1000"
      ]
     },
     "execution_count": 214,
     "metadata": {},
     "output_type": "execute_result"
    }
   ],
   "source": [
    "# 10^3\n",
    "10**3"
   ]
  },
  {
   "cell_type": "code",
   "execution_count": 215,
   "metadata": {},
   "outputs": [
    {
     "ename": "SyntaxError",
     "evalue": "invalid syntax (<ipython-input-215-8cc881bffe46>, line 2)",
     "output_type": "error",
     "traceback": [
      "\u001b[0;36m  File \u001b[0;32m\"<ipython-input-215-8cc881bffe46>\"\u001b[0;36m, line \u001b[0;32m2\u001b[0m\n\u001b[0;31m    1<>2\u001b[0m\n\u001b[0m      ^\u001b[0m\n\u001b[0;31mSyntaxError\u001b[0m\u001b[0;31m:\u001b[0m invalid syntax\n"
     ]
    }
   ],
   "source": [
    "# Původní zápis operátoru pro nerovnost\n",
    "1<>2"
   ]
  },
  {
   "cell_type": "code",
   "execution_count": 216,
   "metadata": {},
   "outputs": [
    {
     "data": {
      "text/plain": [
       "True"
      ]
     },
     "execution_count": 216,
     "metadata": {},
     "output_type": "execute_result"
    }
   ],
   "source": [
    "# Nový zápis operátoru pro nerovnost\n",
    "1!=2"
   ]
  },
  {
   "cell_type": "code",
   "execution_count": 7,
   "metadata": {},
   "outputs": [
    {
     "data": {
      "text/plain": [
       "True"
      ]
     },
     "execution_count": 7,
     "metadata": {},
     "output_type": "execute_result"
    }
   ],
   "source": [
    "# Spojení více podmínek pomocí logického operátoru and\n",
    "x = 20\n",
    "x > 0 and x < 100"
   ]
  },
  {
   "cell_type": "code",
   "execution_count": 217,
   "metadata": {},
   "outputs": [
    {
     "data": {
      "text/plain": [
       "False"
      ]
     },
     "execution_count": 217,
     "metadata": {},
     "output_type": "execute_result"
    }
   ],
   "source": [
    "# Spojení více podmínek pomocí logického operátoru or\n",
    "x == 0 or x == 1"
   ]
  },
  {
   "cell_type": "code",
   "execution_count": 218,
   "metadata": {},
   "outputs": [
    {
     "data": {
      "text/plain": [
       "True"
      ]
     },
     "execution_count": 218,
     "metadata": {},
     "output_type": "execute_result"
    }
   ],
   "source": [
    "# Negace podmínky pomocí logického operátoru not\n",
    "not x == 0 or x == 1"
   ]
  },
  {
   "cell_type": "code",
   "execution_count": 220,
   "metadata": {},
   "outputs": [],
   "source": [
    "# Zkrácený zápis operace A = A operator B na A operator= B\n",
    "x = 10"
   ]
  },
  {
   "cell_type": "code",
   "execution_count": 14,
   "metadata": {},
   "outputs": [],
   "source": [
    "x += 1      # x = x + 1"
   ]
  },
  {
   "cell_type": "code",
   "execution_count": 16,
   "metadata": {},
   "outputs": [
    {
     "data": {
      "text/plain": [
       "12"
      ]
     },
     "execution_count": 16,
     "metadata": {},
     "output_type": "execute_result"
    }
   ],
   "source": [
    "x"
   ]
  },
  {
   "cell_type": "code",
   "execution_count": 17,
   "metadata": {},
   "outputs": [],
   "source": [
    "x /= 2      # x = x / 2"
   ]
  },
  {
   "cell_type": "code",
   "execution_count": 18,
   "metadata": {},
   "outputs": [
    {
     "data": {
      "text/plain": [
       "6.0"
      ]
     },
     "execution_count": 18,
     "metadata": {},
     "output_type": "execute_result"
    }
   ],
   "source": [
    "x"
   ]
  },
  {
   "cell_type": "code",
   "execution_count": 19,
   "metadata": {},
   "outputs": [],
   "source": [
    "x *= 100"
   ]
  },
  {
   "cell_type": "code",
   "execution_count": 20,
   "metadata": {},
   "outputs": [
    {
     "data": {
      "text/plain": [
       "600.0"
      ]
     },
     "execution_count": 20,
     "metadata": {},
     "output_type": "execute_result"
    }
   ],
   "source": [
    "x"
   ]
  },
  {
   "cell_type": "code",
   "execution_count": 21,
   "metadata": {},
   "outputs": [
    {
     "name": "stdout",
     "output_type": "stream",
     "text": [
      "600.0\n"
     ]
    }
   ],
   "source": [
    "print(x)"
   ]
  },
  {
   "cell_type": "code",
   "execution_count": 22,
   "metadata": {},
   "outputs": [
    {
     "data": {
      "text/plain": [
       "5.0"
      ]
     },
     "execution_count": 22,
     "metadata": {},
     "output_type": "execute_result"
    }
   ],
   "source": [
    "x = 10\n",
    "x / 2"
   ]
  },
  {
   "cell_type": "code",
   "execution_count": 23,
   "metadata": {},
   "outputs": [
    {
     "data": {
      "text/plain": [
       "5"
      ]
     },
     "execution_count": 23,
     "metadata": {},
     "output_type": "execute_result"
    }
   ],
   "source": [
    "x = 10\n",
    "x // 2"
   ]
  },
  {
   "cell_type": "code",
   "execution_count": 24,
   "metadata": {},
   "outputs": [],
   "source": [
    "x = x / 2\n",
    "x = int(x)"
   ]
  },
  {
   "cell_type": "code",
   "execution_count": 25,
   "metadata": {},
   "outputs": [
    {
     "data": {
      "text/plain": [
       "5"
      ]
     },
     "execution_count": 25,
     "metadata": {},
     "output_type": "execute_result"
    }
   ],
   "source": [
    "x"
   ]
  },
  {
   "cell_type": "code",
   "execution_count": 221,
   "metadata": {},
   "outputs": [
    {
     "ename": "SyntaxError",
     "evalue": "Missing parentheses in call to 'print'. Did you mean print(1)? (<ipython-input-221-1c7ccec2b9c9>, line 2)",
     "output_type": "error",
     "traceback": [
      "\u001b[0;36m  File \u001b[0;32m\"<ipython-input-221-1c7ccec2b9c9>\"\u001b[0;36m, line \u001b[0;32m2\u001b[0m\n\u001b[0;31m    print 1\u001b[0m\n\u001b[0m          ^\u001b[0m\n\u001b[0;31mSyntaxError\u001b[0m\u001b[0;31m:\u001b[0m Missing parentheses in call to 'print'. Did you mean print(1)?\n"
     ]
    }
   ],
   "source": [
    "# Původní zápis příkazu print v Pythonu 2 (už není dále podporován)\n",
    "print 1"
   ]
  },
  {
   "cell_type": "code",
   "execution_count": 27,
   "metadata": {},
   "outputs": [],
   "source": [
    "x = 10"
   ]
  },
  {
   "cell_type": "code",
   "execution_count": 222,
   "metadata": {},
   "outputs": [
    {
     "data": {
      "text/plain": [
       "int"
      ]
     },
     "execution_count": 222,
     "metadata": {},
     "output_type": "execute_result"
    }
   ],
   "source": [
    "# Zjištění typu hodnoty\n",
    "type(x)"
   ]
  },
  {
   "cell_type": "code",
   "execution_count": 223,
   "metadata": {},
   "outputs": [
    {
     "data": {
      "text/plain": [
       "float"
      ]
     },
     "execution_count": 223,
     "metadata": {},
     "output_type": "execute_result"
    }
   ],
   "source": [
    "# Po dělení je výsledek typu float\n",
    "x = x / 2\n",
    "type(x)"
   ]
  },
  {
   "cell_type": "code",
   "execution_count": 32,
   "metadata": {},
   "outputs": [
    {
     "data": {
      "text/plain": [
       "4.5"
      ]
     },
     "execution_count": 32,
     "metadata": {},
     "output_type": "execute_result"
    }
   ],
   "source": [
    "x = 9\n",
    "x /= 2\n",
    "x"
   ]
  },
  {
   "cell_type": "code",
   "execution_count": 224,
   "metadata": {},
   "outputs": [
    {
     "data": {
      "text/plain": [
       "True"
      ]
     },
     "execution_count": 224,
     "metadata": {},
     "output_type": "execute_result"
    }
   ],
   "source": [
    "# Základní použití operátoru is\n",
    "x is x"
   ]
  },
  {
   "cell_type": "code",
   "execution_count": 225,
   "metadata": {},
   "outputs": [
    {
     "data": {
      "text/plain": [
       "'   3.33'"
      ]
     },
     "execution_count": 225,
     "metadata": {},
     "output_type": "execute_result"
    }
   ],
   "source": [
    "# Naformátování výsledku: 7 znaků, z toho 2 za desetinnou tečkou, číslo doplněno mezerami zleva\n",
    "\"{:7.2f}\".format(10.0/3)"
   ]
  },
  {
   "cell_type": "code",
   "execution_count": 226,
   "metadata": {},
   "outputs": [
    {
     "data": {
      "text/plain": [
       "'0003.33'"
      ]
     },
     "execution_count": 226,
     "metadata": {},
     "output_type": "execute_result"
    }
   ],
   "source": [
    "# Naformátování výsledku: 7 znaků, z toho 2 za desetinnou tečkou, číslo doplněno nulami zlevo\n",
    "\"{:07.2f}\".format(10.0/3)"
   ]
  },
  {
   "cell_type": "code",
   "execution_count": 227,
   "metadata": {},
   "outputs": [
    {
     "data": {
      "text/plain": [
       "7"
      ]
     },
     "execution_count": 227,
     "metadata": {},
     "output_type": "execute_result"
    }
   ],
   "source": [
    "# Priority operátorů + a *\n",
    "1 + 2 * 3"
   ]
  },
  {
   "cell_type": "code",
   "execution_count": 228,
   "metadata": {},
   "outputs": [
    {
     "data": {
      "text/plain": [
       "-4"
      ]
     },
     "execution_count": 228,
     "metadata": {},
     "output_type": "execute_result"
    }
   ],
   "source": [
    "# Unární operátor -\n",
    "-4"
   ]
  },
  {
   "cell_type": "code",
   "execution_count": 229,
   "metadata": {},
   "outputs": [
    {
     "data": {
      "text/plain": [
       "False"
      ]
     },
     "execution_count": 229,
     "metadata": {},
     "output_type": "execute_result"
    }
   ],
   "source": [
    "# Priority operátorů\n",
    "1 + x * 2 > 10 and y < 3 + 2 * x"
   ]
  },
  {
   "cell_type": "code",
   "execution_count": 230,
   "metadata": {},
   "outputs": [
    {
     "data": {
      "text/plain": [
       "False"
      ]
     },
     "execution_count": 230,
     "metadata": {},
     "output_type": "execute_result"
    }
   ],
   "source": [
    "# Explicitní zápis priorit\n",
    "((1+(x*2)) > 10) and (y < (3 + (2*x)))"
   ]
  },
  {
   "cell_type": "code",
   "execution_count": 50,
   "metadata": {},
   "outputs": [
    {
     "data": {
      "text/plain": [
       "4.5"
      ]
     },
     "execution_count": 50,
     "metadata": {},
     "output_type": "execute_result"
    }
   ],
   "source": [
    "x"
   ]
  },
  {
   "cell_type": "code",
   "execution_count": 231,
   "metadata": {},
   "outputs": [
    {
     "name": "stdout",
     "output_type": "stream",
     "text": [
      "x je kladne cislo\n",
      "pokračujeme\n"
     ]
    }
   ],
   "source": [
    "# Jednoduché větvení typu if (neúplná větev)\n",
    "x = 10\n",
    "if x > 0:\n",
    "    print(\"x je kladne cislo\")\n",
    "\n",
    "print(\"pokračujeme\")"
   ]
  },
  {
   "cell_type": "code",
   "execution_count": 232,
   "metadata": {},
   "outputs": [
    {
     "name": "stdout",
     "output_type": "stream",
     "text": [
      "x je záporné číslo nebo nula\n",
      "=================\n",
      "pokračujeme\n"
     ]
    }
   ],
   "source": [
    "# Úplné větvení typu if\n",
    "x = -10\n",
    "if x > 0:\n",
    "    print(\"x je kladné číslo\")\n",
    "    print(\"-----------------\")\n",
    "else:\n",
    "    print(\"x je záporné číslo nebo nula\")\n",
    "    print(\"=================\")\n",
    "\n",
    "print(\"pokračujeme\")"
   ]
  },
  {
   "cell_type": "code",
   "execution_count": 63,
   "metadata": {},
   "outputs": [
    {
     "name": "stdout",
     "output_type": "stream",
     "text": [
      "x je kladné číslo\n",
      "-----------------\n",
      "pokračujeme\n"
     ]
    }
   ],
   "source": [
    "# Vnořené větve if-else\n",
    "x = 10\n",
    "if x > 0:\n",
    "    print(\"x je kladné číslo\")\n",
    "    print(\"-----------------\")\n",
    "else:\n",
    "    if x == 0:\n",
    "        print(\"x je nulové\")\n",
    "    else:\n",
    "        print(\"x je záporné číslo\")\n",
    "    print(\"=================\")\n",
    "\n",
    "print(\"pokračujeme\")"
   ]
  },
  {
   "cell_type": "code",
   "execution_count": 233,
   "metadata": {},
   "outputs": [
    {
     "name": "stdout",
     "output_type": "stream",
     "text": [
      "x je kladné číslo\n",
      "-----------------\n",
      "pokračujeme\n"
     ]
    }
   ],
   "source": [
    "# Vícenásobné větvení založené na if-elif-elif-elif-else\n",
    "x = 10\n",
    "if x > 0:\n",
    "    print(\"x je kladné číslo\")\n",
    "    print(\"-----------------\")\n",
    "elif x == 0:\n",
    "    print(\"x je nulové\")\n",
    "    print(\"=================\")\n",
    "else:\n",
    "    print(\"x je záporné číslo\")\n",
    "    print(\"=================\")\n",
    "\n",
    "print(\"pokračujeme\")"
   ]
  },
  {
   "cell_type": "code",
   "execution_count": 234,
   "metadata": {},
   "outputs": [
    {
     "name": "stdout",
     "output_type": "stream",
     "text": [
      "quit\n"
     ]
    }
   ],
   "source": [
    "# Vstup dat z klávesnice\n",
    "cmd = input()"
   ]
  },
  {
   "cell_type": "code",
   "execution_count": 66,
   "metadata": {},
   "outputs": [
    {
     "name": "stdout",
     "output_type": "stream",
     "text": [
      "unknown command!\n"
     ]
    }
   ],
   "source": [
    "# Rozhodovací konstrukce na základě vstupu z klávesnice\n",
    "if cmd == \"quit\":\n",
    "    print(\"konec\")\n",
    "elif cmd == \"new account\":\n",
    "    print(\"...\")\n",
    "elif cmd == \"delete account\":\n",
    "    print(\"...\")\n",
    "else:\n",
    "    print(\"unknown command!\")"
   ]
  },
  {
   "cell_type": "code",
   "execution_count": 235,
   "metadata": {},
   "outputs": [
    {
     "name": "stdout",
     "output_type": "stream",
     "text": [
      "1\n",
      "2\n",
      "3\n",
      "4\n",
      "5\n",
      "6\n",
      "7\n",
      "8\n",
      "9\n",
      "10\n"
     ]
    }
   ],
   "source": [
    "# Programová smyčka typu while s testem na začátku\n",
    "i = 1\n",
    "while i <= 10:\n",
    "    print(i)\n",
    "    i = i + 1"
   ]
  },
  {
   "cell_type": "code",
   "execution_count": 236,
   "metadata": {},
   "outputs": [
    {
     "name": "stdout",
     "output_type": "stream",
     "text": [
      "one\n",
      "two\n",
      "three\n",
      "four\n"
     ]
    }
   ],
   "source": [
    "# Průchod prvky seznamu ve smyčce for\n",
    "list = [\"one\", \"two\", \"three\", \"four\"]\n",
    "\n",
    "for item in list:\n",
    "    print(item)"
   ]
  },
  {
   "cell_type": "code",
   "execution_count": 237,
   "metadata": {},
   "outputs": [
    {
     "name": "stdout",
     "output_type": "stream",
     "text": [
      "one\n",
      "two\n",
      "NALEZENO\n",
      "three\n",
      "four\n"
     ]
    }
   ],
   "source": [
    "# Vyhledání určitého prvku ze seznamu\n",
    "list = [\"one\", \"two\", \"three\", \"four\"]\n",
    "\n",
    "for item in list:\n",
    "    if item == \"three\":\n",
    "        print(\"NALEZENO\")\n",
    "    print(item)"
   ]
  },
  {
   "cell_type": "code",
   "execution_count": 73,
   "metadata": {},
   "outputs": [
    {
     "data": {
      "text/plain": [
       "range(0, 10)"
      ]
     },
     "execution_count": 73,
     "metadata": {},
     "output_type": "execute_result"
    }
   ],
   "source": [
    "range(10)"
   ]
  },
  {
   "cell_type": "code",
   "execution_count": 238,
   "metadata": {},
   "outputs": [
    {
     "name": "stdout",
     "output_type": "stream",
     "text": [
      "0\n",
      "1\n",
      "2\n",
      "3\n",
      "4\n",
      "5\n",
      "6\n",
      "7\n",
      "8\n",
      "9\n"
     ]
    }
   ],
   "source": [
    "# Počitadlo smyčky vytvořené funkcí range()\n",
    "for i in range(10):\n",
    "    print(i)"
   ]
  },
  {
   "cell_type": "code",
   "execution_count": 239,
   "metadata": {},
   "outputs": [
    {
     "name": "stdout",
     "output_type": "stream",
     "text": [
      "5\n",
      "6\n",
      "7\n",
      "8\n",
      "9\n",
      "10\n",
      "11\n",
      "12\n",
      "13\n",
      "14\n",
      "15\n",
      "16\n",
      "17\n",
      "18\n",
      "19\n"
     ]
    }
   ],
   "source": [
    "# První a poslední hodnota počitadla (kromě)\n",
    "for i in range(5, 20):\n",
    "    print(i)"
   ]
  },
  {
   "cell_type": "code",
   "execution_count": 241,
   "metadata": {},
   "outputs": [
    {
     "name": "stdout",
     "output_type": "stream",
     "text": [
      "0\n",
      "5\n",
      "10\n",
      "15\n",
      "20\n",
      "25\n"
     ]
    }
   ],
   "source": [
    "# Specifikace kroku počitadla\n",
    "for i in range(0, 30, 5):\n",
    "    print(i)"
   ]
  },
  {
   "cell_type": "code",
   "execution_count": 242,
   "metadata": {},
   "outputs": [
    {
     "name": "stdout",
     "output_type": "stream",
     "text": [
      "10\n",
      "8\n",
      "6\n",
      "4\n",
      "2\n"
     ]
    }
   ],
   "source": [
    "# Záporný krok počitadla\n",
    "for i in range(10, 0, -2):\n",
    "    print(i)"
   ]
  },
  {
   "cell_type": "code",
   "execution_count": 243,
   "metadata": {},
   "outputs": [
    {
     "name": "stdout",
     "output_type": "stream",
     "text": [
      "2020 1100.0\n",
      "2021 1210.0\n",
      "2022 1331.0\n",
      "2023 1464.1000000000001\n",
      "2024 1610.5100000000002\n",
      "2025 1771.5610000000004\n",
      "2026 1948.7171000000005\n",
      "2027 2143.5888100000006\n",
      "2028 2357.9476910000008\n",
      "2029 2593.742460100001\n"
     ]
    }
   ],
   "source": [
    "# Výpočet složeného úroku\n",
    "r = 10\n",
    "z = 1000\n",
    "for i in range(0, 10):\n",
    "    z = z * (1 + r/100.0)\n",
    "    print(2020+i, z)"
   ]
  },
  {
   "cell_type": "code",
   "execution_count": 244,
   "metadata": {},
   "outputs": [
    {
     "name": "stdout",
     "output_type": "stream",
     "text": [
      "2020  1100.00\n",
      "2021  1210.00\n",
      "2022  1331.00\n",
      "2023  1464.10\n",
      "2024  1610.51\n",
      "2025  1771.56\n",
      "2026  1948.72\n",
      "2027  2143.59\n",
      "2028  2357.95\n",
      "2029  2593.74\n"
     ]
    }
   ],
   "source": [
    "# Výpočet složeného úroku + formátování tabulky s výsledky\n",
    "r = 10\n",
    "z = 1000\n",
    "for i in range(0, 10):\n",
    "    z = z * (1 + r/100.0)\n",
    "    print(\"{:4}  {:6.2f}\".format(2020+i, z))"
   ]
  },
  {
   "cell_type": "code",
   "execution_count": 246,
   "metadata": {},
   "outputs": [],
   "source": [
    "# Tělo smyčky se nemusí provést ani jednou\n",
    "for i in range(0, 10, -1):\n",
    "    print(i)"
   ]
  },
  {
   "cell_type": "code",
   "execution_count": 247,
   "metadata": {},
   "outputs": [
    {
     "name": "stdout",
     "output_type": "stream",
     "text": [
      "toto neni hledana hodnota: one\n",
      "toto neni hledana hodnota: two\n",
      "NALEZENO\n"
     ]
    }
   ],
   "source": [
    "# Ukončení smyčky po nalezení prvku\n",
    "list = [\"one\", \"two\", \"three\", \"four\"]\n",
    "\n",
    "for item in list:\n",
    "    # print(item)\n",
    "    if item == \"three\":\n",
    "        print(\"NALEZENO\")\n",
    "        break\n",
    "    else:\n",
    "        print(\"toto neni hledana hodnota:\", item)"
   ]
  },
  {
   "cell_type": "code",
   "execution_count": 248,
   "metadata": {},
   "outputs": [
    {
     "name": "stdout",
     "output_type": "stream",
     "text": [
      "2020  1100.00\n",
      "2021  1210.00\n",
      "2022  1331.00\n",
      "2023  1464.10\n",
      "2024  1610.51\n",
      "2025  1771.56\n",
      "2026  1948.72\n",
      "2027  2143.59\n",
      "to uz je hodne\n"
     ]
    }
   ],
   "source": [
    "# Ukončení smyčky po splnění zapsané podmínky\n",
    "r = 10\n",
    "z = 1000\n",
    "for i in range(0, 1000):\n",
    "    z = z * (1 + r/100.0)\n",
    "    print(\"{:4}  {:6.2f}\".format(2020+i, z))\n",
    "    if z > 2000:\n",
    "        print(\"to uz je hodne\")\n",
    "        break"
   ]
  },
  {
   "cell_type": "code",
   "execution_count": 249,
   "metadata": {},
   "outputs": [
    {
     "name": "stdout",
     "output_type": "stream",
     "text": [
      "128\n",
      "256\n",
      "512\n",
      "1024\n"
     ]
    }
   ],
   "source": [
    "# Konstrukce break a continue\n",
    "x = 1\n",
    "\n",
    "while True:\n",
    "    if x > 1000:\n",
    "        break\n",
    "    x *= 2\n",
    "    if x < 100:\n",
    "        continue\n",
    "    print(x)"
   ]
  },
  {
   "cell_type": "code",
   "execution_count": 250,
   "metadata": {},
   "outputs": [],
   "source": [
    "# Funkce se dvěma parametry\n",
    "def soucet(a, b):\n",
    "    vysledek = a + b\n",
    "    return vysledek"
   ]
  },
  {
   "cell_type": "code",
   "execution_count": 92,
   "metadata": {},
   "outputs": [
    {
     "data": {
      "text/plain": [
       "3"
      ]
     },
     "execution_count": 92,
     "metadata": {},
     "output_type": "execute_result"
    }
   ],
   "source": [
    "soucet(1, 2)"
   ]
  },
  {
   "cell_type": "code",
   "execution_count": 93,
   "metadata": {},
   "outputs": [
    {
     "ename": "NameError",
     "evalue": "name 'vysledek' is not defined",
     "output_type": "error",
     "traceback": [
      "\u001b[0;31m---------------------------------------------------------------------------\u001b[0m",
      "\u001b[0;31mNameError\u001b[0m                                 Traceback (most recent call last)",
      "\u001b[0;32m<ipython-input-93-58347df97f49>\u001b[0m in \u001b[0;36m<module>\u001b[0;34m\u001b[0m\n\u001b[0;32m----> 1\u001b[0;31m \u001b[0mvysledek\u001b[0m\u001b[0;34m\u001b[0m\u001b[0;34m\u001b[0m\u001b[0m\n\u001b[0m",
      "\u001b[0;31mNameError\u001b[0m: name 'vysledek' is not defined"
     ]
    }
   ],
   "source": [
    "vysledek"
   ]
  },
  {
   "cell_type": "code",
   "execution_count": 251,
   "metadata": {},
   "outputs": [],
   "source": [
    "# Funkce se třemi povinnými parametry\n",
    "def slozeny_urok(zaklad, urok, roky):\n",
    "    r = urok\n",
    "    z = zaklad\n",
    "    for i in range(0, roky):\n",
    "        z = z * (1 + r/100.0)\n",
    "    return z"
   ]
  },
  {
   "cell_type": "code",
   "execution_count": 95,
   "metadata": {},
   "outputs": [
    {
     "data": {
      "text/plain": [
       "1100.0"
      ]
     },
     "execution_count": 95,
     "metadata": {},
     "output_type": "execute_result"
    }
   ],
   "source": [
    "slozeny_urok(1000, 10, 1)"
   ]
  },
  {
   "cell_type": "code",
   "execution_count": 96,
   "metadata": {},
   "outputs": [
    {
     "data": {
      "text/plain": [
       "2593.742460100001"
      ]
     },
     "execution_count": 96,
     "metadata": {},
     "output_type": "execute_result"
    }
   ],
   "source": [
    "slozeny_urok(1000, 10, 10)"
   ]
  },
  {
   "cell_type": "code",
   "execution_count": 97,
   "metadata": {},
   "outputs": [
    {
     "name": "stdout",
     "output_type": "stream",
     "text": [
      "1051.0100501\n",
      "1104.0808032\n",
      "1159.2740743000002\n",
      "1216.6529024000004\n",
      "1276.2815625000003\n",
      "1338.2255776000004\n",
      "1402.5517307000005\n",
      "1469.3280768000004\n",
      "1538.6239549000006\n"
     ]
    }
   ],
   "source": [
    "for urok in range(1, 10):\n",
    "    print(slozeny_urok(1000, urok, 5))"
   ]
  },
  {
   "cell_type": "code",
   "execution_count": 252,
   "metadata": {},
   "outputs": [],
   "source": [
    "# Rekurzivní funkce\n",
    "def factorial(n):\n",
    "    if n <= 1:\n",
    "        return 1\n",
    "    else:\n",
    "        return n * factorial(n - 1)"
   ]
  },
  {
   "cell_type": "code",
   "execution_count": 100,
   "metadata": {},
   "outputs": [
    {
     "data": {
      "text/plain": [
       "93326215443944152681699238856266700490715968264381621468592963895217599993229915608941463976156518286253697920827223758251185210916864000000000000000000000000"
      ]
     },
     "execution_count": 100,
     "metadata": {},
     "output_type": "execute_result"
    }
   ],
   "source": [
    "factorial(100)"
   ]
  },
  {
   "cell_type": "code",
   "execution_count": 253,
   "metadata": {},
   "outputs": [],
   "source": [
    "# Funkce s nepovinným parametrem s implicitní hodnotou\n",
    "def slozeny_urok(zaklad, urok, roky=10):\n",
    "    r = urok\n",
    "    z = zaklad\n",
    "    for i in range(0, roky):\n",
    "        z = z * (1 + r/100.0)\n",
    "    return z"
   ]
  },
  {
   "cell_type": "code",
   "execution_count": 103,
   "metadata": {},
   "outputs": [
    {
     "data": {
      "text/plain": [
       "2593.742460100001"
      ]
     },
     "execution_count": 103,
     "metadata": {},
     "output_type": "execute_result"
    }
   ],
   "source": [
    "slozeny_urok(1000, 10)"
   ]
  },
  {
   "cell_type": "code",
   "execution_count": 104,
   "metadata": {},
   "outputs": [
    {
     "name": "stdout",
     "output_type": "stream",
     "text": [
      "1 2\n"
     ]
    }
   ],
   "source": [
    "print(1, 2)"
   ]
  },
  {
   "cell_type": "code",
   "execution_count": 105,
   "metadata": {},
   "outputs": [
    {
     "name": "stdout",
     "output_type": "stream",
     "text": [
      "1,2\n"
     ]
    }
   ],
   "source": [
    "print(1, 2, sep=\",\")"
   ]
  },
  {
   "cell_type": "code",
   "execution_count": 126,
   "metadata": {},
   "outputs": [],
   "source": [
    "# Dva povinné parametry následované libovolným počtem nepovinných parametrů\n",
    "def soucet(a, b, *dalsi):\n",
    "    vysledek = a + b\n",
    "    for hodnota in dalsi:\n",
    "        vysledek += hodnota\n",
    "    return vysledek"
   ]
  },
  {
   "cell_type": "code",
   "execution_count": 127,
   "metadata": {},
   "outputs": [],
   "source": [
    "# Funkce, která akceptuje libovolný počet parametrů\n",
    "def soucet(*dalsi):\n",
    "    vysledek = 0     #a + b\n",
    "    for hodnota in dalsi:\n",
    "        vysledek += hodnota\n",
    "    return vysledek"
   ]
  },
  {
   "cell_type": "code",
   "execution_count": 120,
   "metadata": {},
   "outputs": [
    {
     "data": {
      "text/plain": [
       "9"
      ]
     },
     "execution_count": 120,
     "metadata": {},
     "output_type": "execute_result"
    }
   ],
   "source": [
    "soucet(2, 3, 4)"
   ]
  },
  {
   "cell_type": "code",
   "execution_count": 254,
   "metadata": {},
   "outputs": [],
   "source": [
    "# Funkce akceptující libovolný počet pojmenovaných parametrů\n",
    "def delej(**parametry):\n",
    "    print(parametry)"
   ]
  },
  {
   "cell_type": "code",
   "execution_count": 125,
   "metadata": {},
   "outputs": [
    {
     "name": "stdout",
     "output_type": "stream",
     "text": [
      "{'x': 10, 'y': 20, 'z': 'ahoj'}\n"
     ]
    }
   ],
   "source": [
    "delej(x=10, y=20, z=\"ahoj\")"
   ]
  },
  {
   "cell_type": "code",
   "execution_count": 129,
   "metadata": {},
   "outputs": [
    {
     "name": "stdout",
     "output_type": "stream",
     "text": [
      "1\n",
      "1\n",
      "1\n",
      "3\n"
     ]
    }
   ],
   "source": [
    "# Lokální a globální proměnné\n",
    "x = 1\n",
    "\n",
    "def fn1():\n",
    "    pass\n",
    "\n",
    "\n",
    "def fn2():\n",
    "    x = 2\n",
    "\n",
    "\n",
    "def fn3():\n",
    "    global x\n",
    "    x = 3\n",
    "\n",
    "\n",
    "print(x)\n",
    "fn1()\n",
    "print(x)\n",
    "fn2()\n",
    "print(x)\n",
    "fn3()\n",
    "print(x)"
   ]
  },
  {
   "cell_type": "code",
   "execution_count": 130,
   "metadata": {},
   "outputs": [],
   "source": [
    "# Generátorová notace seznamu - nový seznam, jehož prvky mají oproti původnímu dvojnásobnou hodnotu\n",
    "seznam = [1, 2, 3, 4, 5, 6, 7, 8, 9, 10]\n",
    "\n",
    "seznam2 = [item*2 for item in seznam]"
   ]
  },
  {
   "cell_type": "code",
   "execution_count": 131,
   "metadata": {},
   "outputs": [
    {
     "data": {
      "text/plain": [
       "[1, 2, 3, 4, 5, 6, 7, 8, 9, 10]"
      ]
     },
     "execution_count": 131,
     "metadata": {},
     "output_type": "execute_result"
    }
   ],
   "source": [
    "seznam"
   ]
  },
  {
   "cell_type": "code",
   "execution_count": 132,
   "metadata": {},
   "outputs": [
    {
     "data": {
      "text/plain": [
       "[2, 4, 6, 8, 10, 12, 14, 16, 18, 20]"
      ]
     },
     "execution_count": 132,
     "metadata": {},
     "output_type": "execute_result"
    }
   ],
   "source": [
    "seznam2"
   ]
  },
  {
   "cell_type": "code",
   "execution_count": 138,
   "metadata": {},
   "outputs": [
    {
     "data": {
      "text/plain": [
       "[1.0,\n",
       " 0.5,\n",
       " 0.3333333333333333,\n",
       " 0.25,\n",
       " 0.2,\n",
       " 0.16666666666666666,\n",
       " 0.14285714285714285,\n",
       " 0.125,\n",
       " 0.1111111111111111,\n",
       " 0.1]"
      ]
     },
     "execution_count": 138,
     "metadata": {},
     "output_type": "execute_result"
    }
   ],
   "source": [
    "# Generátorová notace seznamu\n",
    "[1.0/item for item in seznam]"
   ]
  },
  {
   "cell_type": "code",
   "execution_count": 139,
   "metadata": {},
   "outputs": [
    {
     "data": {
      "text/plain": [
       "<generator object <genexpr> at 0x7fa6584f9740>"
      ]
     },
     "execution_count": 139,
     "metadata": {},
     "output_type": "execute_result"
    }
   ],
   "source": [
    "(1.0/item for item in seznam)"
   ]
  },
  {
   "cell_type": "code",
   "execution_count": 140,
   "metadata": {},
   "outputs": [
    {
     "data": {
      "text/plain": [
       "[3, 6, 9]"
      ]
     },
     "execution_count": 140,
     "metadata": {},
     "output_type": "execute_result"
    }
   ],
   "source": [
    "# Filtrace prvků splňujících zadanou podmínku\n",
    "[item for item in seznam if item % 3 == 0]"
   ]
  },
  {
   "cell_type": "code",
   "execution_count": 141,
   "metadata": {},
   "outputs": [
    {
     "data": {
      "text/plain": [
       "[6, 7, 8, 9, 10]"
      ]
     },
     "execution_count": 141,
     "metadata": {},
     "output_type": "execute_result"
    }
   ],
   "source": [
    "# Filtrace prvků splňujících zadanou podmínku\n",
    "[item for item in seznam if item > 5]"
   ]
  },
  {
   "cell_type": "code",
   "execution_count": 142,
   "metadata": {},
   "outputs": [
    {
     "data": {
      "text/plain": [
       "[2.5937424601000023,\n",
       " 5.187484920200005,\n",
       " 7.781227380300005,\n",
       " 10.37496984040001,\n",
       " 12.968712300500009,\n",
       " 15.56245476060001,\n",
       " 18.15619722070002,\n",
       " 20.74993968080002,\n",
       " 23.34368214090001,\n",
       " 25.937424601000018]"
      ]
     },
     "execution_count": 142,
     "metadata": {},
     "output_type": "execute_result"
    }
   ],
   "source": [
    "# Zkrácený zápis tabulky složených úroků\n",
    "[slozeny_urok(item, 10, 10) for item in seznam]"
   ]
  },
  {
   "cell_type": "code",
   "execution_count": 144,
   "metadata": {},
   "outputs": [
    {
     "data": {
      "text/plain": [
       "[2.5937424601000023,\n",
       " 5.187484920200005,\n",
       " 7.781227380300005,\n",
       " 10.37496984040001,\n",
       " 12.968712300500009,\n",
       " 15.56245476060001,\n",
       " 18.15619722070002,\n",
       " 20.74993968080002,\n",
       " 23.34368214090001,\n",
       " 25.937424601000018]"
      ]
     },
     "execution_count": 144,
     "metadata": {},
     "output_type": "execute_result"
    }
   ],
   "source": [
    "# Plný zápis výpočtu tabulky složených úroků\n",
    "vysledek = []\n",
    "for item in seznam:\n",
    "    vysledek.append(slozeny_urok(item, 10, 10))\n",
    "    \n",
    "vysledek"
   ]
  },
  {
   "cell_type": "code",
   "execution_count": null,
   "metadata": {},
   "outputs": [],
   "source": []
  }
 ],
 "metadata": {
  "kernelspec": {
   "display_name": "Python 3",
   "language": "python",
   "name": "python3"
  },
  "language_info": {
   "codemirror_mode": {
    "name": "ipython",
    "version": 3
   },
   "file_extension": ".py",
   "mimetype": "text/x-python",
   "name": "python",
   "nbconvert_exporter": "python",
   "pygments_lexer": "ipython3",
   "version": "3.6.6"
  }
 },
 "nbformat": 4,
 "nbformat_minor": 4
}
