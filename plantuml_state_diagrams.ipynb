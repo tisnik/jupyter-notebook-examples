{
 "cells": [
  {
   "cell_type": "code",
   "execution_count": 7,
   "metadata": {},
   "outputs": [],
   "source": [
    "import iplantuml"
   ]
  },
  {
   "cell_type": "code",
   "execution_count": 24,
   "metadata": {},
   "outputs": [
    {
     "data": {
      "image/svg+xml": [
       "<svg contentScriptType=\"application/ecmascript\" contentStyleType=\"text/css\" height=\"277px\" preserveAspectRatio=\"none\" style=\"width:407px;height:277px;\" version=\"1.1\" viewBox=\"0 0 407 277\" width=\"407px\" xmlns=\"http://www.w3.org/2000/svg\" xmlns:xlink=\"http://www.w3.org/1999/xlink\" zoomAndPan=\"magnify\"><defs><filter height=\"300%\" id=\"f1j3gt1qzophbc\" width=\"300%\" x=\"-1\" y=\"-1\"><feGaussianBlur result=\"blurOut\" stdDeviation=\"2.0\"/><feColorMatrix in=\"blurOut\" result=\"blurOut2\" type=\"matrix\" values=\"0 0 0 0 0 0 0 0 0 0 0 0 0 0 0 0 0 0 .4 0\"/><feOffset dx=\"4.0\" dy=\"4.0\" in=\"blurOut2\" result=\"blurOut3\"/><feBlend in=\"SourceGraphic\" in2=\"blurOut3\" mode=\"normal\"/></filter></defs><g><ellipse cx=\"255.36\" cy=\"18\" fill=\"#000000\" filter=\"url(#f1j3gt1qzophbc)\" rx=\"10\" ry=\"10\" style=\"stroke: none; stroke-width: 1.0;\"/><rect fill=\"#FEFECE\" filter=\"url(#f1j3gt1qzophbc)\" height=\"50\" rx=\"12.5\" ry=\"12.5\" style=\"stroke: #A80036; stroke-width: 1.5;\" width=\"50\" x=\"230.36\" y=\"89\"/><line style=\"stroke: #A80036; stroke-width: 1.5;\" x1=\"230.36\" x2=\"280.36\" y1=\"115.2969\" y2=\"115.2969\"/><text fill=\"#000000\" font-family=\"sans-serif\" font-size=\"14\" lengthAdjust=\"spacingAndGlyphs\" textLength=\"25\" x=\"242.86\" y=\"106.9951\">Led</text><rect fill=\"#FEFECE\" filter=\"url(#f1j3gt1qzophbc)\" height=\"50\" rx=\"12.5\" ry=\"12.5\" style=\"stroke: #A80036; stroke-width: 1.5;\" width=\"75\" x=\"73.8604\" y=\"89\"/><line style=\"stroke: #A80036; stroke-width: 1.5;\" x1=\"73.8604\" x2=\"148.8604\" y1=\"115.2969\" y2=\"115.2969\"/><text fill=\"#000000\" font-family=\"sans-serif\" font-size=\"14\" lengthAdjust=\"spacingAndGlyphs\" textLength=\"55\" x=\"83.8604\" y=\"106.9951\">Kapalina</text><rect fill=\"#FEFECE\" filter=\"url(#f1j3gt1qzophbc)\" height=\"50\" rx=\"12.5\" ry=\"12.5\" style=\"stroke: #A80036; stroke-width: 1.5;\" width=\"50\" x=\"158.36\" y=\"216\"/><line style=\"stroke: #A80036; stroke-width: 1.5;\" x1=\"158.36\" x2=\"208.36\" y1=\"242.2969\" y2=\"242.2969\"/><text fill=\"#000000\" font-family=\"sans-serif\" font-size=\"14\" lengthAdjust=\"spacingAndGlyphs\" textLength=\"29\" x=\"168.86\" y=\"233.9951\">Pára</text><!--MD5=[293baf187b392df67ef9a4b8bbf5a49b]\n",
       "link *start to Led--><path d=\"M255.36,28.013 C255.36,40.698 255.36,64.409 255.36,83.57 \" fill=\"none\" id=\"*start-&gt;Led\" style=\"stroke: #A80036; stroke-width: 1.0;\"/><polygon fill=\"#A80036\" points=\"255.36,88.84,259.36,79.84,255.36,83.84,251.36,79.84,255.36,88.84\" style=\"stroke: #A80036; stroke-width: 1.0;\"/><!--MD5=[dc2d79697e6d819374324cea48ed162c]\n",
       "link Kapalina to Led--><path d=\"M149.195,114 C172.801,114 202.786,114 224.865,114 \" fill=\"none\" id=\"Kapalina-&gt;Led\" style=\"stroke: #A80036; stroke-width: 1.0;\"/><polygon fill=\"#A80036\" points=\"230.015,114,221.015,110,225.015,114,221.015,118,230.015,114\" style=\"stroke: #A80036; stroke-width: 1.0;\"/><text fill=\"#000000\" font-family=\"sans-serif\" font-size=\"13\" lengthAdjust=\"spacingAndGlyphs\" textLength=\"45\" x=\"167.11\" y=\"107.0669\">tuhnutí</text><!--MD5=[29a9ae20ab9438ce2b52024881117a9a]\n",
       "link Led to Kapalina--><path d=\"M230.139,125.686 C221.589,129.069 211.859,132.306 202.61,134 C186.701,136.915 169.34,134.523 154.071,130.518 \" fill=\"none\" id=\"Led-&gt;Kapalina\" style=\"stroke: #A80036; stroke-width: 1.0;\"/><polygon fill=\"#A80036\" points=\"148.979,129.103,156.58,135.366,153.7966,130.4413,158.7213,127.6579,148.979,129.103\" style=\"stroke: #A80036; stroke-width: 1.0;\"/><text fill=\"#000000\" font-family=\"sans-serif\" font-size=\"13\" lengthAdjust=\"spacingAndGlyphs\" textLength=\"24\" x=\"177.61\" y=\"130.0669\">tání</text><!--MD5=[5f72fb4234442df1f0921bca88efd0d7]\n",
       "link Kapalina to Pára--><path d=\"M73.5585,125.119 C37.2623,136.76 -9.2417,157.938 11.3604,186 C43.9771,230.4266 113.105,239.2847 153.082,240.4862 \" fill=\"none\" id=\"Kapalina-&gt;Pára\" style=\"stroke: #A80036; stroke-width: 1.0;\"/><polygon fill=\"#A80036\" points=\"158.285,240.6042,149.3788,236.3995,153.2863,240.4899,149.1959,244.3974,158.285,240.6042\" style=\"stroke: #A80036; stroke-width: 1.0;\"/><text fill=\"#000000\" font-family=\"sans-serif\" font-size=\"13\" lengthAdjust=\"spacingAndGlyphs\" textLength=\"72\" x=\"12.3604\" y=\"182.0669\">vypařování</text><!--MD5=[c0d9b327315523aea7b1250493f42004]\n",
       "link Pára to Kapalina--><path d=\"M158.148,222.448 C146.415,212.9796 133.323,200.3055 125.36,186 C118.348,173.4012 114.809,157.829 113.039,144.482 \" fill=\"none\" id=\"Pára-&gt;Kapalina\" style=\"stroke: #A80036; stroke-width: 1.0;\"/><polygon fill=\"#A80036\" points=\"112.424,139.297,109.5138,148.7061,113.0139,144.2621,117.4579,147.7622,112.424,139.297\" style=\"stroke: #A80036; stroke-width: 1.0;\"/><text fill=\"#000000\" font-family=\"sans-serif\" font-size=\"13\" lengthAdjust=\"spacingAndGlyphs\" textLength=\"69\" x=\"126.36\" y=\"182.0669\">zkapalnění</text><!--MD5=[cdc650f73c2967514dd9c10808e56eaf]\n",
       "link Pára to Led--><path d=\"M208.468,237.224 C238.125,232.451 286.221,219.6811 308.36,186 C320.379,167.7165 302.679,147.831 284.575,133.769 \" fill=\"none\" id=\"Pára-&gt;Led\" style=\"stroke: #A80036; stroke-width: 1.0;\"/><polygon fill=\"#A80036\" points=\"280.473,130.681,285.2573,139.2898,284.4675,133.6883,290.069,132.8986,280.473,130.681\" style=\"stroke: #A80036; stroke-width: 1.0;\"/><text fill=\"#000000\" font-family=\"sans-serif\" font-size=\"13\" lengthAdjust=\"spacingAndGlyphs\" textLength=\"83\" x=\"312.36\" y=\"182.0669\">desublimace</text><!--MD5=[db2bb63d72355d4d90dd43e160b00f8b]\n",
       "link Led to Pára--><path d=\"M241.478,139.101 C229.575,159.766 212.405,189.5747 199.814,211.4348 \" fill=\"none\" id=\"Led-&gt;Pára\" style=\"stroke: #A80036; stroke-width: 1.0;\"/><polygon fill=\"#A80036\" points=\"197.2,215.9727,205.1581,210.1702,199.6955,211.64,198.2257,206.1774,197.2,215.9727\" style=\"stroke: #A80036; stroke-width: 1.0;\"/><text fill=\"#000000\" font-family=\"sans-serif\" font-size=\"13\" lengthAdjust=\"spacingAndGlyphs\" textLength=\"66\" x=\"225.36\" y=\"182.0669\">sublimace</text><!--MD5=[f80e2c9f7322d3afc34b5de34f0056f4]\n",
       "@startuml\n",
       "[*] - -> Led\n",
       " \n",
       "Kapalina -> Led :tuhnutí\n",
       "Led -> Kapalina :tání\n",
       " \n",
       "Kapalina - -> Pára :vypařování\n",
       "Pára - -> Kapalina :zkapalnění\n",
       " \n",
       "Pára - -> Led :desublimace\n",
       "Led - -> Pára :sublimace\n",
       "@enduml\n",
       "\n",
       "PlantUML version 1.2020.09beta3(Unknown compile time)\n",
       "(GPL source distribution)\n",
       "Java Runtime: Java(TM) SE Runtime Environment\n",
       "JVM: Java HotSpot(TM) 64-Bit Server VM\n",
       "Java Version: 14.0.1+7\n",
       "Operating System: Linux\n",
       "Default Encoding: UTF-8\n",
       "Language: en\n",
       "Country: US\n",
       "--></g></svg>"
      ],
      "text/plain": [
       "<IPython.core.display.SVG object>"
      ]
     },
     "execution_count": 24,
     "metadata": {},
     "output_type": "execute_result"
    }
   ],
   "source": [
    "%%plantuml\n",
    "\n",
    "@startuml\n",
    " \n",
    "[*] --> Led\n",
    " \n",
    "Kapalina -> Led :tuhnutí\n",
    "Led -> Kapalina :tání\n",
    " \n",
    "Kapalina --> Pára :vypařování\n",
    "Pára --> Kapalina :zkapalnění\n",
    " \n",
    "Pára --> Led :desublimace\n",
    "Led --> Pára :sublimace\n",
    " \n",
    "@enduml"
   ]
  },
  {
   "cell_type": "code",
   "execution_count": 25,
   "metadata": {},
   "outputs": [
    {
     "data": {
      "image/svg+xml": [
       "<svg contentScriptType=\"application/ecmascript\" contentStyleType=\"text/css\" height=\"951px\" preserveAspectRatio=\"none\" style=\"width:344px;height:951px;\" version=\"1.1\" viewBox=\"0 0 344 951\" width=\"344px\" xmlns=\"http://www.w3.org/2000/svg\" xmlns:xlink=\"http://www.w3.org/1999/xlink\" zoomAndPan=\"magnify\"><defs><filter height=\"300%\" id=\"f1d2xz35pa5g7v\" width=\"300%\" x=\"-1\" y=\"-1\"><feGaussianBlur result=\"blurOut\" stdDeviation=\"2.0\"/><feColorMatrix in=\"blurOut\" result=\"blurOut2\" type=\"matrix\" values=\"0 0 0 0 0 0 0 0 0 0 0 0 0 0 0 0 0 0 .4 0\"/><feOffset dx=\"4.0\" dy=\"4.0\" in=\"blurOut2\" result=\"blurOut3\"/><feBlend in=\"SourceGraphic\" in2=\"blurOut3\" mode=\"normal\"/></filter></defs><g><ellipse cx=\"169\" cy=\"18\" fill=\"#000000\" filter=\"url(#f1d2xz35pa5g7v)\" rx=\"10\" ry=\"10\" style=\"stroke: none; stroke-width: 1.0;\"/><ellipse cx=\"169\" cy=\"930\" fill=\"none\" filter=\"url(#f1d2xz35pa5g7v)\" rx=\"10\" ry=\"10\" style=\"stroke: #000000; stroke-width: 1.0;\"/><ellipse cx=\"169.5\" cy=\"930.5\" fill=\"#000000\" rx=\"6\" ry=\"6\" style=\"stroke: none; stroke-width: 1.0;\"/><rect fill=\"#FEFECE\" filter=\"url(#f1d2xz35pa5g7v)\" height=\"246.2969\" rx=\"12.5\" ry=\"12.5\" style=\"stroke: #A80036; stroke-width: 1.5;\" width=\"252\" x=\"43\" y=\"88\"/><rect fill=\"#FFFFFF\" height=\"214\" rx=\"12.5\" ry=\"12.5\" style=\"stroke: #FFFFFF; stroke-width: 1.0;\" width=\"246\" x=\"46\" y=\"117.2969\"/><line style=\"stroke: #A80036; stroke-width: 1.5;\" x1=\"43\" x2=\"295\" y1=\"114.2969\" y2=\"114.2969\"/><text fill=\"#000000\" font-family=\"sans-serif\" font-size=\"14\" lengthAdjust=\"spacingAndGlyphs\" textLength=\"41\" x=\"148.5\" y=\"105.9951\">Stav1</text><ellipse cx=\"101.5\" cy=\"137.2969\" fill=\"#000000\" filter=\"url(#f1d2xz35pa5g7v)\" rx=\"10\" ry=\"10\" style=\"stroke: none; stroke-width: 1.0;\"/><rect fill=\"#FEFECE\" filter=\"url(#f1d2xz35pa5g7v)\" height=\"50\" rx=\"12.5\" ry=\"12.5\" style=\"stroke: #A80036; stroke-width: 1.5;\" width=\"95\" x=\"54\" y=\"183.2969\"/><line style=\"stroke: #A80036; stroke-width: 1.5;\" x1=\"54\" x2=\"149\" y1=\"209.5938\" y2=\"209.5938\"/><text fill=\"#000000\" font-family=\"sans-serif\" font-size=\"14\" lengthAdjust=\"spacingAndGlyphs\" textLength=\"75\" x=\"64\" y=\"201.292\">Podstav11</text><rect fill=\"#FEFECE\" filter=\"url(#f1d2xz35pa5g7v)\" height=\"50\" rx=\"12.5\" ry=\"12.5\" style=\"stroke: #A80036; stroke-width: 1.5;\" width=\"94\" x=\"167.5\" y=\"183.2969\"/><line style=\"stroke: #A80036; stroke-width: 1.5;\" x1=\"167.5\" x2=\"261.5\" y1=\"209.5938\" y2=\"209.5938\"/><text fill=\"#000000\" font-family=\"sans-serif\" font-size=\"14\" lengthAdjust=\"spacingAndGlyphs\" textLength=\"74\" x=\"177.5\" y=\"201.292\">Podstav12</text><rect fill=\"#FEFECE\" filter=\"url(#f1d2xz35pa5g7v)\" height=\"50\" rx=\"12.5\" ry=\"12.5\" style=\"stroke: #A80036; stroke-width: 1.5;\" width=\"94\" x=\"167.5\" y=\"269.2969\"/><line style=\"stroke: #A80036; stroke-width: 1.5;\" x1=\"167.5\" x2=\"261.5\" y1=\"295.5938\" y2=\"295.5938\"/><text fill=\"#000000\" font-family=\"sans-serif\" font-size=\"14\" lengthAdjust=\"spacingAndGlyphs\" textLength=\"74\" x=\"177.5\" y=\"287.292\">Podstav13</text><ellipse cx=\"139.5\" cy=\"294.2969\" fill=\"none\" filter=\"url(#f1d2xz35pa5g7v)\" rx=\"10\" ry=\"10\" style=\"stroke: #000000; stroke-width: 1.0;\"/><ellipse cx=\"140\" cy=\"294.7969\" fill=\"#000000\" rx=\"6\" ry=\"6\" style=\"stroke: none; stroke-width: 1.0;\"/><!--MD5=[8067524fbf5afb49a18ef7075627fc37]\n",
       "link *start*Stav1 to Podstav11--><path d=\"M101.5,147.3179 C101.5,155.1739 101.5,167.0129 101.5,178.1019 \" fill=\"none\" id=\"*start*Stav1-&gt;Podstav11\" style=\"stroke: #A80036; stroke-width: 1.0;\"/><polygon fill=\"#A80036\" points=\"101.5,183.1279,105.5,174.1279,101.5,178.1279,97.5,174.1279,101.5,183.1279\" style=\"stroke: #A80036; stroke-width: 1.0;\"/><!--MD5=[3d2d784acaa336eb3b1e5b90a349a8df]\n",
       "link Podstav11 to Podstav12--><path d=\"M149.1719,208.2969 C153.5127,208.2969 157.854,208.2969 162.194,208.2969 \" fill=\"none\" id=\"Podstav11-&gt;Podstav12\" style=\"stroke: #A80036; stroke-width: 1.0;\"/><polygon fill=\"#A80036\" points=\"167.29,208.2969,158.29,204.2969,162.29,208.2969,158.29,212.2969,167.29,208.2969\" style=\"stroke: #A80036; stroke-width: 1.0;\"/><!--MD5=[19394ab41cdc357349e8ffa3c278ecc9]\n",
       "link Podstav12 to Podstav13--><path d=\"M214.5,233.5932 C214.5,243.0833 214.5,254.0496 214.5,263.9738 \" fill=\"none\" id=\"Podstav12-&gt;Podstav13\" style=\"stroke: #A80036; stroke-width: 1.0;\"/><polygon fill=\"#A80036\" points=\"214.5,269.0552,218.5,260.0552,214.5,264.0552,210.5,260.0552,214.5,269.0552\" style=\"stroke: #A80036; stroke-width: 1.0;\"/><!--MD5=[e8bfc03b1e378ab6fee2a49202f9d3c3]\n",
       "reverse link *end*Stav1 to Podstav13--><path d=\"M155.01,294.2969 C159.159,294.2969 163.309,294.2969 167.458,294.2969 \" fill=\"none\" id=\"*end*Stav1&lt;-Podstav13\" style=\"stroke: #A80036; stroke-width: 1.0;\"/><polygon fill=\"#A80036\" points=\"149.7539,294.2969,158.7539,298.2969,154.7539,294.2969,158.7539,290.2969,149.7539,294.2969\" style=\"stroke: #A80036; stroke-width: 1.0;\"/><rect fill=\"#FEFECE\" filter=\"url(#f1d2xz35pa5g7v)\" height=\"302.2969\" rx=\"12.5\" ry=\"12.5\" style=\"stroke: #A80036; stroke-width: 1.5;\" width=\"138\" x=\"14\" y=\"394\"/><rect fill=\"#FFFFFF\" height=\"270\" rx=\"12.5\" ry=\"12.5\" style=\"stroke: #FFFFFF; stroke-width: 1.0;\" width=\"132\" x=\"17\" y=\"423.2969\"/><line style=\"stroke: #A80036; stroke-width: 1.5;\" x1=\"14\" x2=\"152\" y1=\"420.2969\" y2=\"420.2969\"/><text fill=\"#000000\" font-family=\"sans-serif\" font-size=\"14\" lengthAdjust=\"spacingAndGlyphs\" textLength=\"40\" x=\"63\" y=\"411.9951\">Stav2</text><ellipse cx=\"72\" cy=\"443.2969\" fill=\"#000000\" filter=\"url(#f1d2xz35pa5g7v)\" rx=\"10\" ry=\"10\" style=\"stroke: none; stroke-width: 1.0;\"/><rect fill=\"#FEFECE\" filter=\"url(#f1d2xz35pa5g7v)\" height=\"50\" rx=\"12.5\" ry=\"12.5\" style=\"stroke: #A80036; stroke-width: 1.5;\" width=\"94\" x=\"25\" y=\"489.2969\"/><line style=\"stroke: #A80036; stroke-width: 1.5;\" x1=\"25\" x2=\"119\" y1=\"515.5938\" y2=\"515.5938\"/><text fill=\"#000000\" font-family=\"sans-serif\" font-size=\"14\" lengthAdjust=\"spacingAndGlyphs\" textLength=\"74\" x=\"35\" y=\"507.292\">Podstav21</text><rect fill=\"#FEFECE\" filter=\"url(#f1d2xz35pa5g7v)\" height=\"50\" rx=\"12.5\" ry=\"12.5\" style=\"stroke: #A80036; stroke-width: 1.5;\" width=\"93\" x=\"25.5\" y=\"575.2969\"/><line style=\"stroke: #A80036; stroke-width: 1.5;\" x1=\"25.5\" x2=\"118.5\" y1=\"601.5938\" y2=\"601.5938\"/><text fill=\"#000000\" font-family=\"sans-serif\" font-size=\"14\" lengthAdjust=\"spacingAndGlyphs\" textLength=\"73\" x=\"35.5\" y=\"593.292\">Podstav22</text><ellipse cx=\"72\" cy=\"671.2969\" fill=\"none\" filter=\"url(#f1d2xz35pa5g7v)\" rx=\"10\" ry=\"10\" style=\"stroke: #000000; stroke-width: 1.0;\"/><ellipse cx=\"72.5\" cy=\"671.7969\" fill=\"#000000\" rx=\"6\" ry=\"6\" style=\"stroke: none; stroke-width: 1.0;\"/><!--MD5=[ed98e4a6c4dcf41e0f09787af89cf427]\n",
       "link *start*Stav2 to Podstav21--><path d=\"M72,453.3179 C72,461.1739 72,473.0129 72,484.1019 \" fill=\"none\" id=\"*start*Stav2-&gt;Podstav21\" style=\"stroke: #A80036; stroke-width: 1.0;\"/><polygon fill=\"#A80036\" points=\"72,489.1279,76,480.1279,72,484.1279,68,480.1279,72,489.1279\" style=\"stroke: #A80036; stroke-width: 1.0;\"/><!--MD5=[d6b7115c0060f68f957d33e4ee42872e]\n",
       "link Podstav21 to Podstav22--><path d=\"M72,539.5929 C72,549.0829 72,560.0499 72,569.9739 \" fill=\"none\" id=\"Podstav21-&gt;Podstav22\" style=\"stroke: #A80036; stroke-width: 1.0;\"/><polygon fill=\"#A80036\" points=\"72,575.0549,76,566.0549,72,570.0549,68,566.0549,72,575.0549\" style=\"stroke: #A80036; stroke-width: 1.0;\"/><!--MD5=[82329252136f80356f916bf43d5dbed5]\n",
       "link Podstav22 to *end*Stav2--><path d=\"M72,625.4298 C72,635.5996 72,647.0944 72,655.903 \" fill=\"none\" id=\"Podstav22-&gt;*end*Stav2\" style=\"stroke: #A80036; stroke-width: 1.0;\"/><polygon fill=\"#A80036\" points=\"72,661.0047,76,652.0047,72,656.0047,68,652.0047,72,661.0047\" style=\"stroke: #A80036; stroke-width: 1.0;\"/><rect fill=\"#FEFECE\" filter=\"url(#f1d2xz35pa5g7v)\" height=\"302.2969\" rx=\"12.5\" ry=\"12.5\" style=\"stroke: #A80036; stroke-width: 1.5;\" width=\"138\" x=\"187\" y=\"394\"/><rect fill=\"#FFFFFF\" height=\"270\" rx=\"12.5\" ry=\"12.5\" style=\"stroke: #FFFFFF; stroke-width: 1.0;\" width=\"132\" x=\"190\" y=\"423.2969\"/><line style=\"stroke: #A80036; stroke-width: 1.5;\" x1=\"187\" x2=\"325\" y1=\"420.2969\" y2=\"420.2969\"/><text fill=\"#000000\" font-family=\"sans-serif\" font-size=\"14\" lengthAdjust=\"spacingAndGlyphs\" textLength=\"40\" x=\"236\" y=\"411.9951\">Stav3</text><ellipse cx=\"245\" cy=\"443.2969\" fill=\"#000000\" filter=\"url(#f1d2xz35pa5g7v)\" rx=\"10\" ry=\"10\" style=\"stroke: none; stroke-width: 1.0;\"/><rect fill=\"#FEFECE\" filter=\"url(#f1d2xz35pa5g7v)\" height=\"50\" rx=\"12.5\" ry=\"12.5\" style=\"stroke: #A80036; stroke-width: 1.5;\" width=\"94\" x=\"198\" y=\"489.2969\"/><line style=\"stroke: #A80036; stroke-width: 1.5;\" x1=\"198\" x2=\"292\" y1=\"515.5938\" y2=\"515.5938\"/><text fill=\"#000000\" font-family=\"sans-serif\" font-size=\"14\" lengthAdjust=\"spacingAndGlyphs\" textLength=\"74\" x=\"208\" y=\"507.292\">Podstav31</text><rect fill=\"#FEFECE\" filter=\"url(#f1d2xz35pa5g7v)\" height=\"50\" rx=\"12.5\" ry=\"12.5\" style=\"stroke: #A80036; stroke-width: 1.5;\" width=\"93\" x=\"198.5\" y=\"575.2969\"/><line style=\"stroke: #A80036; stroke-width: 1.5;\" x1=\"198.5\" x2=\"291.5\" y1=\"601.5938\" y2=\"601.5938\"/><text fill=\"#000000\" font-family=\"sans-serif\" font-size=\"14\" lengthAdjust=\"spacingAndGlyphs\" textLength=\"73\" x=\"208.5\" y=\"593.292\">Podstav32</text><ellipse cx=\"245\" cy=\"671.2969\" fill=\"none\" filter=\"url(#f1d2xz35pa5g7v)\" rx=\"10\" ry=\"10\" style=\"stroke: #000000; stroke-width: 1.0;\"/><ellipse cx=\"245.5\" cy=\"671.7969\" fill=\"#000000\" rx=\"6\" ry=\"6\" style=\"stroke: none; stroke-width: 1.0;\"/><!--MD5=[bc46b7420b558cefaf732c1c2a6312c4]\n",
       "link *start*Stav3 to Podstav31--><path d=\"M245,453.3179 C245,461.1739 245,473.0129 245,484.1019 \" fill=\"none\" id=\"*start*Stav3-&gt;Podstav31\" style=\"stroke: #A80036; stroke-width: 1.0;\"/><polygon fill=\"#A80036\" points=\"245,489.1279,249,480.1279,245,484.1279,241,480.1279,245,489.1279\" style=\"stroke: #A80036; stroke-width: 1.0;\"/><!--MD5=[4584131bed2cccc9d7206a7942caba27]\n",
       "link Podstav31 to Podstav32--><path d=\"M245,539.5929 C245,549.0829 245,560.0499 245,569.9739 \" fill=\"none\" id=\"Podstav31-&gt;Podstav32\" style=\"stroke: #A80036; stroke-width: 1.0;\"/><polygon fill=\"#A80036\" points=\"245,575.0549,249,566.0549,245,570.0549,241,566.0549,245,575.0549\" style=\"stroke: #A80036; stroke-width: 1.0;\"/><!--MD5=[bc63bba90a90ae08510898c52e5a4fe5]\n",
       "link Podstav32 to *end*Stav3--><path d=\"M245,625.4298 C245,635.5996 245,647.0944 245,655.903 \" fill=\"none\" id=\"Podstav32-&gt;*end*Stav3\" style=\"stroke: #A80036; stroke-width: 1.0;\"/><polygon fill=\"#A80036\" points=\"245,661.0047,249,652.0047,245,656.0047,241,652.0047,245,661.0047\" style=\"stroke: #A80036; stroke-width: 1.0;\"/><rect fill=\"#FEFECE\" filter=\"url(#f1d2xz35pa5g7v)\" height=\"104.2969\" rx=\"12.5\" ry=\"12.5\" style=\"stroke: #A80036; stroke-width: 1.5;\" width=\"326\" x=\"6\" y=\"756\"/><rect fill=\"#FFFFFF\" height=\"72\" rx=\"12.5\" ry=\"12.5\" style=\"stroke: #FFFFFF; stroke-width: 1.0;\" width=\"320\" x=\"9\" y=\"785.2969\"/><line style=\"stroke: #A80036; stroke-width: 1.5;\" x1=\"6\" x2=\"332\" y1=\"782.2969\" y2=\"782.2969\"/><text fill=\"#000000\" font-family=\"sans-serif\" font-size=\"14\" lengthAdjust=\"spacingAndGlyphs\" textLength=\"40\" x=\"149\" y=\"773.9951\">Stav4</text><ellipse cx=\"27\" cy=\"820.2969\" fill=\"#000000\" filter=\"url(#f1d2xz35pa5g7v)\" rx=\"10\" ry=\"10\" style=\"stroke: none; stroke-width: 1.0;\"/><rect fill=\"#FEFECE\" filter=\"url(#f1d2xz35pa5g7v)\" height=\"50\" rx=\"12.5\" ry=\"12.5\" style=\"stroke: #A80036; stroke-width: 1.5;\" width=\"94\" x=\"55\" y=\"795.2969\"/><line style=\"stroke: #A80036; stroke-width: 1.5;\" x1=\"55\" x2=\"149\" y1=\"821.5938\" y2=\"821.5938\"/><text fill=\"#000000\" font-family=\"sans-serif\" font-size=\"14\" lengthAdjust=\"spacingAndGlyphs\" textLength=\"74\" x=\"65\" y=\"813.292\">Podstav41</text><rect fill=\"#FEFECE\" filter=\"url(#f1d2xz35pa5g7v)\" height=\"50\" rx=\"12.5\" ry=\"12.5\" style=\"stroke: #A80036; stroke-width: 1.5;\" width=\"93\" x=\"167.5\" y=\"795.2969\"/><line style=\"stroke: #A80036; stroke-width: 1.5;\" x1=\"167.5\" x2=\"260.5\" y1=\"821.5938\" y2=\"821.5938\"/><text fill=\"#000000\" font-family=\"sans-serif\" font-size=\"14\" lengthAdjust=\"spacingAndGlyphs\" textLength=\"73\" x=\"177.5\" y=\"813.292\">Podstav42</text><ellipse cx=\"289\" cy=\"820.2969\" fill=\"none\" filter=\"url(#f1d2xz35pa5g7v)\" rx=\"10\" ry=\"10\" style=\"stroke: #000000; stroke-width: 1.0;\"/><ellipse cx=\"289.5\" cy=\"820.7969\" fill=\"#000000\" rx=\"6\" ry=\"6\" style=\"stroke: none; stroke-width: 1.0;\"/><!--MD5=[4b18dbfd6cf8591b61363c2c5d0f9380]\n",
       "link *start*Stav4 to Podstav41--><path d=\"M37.2539,820.2969 C41.4033,820.2969 45.5527,820.2969 49.702,820.2969 \" fill=\"none\" id=\"*start*Stav4-&gt;Podstav41\" style=\"stroke: #A80036; stroke-width: 1.0;\"/><polygon fill=\"#A80036\" points=\"54.9579,820.2969,45.9579,816.2969,49.9579,820.2969,45.9579,824.2969,54.9579,820.2969\" style=\"stroke: #A80036; stroke-width: 1.0;\"/><!--MD5=[637410abe33ce2b397b0aedeed559f18]\n",
       "link Podstav41 to Podstav42--><path d=\"M149.25,820.2969 C153.613,820.2969 157.976,820.2969 162.339,820.2969 \" fill=\"none\" id=\"Podstav41-&gt;Podstav42\" style=\"stroke: #A80036; stroke-width: 1.0;\"/><polygon fill=\"#A80036\" points=\"167.461,820.2969,158.461,816.2969,162.461,820.2969,158.461,824.2969,167.461,820.2969\" style=\"stroke: #A80036; stroke-width: 1.0;\"/><!--MD5=[07f27390746f730ace5b008c4e0752fa]\n",
       "link Podstav42 to *end*Stav4--><path d=\"M260.582,820.2969 C264.944,820.2969 269.305,820.2969 273.667,820.2969 \" fill=\"none\" id=\"Podstav42-&gt;*end*Stav4\" style=\"stroke: #A80036; stroke-width: 1.0;\"/><polygon fill=\"#A80036\" points=\"278.787,820.2969,269.787,816.2969,273.787,820.2969,269.787,824.2969,278.787,820.2969\" style=\"stroke: #A80036; stroke-width: 1.0;\"/><!--MD5=[a9363ce752a5796c59d0317baf0f049c]\n",
       "link *start to Stav1--><path d=\"M169,28.212 C169,39.366 169,59.535 169,82.494 \" fill=\"none\" id=\"*start-&gt;Stav1\" style=\"stroke: #A80036; stroke-width: 1.0;\"/><polygon fill=\"#A80036\" points=\"169,87.749,173,78.749,169,82.749,165,78.749,169,87.749\" style=\"stroke: #A80036; stroke-width: 1.0;\"/><!--MD5=[93c1095964e7f9968d0b53809dd524b7]\n",
       "link Stav1 to Stav2--><path d=\"M137.343,334.21 C132.747,351.955 127.964,370.419 123.226,388.71 \" fill=\"none\" id=\"Stav1-&gt;Stav2\" style=\"stroke: #A80036; stroke-width: 1.0;\"/><polygon fill=\"#A80036\" points=\"121.891,393.863,128.0209,386.1542,123.1453,389.0229,120.2767,384.1473,121.891,393.863\" style=\"stroke: #A80036; stroke-width: 1.0;\"/><!--MD5=[7271d8b6246f2539bc1ae86a60619f45]\n",
       "link Stav1 to Stav3--><path d=\"M201.025,334.21 C205.675,351.955 210.514,370.419 215.306,388.71 \" fill=\"none\" id=\"Stav1-&gt;Stav3\" style=\"stroke: #A80036; stroke-width: 1.0;\"/><polygon fill=\"#A80036\" points=\"216.657,393.863,218.2457,384.1431,215.3899,389.0262,210.5069,386.1704,216.657,393.863\" style=\"stroke: #A80036; stroke-width: 1.0;\"/><!--MD5=[b175a7303a7fbd2b7e0f7d560dcde67b]\n",
       "link Stav2 to Stav3--><path d=\"M152.268,545 C162.044,545 171.821,545 181.597,545 \" fill=\"none\" id=\"Stav2-&gt;Stav3\" style=\"stroke: #A80036; stroke-width: 1.0;\"/><polygon fill=\"#A80036\" points=\"186.71,545,177.71,541,181.71,545,177.71,549,186.71,545\" style=\"stroke: #A80036; stroke-width: 1.0;\"/><!--MD5=[a0e58e67debc97ea58197728cbaaeabe]\n",
       "link Stav2 to Stav4--><path d=\"M132.528,696.313 C138.924,715.722 145.122,734.532 150.539,750.972 \" fill=\"none\" id=\"Stav2-&gt;Stav4\" style=\"stroke: #A80036; stroke-width: 1.0;\"/><polygon fill=\"#A80036\" points=\"152.194,755.996,153.1772,746.1963,150.6296,751.247,145.5789,748.6994,152.194,755.996\" style=\"stroke: #A80036; stroke-width: 1.0;\"/><!--MD5=[9fffc41eed611be9b0efc829c6a10656]\n",
       "link Stav3 to Stav4--><path d=\"M205.896,696.313 C199.426,715.722 193.156,734.532 187.676,750.972 \" fill=\"none\" id=\"Stav3-&gt;Stav4\" style=\"stroke: #A80036; stroke-width: 1.0;\"/><polygon fill=\"#A80036\" points=\"186.001,755.996,192.6418,748.7228,187.5821,751.2526,185.0523,746.1929,186.001,755.996\" style=\"stroke: #A80036; stroke-width: 1.0;\"/><!--MD5=[c2b949f7c9d773cec1d8b0177cf35f82]\n",
       "link Stav4 to *end--><path d=\"M169,860.2389 C169,879.8592 169,900.7569 169,914.295 \" fill=\"none\" id=\"Stav4-&gt;*end\" style=\"stroke: #A80036; stroke-width: 1.0;\"/><polygon fill=\"#A80036\" points=\"169,919.6213,173,910.6213,169,914.6213,165,910.6213,169,919.6213\" style=\"stroke: #A80036; stroke-width: 1.0;\"/><!--MD5=[001b5cfec769ed8697c8c2f296e7b9fe]\n",
       "@startuml\n",
       "[*] - -> Stav1\n",
       "Stav1 - -> Stav2\n",
       "Stav1 - -> Stav3\n",
       "Stav2 -> Stav3\n",
       "Stav2 - -> Stav4\n",
       "Stav3 - -> Stav4\n",
       "Stav4 - -> [*]\n",
       " \n",
       "state Stav1 {\n",
       "    [*] - -> Podstav11\n",
       "    Podstav11 -> Podstav12\n",
       "    Podstav12 - -> Podstav13\n",
       "    Podstav13 -left> [*]\n",
       "}\n",
       " \n",
       "state Stav2 {\n",
       "    [*] - -> Podstav21\n",
       "    Podstav21 - -> Podstav22\n",
       "    Podstav22 - -> [*]\n",
       "}\n",
       " \n",
       "state Stav3 {\n",
       "    [*] - -> Podstav31\n",
       "    Podstav31 - -> Podstav32\n",
       "    Podstav32 - -> [*]\n",
       "}\n",
       " \n",
       "state Stav4 {\n",
       "    [*] -> Podstav41\n",
       "    Podstav41 -> Podstav42\n",
       "    Podstav42 -> [*]\n",
       "}\n",
       "@enduml\n",
       "\n",
       "PlantUML version 1.2020.09beta3(Unknown compile time)\n",
       "(GPL source distribution)\n",
       "Java Runtime: Java(TM) SE Runtime Environment\n",
       "JVM: Java HotSpot(TM) 64-Bit Server VM\n",
       "Java Version: 14.0.1+7\n",
       "Operating System: Linux\n",
       "Default Encoding: UTF-8\n",
       "Language: en\n",
       "Country: US\n",
       "--></g></svg>"
      ],
      "text/plain": [
       "<IPython.core.display.SVG object>"
      ]
     },
     "execution_count": 25,
     "metadata": {},
     "output_type": "execute_result"
    }
   ],
   "source": [
    "%%plantuml\n",
    "\n",
    "@startuml\n",
    "[*] --> Stav1\n",
    "Stav1 --> Stav2\n",
    "Stav1 --> Stav3\n",
    "Stav2 -> Stav3\n",
    "Stav2 --> Stav4\n",
    "Stav3 --> Stav4\n",
    "Stav4 --> [*]\n",
    " \n",
    "state Stav1 {\n",
    "    [*] --> Podstav11\n",
    "    Podstav11 -> Podstav12\n",
    "    Podstav12 --> Podstav13\n",
    "    Podstav13 -left> [*]\n",
    "}\n",
    " \n",
    "state Stav2 {\n",
    "    [*] --> Podstav21\n",
    "    Podstav21 --> Podstav22\n",
    "    Podstav22 --> [*]\n",
    "}\n",
    " \n",
    "state Stav3 {\n",
    "    [*] --> Podstav31\n",
    "    Podstav31 --> Podstav32\n",
    "    Podstav32 --> [*]\n",
    "}\n",
    " \n",
    "state Stav4 {\n",
    "    [*] -> Podstav41\n",
    "    Podstav41 -> Podstav42\n",
    "    Podstav42 -> [*]\n",
    "}\n",
    " \n",
    "@enduml"
   ]
  },
  {
   "cell_type": "code",
   "execution_count": null,
   "metadata": {},
   "outputs": [],
   "source": []
  }
 ],
 "metadata": {
  "kernelspec": {
   "display_name": "Python 3",
   "language": "python",
   "name": "python3"
  },
  "language_info": {
   "codemirror_mode": {
    "name": "ipython",
    "version": 3
   },
   "file_extension": ".py",
   "mimetype": "text/x-python",
   "name": "python",
   "nbconvert_exporter": "python",
   "pygments_lexer": "ipython3",
   "version": "3.6.6"
  }
 },
 "nbformat": 4,
 "nbformat_minor": 2
}
