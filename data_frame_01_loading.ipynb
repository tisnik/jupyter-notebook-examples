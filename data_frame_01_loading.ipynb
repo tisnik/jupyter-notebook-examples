{
 "cells": [
  {
   "cell_type": "code",
   "execution_count": 1,
   "metadata": {},
   "outputs": [
    {
     "name": "stdout",
     "output_type": "stream",
     "text": [
      "    Sep 2020  Sep 2019  Change           Language  Ratings  Changep\n",
      "0          1         2  change                  C    15.95     0.74\n",
      "1          2         1  change               Java    13.48    -3.18\n",
      "2          3         3     NaN             Python    10.47     0.59\n",
      "3          4         4     NaN                C++     7.11     1.48\n",
      "4          5         5     NaN                 C#     4.58     1.18\n",
      "5          6         6     NaN       Visual Basic     4.12     0.83\n",
      "6          7         7     NaN         JavaScript     2.54     0.41\n",
      "7          8         9  change                PHP     2.49     0.62\n",
      "8          9        19  change                  R     2.37     1.33\n",
      "9         10         8  change                SQL     1.76    -0.19\n",
      "10        11        14  change                 Go     1.46     0.24\n",
      "11        12        16  change              Swift     1.38     0.28\n",
      "12        13        20  change               Perl     1.30     0.26\n",
      "13        14        12  change  Assembly language     1.30    -0.08\n",
      "14        15        15     NaN               Ruby     1.24     0.03\n",
      "15        16        18  change             MATLAB     1.10     0.04\n",
      "16        17        11  change             Groovy     0.99    -0.52\n",
      "17        18        33  change               Rust     0.92     0.55\n",
      "18        19        10  change        Objective-C     0.85    -0.99\n",
      "19        20        24  change               Dart     0.77     0.13\n",
      "\n",
      "Sep 2020      int64\n",
      "Sep 2019      int64\n",
      "Change       object\n",
      "Language     object\n",
      "Ratings     float64\n",
      "Changep     float64\n",
      "dtype: object\n",
      "\n",
      "<class 'pandas.core.frame.DataFrame'>\n",
      "RangeIndex: 20 entries, 0 to 19\n",
      "Data columns (total 6 columns):\n",
      " #   Column    Non-Null Count  Dtype  \n",
      "---  ------    --------------  -----  \n",
      " 0   Sep 2020  20 non-null     int64  \n",
      " 1   Sep 2019  20 non-null     int64  \n",
      " 2   Change    14 non-null     object \n",
      " 3   Language  20 non-null     object \n",
      " 4   Ratings   20 non-null     float64\n",
      " 5   Changep   20 non-null     float64\n",
      "dtypes: float64(2), int64(2), object(2)\n",
      "memory usage: 1.1+ KB\n",
      "None\n",
      "\n"
     ]
    }
   ],
   "source": [
    "import pandas\n",
    "\n",
    "# přečtení zdrojových dat\n",
    "df = pandas.read_csv(\"tiobe.tsv\", sep=\"\\t\")\n",
    "\n",
    "# datový rámec zobrazíme\n",
    "print(df)\n",
    "print()\n",
    "\n",
    "# podrobnější informace o datovém rámci\n",
    "print(df.dtypes)\n",
    "print()\n",
    "\n",
    "# více podrobnějších informací o datovém rámci\n",
    "print(df.info())\n",
    "print()"
   ]
  },
  {
   "cell_type": "code",
   "execution_count": null,
   "metadata": {},
   "outputs": [],
   "source": []
  }
 ],
 "metadata": {
  "kernelspec": {
   "display_name": "Python 3",
   "language": "python",
   "name": "python3"
  },
  "language_info": {
   "codemirror_mode": {
    "name": "ipython",
    "version": 3
   },
   "file_extension": ".py",
   "mimetype": "text/x-python",
   "name": "python",
   "nbconvert_exporter": "python",
   "pygments_lexer": "ipython3",
   "version": "3.6.6"
  }
 },
 "nbformat": 4,
 "nbformat_minor": 2
}
