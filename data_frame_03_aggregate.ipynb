{
 "cells": [
  {
   "cell_type": "code",
   "execution_count": 1,
   "metadata": {},
   "outputs": [
    {
     "name": "stdout",
     "output_type": "stream",
     "text": [
      "Results\n",
      "amin     0.770\n",
      "amax    15.950\n",
      "sum     76.180\n",
      "mean     3.809\n",
      "Name: Ratings, dtype: float64\n"
     ]
    }
   ],
   "source": [
    "import pandas\n",
    "import numpy as np\n",
    "\n",
    "# přečtení zdrojových dat\n",
    "df = pandas.read_csv(\"tiobe.tsv\", sep=\"\\t\")\n",
    "\n",
    "# specifikace indexu - má se získat ze sloupce Language\n",
    "df.set_index(\"Language\", inplace=True)\n",
    "\n",
    "# agregace výsledků\n",
    "results = df[\"Ratings\"].agg([np.min, np.max, np.sum, np.mean])\n",
    "\n",
    "# tisk vypočtených výsledků\n",
    "print(\"Results\")\n",
    "print(results)"
   ]
  },
  {
   "cell_type": "code",
   "execution_count": null,
   "metadata": {},
   "outputs": [],
   "source": []
  }
 ],
 "metadata": {
  "kernelspec": {
   "display_name": "Python 3",
   "language": "python",
   "name": "python3"
  },
  "language_info": {
   "codemirror_mode": {
    "name": "ipython",
    "version": 3
   },
   "file_extension": ".py",
   "mimetype": "text/x-python",
   "name": "python",
   "nbconvert_exporter": "python",
   "pygments_lexer": "ipython3",
   "version": "3.6.6"
  }
 },
 "nbformat": 4,
 "nbformat_minor": 2
}
