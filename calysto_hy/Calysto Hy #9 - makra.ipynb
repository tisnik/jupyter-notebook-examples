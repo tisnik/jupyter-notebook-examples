{
 "cells": [
  {
   "cell_type": "code",
   "execution_count": 1,
   "metadata": {},
   "outputs": [],
   "source": [
    "(setv hello-code '(print \"Hello world!\"))"
   ]
  },
  {
   "cell_type": "code",
   "execution_count": 2,
   "metadata": {},
   "outputs": [
    {
     "data": {
      "text/plain": [
       "HyExpression([\n",
       "  HySymbol('print'),\n",
       "  HyString('Hello world!')])"
      ]
     },
     "execution_count": 2,
     "metadata": {},
     "output_type": "execute_result"
    }
   ],
   "source": [
    "hello-code"
   ]
  },
  {
   "cell_type": "code",
   "execution_count": 3,
   "metadata": {},
   "outputs": [
    {
     "name": "stderr",
     "output_type": "stream",
     "text": [
      "\u001b[0;31mTraceback (most recent call last):\n",
      "  File \"/home/ptisnovs/calysto_hy/lib64/python3.6/site-packages/calysto_hy/kernel.py\", line 146, in do_execute_direct\n",
      "    self.result = eval(eval_code, self.locals)\n",
      "  File \"In [3]\", line 1, in <module>\n",
      "TypeError: 'HyExpression' object is not callable\n",
      "\n",
      "\u001b[0m"
     ]
    }
   ],
   "source": [
    "(hello-code)"
   ]
  },
  {
   "cell_type": "code",
   "execution_count": 4,
   "metadata": {},
   "outputs": [
    {
     "name": "stdout",
     "output_type": "stream",
     "text": [
      "Hello world!\n"
     ]
    }
   ],
   "source": [
    "(eval hello-code)"
   ]
  },
  {
   "cell_type": "code",
   "execution_count": 5,
   "metadata": {},
   "outputs": [
    {
     "data": {
      "text/plain": [
       "HyExpression([\n",
       "  HyInteger(1),\n",
       "  HyInteger(2),\n",
       "  HyInteger(3)])"
      ]
     },
     "execution_count": 5,
     "metadata": {},
     "output_type": "execute_result"
    }
   ],
   "source": [
    "'(1 2 3)"
   ]
  },
  {
   "cell_type": "code",
   "execution_count": 6,
   "metadata": {},
   "outputs": [
    {
     "data": {
      "text/plain": [
       "HyExpression([\n",
       "  HySymbol('*'),\n",
       "  HyInteger(6),\n",
       "  HyInteger(7)])"
      ]
     },
     "execution_count": 6,
     "metadata": {},
     "output_type": "execute_result"
    }
   ],
   "source": [
    "`(* 6 7)"
   ]
  },
  {
   "cell_type": "code",
   "execution_count": 7,
   "metadata": {},
   "outputs": [
    {
     "data": {
      "text/plain": [
       "HyExpression([\n",
       "  HyInteger(1),\n",
       "  HyInteger(2),\n",
       "  HyExpression([\n",
       "    HySymbol('*'),\n",
       "    HyInteger(6),\n",
       "    HyInteger(7)]),\n",
       "  HyExpression([\n",
       "    HySymbol('/'),\n",
       "    HyInteger(4),\n",
       "    HyInteger(2)])])"
      ]
     },
     "execution_count": 7,
     "metadata": {},
     "output_type": "execute_result"
    }
   ],
   "source": [
    "`(1 2 (* 6 7) (/ 4 2))"
   ]
  },
  {
   "cell_type": "code",
   "execution_count": 8,
   "metadata": {},
   "outputs": [
    {
     "data": {
      "text/plain": [
       "HyExpression([\n",
       "  HyInteger(1),\n",
       "  HyInteger(2),\n",
       "  42,\n",
       "  HyExpression([\n",
       "    HySymbol('/'),\n",
       "    HyInteger(4),\n",
       "    HyInteger(2)])])"
      ]
     },
     "execution_count": 8,
     "metadata": {},
     "output_type": "execute_result"
    }
   ],
   "source": [
    "`(1 2 ~(* 6 7) (/ 4 2))"
   ]
  },
  {
   "cell_type": "code",
   "execution_count": null,
   "metadata": {},
   "outputs": [],
   "source": []
  }
 ],
 "metadata": {
  "kernelspec": {
   "display_name": "Calysto Hy",
   "language": "hy",
   "name": "calysto_hy"
  },
  "language_info": {
   "codemirror_mode": {
    "name": "scheme"
   },
   "mimetype": "text/x-hylang",
   "name": "hy",
   "pygments_lexer": "lisp"
  }
 },
 "nbformat": 4,
 "nbformat_minor": 2
}
