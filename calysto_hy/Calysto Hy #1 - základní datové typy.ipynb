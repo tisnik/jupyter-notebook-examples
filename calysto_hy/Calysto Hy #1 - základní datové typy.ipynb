{
 "cells": [
  {
   "cell_type": "code",
   "execution_count": 1,
   "metadata": {},
   "outputs": [],
   "source": [
    "None"
   ]
  },
  {
   "cell_type": "code",
   "execution_count": 2,
   "metadata": {},
   "outputs": [
    {
     "data": {
      "text/plain": [
       "True"
      ]
     },
     "execution_count": 2,
     "metadata": {},
     "output_type": "execute_result"
    }
   ],
   "source": [
    "True"
   ]
  },
  {
   "cell_type": "code",
   "execution_count": 3,
   "metadata": {},
   "outputs": [
    {
     "data": {
      "text/plain": [
       "False"
      ]
     },
     "execution_count": 3,
     "metadata": {},
     "output_type": "execute_result"
    }
   ],
   "source": [
    "False"
   ]
  },
  {
   "cell_type": "code",
   "execution_count": 4,
   "metadata": {},
   "outputs": [
    {
     "name": "stderr",
     "output_type": "stream",
     "text": [
      "\u001b[0;31mTraceback (most recent call last):\n",
      "  File \"/home/ptisnovs/calysto_hy/lib64/python3.6/site-packages/calysto_hy/kernel.py\", line 146, in do_execute_direct\n",
      "    self.result = eval(eval_code, self.locals)\n",
      "  File \"In [4]\", line 1, in <module>\n",
      "NameError: name 'nil' is not defined\n",
      "\n",
      "\u001b[0m"
     ]
    }
   ],
   "source": [
    "nil"
   ]
  },
  {
   "cell_type": "code",
   "execution_count": 5,
   "metadata": {},
   "outputs": [
    {
     "name": "stderr",
     "output_type": "stream",
     "text": [
      "\u001b[0;31mTraceback (most recent call last):\n",
      "  File \"/home/ptisnovs/calysto_hy/lib64/python3.6/site-packages/calysto_hy/kernel.py\", line 146, in do_execute_direct\n",
      "    self.result = eval(eval_code, self.locals)\n",
      "  File \"In [5]\", line 1, in <module>\n",
      "NameError: name 'true' is not defined\n",
      "\n",
      "\u001b[0m"
     ]
    }
   ],
   "source": [
    "true"
   ]
  },
  {
   "cell_type": "code",
   "execution_count": 6,
   "metadata": {},
   "outputs": [
    {
     "name": "stderr",
     "output_type": "stream",
     "text": [
      "\u001b[0;31mTraceback (most recent call last):\n",
      "  File \"/home/ptisnovs/calysto_hy/lib64/python3.6/site-packages/calysto_hy/kernel.py\", line 146, in do_execute_direct\n",
      "    self.result = eval(eval_code, self.locals)\n",
      "  File \"In [6]\", line 1, in <module>\n",
      "NameError: name 'false' is not defined\n",
      "\n",
      "\u001b[0m"
     ]
    }
   ],
   "source": [
    "false"
   ]
  },
  {
   "cell_type": "code",
   "execution_count": null,
   "metadata": {},
   "outputs": [],
   "source": []
  }
 ],
 "metadata": {
  "kernelspec": {
   "display_name": "Calysto Hy",
   "language": "hy",
   "name": "calysto_hy"
  },
  "language_info": {
   "codemirror_mode": {
    "name": "scheme"
   },
   "mimetype": "text/x-hylang",
   "name": "hy",
   "pygments_lexer": "lisp"
  }
 },
 "nbformat": 4,
 "nbformat_minor": 2
}
