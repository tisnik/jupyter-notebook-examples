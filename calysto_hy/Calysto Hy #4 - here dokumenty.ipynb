{
 "cells": [
  {
   "cell_type": "code",
   "execution_count": 1,
   "metadata": {},
   "outputs": [
    {
     "data": {
      "text/plain": [
       "' -------\\n( Lisp! )\\n -------\\n  \\\\\\n   \\\\   \\\\_\\\\_    _/_/\\n    \\\\      \\\\__/\\n           (oo)\\\\_______\\n           (__)\\\\       )\\\\/\\\\\\n               ||----w |\\n               ||     ||\\n'"
      ]
     },
     "execution_count": 1,
     "metadata": {},
     "output_type": "execute_result"
    }
   ],
   "source": [
    "#[[\n",
    " -------\n",
    "( Lisp! )\n",
    " -------\n",
    "  \\\n",
    "   \\   \\_\\_    _/_/\n",
    "    \\      \\__/\n",
    "           (oo)\\_______\n",
    "           (__)\\       )\\/\\\n",
    "               ||----w |\n",
    "               ||     ||\n",
    "]]"
   ]
  },
  {
   "cell_type": "code",
   "execution_count": 2,
   "metadata": {},
   "outputs": [
    {
     "data": {
      "text/plain": [
       "' -------\\n( Lisp! )\\n -------\\n  \\\\\\n   \\\\   \\\\_\\\\_    _/_/\\n    \\\\      \\\\__/\\n           (oo)\\\\_______\\n           (__)\\\\       )\\\\/\\\\\\n               ||----w |\\n               ||     ||\\n'"
      ]
     },
     "execution_count": 2,
     "metadata": {},
     "output_type": "execute_result"
    }
   ],
   "source": [
    "#[---[\n",
    " -------\n",
    "( Lisp! )\n",
    " -------\n",
    "  \\\n",
    "   \\   \\_\\_    _/_/\n",
    "    \\      \\__/\n",
    "           (oo)\\_______\n",
    "           (__)\\       )\\/\\\n",
    "               ||----w |\n",
    "               ||     ||\n",
    "]---]"
   ]
  },
  {
   "cell_type": "code",
   "execution_count": null,
   "metadata": {},
   "outputs": [],
   "source": []
  }
 ],
 "metadata": {
  "kernelspec": {
   "display_name": "Calysto Hy",
   "language": "hy",
   "name": "calysto_hy"
  },
  "language_info": {
   "codemirror_mode": {
    "name": "scheme"
   },
   "mimetype": "text/x-hylang",
   "name": "hy",
   "pygments_lexer": "lisp"
  }
 },
 "nbformat": 4,
 "nbformat_minor": 2
}
