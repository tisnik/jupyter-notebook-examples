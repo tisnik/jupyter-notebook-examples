{
 "cells": [
  {
   "cell_type": "code",
   "execution_count": 11,
   "metadata": {},
   "outputs": [
    {
     "name": "stdout",
     "output_type": "stream",
     "text": [
      "2018-02-28\n",
      "2018\n",
      "2\n",
      "28\n",
      "2021-03-22\n",
      "2021-03-22\n"
     ]
    }
   ],
   "source": [
    "(import [datetime [date :as d]])\n",
    " \n",
    "(setv date (d 2018 02 28))\n",
    "(print date)\n",
    "(print date.year)\n",
    "(print date.month)\n",
    "(print date.day)\n",
    " \n",
    "(setv now1 (.today d))\n",
    "(print now1)\n",
    "(setv now2 (d.today))\n",
    "(print now2)"
   ]
  },
  {
   "cell_type": "code",
   "execution_count": null,
   "metadata": {},
   "outputs": [],
   "source": []
  }
 ],
 "metadata": {
  "kernelspec": {
   "display_name": "Calysto Hy",
   "language": "hy",
   "name": "calysto_hy"
  },
  "language_info": {
   "codemirror_mode": {
    "name": "scheme"
   },
   "mimetype": "text/x-hylang",
   "name": "hy",
   "pygments_lexer": "lisp"
  }
 },
 "nbformat": 4,
 "nbformat_minor": 2
}
