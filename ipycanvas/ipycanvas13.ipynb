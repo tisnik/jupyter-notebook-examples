{
  "metadata": {
    "language_info": {
      "codemirror_mode": {
        "name": "python",
        "version": 3
      },
      "file_extension": ".py",
      "mimetype": "text/x-python",
      "name": "python",
      "nbconvert_exporter": "python",
      "pygments_lexer": "ipython3",
      "version": "3.8"
    },
    "kernelspec": {
      "name": "python",
      "display_name": "Pyolite",
      "language": "python"
    }
  },
  "nbformat_minor": 4,
  "nbformat": 4,
  "cells": [
    {
      "cell_type": "code",
      "source": "# příprava knihovny určené pro instalaci dalších knihoven do prostředí prohlížeče\nimport micropip",
      "metadata": {
        "trusted": true
      },
      "execution_count": 1,
      "outputs": []
    },
    {
      "cell_type": "code",
      "source": "# instalace knihovny ipycanvas do prostředí prohlížeče\nawait micropip.install(\"ipycanvas\")",
      "metadata": {
        "trusted": true
      },
      "execution_count": 2,
      "outputs": []
    },
    {
      "cell_type": "code",
      "source": "# nyní je již možné provést import nově nainstalované knihovny\nimport ipycanvas",
      "metadata": {
        "trusted": true
      },
      "execution_count": 3,
      "outputs": []
    },
    {
      "cell_type": "code",
      "source": "# vytvoření kreslicího plátna\ncanvas = ipycanvas.Canvas(width=200, height=200)",
      "metadata": {
        "trusted": true
      },
      "execution_count": 23,
      "outputs": []
    },
    {
      "cell_type": "code",
      "source": "# vložení kreslicího plátna na plochu diáře\ncanvas",
      "metadata": {
        "trusted": true
      },
      "execution_count": 24,
      "outputs": [
        {
          "output_type": "display_data",
          "data": {
            "text/plain": "Canvas(height=200, width=200)",
            "application/vnd.jupyter.widget-view+json": {
              "version_major": 2,
              "version_minor": 0,
              "model_id": "25935d00e3d14c8c8e73ac7aeff6a16e"
            }
          },
          "metadata": {}
        },
        {
          "execution_count": 24,
          "output_type": "execute_result",
          "data": {},
          "metadata": {}
        }
      ]
    },
    {
      "cell_type": "code",
      "source": "# definice cesty\npath1 = ipycanvas.Path2D('M 50 150 h 100 l -100 -100 v 100 l 100 -100 h -100 l 50 -50 l 50 50 v 100')",
      "metadata": {
        "trusted": true
      },
      "execution_count": 25,
      "outputs": []
    },
    {
      "cell_type": "code",
      "source": "# vykreslení cesty\ncanvas.fill_style = 'orange'\ncanvas.stroke_style = 'black'\n\ncanvas.fill(path1)",
      "metadata": {
        "trusted": true
      },
      "execution_count": 26,
      "outputs": []
    },
    {
      "cell_type": "code",
      "source": "",
      "metadata": {},
      "execution_count": null,
      "outputs": []
    }
  ]
}
