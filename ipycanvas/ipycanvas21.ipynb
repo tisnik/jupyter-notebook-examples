{
  "metadata": {
    "language_info": {
      "codemirror_mode": {
        "name": "python",
        "version": 3
      },
      "file_extension": ".py",
      "mimetype": "text/x-python",
      "name": "python",
      "nbconvert_exporter": "python",
      "pygments_lexer": "ipython3",
      "version": "3.8"
    },
    "kernelspec": {
      "name": "python",
      "display_name": "Pyolite",
      "language": "python"
    }
  },
  "nbformat_minor": 4,
  "nbformat": 4,
  "cells": [
    {
      "cell_type": "code",
      "source": "# příprava knihovny určené pro instalaci dalších knihoven do prostředí prohlížeče\nimport micropip",
      "metadata": {
        "trusted": true
      },
      "execution_count": 22,
      "outputs": []
    },
    {
      "cell_type": "code",
      "source": "# instalace knihovny ipycanvas do prostředí prohlížeče\nawait micropip.install(\"ipycanvas\")",
      "metadata": {
        "trusted": true
      },
      "execution_count": 23,
      "outputs": []
    },
    {
      "cell_type": "code",
      "source": "# nyní je již možné provést import nově nainstalované knihovny\nimport ipycanvas",
      "metadata": {
        "trusted": true
      },
      "execution_count": 24,
      "outputs": []
    },
    {
      "cell_type": "code",
      "source": "# vytvoření kreslicího plátna\ncanvas = ipycanvas.Canvas(width=320, height=240)",
      "metadata": {
        "trusted": true
      },
      "execution_count": 58,
      "outputs": []
    },
    {
      "cell_type": "code",
      "source": "# zvýraznění okrajů plátna\ncanvas.stroke_style = \"gray\"\ncanvas.stroke_rect(0, 0, 319, 239)",
      "metadata": {
        "trusted": true
      },
      "execution_count": 59,
      "outputs": []
    },
    {
      "cell_type": "code",
      "source": "# vložení kreslicího plátna na plochu diáře\ncanvas",
      "metadata": {
        "trusted": true
      },
      "execution_count": 60,
      "outputs": [
        {
          "output_type": "display_data",
          "data": {
            "text/plain": "Canvas(height=240, width=320)",
            "application/vnd.jupyter.widget-view+json": {
              "version_major": 2,
              "version_minor": 0,
              "model_id": "b8a97aa3eff740c785d21aad2206e952"
            }
          },
          "metadata": {}
        },
        {
          "execution_count": 60,
          "output_type": "execute_result",
          "data": {},
          "metadata": {}
        }
      ]
    },
    {
      "cell_type": "code",
      "source": "# zvýraznění začátku a konce úseček\ncanvas.line_width = 1\ncanvas.stroke_line(20, 20, 20, 220)\ncanvas.stroke_line(310, 20, 310, 220)",
      "metadata": {
        "trusted": true
      },
      "execution_count": 61,
      "outputs": []
    },
    {
      "cell_type": "code",
      "source": "# vykreslení několika úseček na plochu plátna\ncanvas.line_cap = \"round\"\n\ncanvas.stroke_style = \"black\"\n\nfor i in range(10):\n    y = 30 + i * 20\n\n    canvas.fill_text(str(i+1), 5, y+5)\n\n    canvas.line_width = i\n    canvas.begin_path()\n    canvas.move_to(20, y)\n    canvas.line_to(310, y)\n    canvas.stroke()",
      "metadata": {
        "trusted": true
      },
      "execution_count": 66,
      "outputs": []
    },
    {
      "cell_type": "code",
      "source": "",
      "metadata": {},
      "execution_count": null,
      "outputs": []
    }
  ]
}
