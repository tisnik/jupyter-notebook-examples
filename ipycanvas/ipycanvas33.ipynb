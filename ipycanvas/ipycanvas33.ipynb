{
  "metadata": {
    "language_info": {
      "codemirror_mode": {
        "name": "python",
        "version": 3
      },
      "file_extension": ".py",
      "mimetype": "text/x-python",
      "name": "python",
      "nbconvert_exporter": "python",
      "pygments_lexer": "ipython3",
      "version": "3.8"
    },
    "kernelspec": {
      "name": "python",
      "display_name": "Pyolite",
      "language": "python"
    }
  },
  "nbformat_minor": 4,
  "nbformat": 4,
  "cells": [
    {
      "cell_type": "code",
      "source": "# příprava knihovny určené pro instalaci\n# dalších knihoven do prostředí prohlížeče\nimport micropip",
      "metadata": {
        "trusted": true
      },
      "execution_count": 1,
      "outputs": []
    },
    {
      "cell_type": "code",
      "source": "# instalace knihovny ipycanvas do prostředí prohlížeče\nawait micropip.install(\"ipycanvas\")",
      "metadata": {
        "trusted": true
      },
      "execution_count": 197,
      "outputs": []
    },
    {
      "cell_type": "code",
      "source": "# nyní je již možné provést import nově nainstalované knihovny\nimport ipycanvas",
      "metadata": {
        "trusted": true
      },
      "execution_count": 198,
      "outputs": []
    },
    {
      "cell_type": "code",
      "source": "# vytvoření kreslicího plátna\ncanvas = ipycanvas.RoughCanvas(width=320, height=240)",
      "metadata": {
        "trusted": true
      },
      "execution_count": 199,
      "outputs": []
    },
    {
      "cell_type": "code",
      "source": "# vložení kreslicího plátna na plochu diáře\ncanvas",
      "metadata": {
        "trusted": true
      },
      "execution_count": 200,
      "outputs": [
        {
          "output_type": "display_data",
          "data": {
            "text/plain": "RoughCanvas(height=240, width=320)",
            "application/vnd.jupyter.widget-view+json": {
              "version_major": 2,
              "version_minor": 0,
              "model_id": "415514a4769c4f1b9c73157754ce28e2"
            }
          },
          "metadata": {}
        },
        {
          "execution_count": 200,
          "output_type": "execute_result",
          "data": {},
          "metadata": {}
        }
      ]
    },
    {
      "cell_type": "code",
      "source": "canvas.stroke_style = 'black'",
      "metadata": {
        "trusted": true
      },
      "execution_count": 201,
      "outputs": []
    },
    {
      "cell_type": "code",
      "source": "rough_fill_style_values = ['hachure', 'solid', 'zigzag', 'cross-hatch', 'dots', 'sunburst', 'dashed', 'zigzag-line', '']\n\nfor i in range(3):\n    for j in range(3):\n        index = i * j * 3\n        if index < 9:\n            canvas.rough_fill_style = rough_fill_style_values[index]\n\n            canvas.fill_rect(10 + i * 100, 10 + j * 80, 90, 70)",
      "metadata": {
        "trusted": true
      },
      "execution_count": 202,
      "outputs": []
    },
    {
      "cell_type": "code",
      "source": "",
      "metadata": {},
      "execution_count": null,
      "outputs": []
    },
    {
      "cell_type": "code",
      "source": "",
      "metadata": {},
      "execution_count": null,
      "outputs": []
    }
  ]
}
