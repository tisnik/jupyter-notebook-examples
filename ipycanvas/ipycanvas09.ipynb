{
  "metadata": {
    "language_info": {
      "codemirror_mode": {
        "name": "python",
        "version": 3
      },
      "file_extension": ".py",
      "mimetype": "text/x-python",
      "name": "python",
      "nbconvert_exporter": "python",
      "pygments_lexer": "ipython3",
      "version": "3.8"
    },
    "kernelspec": {
      "name": "python",
      "display_name": "Pyolite",
      "language": "python"
    }
  },
  "nbformat_minor": 4,
  "nbformat": 4,
  "cells": [
    {
      "cell_type": "code",
      "source": "# příprava knihovny určené pro instalaci dalších knihoven do prostředí prohlížeče\nimport micropip",
      "metadata": {
        "trusted": true
      },
      "execution_count": 1,
      "outputs": []
    },
    {
      "cell_type": "code",
      "source": "# instalace knihovny ipycanvas do prostředí prohlížeče\nawait micropip.install(\"ipycanvas\")",
      "metadata": {
        "trusted": true
      },
      "execution_count": 2,
      "outputs": []
    },
    {
      "cell_type": "code",
      "source": "# nyní je již možné provést import nově nainstalované knihovny\nimport ipycanvas",
      "metadata": {
        "trusted": true
      },
      "execution_count": 15,
      "outputs": []
    },
    {
      "cell_type": "code",
      "source": "# vytvoření kreslicího plátna\ncanvas = ipycanvas.Canvas(width=320, height=240)",
      "metadata": {
        "trusted": true
      },
      "execution_count": 95,
      "outputs": []
    },
    {
      "cell_type": "code",
      "source": "# vložení kreslicího plátna na plochu diáře\ncanvas",
      "metadata": {
        "trusted": true
      },
      "execution_count": 96,
      "outputs": [
        {
          "output_type": "display_data",
          "data": {
            "text/plain": "Canvas(height=240, width=320)",
            "application/vnd.jupyter.widget-view+json": {
              "version_major": 2,
              "version_minor": 0,
              "model_id": "0fa3ac665be0432d9a5bbbba5c5f5dde"
            }
          },
          "metadata": {}
        },
        {
          "execution_count": 96,
          "output_type": "execute_result",
          "data": {},
          "metadata": {}
        }
      ]
    },
    {
      "cell_type": "code",
      "source": "radial_gradient = canvas.create_radial_gradient(\n    160, 120, 10,\n    160, 120, 100,\n    [\n        (0, 'yellow'),\n        (1, 'white'),\n    ]\n)",
      "metadata": {
        "trusted": true
      },
      "execution_count": 97,
      "outputs": []
    },
    {
      "cell_type": "code",
      "source": "# obdélník\ncanvas.fill_style = radial_gradient\ncanvas.fill_circle(160, 120, 200)",
      "metadata": {
        "trusted": true
      },
      "execution_count": 98,
      "outputs": []
    },
    {
      "cell_type": "code",
      "source": "",
      "metadata": {},
      "execution_count": null,
      "outputs": []
    }
  ]
}
