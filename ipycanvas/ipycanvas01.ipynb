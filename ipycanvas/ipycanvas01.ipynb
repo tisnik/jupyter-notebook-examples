{
  "metadata": {
    "language_info": {
      "codemirror_mode": {
        "name": "python",
        "version": 3
      },
      "file_extension": ".py",
      "mimetype": "text/x-python",
      "name": "python",
      "nbconvert_exporter": "python",
      "pygments_lexer": "ipython3",
      "version": "3.8"
    },
    "kernelspec": {
      "name": "python",
      "display_name": "Pyolite",
      "language": "python"
    }
  },
  "nbformat_minor": 4,
  "nbformat": 4,
  "cells": [
    {
      "cell_type": "code",
      "source": "# příprava knihovny určené pro instalaci dalších knihoven do prostředí prohlížeče\nimport micropip",
      "metadata": {
        "trusted": true
      },
      "execution_count": 4,
      "outputs": []
    },
    {
      "cell_type": "code",
      "source": "# instalace knihovny ipycanvas do prostředí prohlížeče\nawait micropip.install(\"ipycanvas\")",
      "metadata": {
        "trusted": true
      },
      "execution_count": 5,
      "outputs": []
    },
    {
      "cell_type": "code",
      "source": "# nyní je již možné provést import nově nainstalované knihovny\nimport ipycanvas",
      "metadata": {
        "trusted": true
      },
      "execution_count": 8,
      "outputs": []
    },
    {
      "cell_type": "code",
      "source": "# zobrazení nápovědy k naimportované knihovně\nhelp(ipycanvas)",
      "metadata": {
        "trusted": true
      },
      "execution_count": 9,
      "outputs": [
        {
          "name": "stdout",
          "text": "Help on package ipycanvas:\n\nNAME\n    ipycanvas - # coding: utf-8\n\nPACKAGE CONTENTS\n    _frontend\n    _version\n    canvas\n    utils\n\nDATA\n    version_info = (0, 9, 0)\n\nVERSION\n    0.9.0\n\nFILE\n    /lib/python3.8/site-packages/ipycanvas/__init__.py\n\n\n",
          "output_type": "stream"
        }
      ]
    },
    {
      "cell_type": "code",
      "source": "",
      "metadata": {},
      "execution_count": null,
      "outputs": []
    }
  ]
}
