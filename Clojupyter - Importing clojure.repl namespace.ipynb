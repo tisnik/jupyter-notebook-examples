{
 "cells": [
  {
   "cell_type": "markdown",
   "metadata": {},
   "source": [
    "# Načtení funkcí a maker ze jmenného prostoru `clojure.repl`"
   ]
  },
  {
   "cell_type": "code",
   "execution_count": 1,
   "metadata": {},
   "outputs": [
    {
     "name": "stdout",
     "output_type": "stream",
     "text": [
      "CompilerException java.lang.RuntimeException: Unable to resolve symbol: doc in this context, compiling:(/tmp/form-init5493023996533115421.clj:1:1) \n"
     ]
    },
    {
     "ename": "class clojure.lang.Compiler$CompilerException",
     "evalue": "",
     "output_type": "error",
     "traceback": [
      "              Util.java:   221 clojure.lang.Util/runtimeException                     ",
      "               core.clj:  3105 clojure.core$eval/invokeStatic                         ",
      "               core.clj:  3101 clojure.core$eval/invoke                               ",
      "               main.clj:   240 clojure.main$repl$read_eval_print__7408$fn__7411/invoke",
      "               main.clj:   258 clojure.main$repl$fn__7417/invoke                      ",
      "               main.clj:   174 clojure.main$repl/doInvoke                             ",
      "            RestFn.java:  1523 clojure.lang.RestFn/invoke                             ",
      "               AFn.java:   152 clojure.lang.AFn/applyToHelper                         ",
      "               AFn.java:   144 clojure.lang.AFn/applyTo                               ",
      "               core.clj:   646 clojure.core$apply/invokeStatic                        ",
      "               core.clj:  1881 clojure.core$with_bindings_STAR_/invokeStatic          ",
      "            RestFn.java:   425 clojure.lang.RestFn/invoke                             ",
      "               AFn.java:    22 clojure.lang.AFn/run                                   ",
      "ThreadPoolExecutor.java:  1149 java.util.concurrent.ThreadPoolExecutor/runWorker      ",
      "ThreadPoolExecutor.java:   624 java.util.concurrent.ThreadPoolExecutor$Worker/run     ",
      "            Thread.java:   748 java.lang.Thread/run                                   "
     ]
    }
   ],
   "source": [
    "(doc doc)"
   ]
  },
  {
   "cell_type": "code",
   "execution_count": 2,
   "metadata": {},
   "outputs": [],
   "source": [
    "(use 'clojure.repl)"
   ]
  },
  {
   "cell_type": "code",
   "execution_count": 3,
   "metadata": {},
   "outputs": [
    {
     "name": "stdout",
     "output_type": "stream",
     "text": [
      "-------------------------\n",
      "clojure.repl/doc\n",
      "([name])\n",
      "Macro\n",
      "  Prints documentation for a var or special form given its name\n"
     ]
    }
   ],
   "source": [
    "(doc doc)"
   ]
  },
  {
   "cell_type": "code",
   "execution_count": 4,
   "metadata": {},
   "outputs": [
    {
     "name": "stdout",
     "output_type": "stream",
     "text": [
      "-------------------------\n",
      "if\n",
      "  (if test then else?)\n",
      "Special Form\n",
      "  Evaluates test. If not the singular values nil or false,\n",
      "  evaluates and yields then, otherwise, evaluates and yields else. If\n",
      "  else is not supplied it defaults to nil.\n",
      "\n",
      "  Please see http://clojure.org/special_forms#if\n"
     ]
    }
   ],
   "source": [
    "(doc if)"
   ]
  },
  {
   "cell_type": "code",
   "execution_count": null,
   "metadata": {},
   "outputs": [],
   "source": []
  }
 ],
 "metadata": {
  "kernelspec": {
   "display_name": "Lein-Clojure",
   "language": "clojure",
   "name": "lein-clojure"
  },
  "language_info": {
   "file_extension": ".clj",
   "mimetype": "text/x-clojure",
   "name": "clojure",
   "version": "1.8.0"
  }
 },
 "nbformat": 4,
 "nbformat_minor": 2
}
