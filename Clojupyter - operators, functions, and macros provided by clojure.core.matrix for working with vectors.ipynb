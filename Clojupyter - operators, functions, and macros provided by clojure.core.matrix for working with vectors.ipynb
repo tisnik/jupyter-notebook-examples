{
 "cells": [
  {
   "cell_type": "markdown",
   "metadata": {},
   "source": [
    "# Další operace poskytované knihovnou `clojure.core.matrix` při práci s vektory"
   ]
  },
  {
   "cell_type": "markdown",
   "metadata": {},
   "source": [
    "Nejprve použijeme dvojici příkazů `use`, které načtou všechny funkce a všechna makra ze jmenných prostorů clojure.core.matrix a clojure.core.matrix.operators:"
   ]
  },
  {
   "cell_type": "code",
   "execution_count": 1,
   "metadata": {},
   "outputs": [
    {
     "name": "stdout",
     "output_type": "stream",
     "text": [
      "WARNING: * already refers to: #'clojure.core/* in namespace: user, being replaced by: #'clojure.core.matrix.operators/*\n",
      "WARNING: min already refers to: #'clojure.core/min in namespace: user, being replaced by: #'clojure.core.matrix.operators/min\n",
      "WARNING: - already refers to: #'clojure.core/- in namespace: user, being replaced by: #'clojure.core.matrix.operators/-\n",
      "WARNING: / already refers to: #'clojure.core// in namespace: user, being replaced by: #'clojure.core.matrix.operators//\n",
      "WARNING: + already refers to: #'clojure.core/+ in namespace: user, being replaced by: #'clojure.core.matrix.operators/+\n",
      "WARNING: max already refers to: #'clojure.core/max in namespace: user, being replaced by: #'clojure.core.matrix.operators/max\n",
      "WARNING: == already refers to: #'clojure.core/== in namespace: user, being replaced by: #'clojure.core.matrix.operators/==\n"
     ]
    }
   ],
   "source": [
    "(use 'clojure.core.matrix)\n",
    "(use 'clojure.core.matrix.operators)"
   ]
  },
  {
   "cell_type": "markdown",
   "metadata": {},
   "source": [
    "### Poznámka\n",
    "po spuštění předchozí buňky se nejdříve vypíšou varování, že ve jmenném prostoru core.matrix.operators došlo k předeklarování globálních symbolů *, -, /, + a =="
   ]
  },
  {
   "cell_type": "markdown",
   "metadata": {},
   "source": [
    "## Pomocná makra pro výpis prováděné operace i jejího výsledku"
   ]
  },
  {
   "cell_type": "markdown",
   "metadata": {},
   "source": [
    "V dalších demonstračních příkladech se budou pro výpis prováděných operací i výsledků těchto operací používat dvě makra nazvaná `print-vector` a `print-matrix`. Funkce těchto maker je relativně jednoduchá – nejprve se vypíše úplný (nevyhodnocený) tvar výrazu, s nímž je makro zavoláno a posléze se s využitím funkce `pm` (*pretty print matrix*) vypíše vyhodnocený výraz, což může být skalár, vektor či matice. V případě matice je vhodnější použít makro `print-matrix`, které vypíše již první řádek matice na nový textový řádek, což zvyšuje čitelnost výstupu:"
   ]
  },
  {
   "cell_type": "code",
   "execution_count": 2,
   "metadata": {},
   "outputs": [
    {
     "data": {
      "text/plain": [
       "#'user/print-vector"
      ]
     },
     "execution_count": 2,
     "metadata": {},
     "output_type": "execute_result"
    }
   ],
   "source": [
    "(defmacro print-vector\n",
    "    \"Makro, které na standardní výstup vypíše výraz a následně i\n",
    "     hodnotu tohoto výrazu s použitím funkce pm (pretty print matrix).\n",
    "     Předpokládá se, že se výraz vyhodnotí na vektor.\"\n",
    "    [expression]\n",
    "    `(do (printf \"    %-32s =  \" '~expression)\n",
    "         (pm ~expression)))"
   ]
  },
  {
   "cell_type": "code",
   "execution_count": 3,
   "metadata": {},
   "outputs": [
    {
     "data": {
      "text/plain": [
       "#'user/print-matrix"
      ]
     },
     "execution_count": 3,
     "metadata": {},
     "output_type": "execute_result"
    }
   ],
   "source": [
    "(defmacro print-matrix\n",
    "    \"Makro, které na standardní výstup vypíše výraz a následně i\n",
    "     hodnotu tohoto výrazu s použitím funkce pm (pretty print matrix).\n",
    "     Předpokládá se, že se výraz vyhodnotí na matici\"\n",
    "    [expression]\n",
    "    `(do (println \"   \" '~expression \"=\")\n",
    "         (pm ~expression)\n",
    "         (println)))"
   ]
  },
  {
   "cell_type": "markdown",
   "metadata": {},
   "source": [
    "## Operátory"
   ]
  },
  {
   "cell_type": "markdown",
   "metadata": {},
   "source": [
    "Ve jmenném prostoru clojure.core.matrix.operators jsou deklarovány funkce pojmenované `+`, `-`, `*`, `/`, `**` a `==`, které lze v programovacím jazyku Clojure považovat za obdobu klasických operátorů. Tyto funkce/operátory jsou běžně deklarovány pro celá čísla, reálná čísla i čísla racionální (zlomky), ovšem právě díky redeklaraci těchto funkcí v clojure.core.matrix.operators je lze použít i pro operace prováděné nad vektory a maticemi. V případě vektorů jsou tyto operace deklarovány takovým způsobem, že jsou prováděny vždy na prvky vektorů se shodným indexem a pokud je jedním z operandů skalární hodnota a nikoli vektor, je skalár převeden na vektor stejné délky jakou má druhý operand. Toto „rozšíření“ skalární hodnoty na vektor se nazývá broadcast a podobně funguje i „rozšíření“ vektoru na matici. Podívejme se nyní na způsob použití výše jmenovaných funkcí:"
   ]
  },
  {
   "cell_type": "code",
   "execution_count": 7,
   "metadata": {},
   "outputs": [
    {
     "data": {
      "text/plain": [
       "#'user/immutable-vector-operators"
      ]
     },
     "execution_count": 7,
     "metadata": {},
     "output_type": "execute_result"
    }
   ],
   "source": [
    "(defn immutable-vector-operators\n",
    "    \"Test chování operátorů předefinovaných ve jmenném prostoru\n",
    "     clojure.core.matrix.operators.\"\n",
    "    [vector1 vector2]\n",
    "    (println \"*** Test základních operátorů aplikovaných na vektory ***\")\n",
    "    (println \"Vstupní data (vektory):\")\n",
    "    (print-vector vector1)\n",
    "    (print-vector vector2)\n",
    "    (println \"Vyhodnocení:\")\n",
    "    ; operace provedené mezi vektorem a skalární hodnotou\n",
    "    (print-vector (+ vector1 10))\n",
    "    (print-vector (- vector1 10))\n",
    "    (print-vector (* vector1 10))\n",
    "    (print-vector (/ vector1 10))\n",
    "    ; operace provedené mezi skalární hodnotou a vektorem\n",
    "    (print-vector (+ 10 vector1))\n",
    "    (print-vector (- 10 vector1))\n",
    "    (print-vector (* 10 vector1))\n",
    "    (print-vector (/ 10 vector1))\n",
    "    ; operace provedené mezi dvěma vektory (zde stejné délky)\n",
    "    (print-vector (+ vector1 vector2))\n",
    "    (print-vector (- vector1 vector2))\n",
    "    (print-vector (* vector1 vector2))\n",
    "    (print-vector (/ vector1 vector2))\n",
    "    (println))"
   ]
  },
  {
   "cell_type": "code",
   "execution_count": 8,
   "metadata": {},
   "outputs": [
    {
     "data": {
      "text/plain": [
       "#'user/immutable-vector-special-operators"
      ]
     },
     "execution_count": 8,
     "metadata": {},
     "output_type": "execute_result"
    }
   ],
   "source": [
    "(defn immutable-vector-special-operators\n",
    "    \"Test chování speciálních operátorů předefinovaných\n",
    "     ve jmenném prostoru clojure.core.matrix.operators.\"\n",
    "    [vector1 vector2]\n",
    "    (println \"*** Test speciálních operátorů aplikovaných na vektory ***\")\n",
    "    (println \"Vstupní data (vektory):\")\n",
    "    (print-vector vector1)\n",
    "    (print-vector vector2)\n",
    "    (println \"Vyhodnocení:\")\n",
    "    ; operace provedené mezi vektorem a skalární hodnotou\n",
    "    (print-vector (** vector1 10))\n",
    "    ; operace provedené mezi skalární hodnotou a vektorem\n",
    "    (print-vector (** 10 vector1))\n",
    "    ; operace provedené mezi dvěma vektory (zde stejné délky)\n",
    "    (print-vector (** vector1 vector2))\n",
    "    ; operátor ekvivalence\n",
    "    (print-vector (== vector1 vector2))\n",
    "    (print-vector (== vector1 vector1))\n",
    "    (print-vector (== vector1 (array [1 2 3])))\n",
    "    (print-vector (== vector1 [1 2 3]))\n",
    "    (print-vector (== vector1 '(1 2 3)))\n",
    "    (println))"
   ]
  },
  {
   "cell_type": "code",
   "execution_count": 9,
   "metadata": {},
   "outputs": [
    {
     "name": "stdout",
     "output_type": "stream",
     "text": [
      "*** Test základních operátorů aplikovaných na vektory ***\n",
      "Vstupní data (vektory):\n",
      "    vector1                          =  [1.000 2.000 3.000]\n",
      "    vector2                          =  [2.000 3.000 4.000]\n",
      "Vyhodnocení:\n",
      "    (+ vector1 10)                   =  [11.000 12.000 13.000]\n",
      "    (- vector1 10)                   =  [-9.000 -8.000 -7.000]\n",
      "    (* vector1 10)                   =  [10.000 20.000 30.000]\n",
      "    (/ vector1 10)                   =  [0.100 0.200 0.300]\n",
      "    (+ 10 vector1)                   =  [11.000 12.000 13.000]\n",
      "    (- 10 vector1)                   =  [9.000 8.000 7.000]\n",
      "    (* 10 vector1)                   =  [10.000 20.000 30.000]\n",
      "    (/ 10 vector1)                   =  [10.000 5.000 3.333]\n",
      "    (+ vector1 vector2)              =  [3.000 5.000 7.000]\n",
      "    (- vector1 vector2)              =  [-1.000 -1.000 -1.000]\n",
      "    (* vector1 vector2)              =  [2.000 6.000 12.000]\n",
      "    (/ vector1 vector2)              =  [0.500 0.667 0.750]\n",
      "\n",
      "*** Test speciálních operátorů aplikovaných na vektory ***\n",
      "Vstupní data (vektory):\n",
      "    vector1                          =  [1.000 2.000 3.000]\n",
      "    vector2                          =  [2.000 3.000 4.000]\n",
      "Vyhodnocení:\n",
      "    (** vector1 10)                  =  [1.000 1024.000 59049.000]\n",
      "    (** 10 vector1)                  =  [10.000 100.000 1000.000]\n",
      "    (** vector1 vector2)             =  [1.000 8.000 81.000]\n",
      "    (== vector1 vector2)             =  false\n",
      "    (== vector1 vector1)             =  true\n",
      "    (== vector1 (array [1 2 3]))     =  true\n",
      "    (== vector1 [1 2 3])             =  true\n",
      "    (== vector1 (quote (1 2 3)))     =  true\n",
      "\n"
     ]
    }
   ],
   "source": [
    "(let [v1 (array [1 2 3])\n",
    "      v2 (array [2 3 4])]\n",
    "      (immutable-vector-operators v1 v2)\n",
    "      (immutable-vector-special-operators v1 v2))"
   ]
  },
  {
   "cell_type": "markdown",
   "metadata": {},
   "source": [
    "## Funkce pracující s vektory\n",
    "V knihovně `core.matrix` je deklarováno velké množství funkcí, které dokážou pracovat s celými vektory popř. s jednotlivými prvky, z nichž se vektory skládají. Některé z těchto funkcí jsme si již popsali minule, ovšem ve skutečnosti těchto funkcí existuje mnohem větší množství, jak bude ostatně patrné i z úryvku demonstračního příkladu:"
   ]
  },
  {
   "cell_type": "code",
   "execution_count": 11,
   "metadata": {},
   "outputs": [
    {
     "data": {
      "text/plain": [
       "#'user/immutable-vector-functions"
      ]
     },
     "execution_count": 11,
     "metadata": {},
     "output_type": "execute_result"
    }
   ],
   "source": [
    "(defn immutable-vector-functions\n",
    "    \"Test chování vybraných funkcí, které lze nalézt ve jmenných prostorech\n",
    "     clojure.core.matrix a clojure.core.matrix.operators.\"\n",
    "    [vector1 vector2 vector3]\n",
    "    (println \"*** Test funkcí aplikovaných na vektory ***\")\n",
    "    (println \"Vstupní data (vektory):\")\n",
    "    (print-vector vector1)\n",
    "    (print-vector vector2)\n",
    "    (print-vector vector3)\n",
    "    (println \"Vyhodnocení:\")\n",
    "    (print-vector (emin vector1))\n",
    "    (print-vector (emin vector2))\n",
    "    (print-vector (emin vector3))\n",
    "    (print-vector (emax vector1))\n",
    "    (print-vector (emax vector2))\n",
    "    (print-vector (emax vector3))\n",
    "    (print-vector (normalise vector1))\n",
    "    (print-vector (normalise vector2))\n",
    "    (print-vector (normalise vector3))\n",
    "    (print-vector (length vector1))\n",
    "    (print-vector (length vector2))\n",
    "    (print-vector (length vector3))\n",
    "    (print-vector (length-squared vector1))\n",
    "    (print-vector (length-squared vector2))\n",
    "    (print-vector (length-squared vector3))\n",
    "    (print-vector (distance vector1 vector2))\n",
    "    (print-vector (distance vector1 vector3))\n",
    "    (print-vector (distance vector2 vector3))\n",
    "    (print-vector (join vector1 vector2))\n",
    "    (print-vector (join vector1 vector2 vector3))\n",
    "    (println))"
   ]
  },
  {
   "cell_type": "code",
   "execution_count": 15,
   "metadata": {},
   "outputs": [
    {
     "name": "stdout",
     "output_type": "stream",
     "text": [
      "*** Test funkcí aplikovaných na vektory ***\n",
      "Vstupní data (vektory):\n",
      "    vector1                          =  [0.000 0.000 0.000]\n",
      "    vector2                          =  [1.000 2.000 3.000]\n",
      "    vector3                          =  [2.000 3.000 4.000]\n",
      "Vyhodnocení:\n",
      "    (emin vector1)                   =  0.000\n",
      "    (emin vector2)                   =  1.000\n",
      "    (emin vector3)                   =  2.000\n",
      "    (emax vector1)                   =  0.000\n",
      "    (emax vector2)                   =  3.000\n",
      "    (emax vector3)                   =  4.000\n",
      "    (normalise vector1)              =  [NaN NaN NaN]\n",
      "    (normalise vector2)              =  [0.267 0.535 0.802]\n",
      "    (normalise vector3)              =  [0.371 0.557 0.743]\n",
      "    (length vector1)                 =  0.000\n",
      "    (length vector2)                 =  3.742\n",
      "    (length vector3)                 =  5.385\n",
      "    (length-squared vector1)         =  0.000\n",
      "    (length-squared vector2)         =  14.000\n",
      "    (length-squared vector3)         =  29.000\n",
      "    (distance vector1 vector2)       =  3.742\n",
      "    (distance vector1 vector3)       =  5.385\n",
      "    (distance vector2 vector3)       =  1.732\n",
      "    (join vector1 vector2)           =  [0.000 0.000 0.000 1.000 2.000 3.000]\n",
      "    (join vector1 vector2 vector3)   =  [0.000 0.000 0.000 1.000 2.000 3.000 2.000 3.000 4.000]\n",
      "\n"
     ]
    }
   ],
   "source": [
    "(let [v0 (zero-vector 3)\n",
    "      v1 (array [1 2 3])\n",
    "      v2 (array [2 3 4])]\n",
    "      (immutable-vector-functions v0 v1 v2))"
   ]
  },
  {
   "cell_type": "markdown",
   "metadata": {},
   "source": [
    "## Skalární a vektorový součin\n",
    "Již jsme se mj. zmínili i o funkci/operátoru `*`, který slouží k vynásobení těch prvků vektorů, které mají shodný index, tj. první prvek vektoru číslo 1 je vynásoben s prvním prvkem vektoru číslo 2 atd. Kromě toho se však v mnoha disciplínách (mj. i v počítačové grafice) pracuje se skalárním a vektorovým součinem. I tyto operace jsou samozřejmě v knihovně core.matrix podporovány:"
   ]
  },
  {
   "cell_type": "code",
   "execution_count": 16,
   "metadata": {},
   "outputs": [
    {
     "data": {
      "text/plain": [
       "#'user/immutable-vector-products"
      ]
     },
     "execution_count": 16,
     "metadata": {},
     "output_type": "execute_result"
    }
   ],
   "source": [
    "(defn immutable-vector-products\n",
    "    \"Skalární a vektorový součin dvou trojsložkových vektorů.\"\n",
    "    [vector1 vector2]\n",
    "    (println \"*** Skalární a vektorový součin dvou trojsložkových vektorů ***\")\n",
    "    (println \"Vstupní data (vektory):\")\n",
    "    (print-vector vector1)\n",
    "    (print-vector vector2)\n",
    "    (println \"Vyhodnocení:\")\n",
    "    (print-vector (dot vector1 vector1))\n",
    "    (print-vector (dot vector1 vector2))\n",
    "    (print-vector (dot vector2 vector1))\n",
    "    (print-vector (dot vector2 vector2))\n",
    "    (print-vector (inner-product vector1 vector1))\n",
    "    (print-vector (inner-product vector1 vector2))\n",
    "    (print-vector (inner-product vector2 vector1))\n",
    "    (print-vector (inner-product vector2 vector2))\n",
    "    (print-vector (cross vector1 vector1))\n",
    "    (print-vector (cross vector1 vector2))\n",
    "    (print-vector (cross vector2 vector1))\n",
    "    (print-vector (cross vector2 vector2))\n",
    "    (println))"
   ]
  },
  {
   "cell_type": "code",
   "execution_count": 18,
   "metadata": {},
   "outputs": [
    {
     "name": "stdout",
     "output_type": "stream",
     "text": [
      "*** Skalární a vektorový součin dvou trojsložkových vektorů ***\n",
      "Vstupní data (vektory):\n",
      "    vector1                          =  [1.000 2.000 3.000]\n",
      "    vector2                          =  [2.000 3.000 4.000]\n",
      "Vyhodnocení:\n",
      "    (dot vector1 vector1)            =  14.000\n",
      "    (dot vector1 vector2)            =  20.000\n",
      "    (dot vector2 vector1)            =  20.000\n",
      "    (dot vector2 vector2)            =  29.000\n",
      "    (inner-product vector1 vector1)  =  14.000\n",
      "    (inner-product vector1 vector2)  =  20.000\n",
      "    (inner-product vector2 vector1)  =  20.000\n",
      "    (inner-product vector2 vector2)  =  29.000\n",
      "    (cross vector1 vector1)          =  [0.000 0.000 0.000]\n",
      "    (cross vector1 vector2)          =  [-1.000 2.000 -1.000]\n",
      "    (cross vector2 vector1)          =  [1.000 -2.000 1.000]\n",
      "    (cross vector2 vector2)          =  [0.000 0.000 0.000]\n",
      "\n",
      "*** Skalární a vektorový součin dvou trojsložkových vektorů ***\n",
      "Vstupní data (vektory):\n",
      "    vector1                          =  [0.000 0.000 0.000]\n",
      "    vector2                          =  [1.000 2.000 3.000]\n",
      "Vyhodnocení:\n",
      "    (dot vector1 vector1)            =  0.000\n",
      "    (dot vector1 vector2)            =  0.000\n",
      "    (dot vector2 vector1)            =  0.000\n",
      "    (dot vector2 vector2)            =  14.000\n",
      "    (inner-product vector1 vector1)  =  0.000\n",
      "    (inner-product vector1 vector2)  =  0.000\n",
      "    (inner-product vector2 vector1)  =  0.000\n",
      "    (inner-product vector2 vector2)  =  14.000\n",
      "    (cross vector1 vector1)          =  [0.000 0.000 0.000]\n",
      "    (cross vector1 vector2)          =  [0.000 0.000 0.000]\n",
      "    (cross vector2 vector1)          =  [0.000 0.000 0.000]\n",
      "    (cross vector2 vector2)          =  [0.000 0.000 0.000]\n",
      "\n"
     ]
    }
   ],
   "source": [
    "(let [v0 (zero-vector 3)\n",
    "      v1 (array [1 2 3])\n",
    "      v2 (array [2 3 4])\n",
    "      v3 (array [1 1])]\n",
    "      (immutable-vector-products v1 v2)\n",
    "      (immutable-vector-products v0 v1))"
   ]
  },
  {
   "cell_type": "markdown",
   "metadata": {},
   "source": [
    "## Immutable vs. mutable vektory\n",
    "Všechny funkce pro práci s vektory, které jsme si doposud popsali, byly založeny na myšlence, že všechny datové struktury by měly být v ideálním případě neměnitelné neboli immutable. V případě funkcionálních jazyků a samozřejmě též i programovacího jazyka Clojure se názvem neměnitelnost myslí jak neměnitelnost samotné struktury tak i neměnitelnost dat ve struktuře uložených, ovšem u jiných jazyků může mít tento význam odlišný význam (v Javě označuje pouze neměnitelnost samotné struktury, ale nikoli již uložených dat – příkladem je běžné pole).\n",
    "\n",
    "Podívejme se nyní na trojici funkcí, v nichž se pracuje s měnitelnými vektory (povšimněte si volání mutable v poslední funkci při konstrukci vektorů):"
   ]
  },
  {
   "cell_type": "code",
   "execution_count": 19,
   "metadata": {},
   "outputs": [
    {
     "data": {
      "text/plain": [
       "#'user/mutable-vector-operators"
      ]
     },
     "execution_count": 19,
     "metadata": {},
     "output_type": "execute_result"
    }
   ],
   "source": [
    "(defn mutable-vector-operators\n",
    "    \"Test chování operátorů předefinovaných ve jmenném prostoru\n",
    "     clojure.core.matrix.operators na měnitelné vektory.\"\n",
    "    [vector1 vector2]\n",
    "    (println \"*** Test základních operátorů aplikovaných na měnitelné vektory ***\")\n",
    "    (println \"Vstupní data (vektory):\")\n",
    "    (print-vector vector1)\n",
    "    (print-vector vector2)\n",
    "    (println \"Vyhodnocení:\")\n",
    "    ; operace provedené mezi dvěma vektory (zde stejné délky)\n",
    "    (print-vector (+= vector1 vector2))\n",
    "    (print-vector (-= vector1 vector2))\n",
    "    (print-vector (*= vector1 vector2))\n",
    "    (print-vector (div= vector1 vector2))\n",
    "    (println))"
   ]
  },
  {
   "cell_type": "code",
   "execution_count": 20,
   "metadata": {},
   "outputs": [
    {
     "data": {
      "text/plain": [
       "#'user/mutable-vector-functions"
      ]
     },
     "execution_count": 20,
     "metadata": {},
     "output_type": "execute_result"
    }
   ],
   "source": [
    "(defn mutable-vector-functions\n",
    "    \"Test chování vybraných funkcí, které lze nalézt ve jmenných prostorech\n",
    "     clojure.core.matrix a clojure.core.matrix.operators na měnitelné vektory.\"\n",
    "    [vector1 vector2 vector3]\n",
    "    (println \"*** Test funkcí aplikovaných na měnitelné vektory ***\")\n",
    "    (println \"Vstupní data (vektory):\")\n",
    "    (print-vector vector1)\n",
    "    (print-vector vector2)\n",
    "    (print-vector vector3)\n",
    "    (println \"Vyhodnocení:\")\n",
    "    (print-vector (sin! vector1))\n",
    "    (print-vector (sin! vector2))\n",
    "    (print-vector (sin! vector3))\n",
    "    (print-vector (fill! vector1 1))\n",
    "    (print-vector (fill! vector2 2))\n",
    "    (print-vector (fill! vector3 3))\n",
    "    (println))"
   ]
  },
  {
   "cell_type": "code",
   "execution_count": 21,
   "metadata": {},
   "outputs": [
    {
     "data": {
      "text/plain": [
       "#'user/mutable-vector-tests"
      ]
     },
     "execution_count": 21,
     "metadata": {},
     "output_type": "execute_result"
    }
   ],
   "source": [
    "(defn mutable-vector-tests\n",
    "    []\n",
    "    (let [v0 (mutable (zero-vector 3))\n",
    "          v1 (mutable (array [1 2 3]))\n",
    "          v2 (mutable (array [2 3 4]))]\n",
    "          (mutable-vector-operators v1 v2)\n",
    "          (mutable-vector-functions v0 v1 v2)))"
   ]
  },
  {
   "cell_type": "code",
   "execution_count": 22,
   "metadata": {},
   "outputs": [
    {
     "name": "stdout",
     "output_type": "stream",
     "text": [
      "*** Test základních operátorů aplikovaných na měnitelné vektory ***\n",
      "Vstupní data (vektory):\n",
      "    vector1                          =  [1.000 2.000 3.000]\n",
      "    vector2                          =  [2.000 3.000 4.000]\n",
      "Vyhodnocení:\n",
      "    (+= vector1 vector2)             =  [3.000 5.000 7.000]\n",
      "    (-= vector1 vector2)             =  [1.000 2.000 3.000]\n",
      "    (*= vector1 vector2)             =  [2.000 6.000 12.000]\n",
      "    (div= vector1 vector2)           =  [1.000 2.000 3.000]\n",
      "\n",
      "*** Test funkcí aplikovaných na měnitelné vektory ***\n",
      "Vstupní data (vektory):\n",
      "    vector1                          =  [0.000 0.000 0.000]\n",
      "    vector2                          =  [1.000 2.000 3.000]\n",
      "    vector3                          =  [2.000 3.000 4.000]\n",
      "Vyhodnocení:\n",
      "    (sin! vector1)                   =  [0.000 0.000 0.000]\n",
      "    (sin! vector2)                   =  [0.841 0.909 0.141]\n",
      "    (sin! vector3)                   =  [0.909 0.141 -0.757]\n",
      "    (fill! vector1 1)                =  [1.000 1.000 1.000]\n",
      "    (fill! vector2 2)                =  [2.000 2.000 2.000]\n",
      "    (fill! vector3 3)                =  [3.000 3.000 3.000]\n",
      "\n"
     ]
    }
   ],
   "source": [
    "(mutable-vector-tests)"
   ]
  },
  {
   "cell_type": "code",
   "execution_count": null,
   "metadata": {},
   "outputs": [],
   "source": []
  }
 ],
 "metadata": {
  "kernelspec": {
   "display_name": "Lein-Clojure",
   "language": "clojure",
   "name": "lein-clojure"
  },
  "language_info": {
   "file_extension": ".clj",
   "mimetype": "text/x-clojure",
   "name": "clojure",
   "version": "1.8.0"
  }
 },
 "nbformat": 4,
 "nbformat_minor": 2
}
