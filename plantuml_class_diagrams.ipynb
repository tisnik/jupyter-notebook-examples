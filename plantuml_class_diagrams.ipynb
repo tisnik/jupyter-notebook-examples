{
 "cells": [
  {
   "cell_type": "code",
   "execution_count": 7,
   "metadata": {},
   "outputs": [],
   "source": [
    "import iplantuml"
   ]
  },
  {
   "cell_type": "code",
   "execution_count": 14,
   "metadata": {},
   "outputs": [
    {
     "data": {
      "image/svg+xml": [
       "<svg contentScriptType=\"application/ecmascript\" contentStyleType=\"text/css\" height=\"283px\" preserveAspectRatio=\"none\" style=\"width:369px;height:283px;\" version=\"1.1\" viewBox=\"0 0 369 283\" width=\"369px\" xmlns=\"http://www.w3.org/2000/svg\" xmlns:xlink=\"http://www.w3.org/1999/xlink\" zoomAndPan=\"magnify\"><defs><filter height=\"300%\" id=\"fu8ew7kdamquz\" width=\"300%\" x=\"-1\" y=\"-1\"><feGaussianBlur result=\"blurOut\" stdDeviation=\"2.0\"/><feColorMatrix in=\"blurOut\" result=\"blurOut2\" type=\"matrix\" values=\"0 0 0 0 0 0 0 0 0 0 0 0 0 0 0 0 0 0 .4 0\"/><feOffset dx=\"4.0\" dy=\"4.0\" in=\"blurOut2\" result=\"blurOut3\"/><feBlend in=\"SourceGraphic\" in2=\"blurOut3\" mode=\"normal\"/></filter></defs><g><!--MD5=[aa7f586532e18719e6cefa70fc650583]\n",
       "class Object--><rect fill=\"#FEFECE\" filter=\"url(#fu8ew7kdamquz)\" height=\"48\" id=\"Object\" style=\"stroke: #A80036; stroke-width: 1.5;\" width=\"73\" x=\"120.5\" y=\"8\"/><ellipse cx=\"135.5\" cy=\"24\" fill=\"#ADD1B2\" rx=\"11\" ry=\"11\" style=\"stroke: #A80036; stroke-width: 1.0;\"/><path d=\"M137.8438,19.6719 C136.9063,19.2344 136.3125,19.0938 135.4375,19.0938 C132.8125,19.0938 130.8125,21.1719 130.8125,23.8906 L130.8125,25.0156 C130.8125,27.5938 132.9219,29.4844 135.8125,29.4844 C137.0313,29.4844 138.1875,29.1875 138.9375,28.6406 C139.5156,28.2344 139.8438,27.7813 139.8438,27.3906 C139.8438,26.9375 139.4531,26.5469 138.9844,26.5469 C138.7656,26.5469 138.5625,26.625 138.375,26.8125 C137.9219,27.2969 137.9219,27.2969 137.7344,27.3906 C137.3125,27.6563 136.625,27.7813 135.8594,27.7813 C133.8125,27.7813 132.5156,26.6875 132.5156,24.9844 L132.5156,23.8906 C132.5156,22.1094 133.7656,20.7969 135.5,20.7969 C136.0781,20.7969 136.6875,20.9531 137.1563,21.2031 C137.6406,21.4844 137.8125,21.7031 137.9063,22.1094 C137.9688,22.5156 138,22.6406 138.1406,22.7656 C138.2813,22.9063 138.5156,23.0156 138.7344,23.0156 C139,23.0156 139.2656,22.875 139.4375,22.6563 C139.5469,22.5 139.5781,22.3125 139.5781,21.8906 L139.5781,20.4688 C139.5781,20.0313 139.5625,19.9063 139.4688,19.75 C139.3125,19.4844 139.0313,19.3438 138.7344,19.3438 C138.4375,19.3438 138.2344,19.4375 138.0156,19.75 L137.8438,19.6719 Z \"/><text fill=\"#000000\" font-family=\"sans-serif\" font-size=\"12\" lengthAdjust=\"spacingAndGlyphs\" textLength=\"41\" x=\"149.5\" y=\"28.1543\">Object</text><line style=\"stroke: #A80036; stroke-width: 1.5;\" x1=\"121.5\" x2=\"192.5\" y1=\"40\" y2=\"40\"/><line style=\"stroke: #A80036; stroke-width: 1.5;\" x1=\"121.5\" x2=\"192.5\" y1=\"48\" y2=\"48\"/><!--MD5=[31d9d567a1d652152733c83e75189006]\n",
       "class Boolean--><rect fill=\"#FEFECE\" filter=\"url(#fu8ew7kdamquz)\" height=\"48\" id=\"Boolean\" style=\"stroke: #A80036; stroke-width: 1.5;\" width=\"82\" x=\"6\" y=\"116\"/><ellipse cx=\"21\" cy=\"132\" fill=\"#ADD1B2\" rx=\"11\" ry=\"11\" style=\"stroke: #A80036; stroke-width: 1.0;\"/><path d=\"M23.3438,127.6719 C22.4063,127.2344 21.8125,127.0938 20.9375,127.0938 C18.3125,127.0938 16.3125,129.1719 16.3125,131.8906 L16.3125,133.0156 C16.3125,135.5938 18.4219,137.4844 21.3125,137.4844 C22.5313,137.4844 23.6875,137.1875 24.4375,136.6406 C25.0156,136.2344 25.3438,135.7813 25.3438,135.3906 C25.3438,134.9375 24.9531,134.5469 24.4844,134.5469 C24.2656,134.5469 24.0625,134.625 23.875,134.8125 C23.4219,135.2969 23.4219,135.2969 23.2344,135.3906 C22.8125,135.6563 22.125,135.7813 21.3594,135.7813 C19.3125,135.7813 18.0156,134.6875 18.0156,132.9844 L18.0156,131.8906 C18.0156,130.1094 19.2656,128.7969 21,128.7969 C21.5781,128.7969 22.1875,128.9531 22.6563,129.2031 C23.1406,129.4844 23.3125,129.7031 23.4063,130.1094 C23.4688,130.5156 23.5,130.6406 23.6406,130.7656 C23.7813,130.9063 24.0156,131.0156 24.2344,131.0156 C24.5,131.0156 24.7656,130.875 24.9375,130.6563 C25.0469,130.5 25.0781,130.3125 25.0781,129.8906 L25.0781,128.4688 C25.0781,128.0313 25.0625,127.9063 24.9688,127.75 C24.8125,127.4844 24.5313,127.3438 24.2344,127.3438 C23.9375,127.3438 23.7344,127.4375 23.5156,127.75 L23.3438,127.6719 Z \"/><text fill=\"#000000\" font-family=\"sans-serif\" font-size=\"12\" lengthAdjust=\"spacingAndGlyphs\" textLength=\"50\" x=\"35\" y=\"136.1543\">Boolean</text><line style=\"stroke: #A80036; stroke-width: 1.5;\" x1=\"7\" x2=\"87\" y1=\"148\" y2=\"148\"/><line style=\"stroke: #A80036; stroke-width: 1.5;\" x1=\"7\" x2=\"87\" y1=\"156\" y2=\"156\"/><!--MD5=[9df70cf33be424c1b8543b3f439cae89]\n",
       "class String--><rect fill=\"#FEFECE\" filter=\"url(#fu8ew7kdamquz)\" height=\"48\" id=\"String\" style=\"stroke: #A80036; stroke-width: 1.5;\" width=\"68\" x=\"123\" y=\"116\"/><ellipse cx=\"138\" cy=\"132\" fill=\"#ADD1B2\" rx=\"11\" ry=\"11\" style=\"stroke: #A80036; stroke-width: 1.0;\"/><path d=\"M140.3438,127.6719 C139.4063,127.2344 138.8125,127.0938 137.9375,127.0938 C135.3125,127.0938 133.3125,129.1719 133.3125,131.8906 L133.3125,133.0156 C133.3125,135.5938 135.4219,137.4844 138.3125,137.4844 C139.5313,137.4844 140.6875,137.1875 141.4375,136.6406 C142.0156,136.2344 142.3438,135.7813 142.3438,135.3906 C142.3438,134.9375 141.9531,134.5469 141.4844,134.5469 C141.2656,134.5469 141.0625,134.625 140.875,134.8125 C140.4219,135.2969 140.4219,135.2969 140.2344,135.3906 C139.8125,135.6563 139.125,135.7813 138.3594,135.7813 C136.3125,135.7813 135.0156,134.6875 135.0156,132.9844 L135.0156,131.8906 C135.0156,130.1094 136.2656,128.7969 138,128.7969 C138.5781,128.7969 139.1875,128.9531 139.6563,129.2031 C140.1406,129.4844 140.3125,129.7031 140.4063,130.1094 C140.4688,130.5156 140.5,130.6406 140.6406,130.7656 C140.7813,130.9063 141.0156,131.0156 141.2344,131.0156 C141.5,131.0156 141.7656,130.875 141.9375,130.6563 C142.0469,130.5 142.0781,130.3125 142.0781,129.8906 L142.0781,128.4688 C142.0781,128.0313 142.0625,127.9063 141.9688,127.75 C141.8125,127.4844 141.5313,127.3438 141.2344,127.3438 C140.9375,127.3438 140.7344,127.4375 140.5156,127.75 L140.3438,127.6719 Z \"/><text fill=\"#000000\" font-family=\"sans-serif\" font-size=\"12\" lengthAdjust=\"spacingAndGlyphs\" textLength=\"36\" x=\"152\" y=\"136.1543\">String</text><line style=\"stroke: #A80036; stroke-width: 1.5;\" x1=\"124\" x2=\"190\" y1=\"148\" y2=\"148\"/><line style=\"stroke: #A80036; stroke-width: 1.5;\" x1=\"124\" x2=\"190\" y1=\"156\" y2=\"156\"/><!--MD5=[435987a092acd998883c72f97c5c9408]\n",
       "class Number--><rect fill=\"#FEFECE\" filter=\"url(#fu8ew7kdamquz)\" height=\"48\" id=\"Number\" style=\"stroke: #A80036; stroke-width: 1.5;\" width=\"80\" x=\"226\" y=\"116\"/><ellipse cx=\"241\" cy=\"132\" fill=\"#ADD1B2\" rx=\"11\" ry=\"11\" style=\"stroke: #A80036; stroke-width: 1.0;\"/><path d=\"M243.3438,127.6719 C242.4063,127.2344 241.8125,127.0938 240.9375,127.0938 C238.3125,127.0938 236.3125,129.1719 236.3125,131.8906 L236.3125,133.0156 C236.3125,135.5938 238.4219,137.4844 241.3125,137.4844 C242.5313,137.4844 243.6875,137.1875 244.4375,136.6406 C245.0156,136.2344 245.3438,135.7813 245.3438,135.3906 C245.3438,134.9375 244.9531,134.5469 244.4844,134.5469 C244.2656,134.5469 244.0625,134.625 243.875,134.8125 C243.4219,135.2969 243.4219,135.2969 243.2344,135.3906 C242.8125,135.6563 242.125,135.7813 241.3594,135.7813 C239.3125,135.7813 238.0156,134.6875 238.0156,132.9844 L238.0156,131.8906 C238.0156,130.1094 239.2656,128.7969 241,128.7969 C241.5781,128.7969 242.1875,128.9531 242.6563,129.2031 C243.1406,129.4844 243.3125,129.7031 243.4063,130.1094 C243.4688,130.5156 243.5,130.6406 243.6406,130.7656 C243.7813,130.9063 244.0156,131.0156 244.2344,131.0156 C244.5,131.0156 244.7656,130.875 244.9375,130.6563 C245.0469,130.5 245.0781,130.3125 245.0781,129.8906 L245.0781,128.4688 C245.0781,128.0313 245.0625,127.9063 244.9688,127.75 C244.8125,127.4844 244.5313,127.3438 244.2344,127.3438 C243.9375,127.3438 243.7344,127.4375 243.5156,127.75 L243.3438,127.6719 Z \"/><text fill=\"#000000\" font-family=\"sans-serif\" font-size=\"12\" lengthAdjust=\"spacingAndGlyphs\" textLength=\"48\" x=\"255\" y=\"136.1543\">Number</text><line style=\"stroke: #A80036; stroke-width: 1.5;\" x1=\"227\" x2=\"305\" y1=\"148\" y2=\"148\"/><line style=\"stroke: #A80036; stroke-width: 1.5;\" x1=\"227\" x2=\"305\" y1=\"156\" y2=\"156\"/><!--MD5=[ee42c820cde073a9007f0905fabb17c1]\n",
       "class Integer--><rect fill=\"#FEFECE\" filter=\"url(#fu8ew7kdamquz)\" height=\"48\" id=\"Integer\" style=\"stroke: #A80036; stroke-width: 1.5;\" width=\"76\" x=\"172\" y=\"224\"/><ellipse cx=\"187\" cy=\"240\" fill=\"#ADD1B2\" rx=\"11\" ry=\"11\" style=\"stroke: #A80036; stroke-width: 1.0;\"/><path d=\"M189.3438,235.6719 C188.4063,235.2344 187.8125,235.0938 186.9375,235.0938 C184.3125,235.0938 182.3125,237.1719 182.3125,239.8906 L182.3125,241.0156 C182.3125,243.5938 184.4219,245.4844 187.3125,245.4844 C188.5313,245.4844 189.6875,245.1875 190.4375,244.6406 C191.0156,244.2344 191.3438,243.7813 191.3438,243.3906 C191.3438,242.9375 190.9531,242.5469 190.4844,242.5469 C190.2656,242.5469 190.0625,242.625 189.875,242.8125 C189.4219,243.2969 189.4219,243.2969 189.2344,243.3906 C188.8125,243.6563 188.125,243.7813 187.3594,243.7813 C185.3125,243.7813 184.0156,242.6875 184.0156,240.9844 L184.0156,239.8906 C184.0156,238.1094 185.2656,236.7969 187,236.7969 C187.5781,236.7969 188.1875,236.9531 188.6563,237.2031 C189.1406,237.4844 189.3125,237.7031 189.4063,238.1094 C189.4688,238.5156 189.5,238.6406 189.6406,238.7656 C189.7813,238.9063 190.0156,239.0156 190.2344,239.0156 C190.5,239.0156 190.7656,238.875 190.9375,238.6563 C191.0469,238.5 191.0781,238.3125 191.0781,237.8906 L191.0781,236.4688 C191.0781,236.0313 191.0625,235.9063 190.9688,235.75 C190.8125,235.4844 190.5313,235.3438 190.2344,235.3438 C189.9375,235.3438 189.7344,235.4375 189.5156,235.75 L189.3438,235.6719 Z \"/><text fill=\"#000000\" font-family=\"sans-serif\" font-size=\"12\" lengthAdjust=\"spacingAndGlyphs\" textLength=\"44\" x=\"201\" y=\"244.1543\">Integer</text><line style=\"stroke: #A80036; stroke-width: 1.5;\" x1=\"173\" x2=\"247\" y1=\"256\" y2=\"256\"/><line style=\"stroke: #A80036; stroke-width: 1.5;\" x1=\"173\" x2=\"247\" y1=\"264\" y2=\"264\"/><!--MD5=[5e84d935caaf67204cf8482ee0953834]\n",
       "class Double--><rect fill=\"#FEFECE\" filter=\"url(#fu8ew7kdamquz)\" height=\"48\" id=\"Double\" style=\"stroke: #A80036; stroke-width: 1.5;\" width=\"75\" x=\"283.5\" y=\"224\"/><ellipse cx=\"298.5\" cy=\"240\" fill=\"#ADD1B2\" rx=\"11\" ry=\"11\" style=\"stroke: #A80036; stroke-width: 1.0;\"/><path d=\"M300.8438,235.6719 C299.9063,235.2344 299.3125,235.0938 298.4375,235.0938 C295.8125,235.0938 293.8125,237.1719 293.8125,239.8906 L293.8125,241.0156 C293.8125,243.5938 295.9219,245.4844 298.8125,245.4844 C300.0313,245.4844 301.1875,245.1875 301.9375,244.6406 C302.5156,244.2344 302.8438,243.7813 302.8438,243.3906 C302.8438,242.9375 302.4531,242.5469 301.9844,242.5469 C301.7656,242.5469 301.5625,242.625 301.375,242.8125 C300.9219,243.2969 300.9219,243.2969 300.7344,243.3906 C300.3125,243.6563 299.625,243.7813 298.8594,243.7813 C296.8125,243.7813 295.5156,242.6875 295.5156,240.9844 L295.5156,239.8906 C295.5156,238.1094 296.7656,236.7969 298.5,236.7969 C299.0781,236.7969 299.6875,236.9531 300.1563,237.2031 C300.6406,237.4844 300.8125,237.7031 300.9063,238.1094 C300.9688,238.5156 301,238.6406 301.1406,238.7656 C301.2813,238.9063 301.5156,239.0156 301.7344,239.0156 C302,239.0156 302.2656,238.875 302.4375,238.6563 C302.5469,238.5 302.5781,238.3125 302.5781,237.8906 L302.5781,236.4688 C302.5781,236.0313 302.5625,235.9063 302.4688,235.75 C302.3125,235.4844 302.0313,235.3438 301.7344,235.3438 C301.4375,235.3438 301.2344,235.4375 301.0156,235.75 L300.8438,235.6719 Z \"/><text fill=\"#000000\" font-family=\"sans-serif\" font-size=\"12\" lengthAdjust=\"spacingAndGlyphs\" textLength=\"43\" x=\"312.5\" y=\"244.1543\">Double</text><line style=\"stroke: #A80036; stroke-width: 1.5;\" x1=\"284.5\" x2=\"357.5\" y1=\"256\" y2=\"256\"/><line style=\"stroke: #A80036; stroke-width: 1.5;\" x1=\"284.5\" x2=\"357.5\" y1=\"264\" y2=\"264\"/><!--MD5=[b6687390f69df6e5fbd3835ee01759b4]\n",
       "reverse link Object to Boolean--><path d=\"M118.313,70.28 C102.6325,85.391 85.0069,102.375 71.2016,115.678 \" fill=\"none\" id=\"Object&lt;-Boolean\" style=\"stroke: #A80036; stroke-width: 1.0;\"/><polygon fill=\"none\" points=\"113.873,64.838,133.132,56,123.587,74.919,113.873,64.838\" style=\"stroke: #A80036; stroke-width: 1.0;\"/><!--MD5=[1be87bd6599a58e7235d73d497810def]\n",
       "reverse link Object to String--><path d=\"M157,76.024 C157,89.579 157,104.038 157,115.678 \" fill=\"none\" id=\"Object&lt;-String\" style=\"stroke: #A80036; stroke-width: 1.0;\"/><polygon fill=\"none\" points=\"150,76,157,56,164,76,150,76\" style=\"stroke: #A80036; stroke-width: 1.0;\"/><!--MD5=[efb2644528097b43318c7a1809abe66b]\n",
       "reverse link Object to Number--><path d=\"M195.335,70.28 C210.873,85.391 228.339,102.375 242.018,115.678 \" fill=\"none\" id=\"Object&lt;-Number\" style=\"stroke: #A80036; stroke-width: 1.0;\"/><polygon fill=\"none\" points=\"190.109,74.962,180.651,56,199.87,64.926,190.109,74.962\" style=\"stroke: #A80036; stroke-width: 1.0;\"/><!--MD5=[aca478cf8e6a7792df9657e20e6ddca9]\n",
       "reverse link Number to Integer--><path d=\"M244.29,182.0936 C236.84,196.1958 228.763,211.4838 222.321,223.6784 \" fill=\"none\" id=\"Number&lt;-Integer\" style=\"stroke: #A80036; stroke-width: 1.0;\"/><polygon fill=\"none\" points=\"238.317,178.4144,253.849,164,250.696,184.9542,238.317,178.4144\" style=\"stroke: #A80036; stroke-width: 1.0;\"/><!--MD5=[b26ab0e0d8b972a530962d1fb18938f1]\n",
       "reverse link Number to Double--><path d=\"M287.322,182.0936 C294.639,196.1958 302.572,211.4838 308.899,223.6784 \" fill=\"none\" id=\"Number&lt;-Double\" style=\"stroke: #A80036; stroke-width: 1.0;\"/><polygon fill=\"none\" points=\"280.932,184.9769,277.934,164,293.359,178.529,280.932,184.9769\" style=\"stroke: #A80036; stroke-width: 1.0;\"/><!--MD5=[776eba6106fac635a6027197d3fb31c4]\n",
       "@startuml\n",
       "Object <|- - Boolean\n",
       "Object <|- - String\n",
       "Object <|- - Number\n",
       "Number <|- - Integer\n",
       "Number <|- - Double\n",
       "@enduml\n",
       "\n",
       "PlantUML version 1.2020.09beta3(Unknown compile time)\n",
       "(GPL source distribution)\n",
       "Java Runtime: Java(TM) SE Runtime Environment\n",
       "JVM: Java HotSpot(TM) 64-Bit Server VM\n",
       "Java Version: 14.0.1+7\n",
       "Operating System: Linux\n",
       "Default Encoding: UTF-8\n",
       "Language: en\n",
       "Country: US\n",
       "--></g></svg>"
      ],
      "text/plain": [
       "<IPython.core.display.SVG object>"
      ]
     },
     "execution_count": 14,
     "metadata": {},
     "output_type": "execute_result"
    }
   ],
   "source": [
    "%%plantuml\n",
    "\n",
    "@startuml\n",
    "Object <|-- Boolean\n",
    "Object <|-- String\n",
    "Object <|-- Number\n",
    "Number <|-- Integer\n",
    "Number <|-- Double\n",
    "@enduml"
   ]
  },
  {
   "cell_type": "code",
   "execution_count": 22,
   "metadata": {},
   "outputs": [
    {
     "data": {
      "image/svg+xml": [
       "<svg contentScriptType=\"application/ecmascript\" contentStyleType=\"text/css\" height=\"168px\" preserveAspectRatio=\"none\" style=\"width:198px;height:168px;\" version=\"1.1\" viewBox=\"0 0 198 168\" width=\"198px\" xmlns=\"http://www.w3.org/2000/svg\" xmlns:xlink=\"http://www.w3.org/1999/xlink\" zoomAndPan=\"magnify\"><defs><filter height=\"300%\" id=\"f1agdy71th2blg\" width=\"300%\" x=\"-1\" y=\"-1\"><feGaussianBlur result=\"blurOut\" stdDeviation=\"2.0\"/><feColorMatrix in=\"blurOut\" result=\"blurOut2\" type=\"matrix\" values=\"0 0 0 0 0 0 0 0 0 0 0 0 0 0 0 0 0 0 .4 0\"/><feOffset dx=\"4.0\" dy=\"4.0\" in=\"blurOut2\" result=\"blurOut3\"/><feBlend in=\"SourceGraphic\" in2=\"blurOut3\" mode=\"normal\"/></filter></defs><g><!--MD5=[2d5896c1953eb67355071d41bd7adbb0]\n",
       "class TestClass--><rect fill=\"#FEFECE\" filter=\"url(#f1agdy71th2blg)\" height=\"150.4375\" id=\"TestClass\" style=\"stroke: #A80036; stroke-width: 1.5;\" width=\"180\" x=\"7\" y=\"7\"/><ellipse cx=\"62.25\" cy=\"23\" fill=\"#ADD1B2\" rx=\"11\" ry=\"11\" style=\"stroke: #A80036; stroke-width: 1.0;\"/><path d=\"M64.5938,18.6719 C63.6563,18.2344 63.0625,18.0938 62.1875,18.0938 C59.5625,18.0938 57.5625,20.1719 57.5625,22.8906 L57.5625,24.0156 C57.5625,26.5938 59.6719,28.4844 62.5625,28.4844 C63.7813,28.4844 64.9375,28.1875 65.6875,27.6406 C66.2656,27.2344 66.5938,26.7813 66.5938,26.3906 C66.5938,25.9375 66.2031,25.5469 65.7344,25.5469 C65.5156,25.5469 65.3125,25.625 65.125,25.8125 C64.6719,26.2969 64.6719,26.2969 64.4844,26.3906 C64.0625,26.6563 63.375,26.7813 62.6094,26.7813 C60.5625,26.7813 59.2656,25.6875 59.2656,23.9844 L59.2656,22.8906 C59.2656,21.1094 60.5156,19.7969 62.25,19.7969 C62.8281,19.7969 63.4375,19.9531 63.9063,20.2031 C64.3906,20.4844 64.5625,20.7031 64.6563,21.1094 C64.7188,21.5156 64.75,21.6406 64.8906,21.7656 C65.0313,21.9063 65.2656,22.0156 65.4844,22.0156 C65.75,22.0156 66.0156,21.875 66.1875,21.6563 C66.2969,21.5 66.3281,21.3125 66.3281,20.8906 L66.3281,19.4688 C66.3281,19.0313 66.3125,18.9063 66.2188,18.75 C66.0625,18.4844 65.7813,18.3438 65.4844,18.3438 C65.1875,18.3438 64.9844,18.4375 64.7656,18.75 L64.5938,18.6719 Z \"/><text fill=\"#000000\" font-family=\"sans-serif\" font-size=\"12\" lengthAdjust=\"spacingAndGlyphs\" textLength=\"61\" x=\"82.75\" y=\"27.1543\">TestClass</text><line style=\"stroke: #A80036; stroke-width: 1.5;\" x1=\"8\" x2=\"186\" y1=\"39\" y2=\"39\"/><rect fill=\"none\" height=\"6\" style=\"stroke: #C82930; stroke-width: 1.0;\" width=\"6\" x=\"15\" y=\"47\"/><text fill=\"#000000\" font-family=\"sans-serif\" font-size=\"11\" lengthAdjust=\"spacingAndGlyphs\" textLength=\"68\" x=\"27\" y=\"53.2104\">privateField</text><polygon fill=\"none\" points=\"18,57.8047,22,61.8047,18,65.8047,14,61.8047\" style=\"stroke: #B38D22; stroke-width: 1.0;\"/><text fill=\"#000000\" font-family=\"sans-serif\" font-size=\"11\" lengthAdjust=\"spacingAndGlyphs\" textLength=\"83\" x=\"27\" y=\"66.0151\">protectedField</text><polygon fill=\"none\" points=\"18,71.6094,14,77.6094,22,77.6094\" style=\"stroke: #1963A0; stroke-width: 1.0;\"/><text fill=\"#000000\" font-family=\"sans-serif\" font-size=\"11\" lengthAdjust=\"spacingAndGlyphs\" textLength=\"131\" x=\"27\" y=\"78.8198\">packageProtectedField</text><ellipse cx=\"18\" cy=\"88.4141\" fill=\"none\" rx=\"3\" ry=\"3\" style=\"stroke: #038048; stroke-width: 1.0;\"/><text fill=\"#000000\" font-family=\"sans-serif\" font-size=\"11\" lengthAdjust=\"spacingAndGlyphs\" textLength=\"60\" x=\"27\" y=\"91.6245\">publicField</text><line style=\"stroke: #A80036; stroke-width: 1.5;\" x1=\"8\" x2=\"186\" y1=\"98.2188\" y2=\"98.2188\"/><rect fill=\"#F24D5C\" height=\"6\" style=\"stroke: #C82930; stroke-width: 1.0;\" width=\"6\" x=\"15\" y=\"106.2188\"/><text fill=\"#000000\" font-family=\"sans-serif\" font-size=\"11\" lengthAdjust=\"spacingAndGlyphs\" textLength=\"91\" x=\"27\" y=\"112.4292\">privateMethod()</text><polygon fill=\"#FFFF44\" points=\"18,117.0234,22,121.0234,18,125.0234,14,121.0234\" style=\"stroke: #B38D22; stroke-width: 1.0;\"/><text fill=\"#000000\" font-family=\"sans-serif\" font-size=\"11\" lengthAdjust=\"spacingAndGlyphs\" textLength=\"106\" x=\"27\" y=\"125.2339\">protectedMethod()</text><polygon fill=\"#4177AF\" points=\"18,130.8281,14,136.8281,22,136.8281\" style=\"stroke: #1963A0; stroke-width: 1.0;\"/><text fill=\"#000000\" font-family=\"sans-serif\" font-size=\"11\" lengthAdjust=\"spacingAndGlyphs\" textLength=\"154\" x=\"27\" y=\"138.0386\">packageProtectedMethod()</text><ellipse cx=\"18\" cy=\"147.6328\" fill=\"#84BE84\" rx=\"3\" ry=\"3\" style=\"stroke: #038048; stroke-width: 1.0;\"/><text fill=\"#000000\" font-family=\"sans-serif\" font-size=\"11\" lengthAdjust=\"spacingAndGlyphs\" textLength=\"83\" x=\"27\" y=\"150.8433\">publicMethod()</text><!--MD5=[9b7c718c83f0aa27e81d0923cbb9e138]\n",
       "@startuml\n",
       "class TestClass {\n",
       "-privateField\n",
       "#protectedField\n",
       "~packageProtectedField\n",
       "+publicField\n",
       "-privateMethod()\n",
       "#protectedMethod()\n",
       "~packageProtectedMethod()\n",
       "+publicMethod()\n",
       "}\n",
       "@enduml\n",
       "\n",
       "PlantUML version 1.2020.09beta3(Unknown compile time)\n",
       "(GPL source distribution)\n",
       "Java Runtime: Java(TM) SE Runtime Environment\n",
       "JVM: Java HotSpot(TM) 64-Bit Server VM\n",
       "Java Version: 14.0.1+7\n",
       "Operating System: Linux\n",
       "Default Encoding: UTF-8\n",
       "Language: en\n",
       "Country: US\n",
       "--></g></svg>"
      ],
      "text/plain": [
       "<IPython.core.display.SVG object>"
      ]
     },
     "execution_count": 22,
     "metadata": {},
     "output_type": "execute_result"
    }
   ],
   "source": [
    "%%plantuml\n",
    "\n",
    "@startuml\n",
    "class TestClass {\n",
    "-privateField\n",
    "#protectedField\n",
    "~packageProtectedField\n",
    "+publicField\n",
    "-privateMethod()\n",
    "#protectedMethod()\n",
    "~packageProtectedMethod()\n",
    "+publicMethod()\n",
    "}\n",
    "@enduml"
   ]
  },
  {
   "cell_type": "code",
   "execution_count": null,
   "metadata": {},
   "outputs": [],
   "source": []
  }
 ],
 "metadata": {
  "kernelspec": {
   "display_name": "Python 3",
   "language": "python",
   "name": "python3"
  },
  "language_info": {
   "codemirror_mode": {
    "name": "ipython",
    "version": 3
   },
   "file_extension": ".py",
   "mimetype": "text/x-python",
   "name": "python",
   "nbconvert_exporter": "python",
   "pygments_lexer": "ipython3",
   "version": "3.6.6"
  }
 },
 "nbformat": 4,
 "nbformat_minor": 2
}
