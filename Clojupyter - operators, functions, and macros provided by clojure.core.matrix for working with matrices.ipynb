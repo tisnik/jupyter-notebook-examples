{
 "cells": [
  {
   "cell_type": "markdown",
   "metadata": {},
   "source": [
    "# Další operace poskytované knihovnou `clojure.core.matrix` při práci s maticemi"
   ]
  },
  {
   "cell_type": "markdown",
   "metadata": {},
   "source": [
    "Nejprve použijeme dvojici příkazů `use`, které načtou všechny funkce a všechna makra ze jmenných prostorů clojure.core.matrix a clojure.core.matrix.operators:"
   ]
  },
  {
   "cell_type": "code",
   "execution_count": 1,
   "metadata": {},
   "outputs": [
    {
     "name": "stdout",
     "output_type": "stream",
     "text": [
      "WARNING: * already refers to: #'clojure.core/* in namespace: user, being replaced by: #'clojure.core.matrix.operators/*\n",
      "WARNING: min already refers to: #'clojure.core/min in namespace: user, being replaced by: #'clojure.core.matrix.operators/min\n",
      "WARNING: - already refers to: #'clojure.core/- in namespace: user, being replaced by: #'clojure.core.matrix.operators/-\n",
      "WARNING: / already refers to: #'clojure.core// in namespace: user, being replaced by: #'clojure.core.matrix.operators//\n",
      "WARNING: + already refers to: #'clojure.core/+ in namespace: user, being replaced by: #'clojure.core.matrix.operators/+\n",
      "WARNING: max already refers to: #'clojure.core/max in namespace: user, being replaced by: #'clojure.core.matrix.operators/max\n",
      "WARNING: == already refers to: #'clojure.core/== in namespace: user, being replaced by: #'clojure.core.matrix.operators/==\n"
     ]
    }
   ],
   "source": [
    "(use 'clojure.core.matrix)\n",
    "(use 'clojure.core.matrix.operators)"
   ]
  },
  {
   "cell_type": "markdown",
   "metadata": {},
   "source": [
    "### Poznámka\n",
    "po spuštění předchozí buňky se nejdříve vypíšou varování, že ve jmenném prostoru core.matrix.operators došlo k předeklarování globálních symbolů *, -, /, + a =="
   ]
  },
  {
   "cell_type": "markdown",
   "metadata": {},
   "source": [
    "## Pomocná makra pro výpis prováděné operace i jejího výsledku"
   ]
  },
  {
   "cell_type": "markdown",
   "metadata": {},
   "source": [
    "V dalších demonstračních příkladech se budou pro výpis prováděných operací i výsledků těchto operací používat dvě makra nazvaná `print-vector` a `print-matrix`. Funkce těchto maker je relativně jednoduchá – nejprve se vypíše úplný (nevyhodnocený) tvar výrazu, s nímž je makro zavoláno a posléze se s využitím funkce `pm` (*pretty print matrix*) vypíše vyhodnocený výraz, což může být skalár, vektor či matice. V případě matice je vhodnější použít makro `print-matrix`, které vypíše již první řádek matice na nový textový řádek, což zvyšuje čitelnost výstupu:"
   ]
  },
  {
   "cell_type": "code",
   "execution_count": 2,
   "metadata": {},
   "outputs": [
    {
     "data": {
      "text/plain": [
       "#'user/print-vector"
      ]
     },
     "execution_count": 2,
     "metadata": {},
     "output_type": "execute_result"
    }
   ],
   "source": [
    "(defmacro print-vector\n",
    "    \"Makro, které na standardní výstup vypíše výraz a následně i\n",
    "     hodnotu tohoto výrazu s použitím funkce pm (pretty print matrix).\n",
    "     Předpokládá se, že se výraz vyhodnotí na vektor.\"\n",
    "    [expression]\n",
    "    `(do (printf \"    %-32s =  \" '~expression)\n",
    "         (pm ~expression)))"
   ]
  },
  {
   "cell_type": "code",
   "execution_count": 3,
   "metadata": {},
   "outputs": [
    {
     "data": {
      "text/plain": [
       "#'user/print-matrix"
      ]
     },
     "execution_count": 3,
     "metadata": {},
     "output_type": "execute_result"
    }
   ],
   "source": [
    "(defmacro print-matrix\n",
    "    \"Makro, které na standardní výstup vypíše výraz a následně i\n",
    "     hodnotu tohoto výrazu s použitím funkce pm (pretty print matrix).\n",
    "     Předpokládá se, že se výraz vyhodnotí na matici\"\n",
    "    [expression]\n",
    "    `(do (println \"   \" '~expression \"=\")\n",
    "         (pm ~expression)\n",
    "         (println)))"
   ]
  },
  {
   "cell_type": "markdown",
   "metadata": {},
   "source": [
    "## Práce s maticemi v knihovně core.matrix"
   ]
  },
  {
   "cell_type": "markdown",
   "metadata": {},
   "source": [
    "Nejdůležitější datovou strukturou, s níž se v knihovně core.matrix pracuje, jsou samozřejmě matice, především pak dvourozměrné matice. Tyto matice mohou mít libovolné rozměry a při jejich vytváření je možné si zvolit jak způsob jejich uložení v operační paměti počítače, tak i to, zda se bude jednat o matice měnitelné (mutable) či neměnitelné (immutable). Již v předchozí části tohoto seriálu jsme se seznámili s některými funkcemi používanými při práci s maticemi."
   ]
  },
  {
   "cell_type": "markdown",
   "metadata": {},
   "source": [
    "### Neměnitelné matice\n",
    "Podívejme se nyní na některé další funkce, které lze použít pro práci s maticemi. Nejprve se budeme zabývat již zmíněnými funkcemi/operátory, které mají u matic v některých případech odlišný význam, než tomu bylo u vektorů:"
   ]
  },
  {
   "cell_type": "code",
   "execution_count": 5,
   "metadata": {},
   "outputs": [
    {
     "data": {
      "text/plain": [
       "#'user/immutable-matrix-operators"
      ]
     },
     "execution_count": 5,
     "metadata": {},
     "output_type": "execute_result"
    }
   ],
   "source": [
    "(defn immutable-matrix-operators\n",
    "    \"Test chování operátorů předefinovaných ve jmenném prostoru\n",
    "     clojure.core.matrix.operators.\"\n",
    "    [matrix1 matrix2]\n",
    "    (println \"*** Test základních operátorů aplikovaných na matice ***\")\n",
    "    (println \"Vstupní data (matice):\")\n",
    "    (print-matrix matrix1)\n",
    "    (print-matrix matrix2)\n",
    "    (println \"Vyhodnocení:\")\n",
    "    ; operace provedené mezi maticí a skalární hodnotou\n",
    "    (print-matrix (+ matrix1 10))\n",
    "    (print-matrix (- matrix1 10))\n",
    "    (print-matrix (* matrix1 10))\n",
    "    (print-matrix (/ matrix1 10))\n",
    "    ; operace provedené mezi skalární hodnotou a maticí\n",
    "    (print-matrix (+ 10 matrix1))\n",
    "    (print-matrix (- 10 matrix1))\n",
    "    (print-matrix (* 10 matrix1))\n",
    "    (try\n",
    "        (print-matrix (/ 10 matrix1))\n",
    "        (catch java.lang.ArithmeticException e\n",
    "            (println \"Exception: \" (.toString e))))\n",
    "    ; operace provedené mezi dvěma maticemi\n",
    "    (print-matrix (+ matrix1 matrix2))\n",
    "    (print-matrix (- matrix1 matrix2))\n",
    "    (print-matrix (* matrix1 matrix2))\n",
    "    (try\n",
    "        (print-matrix (/ matrix1 matrix2))\n",
    "        (catch java.lang.ArithmeticException e\n",
    "            (println \"Exception: \" (.toString e))))\n",
    "    (println))"
   ]
  },
  {
   "cell_type": "code",
   "execution_count": 7,
   "metadata": {},
   "outputs": [
    {
     "data": {
      "text/plain": [
       "#'user/immutable-matrix-tests"
      ]
     },
     "execution_count": 7,
     "metadata": {},
     "output_type": "execute_result"
    }
   ],
   "source": [
    "(defn immutable-matrix-tests\n",
    "    \"Spustí všechny testovací funkce s neměnitelnými maticemi\"\n",
    "    []\n",
    "    (let [m0 (zero-matrix 3 3)\n",
    "          m1 (identity-matrix 3 3)\n",
    "          m2 (array [[1 2 3] [4 5 6] [7 8 9]])\n",
    "          m3 (array [[0 1] [2 3]])]\n",
    "          (immutable-matrix-operators m0 m1)\n",
    "          (immutable-matrix-operators m1 m2)))"
   ]
  },
  {
   "cell_type": "code",
   "execution_count": 8,
   "metadata": {},
   "outputs": [
    {
     "name": "stdout",
     "output_type": "stream",
     "text": [
      "*** Test základních operátorů aplikovaných na matice ***\n",
      "Vstupní data (matice):\n",
      "    matrix1 =\n",
      "[[0.000 0.000 0.000]\n",
      " [0.000 0.000 0.000]\n",
      " [0.000 0.000 0.000]]\n",
      "\n",
      "    matrix2 =\n",
      "[[1.000 0.000 0.000]\n",
      " [0.000 1.000 0.000]\n",
      " [0.000 0.000 1.000]]\n",
      "\n",
      "Vyhodnocení:\n",
      "    (+ matrix1 10) =\n",
      "[[10.000 10.000 10.000]\n",
      " [10.000 10.000 10.000]\n",
      " [10.000 10.000 10.000]]\n",
      "\n",
      "    (- matrix1 10) =\n",
      "[[-10.000 -10.000 -10.000]\n",
      " [-10.000 -10.000 -10.000]\n",
      " [-10.000 -10.000 -10.000]]\n",
      "\n",
      "    (* matrix1 10) =\n",
      "[[0.000 0.000 0.000]\n",
      " [0.000 0.000 0.000]\n",
      " [0.000 0.000 0.000]]\n",
      "\n",
      "    (/ matrix1 10) =\n",
      "[[0.000 0.000 0.000]\n",
      " [0.000 0.000 0.000]\n",
      " [0.000 0.000 0.000]]\n",
      "\n",
      "    (+ 10 matrix1) =\n",
      "[[10.000 10.000 10.000]\n",
      " [10.000 10.000 10.000]\n",
      " [10.000 10.000 10.000]]\n",
      "\n",
      "    (- 10 matrix1) =\n",
      "[[10.000 10.000 10.000]\n",
      " [10.000 10.000 10.000]\n",
      " [10.000 10.000 10.000]]\n",
      "\n",
      "    (* 10 matrix1) =\n",
      "[[0.000 0.000 0.000]\n",
      " [0.000 0.000 0.000]\n",
      " [0.000 0.000 0.000]]\n",
      "\n",
      "    (/ 10 matrix1) =\n",
      "Exception:  java.lang.ArithmeticException: Divide by zero\n",
      "    (+ matrix1 matrix2) =\n",
      "[[1.000 0.000 0.000]\n",
      " [0.000 1.000 0.000]\n",
      " [0.000 0.000 1.000]]\n",
      "\n",
      "    (- matrix1 matrix2) =\n",
      "[[-1.000  0.000  0.000]\n",
      " [ 0.000 -1.000  0.000]\n",
      " [ 0.000  0.000 -1.000]]\n",
      "\n",
      "    (* matrix1 matrix2) =\n",
      "[[0.000 0.000 0.000]\n",
      " [0.000 0.000 0.000]\n",
      " [0.000 0.000 0.000]]\n",
      "\n",
      "    (/ matrix1 matrix2) =\n",
      "Exception:  java.lang.ArithmeticException: Divide by zero\n",
      "\n",
      "*** Test základních operátorů aplikovaných na matice ***\n",
      "Vstupní data (matice):\n",
      "    matrix1 =\n",
      "[[1.000 0.000 0.000]\n",
      " [0.000 1.000 0.000]\n",
      " [0.000 0.000 1.000]]\n",
      "\n",
      "    matrix2 =\n",
      "[[1.000 2.000 3.000]\n",
      " [4.000 5.000 6.000]\n",
      " [7.000 8.000 9.000]]\n",
      "\n",
      "Vyhodnocení:\n",
      "    (+ matrix1 10) =\n",
      "[[11.000 10.000 10.000]\n",
      " [10.000 11.000 10.000]\n",
      " [10.000 10.000 11.000]]\n",
      "\n",
      "    (- matrix1 10) =\n",
      "[[ -9.000 -10.000 -10.000]\n",
      " [-10.000  -9.000 -10.000]\n",
      " [-10.000 -10.000  -9.000]]\n",
      "\n",
      "    (* matrix1 10) =\n",
      "[[10.000  0.000  0.000]\n",
      " [ 0.000 10.000  0.000]\n",
      " [ 0.000  0.000 10.000]]\n",
      "\n",
      "    (/ matrix1 10) =\n",
      "[[0.100 0.000 0.000]\n",
      " [0.000 0.100 0.000]\n",
      " [0.000 0.000 0.100]]\n",
      "\n",
      "    (+ 10 matrix1) =\n",
      "[[11.000 10.000 10.000]\n",
      " [10.000 11.000 10.000]\n",
      " [10.000 10.000 11.000]]\n",
      "\n",
      "    (- 10 matrix1) =\n",
      "[[ 9.000 10.000 10.000]\n",
      " [10.000  9.000 10.000]\n",
      " [10.000 10.000  9.000]]\n",
      "\n",
      "    (* 10 matrix1) =\n",
      "[[10.000  0.000  0.000]\n",
      " [ 0.000 10.000  0.000]\n",
      " [ 0.000  0.000 10.000]]\n",
      "\n",
      "    (/ 10 matrix1) =\n",
      "Exception:  java.lang.ArithmeticException: Divide by zero\n",
      "    (+ matrix1 matrix2) =\n",
      "[[2.000 2.000  3.000]\n",
      " [4.000 6.000  6.000]\n",
      " [7.000 8.000 10.000]]\n",
      "\n",
      "    (- matrix1 matrix2) =\n",
      "[[ 0.000 -2.000 -3.000]\n",
      " [-4.000 -4.000 -6.000]\n",
      " [-7.000 -8.000 -8.000]]\n",
      "\n",
      "    (* matrix1 matrix2) =\n",
      "[[1.000 0.000 0.000]\n",
      " [0.000 5.000 0.000]\n",
      " [0.000 0.000 9.000]]\n",
      "\n",
      "    (/ matrix1 matrix2) =\n",
      "[[1.000 0.000 0.000]\n",
      " [0.000 0.200 0.000]\n",
      " [0.000 0.000 0.111]]\n",
      "\n",
      "\n"
     ]
    }
   ],
   "source": [
    "(immutable-matrix-tests)"
   ]
  },
  {
   "cell_type": "markdown",
   "metadata": {},
   "source": [
    "Zajímavé je i chování operátorů ** (aplikován prvek po prvku s případným broadcastem) a == (taktéž aplikován prvek po prvku):"
   ]
  },
  {
   "cell_type": "code",
   "execution_count": 9,
   "metadata": {},
   "outputs": [
    {
     "data": {
      "text/plain": [
       "#'user/immutable-matrix-special-operators"
      ]
     },
     "execution_count": 9,
     "metadata": {},
     "output_type": "execute_result"
    }
   ],
   "source": [
    "(defn immutable-matrix-special-operators\n",
    "    \"Test chování speciálních operátorů předefinovaných\n",
    "     ve jmenném prostoru clojure.core.matrix.operators.\"\n",
    "    [matrix1 matrix2]\n",
    "    (println \"*** Test speciálních operátorů aplikovaných na matice ***\")\n",
    "    (println \"Vstupní data (matice):\")\n",
    "    (print-matrix matrix1)\n",
    "    (print-matrix matrix2)\n",
    "    (println \"Vyhodnocení:\")\n",
    "    ; operace provedené mezi maticí a skalární hodnotou\n",
    "    (print-matrix (** matrix1 10))\n",
    "    ; operace provedené mezi skalární hodnotou a maticí\n",
    "    (print-matrix (** 10 matrix1))\n",
    "    ; operace provedené mezi dvěma maticemi\n",
    "    (print-matrix (** matrix1 matrix2))\n",
    "    ; operátor ekvivalence aplikovaný na dvojici matic\n",
    "    (print-vector (== matrix1 matrix2))\n",
    "    (print-vector (== matrix1 matrix1))\n",
    "    (print-vector (== matrix1 (identity-matrix 3 3)))\n",
    "    (print-vector (== matrix2 (array [[1 2 3] [4 5 6] [7 8 9]])))\n",
    "    (println))"
   ]
  },
  {
   "cell_type": "code",
   "execution_count": 16,
   "metadata": {},
   "outputs": [
    {
     "data": {
      "text/plain": [
       "#'user/immutable-matrix-tests-2"
      ]
     },
     "execution_count": 16,
     "metadata": {},
     "output_type": "execute_result"
    }
   ],
   "source": [
    "(defn immutable-matrix-tests-2\n",
    "    \"Spustí všechny testovací funkce s neměnitelnými maticemi\"\n",
    "    []\n",
    "    (let [m1 (identity-matrix 3 3)\n",
    "          m2 (array [[1 2 3] [4 5 6] [7 8 9]])]\n",
    "          (immutable-matrix-special-operators m1 m2)))"
   ]
  },
  {
   "cell_type": "code",
   "execution_count": 17,
   "metadata": {},
   "outputs": [
    {
     "name": "stdout",
     "output_type": "stream",
     "text": [
      "*** Test speciálních operátorů aplikovaných na matice ***\n",
      "Vstupní data (matice):\n",
      "    matrix1 =\n",
      "[[1.000 0.000 0.000]\n",
      " [0.000 1.000 0.000]\n",
      " [0.000 0.000 1.000]]\n",
      "\n",
      "    matrix2 =\n",
      "[[1.000 2.000 3.000]\n",
      " [4.000 5.000 6.000]\n",
      " [7.000 8.000 9.000]]\n",
      "\n",
      "Vyhodnocení:\n",
      "    (** matrix1 10) =\n",
      "[[1.000 0.000 0.000]\n",
      " [0.000 1.000 0.000]\n",
      " [0.000 0.000 1.000]]\n",
      "\n",
      "    (** 10 matrix1) =\n",
      "[[10.000  1.000  1.000]\n",
      " [ 1.000 10.000  1.000]\n",
      " [ 1.000  1.000 10.000]]\n",
      "\n",
      "    (** matrix1 matrix2) =\n",
      "[[1.000 0.000 0.000]\n",
      " [0.000 1.000 0.000]\n",
      " [0.000 0.000 1.000]]\n",
      "\n",
      "    (== matrix1 matrix2)             =  false\n",
      "    (== matrix1 matrix1)             =  true\n",
      "    (== matrix1 (identity-matrix 3 3)) =  true\n",
      "    (== matrix2 (array [[1 2 3] [4 5 6] [7 8 9]])) =  true\n",
      "\n"
     ]
    }
   ],
   "source": [
    "(immutable-matrix-tests-2)"
   ]
  },
  {
   "cell_type": "markdown",
   "metadata": {},
   "source": [
    "Podívejme se ještě na některé významné funkce, které je možné aplikovat na matice. Některé z těchto funkcí vrací skalární hodnotu, jiné naopak vektor či (jinou) matici. Některé z těchto funkcí již známe z kapitol o vektorech, další funkce jsou zcela nové:"
   ]
  },
  {
   "cell_type": "code",
   "execution_count": 15,
   "metadata": {},
   "outputs": [
    {
     "data": {
      "text/plain": [
       "#'user/immutable-matrix-functions"
      ]
     },
     "execution_count": 15,
     "metadata": {},
     "output_type": "execute_result"
    }
   ],
   "source": [
    "(defn immutable-matrix-functions\n",
    "    \"Test chování vybraných funkcí, které lze nalézt ve jmenných prostorech\n",
    "     clojure.core.matrix a clojure.core.matrix.operators.\"\n",
    "    [matrix1 matrix2 matrix3]\n",
    "    (println \"*** Test funkcí aplikovaných na matice ***\")\n",
    "    (println \"Vstupní data (matice):\")\n",
    "    (print-matrix matrix1)\n",
    "    (print-matrix matrix2)\n",
    "    (print-matrix matrix3)\n",
    "    (println \"Vyhodnocení:\")\n",
    "    (print-vector (emin matrix1))\n",
    "    (print-vector (emin matrix2))\n",
    "    (print-vector (emin matrix3))\n",
    "    (print-vector (emax matrix1))\n",
    "    (print-vector (emax matrix2))\n",
    "    (print-vector (emax matrix3))\n",
    "    (print-vector (esum matrix1))\n",
    "    (print-vector (esum matrix2))\n",
    "    (print-vector (esum matrix3))\n",
    "    (print-vector (ecount matrix1))\n",
    "    (print-vector (ecount matrix2))\n",
    "    (print-vector (ecount matrix3))\n",
    "    (print-vector (zero-count matrix1))\n",
    "    (print-vector (zero-count matrix2))\n",
    "    (print-vector (zero-count matrix3))\n",
    "    (print-matrix (inverse matrix1))\n",
    "    (print-matrix (inverse matrix2))\n",
    "    (print-matrix (inverse matrix3))\n",
    "    (print-matrix (non-zero-indices matrix1))\n",
    "    (print-matrix (non-zero-indices matrix2))\n",
    "    (print-matrix (non-zero-indices matrix3))\n",
    "    (print-matrix (outer-product matrix1))\n",
    "    (print-matrix (outer-product matrix2))\n",
    "    (print-matrix (outer-product matrix3))\n",
    "    (print-matrix (join matrix1 matrix2))\n",
    "    (println))"
   ]
  },
  {
   "cell_type": "code",
   "execution_count": 20,
   "metadata": {},
   "outputs": [
    {
     "data": {
      "text/plain": [
       "#'user/immutable-matrix-tests-3"
      ]
     },
     "execution_count": 20,
     "metadata": {},
     "output_type": "execute_result"
    }
   ],
   "source": [
    "(defn immutable-matrix-tests-3\n",
    "    \"Spustí všechny testovací funkce s neměnitelnými maticemi\"\n",
    "    []\n",
    "    (let [m1 (identity-matrix 3 3)\n",
    "          m2 (array [[1 2 3] [4 5 6] [7 8 9]])\n",
    "          m3 (array [[0 1] [2 3]])]\n",
    "          (immutable-matrix-functions m1 m2 m3)))"
   ]
  },
  {
   "cell_type": "code",
   "execution_count": 21,
   "metadata": {},
   "outputs": [
    {
     "name": "stdout",
     "output_type": "stream",
     "text": [
      "*** Test funkcí aplikovaných na matice ***\n",
      "Vstupní data (matice):\n",
      "    matrix1 =\n",
      "[[1.000 0.000 0.000]\n",
      " [0.000 1.000 0.000]\n",
      " [0.000 0.000 1.000]]\n",
      "\n",
      "    matrix2 =\n",
      "[[1.000 2.000 3.000]\n",
      " [4.000 5.000 6.000]\n",
      " [7.000 8.000 9.000]]\n",
      "\n",
      "    matrix3 =\n",
      "[[0.000 1.000]\n",
      " [2.000 3.000]]\n",
      "\n",
      "Vyhodnocení:\n",
      "    (emin matrix1)                   =  0.000\n",
      "    (emin matrix2)                   =  1.000\n",
      "    (emin matrix3)                   =  0.000\n",
      "    (emax matrix1)                   =  1.000\n",
      "    (emax matrix2)                   =  9.000\n",
      "    (emax matrix3)                   =  3.000\n",
      "    (esum matrix1)                   =  3.000\n",
      "    (esum matrix2)                   =  45.000\n",
      "    (esum matrix3)                   =  6.000\n",
      "    (ecount matrix1)                 =  9.000\n",
      "    (ecount matrix2)                 =  9.000\n",
      "    (ecount matrix3)                 =  4.000\n",
      "    (zero-count matrix1)             =  6.000\n",
      "    (zero-count matrix2)             =  0.000\n",
      "    (zero-count matrix3)             =  1.000\n",
      "    (inverse matrix1) =\n",
      "[[1.000 0.000 0.000]\n",
      " [0.000 1.000 0.000]\n",
      " [0.000 0.000 1.000]]\n",
      "\n",
      "    (inverse matrix2) =\n",
      "\n",
      "\n",
      "    (inverse matrix3) =\n",
      "[[-1.500  0.500]\n",
      " [ 1.000 -0.000]]\n",
      "\n",
      "    (non-zero-indices matrix1) =\n",
      "[[0.000]\n",
      " [1.000]\n",
      " [2.000]]\n",
      "\n",
      "    (non-zero-indices matrix2) =\n",
      "[[0.000 1.000 2.000]\n",
      " [0.000 1.000 2.000]\n",
      " [0.000 1.000 2.000]]\n",
      "\n",
      "    (non-zero-indices matrix3) =\n",
      "ExceptionInfo Can't convert to persistent vector array: inconsistent shape.  clojure.core/ex-info (core.clj:4617)\n"
     ]
    },
    {
     "ename": "class clojure.lang.ExceptionInfo",
     "evalue": "",
     "output_type": "error",
     "traceback": [
      "               core.clj:  4617 clojure.core$ex_info/invokeStatic                                    ",
      " persistent_vector.cljc:   547 clojure.core.matrix.impl.persistent_vector$eval12614$fn__12615/invoke",
      "         protocols.cljc:   305 clojure.core.matrix.protocols$eval6946$fn__6947$G__6937__6952/invoke ",
      "             pprint.clj:    36 clojure.core.matrix.impl.pprint$format_array/invokeStatic            ",
      "             pprint.clj:    30 clojure.core.matrix.impl.pprint$format_array/invoke                  ",
      "             pprint.clj:    83 clojure.core.matrix.impl.pprint$pm/invokeStatic                      ",
      "             pprint.clj:    77 clojure.core.matrix.impl.pprint$pm/invoke                            ",
      "             pprint.clj:    80 clojure.core.matrix.impl.pprint$pm/invokeStatic                      ",
      "             pprint.clj:    77 clojure.core.matrix.impl.pprint$pm/invoke                            ",
      "            matrix.cljc:  2143 clojure.core.matrix$pm/invokeStatic                                  ",
      "            matrix.cljc:  2136 clojure.core.matrix$pm/invoke                                        ",
      "               core.clj:  3105 clojure.core$eval/invokeStatic                                       ",
      "               core.clj:  3101 clojure.core$eval/invoke                                             ",
      "               main.clj:   240 clojure.main$repl$read_eval_print__7408$fn__7411/invoke              ",
      "               main.clj:   258 clojure.main$repl$fn__7417/invoke                                    ",
      "               main.clj:   174 clojure.main$repl/doInvoke                                           ",
      "            RestFn.java:  1523 clojure.lang.RestFn/invoke                                           ",
      "               AFn.java:   152 clojure.lang.AFn/applyToHelper                                       ",
      "               AFn.java:   144 clojure.lang.AFn/applyTo                                             ",
      "               core.clj:   646 clojure.core$apply/invokeStatic                                      ",
      "               core.clj:  1881 clojure.core$with_bindings_STAR_/invokeStatic                        ",
      "            RestFn.java:   425 clojure.lang.RestFn/invoke                                           ",
      "               AFn.java:    22 clojure.lang.AFn/run                                                 ",
      "ThreadPoolExecutor.java:  1149 java.util.concurrent.ThreadPoolExecutor/runWorker                    ",
      "ThreadPoolExecutor.java:   624 java.util.concurrent.ThreadPoolExecutor$Worker/run                   ",
      "            Thread.java:   748 java.lang.Thread/run                                                 "
     ]
    }
   ],
   "source": [
    "(immutable-matrix-tests-3)"
   ]
  },
  {
   "cell_type": "markdown",
   "metadata": {},
   "source": [
    "Příklad z praxe – tabulka malé násobilky:"
   ]
  },
  {
   "cell_type": "code",
   "execution_count": 22,
   "metadata": {},
   "outputs": [
    {
     "name": "stdout",
     "output_type": "stream",
     "text": [
      "[[ 1.000  2.000  3.000  4.000  5.000  6.000  7.000  8.000  9.000  10.000]\n",
      " [ 2.000  4.000  6.000  8.000 10.000 12.000 14.000 16.000 18.000  20.000]\n",
      " [ 3.000  6.000  9.000 12.000 15.000 18.000 21.000 24.000 27.000  30.000]\n",
      " [ 4.000  8.000 12.000 16.000 20.000 24.000 28.000 32.000 36.000  40.000]\n",
      " [ 5.000 10.000 15.000 20.000 25.000 30.000 35.000 40.000 45.000  50.000]\n",
      " [ 6.000 12.000 18.000 24.000 30.000 36.000 42.000 48.000 54.000  60.000]\n",
      " [ 7.000 14.000 21.000 28.000 35.000 42.000 49.000 56.000 63.000  70.000]\n",
      " [ 8.000 16.000 24.000 32.000 40.000 48.000 56.000 64.000 72.000  80.000]\n",
      " [ 9.000 18.000 27.000 36.000 45.000 54.000 63.000 72.000 81.000  90.000]\n",
      " [10.000 20.000 30.000 40.000 50.000 60.000 70.000 80.000 90.000 100.000]]\n"
     ]
    }
   ],
   "source": [
    "(def v1 (array (range 1 11)))\n",
    " \n",
    "(pm (outer-product v1 v1))"
   ]
  },
  {
   "cell_type": "markdown",
   "metadata": {},
   "source": [
    "## Měnitelné matice\n",
    "Podobně jako bylo možné se při vytváření vektorů rozhodnout, zda se má jednat o neměnitelné či naopak o modifikovatelné datové struktury, lze totéž rozhodnutí provést i v případě matic zavoláním funkce `mutable`. Použití modifikovatelných matic může v mnoha případech znamenat znatelné urychlení mnoha operací a taktéž menší nároky na kapacitu operační paměti. Záleží tedy jen na vývojáři, ve kterých případech se přikloní k použití neměnitelných matic a tím pádem i k funkcionálnímu stylu programování a kdy naopak kvůli paměťovým a časovým nárokům upřednostní matice, jejichž prvky je možné kdykoli změnit (a to i z jiných vláken). Podívejme se nyní na několik příkladů použití měnitelných matic:"
   ]
  },
  {
   "cell_type": "code",
   "execution_count": 24,
   "metadata": {},
   "outputs": [
    {
     "data": {
      "text/plain": [
       "#'user/mutable-matrix-operators"
      ]
     },
     "execution_count": 24,
     "metadata": {},
     "output_type": "execute_result"
    }
   ],
   "source": [
    "(defn mutable-matrix-operators\n",
    "    \"Test chování operátorů předefinovaných ve jmenném prostoru\n",
    "     clojure.core.matrix.operators na měnitelné matice\"\n",
    "    [matrix1 matrix2]\n",
    "    (println \"*** Test základních operátorů aplikovaných na měnitelné matice ***\")\n",
    "    (println \"Vstupní data (matice):\")\n",
    "    (print-matrix matrix1)\n",
    "    (print-matrix matrix2)\n",
    "    (println \"Vyhodnocení:\")\n",
    "    ; operace provedené mezi dvěma maticemi\n",
    "    (print-matrix (+= matrix1 matrix2))\n",
    "    (print-matrix (-= matrix1 matrix2))\n",
    "    (print-matrix (*= matrix1 matrix2))\n",
    "    (print-matrix (div= matrix1 matrix2))\n",
    "    (println))"
   ]
  },
  {
   "cell_type": "code",
   "execution_count": 25,
   "metadata": {},
   "outputs": [
    {
     "data": {
      "text/plain": [
       "#'user/mutable-matrix-functions"
      ]
     },
     "execution_count": 25,
     "metadata": {},
     "output_type": "execute_result"
    }
   ],
   "source": [
    "(defn mutable-matrix-functions\n",
    "    \"test chování vybraných funkcí, které lze nalézt ve jmenných prostorech\n",
    "     clojure.core.matrix a clojure.core.matrix.operators na měnitelné matice.\"\n",
    "    [matrix1 matrix2 matrix3]\n",
    "    (println \"*** test funkcí aplikovaných na měnitelné matice ***\")\n",
    "    (println \"vstupní data (matice):\")\n",
    "    (print-matrix matrix1)\n",
    "    (print-matrix matrix2)\n",
    "    (print-matrix matrix3)\n",
    "    (println \"vyhodnocení:\")\n",
    "    (print-matrix (sin! matrix1))\n",
    "    (print-matrix (sin! matrix2))\n",
    "    (print-matrix (sin! matrix3))\n",
    "    (print-matrix (fill! matrix1 0))\n",
    "    (print-matrix (fill! matrix2 1))\n",
    "    (print-matrix (fill! matrix3 2))\n",
    "    (println))"
   ]
  },
  {
   "cell_type": "code",
   "execution_count": 26,
   "metadata": {},
   "outputs": [
    {
     "data": {
      "text/plain": [
       "#'user/mutable-matrix-tests"
      ]
     },
     "execution_count": 26,
     "metadata": {},
     "output_type": "execute_result"
    }
   ],
   "source": [
    "(defn mutable-matrix-tests\n",
    "    []\n",
    "    (let [m0 (mutable (zero-matrix 3 3))\n",
    "          m1 (mutable (identity-matrix 3 3))\n",
    "          m2 (mutable (array [[1 2 3] [4 5 6] [7 8 9]]))]\n",
    "          (mutable-matrix-operators m1 m2)\n",
    "          (mutable-matrix-functions m0 m1 m2)))"
   ]
  },
  {
   "cell_type": "code",
   "execution_count": 27,
   "metadata": {},
   "outputs": [
    {
     "name": "stdout",
     "output_type": "stream",
     "text": [
      "*** Test základních operátorů aplikovaných na měnitelné matice ***\n",
      "Vstupní data (matice):\n",
      "    matrix1 =\n",
      "[[1.000 0.000 0.000]\n",
      " [0.000 1.000 0.000]\n",
      " [0.000 0.000 1.000]]\n",
      "\n",
      "    matrix2 =\n",
      "[[1.000 2.000 3.000]\n",
      " [4.000 5.000 6.000]\n",
      " [7.000 8.000 9.000]]\n",
      "\n",
      "Vyhodnocení:\n",
      "    (+= matrix1 matrix2) =\n",
      "[[2.000 2.000  3.000]\n",
      " [4.000 6.000  6.000]\n",
      " [7.000 8.000 10.000]]\n",
      "\n",
      "    (-= matrix1 matrix2) =\n",
      "[[1.000 0.000 0.000]\n",
      " [0.000 1.000 0.000]\n",
      " [0.000 0.000 1.000]]\n",
      "\n",
      "    (*= matrix1 matrix2) =\n",
      "[[1.000 0.000 0.000]\n",
      " [0.000 5.000 0.000]\n",
      " [0.000 0.000 9.000]]\n",
      "\n",
      "    (div= matrix1 matrix2) =\n",
      "[[1.000 0.000 0.000]\n",
      " [0.000 1.000 0.000]\n",
      " [0.000 0.000 1.000]]\n",
      "\n",
      "\n",
      "*** test funkcí aplikovaných na měnitelné matice ***\n",
      "vstupní data (matice):\n",
      "    matrix1 =\n",
      "[[0.000 0.000 0.000]\n",
      " [0.000 0.000 0.000]\n",
      " [0.000 0.000 0.000]]\n",
      "\n",
      "    matrix2 =\n",
      "[[1.000 0.000 0.000]\n",
      " [0.000 1.000 0.000]\n",
      " [0.000 0.000 1.000]]\n",
      "\n",
      "    matrix3 =\n",
      "[[1.000 2.000 3.000]\n",
      " [4.000 5.000 6.000]\n",
      " [7.000 8.000 9.000]]\n",
      "\n",
      "vyhodnocení:\n",
      "    (sin! matrix1) =\n",
      "[[0.000 0.000 0.000]\n",
      " [0.000 0.000 0.000]\n",
      " [0.000 0.000 0.000]]\n",
      "\n",
      "    (sin! matrix2) =\n",
      "[[0.841 0.000 0.000]\n",
      " [0.000 0.841 0.000]\n",
      " [0.000 0.000 0.841]]\n",
      "\n",
      "    (sin! matrix3) =\n",
      "[[ 0.841  0.909  0.141]\n",
      " [-0.757 -0.959 -0.279]\n",
      " [ 0.657  0.989  0.412]]\n",
      "\n",
      "    (fill! matrix1 0) =\n",
      "[[0.000 0.000 0.000]\n",
      " [0.000 0.000 0.000]\n",
      " [0.000 0.000 0.000]]\n",
      "\n",
      "    (fill! matrix2 1) =\n",
      "[[1.000 1.000 1.000]\n",
      " [1.000 1.000 1.000]\n",
      " [1.000 1.000 1.000]]\n",
      "\n",
      "    (fill! matrix3 2) =\n",
      "[[2.000 2.000 2.000]\n",
      " [2.000 2.000 2.000]\n",
      " [2.000 2.000 2.000]]\n",
      "\n",
      "\n"
     ]
    }
   ],
   "source": [
    "(mutable-matrix-tests)"
   ]
  },
  {
   "cell_type": "markdown",
   "metadata": {},
   "source": [
    "## Pohledy (views)\n",
    "Poslední vlastností matic, s níž se v tomto diáři seznámíme, je podpora takzvaných *pohledů* neboli *views*. Při implementaci některých algoritmů je totiž nutné použít z větší matice pouze její část, ovšem mnohdy je kvůli časovým i paměťovým nárokům neefektivní tuto část kopírovat (klonovat). Jednodušší a rychlejší je použít právě pohledy, s jejichž využitím je možné (z pohledu programátora) vytvořit kopii části matice, ve skutečnosti se však bude skutečně jednat o jakýsi „pohled“ do obecně větší matice původní. Pohledy v `core.matrix` se tedy skutečně podobají pohledům známým například z relačních databází. Pro vysvětlení způsobu vytváření pohledů se opět podívejme na demonstrační příklad:"
   ]
  },
  {
   "cell_type": "code",
   "execution_count": 28,
   "metadata": {},
   "outputs": [
    {
     "data": {
      "text/plain": [
       "#'user/as-vector-test"
      ]
     },
     "execution_count": 28,
     "metadata": {},
     "output_type": "execute_result"
    }
   ],
   "source": [
    "(defn as-vector-test\n",
    "    \"Test funkce as-vector.\"\n",
    "    [matrix]\n",
    "    (print-vector (as-vector matrix)))"
   ]
  },
  {
   "cell_type": "code",
   "execution_count": 29,
   "metadata": {},
   "outputs": [
    {
     "data": {
      "text/plain": [
       "#'user/submatrix-test"
      ]
     },
     "execution_count": 29,
     "metadata": {},
     "output_type": "execute_result"
    }
   ],
   "source": [
    "(defn submatrix-test\n",
    "    \"Test funkce submatrix.\"\n",
    "    [matrix]\n",
    "    (print-matrix (submatrix matrix 0 3 0 3))\n",
    "    (print-matrix (submatrix matrix 1 5 2 4))\n",
    "    (print-matrix (submatrix matrix 0 5 0 1))\n",
    "    (print-matrix (submatrix matrix 0 1 0 5))\n",
    "    (print-matrix (submatrix matrix [[0 10][2 2]])))"
   ]
  },
  {
   "cell_type": "code",
   "execution_count": 30,
   "metadata": {},
   "outputs": [
    {
     "data": {
      "text/plain": [
       "#'user/select-test"
      ]
     },
     "execution_count": 30,
     "metadata": {},
     "output_type": "execute_result"
    }
   ],
   "source": [
    "(defn select-test\n",
    "    \"Test funkce select.\"\n",
    "    [matrix]\n",
    "    (print-matrix (select matrix 0 0))\n",
    "    (print-matrix (select matrix 5 5))\n",
    "    (print-matrix (select matrix 1 :all))\n",
    "    (print-matrix (select matrix :all 1))\n",
    "    (print-matrix (select matrix 9 :all))\n",
    "    (print-matrix (select matrix :all 9)))"
   ]
  },
  {
   "cell_type": "code",
   "execution_count": 32,
   "metadata": {},
   "outputs": [
    {
     "data": {
      "text/plain": [
       "#'user/big-matrix"
      ]
     },
     "execution_count": 32,
     "metadata": {},
     "output_type": "execute_result"
    }
   ],
   "source": [
    "(def big-matrix\n",
    "    (-> (range 0 100) (reshape [10 10])))"
   ]
  },
  {
   "cell_type": "code",
   "execution_count": 33,
   "metadata": {},
   "outputs": [
    {
     "data": {
      "text/plain": [
       "#'user/views-tests"
      ]
     },
     "execution_count": 33,
     "metadata": {},
     "output_type": "execute_result"
    }
   ],
   "source": [
    "(defn views-tests\n",
    "    \"Pohledy na matice.\"\n",
    "    []\n",
    "    (println \"*** Test pohledů na matice ***\")\n",
    "    (let [m1 big-matrix]\n",
    "        (println \"Vstupní matice:\")\n",
    "        (print-matrix m1)\n",
    "        (as-vector-test m1)\n",
    "        (submatrix-test m1)\n",
    "        (select-test m1)))"
   ]
  },
  {
   "cell_type": "code",
   "execution_count": 34,
   "metadata": {},
   "outputs": [
    {
     "name": "stdout",
     "output_type": "stream",
     "text": [
      "*** Test pohledů na matice ***\n",
      "Vstupní matice:\n",
      "    m1 =\n",
      "[[ 0.000  1.000  2.000  3.000  4.000  5.000  6.000  7.000  8.000  9.000]\n",
      " [10.000 11.000 12.000 13.000 14.000 15.000 16.000 17.000 18.000 19.000]\n",
      " [20.000 21.000 22.000 23.000 24.000 25.000 26.000 27.000 28.000 29.000]\n",
      " [30.000 31.000 32.000 33.000 34.000 35.000 36.000 37.000 38.000 39.000]\n",
      " [40.000 41.000 42.000 43.000 44.000 45.000 46.000 47.000 48.000 49.000]\n",
      " [50.000 51.000 52.000 53.000 54.000 55.000 56.000 57.000 58.000 59.000]\n",
      " [60.000 61.000 62.000 63.000 64.000 65.000 66.000 67.000 68.000 69.000]\n",
      " [70.000 71.000 72.000 73.000 74.000 75.000 76.000 77.000 78.000 79.000]\n",
      " [80.000 81.000 82.000 83.000 84.000 85.000 86.000 87.000 88.000 89.000]\n",
      " [90.000 91.000 92.000 93.000 94.000 95.000 96.000 97.000 98.000 99.000]]\n",
      "\n",
      "    (as-vector matrix)               =  [0.000 1.000 2.000 3.000 4.000 5.000 6.000 7.000 8.000 9.000 10.000 11.000 12.000 13.000 14.000 15.000 16.000 17.000 18.000 19.000 20.000 21.000 22.000 23.000 24.000 25.000 26.000 27.000 28.000 29.000 30.000 31.000 32.000 33.000 34.000 35.000 36.000 37.000 38.000 39.000 40.000 41.000 42.000 43.000 44.000 45.000 46.000 47.000 48.000 49.000 50.000 51.000 52.000 53.000 54.000 55.000 56.000 57.000 58.000 59.000 60.000 61.000 62.000 63.000 64.000 65.000 66.000 67.000 68.000 69.000 70.000 71.000 72.000 73.000 74.000 75.000 76.000 77.000 78.000 79.000 80.000 81.000 82.000 83.000 84.000 85.000 86.000 87.000 88.000 89.000 90.000 91.000 92.000 93.000 94.000 95.000 96.000 97.000 98.000 99.000]\n",
      "    (submatrix matrix 0 3 0 3) =\n",
      "[[ 0.000  1.000  2.000]\n",
      " [10.000 11.000 12.000]\n",
      " [20.000 21.000 22.000]]\n",
      "\n",
      "    (submatrix matrix 1 5 2 4) =\n",
      "[[12.000 13.000 14.000 15.000]\n",
      " [22.000 23.000 24.000 25.000]\n",
      " [32.000 33.000 34.000 35.000]\n",
      " [42.000 43.000 44.000 45.000]\n",
      " [52.000 53.000 54.000 55.000]]\n",
      "\n",
      "    (submatrix matrix 0 5 0 1) =\n",
      "[[ 0.000]\n",
      " [10.000]\n",
      " [20.000]\n",
      " [30.000]\n",
      " [40.000]]\n",
      "\n",
      "    (submatrix matrix 0 1 0 5) =\n",
      "[[0.000 1.000 2.000 3.000 4.000]]\n",
      "\n",
      "    (submatrix matrix [[0 10] [2 2]]) =\n",
      "[[ 2.000  3.000]\n",
      " [12.000 13.000]\n",
      " [22.000 23.000]\n",
      " [32.000 33.000]\n",
      " [42.000 43.000]\n",
      " [52.000 53.000]\n",
      " [62.000 63.000]\n",
      " [72.000 73.000]\n",
      " [82.000 83.000]\n",
      " [92.000 93.000]]\n",
      "\n",
      "    (select matrix 0 0) =\n",
      "0.000\n",
      "\n",
      "    (select matrix 5 5) =\n",
      "55.000\n",
      "\n",
      "    (select matrix 1 :all) =\n",
      "[10.000 11.000 12.000 13.000 14.000 15.000 16.000 17.000 18.000 19.000]\n",
      "\n",
      "    (select matrix :all 1) =\n",
      "[1.000 11.000 21.000 31.000 41.000 51.000 61.000 71.000 81.000 91.000]\n",
      "\n",
      "    (select matrix 9 :all) =\n",
      "[90.000 91.000 92.000 93.000 94.000 95.000 96.000 97.000 98.000 99.000]\n",
      "\n",
      "    (select matrix :all 9) =\n",
      "[9.000 19.000 29.000 39.000 49.000 59.000 69.000 79.000 89.000 99.000]\n",
      "\n"
     ]
    }
   ],
   "source": [
    "(views-tests)"
   ]
  },
  {
   "cell_type": "code",
   "execution_count": null,
   "metadata": {},
   "outputs": [],
   "source": []
  }
 ],
 "metadata": {
  "kernelspec": {
   "display_name": "Lein-Clojure",
   "language": "clojure",
   "name": "lein-clojure"
  },
  "language_info": {
   "file_extension": ".clj",
   "mimetype": "text/x-clojure",
   "name": "clojure",
   "version": "1.8.0"
  }
 },
 "nbformat": 4,
 "nbformat_minor": 2
}
