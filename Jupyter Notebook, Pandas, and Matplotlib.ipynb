{
 "cells": [
  {
   "cell_type": "markdown",
   "metadata": {},
   "source": [
    "# Jupyter Notebook, Pandas, and Matplotlib\n",
    "\n",
    "## Jupyter Notebook\n",
    "\n",
    "* Web-based interactive development environment\n",
    "* Open source\n",
    "* Based on Python programming language\n",
    "* Other so called 'kernels' can be used as well\n",
    "    - Julia\n",
    "    - R\n",
    "    - Ruby\n",
    "    - Scheme\n",
    "    - C++\n",
    "* Notebooks are stored in JSON format\n",
    "    - Conversion to HTML, slides etc.\n",
    "\n",
    "## Pandas\n",
    "\n",
    "* Data analysis and manipulation tool\n",
    "* Open source\n",
    "* Also based on Python programming language\n",
    "* Ability to work with large datasets\n",
    "\n",
    "## Matplotlib\n",
    "\n",
    "* Plotting library\n",
    "* Also open source\n",
    "* Again based on Python programming languag\n",
    "    - fully supports numerical mathematics extension NumPy\n",
    "\n",
    "## Why/when/how to use this combo?\n",
    "\n",
    "* Collaborative environment\n",
    "* Flexible and interactive\n",
    "* Learning/teaching\n",
    "* Data analysis\n",
    "* Data manipulation\n",
    "* Data visualisation\n",
    "* Presentations\n",
    "* Proof of concepts"
   ]
  },
  {
   "cell_type": "code",
   "execution_count": 1,
   "metadata": {},
   "outputs": [],
   "source": [
    "# let's try interactivity there"
   ]
  },
  {
   "cell_type": "markdown",
   "metadata": {},
   "source": [
    "## Matplotlib examples\n",
    "\n",
    "* [Simple graph](graph1.ipynb)\n",
    "* [Graph with two functions](graph2.ipynb)\n",
    "* [Different drawing styles](graph5.ipynb)\n",
    "* [Polar graph](graph9.ipynb)\n",
    "* [Bar chart](graph13.ipynb)\n",
    "* [Pie chart](graph16.ipynb)\n",
    "* [Contour plot](graph22.ipynb)\n",
    "* [3D graph](graph25.ipynb)\n",
    "* [Styled 3D graph](graph28.ipynb)\n",
    "* [Pickover attractor](Pickover attractor.ipynb)\n"
   ]
  },
  {
   "cell_type": "markdown",
   "metadata": {},
   "source": [
    "## Pandas examples\n",
    "\n",
    "* [Loading data frame](data_frame_01_loading.ipynb)\n",
    "* [Transformation](data_frame_02_transform_format.ipynb)\n",
    "* [Aggregation](data_frame_03_aggregate.ipynb)\n",
    "* [Combination](data_frame_04_combine.ipynb)\n"
   ]
  },
  {
   "cell_type": "markdown",
   "metadata": {},
   "source": [
    "## Real example - presentation for stakeholders\n",
    "\n",
    "* [Consumer benchmarks](consumer_benchmarks.ipynb)\n",
    "* [Data processing #1](processing1.ipynb)\n",
    "* [Data processing #2](processing2.ipynb)\n"
   ]
  },
  {
   "cell_type": "code",
   "execution_count": null,
   "metadata": {},
   "outputs": [],
   "source": []
  }
 ],
 "metadata": {
  "kernelspec": {
   "display_name": "Python 3",
   "language": "python",
   "name": "python3"
  },
  "language_info": {
   "codemirror_mode": {
    "name": "ipython",
    "version": 3
   },
   "file_extension": ".py",
   "mimetype": "text/x-python",
   "name": "python",
   "nbconvert_exporter": "python",
   "pygments_lexer": "ipython3",
   "version": "3.6.6"
  }
 },
 "nbformat": 4,
 "nbformat_minor": 2
}
