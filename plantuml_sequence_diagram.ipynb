{
 "cells": [
  {
   "cell_type": "code",
   "execution_count": 7,
   "metadata": {},
   "outputs": [],
   "source": [
    "import iplantuml"
   ]
  },
  {
   "cell_type": "code",
   "execution_count": 28,
   "metadata": {},
   "outputs": [
    {
     "data": {
      "image/svg+xml": [
       "<svg contentScriptType=\"application/ecmascript\" contentStyleType=\"text/css\" height=\"270px\" preserveAspectRatio=\"none\" style=\"width:706px;height:270px;\" version=\"1.1\" viewBox=\"0 0 706 270\" width=\"706px\" xmlns=\"http://www.w3.org/2000/svg\" xmlns:xlink=\"http://www.w3.org/1999/xlink\" zoomAndPan=\"magnify\"><defs><filter height=\"300%\" id=\"fhau8zjfgqbzb\" width=\"300%\" x=\"-1\" y=\"-1\"><feGaussianBlur result=\"blurOut\" stdDeviation=\"2.0\"/><feColorMatrix in=\"blurOut\" result=\"blurOut2\" type=\"matrix\" values=\"0 0 0 0 0 0 0 0 0 0 0 0 0 0 0 0 0 0 .4 0\"/><feOffset dx=\"4.0\" dy=\"4.0\" in=\"blurOut2\" result=\"blurOut3\"/><feBlend in=\"SourceGraphic\" in2=\"blurOut3\" mode=\"normal\"/></filter></defs><g><text fill=\"#000000\" font-family=\"sans-serif\" font-size=\"18\" lengthAdjust=\"spacingAndGlyphs\" textLength=\"270\" x=\"220.75\" y=\"26.708\">TCP: Connection termination</text><line style=\"stroke: #A80036; stroke-width: 1.0; stroke-dasharray: 5.0,5.0;\" x1=\"356\" x2=\"356\" y1=\"73.25\" y2=\"229.7813\"/><line style=\"stroke: #A80036; stroke-width: 1.0; stroke-dasharray: 5.0,5.0;\" x1=\"426\" x2=\"426\" y1=\"73.25\" y2=\"229.7813\"/><rect fill=\"#FEFECE\" filter=\"url(#fhau8zjfgqbzb)\" height=\"30.2969\" style=\"stroke: #A80036; stroke-width: 1.5;\" width=\"54\" x=\"327\" y=\"37.9531\"/><text fill=\"#000000\" font-family=\"sans-serif\" font-size=\"14\" lengthAdjust=\"spacingAndGlyphs\" textLength=\"40\" x=\"334\" y=\"57.9482\">Client</text><rect fill=\"#FEFECE\" filter=\"url(#fhau8zjfgqbzb)\" height=\"30.2969\" style=\"stroke: #A80036; stroke-width: 1.5;\" width=\"54\" x=\"327\" y=\"228.7813\"/><text fill=\"#000000\" font-family=\"sans-serif\" font-size=\"14\" lengthAdjust=\"spacingAndGlyphs\" textLength=\"40\" x=\"334\" y=\"248.7764\">Client</text><rect fill=\"#FEFECE\" filter=\"url(#fhau8zjfgqbzb)\" height=\"30.2969\" style=\"stroke: #A80036; stroke-width: 1.5;\" width=\"59\" x=\"395\" y=\"37.9531\"/><text fill=\"#000000\" font-family=\"sans-serif\" font-size=\"14\" lengthAdjust=\"spacingAndGlyphs\" textLength=\"45\" x=\"402\" y=\"57.9482\">Server</text><rect fill=\"#FEFECE\" filter=\"url(#fhau8zjfgqbzb)\" height=\"30.2969\" style=\"stroke: #A80036; stroke-width: 1.5;\" width=\"59\" x=\"395\" y=\"228.7813\"/><text fill=\"#000000\" font-family=\"sans-serif\" font-size=\"14\" lengthAdjust=\"spacingAndGlyphs\" textLength=\"45\" x=\"402\" y=\"248.7764\">Server</text><polygon fill=\"#FF0000\" points=\"414.5,105.3828,424.5,109.3828,414.5,113.3828,418.5,109.3828\" style=\"stroke: #FF0000; stroke-width: 1.0;\"/><line style=\"stroke: #FF0000; stroke-width: 1.0;\" x1=\"356\" x2=\"420.5\" y1=\"109.3828\" y2=\"109.3828\"/><text fill=\"#000000\" font-family=\"sans-serif\" font-size=\"13\" font-weight=\"bold\" lengthAdjust=\"spacingAndGlyphs\" textLength=\"9\" x=\"363\" y=\"104.3169\">1</text><text fill=\"#000000\" font-family=\"sans-serif\" font-size=\"13\" lengthAdjust=\"spacingAndGlyphs\" textLength=\"19\" x=\"376\" y=\"104.3169\">FIN</text><path d=\"M8,88.25 L8,113.25 L347,113.25 L347,98.25 L337,88.25 L8,88.25 \" fill=\"#FBFB77\" filter=\"url(#fhau8zjfgqbzb)\" style=\"stroke: #A80036; stroke-width: 1.0;\"/><path d=\"M337,88.25 L337,98.25 L347,98.25 L337,88.25 \" fill=\"#FBFB77\" style=\"stroke: #A80036; stroke-width: 1.0;\"/><text fill=\"#000000\" font-family=\"sans-serif\" font-size=\"13\" lengthAdjust=\"spacingAndGlyphs\" textLength=\"318\" x=\"14\" y=\"105.3169\">endpoint wishes to stop its half of the connection</text><polygon fill=\"#008000\" points=\"367,144.5156,357,148.5156,367,152.5156,363,148.5156\" style=\"stroke: #008000; stroke-width: 1.0;\"/><line style=\"stroke: #008000; stroke-width: 1.0;\" x1=\"361\" x2=\"425.5\" y1=\"148.5156\" y2=\"148.5156\"/><text fill=\"#000000\" font-family=\"sans-serif\" font-size=\"13\" font-weight=\"bold\" lengthAdjust=\"spacingAndGlyphs\" textLength=\"9\" x=\"373\" y=\"143.4497\">2</text><text fill=\"#000000\" font-family=\"sans-serif\" font-size=\"13\" lengthAdjust=\"spacingAndGlyphs\" textLength=\"26\" x=\"386\" y=\"143.4497\">ACK</text><path d=\"M431,127.3828 L431,152.3828 L694,152.3828 L694,137.3828 L684,127.3828 L431,127.3828 \" fill=\"#FBFB77\" filter=\"url(#fhau8zjfgqbzb)\" style=\"stroke: #A80036; stroke-width: 1.0;\"/><path d=\"M684,127.3828 L684,137.3828 L694,137.3828 L684,127.3828 \" fill=\"#FBFB77\" style=\"stroke: #A80036; stroke-width: 1.0;\"/><text fill=\"#000000\" font-family=\"sans-serif\" font-size=\"13\" lengthAdjust=\"spacingAndGlyphs\" textLength=\"242\" x=\"437\" y=\"144.4497\">other end acknowledges with an ACK</text><polygon fill=\"#FF0000\" points=\"367,178.6484,357,182.6484,367,186.6484,363,182.6484\" style=\"stroke: #FF0000; stroke-width: 1.0;\"/><line style=\"stroke: #FF0000; stroke-width: 1.0;\" x1=\"361\" x2=\"425.5\" y1=\"182.6484\" y2=\"182.6484\"/><text fill=\"#000000\" font-family=\"sans-serif\" font-size=\"13\" font-weight=\"bold\" lengthAdjust=\"spacingAndGlyphs\" textLength=\"8\" x=\"373\" y=\"177.5825\">3</text><text fill=\"#000000\" font-family=\"sans-serif\" font-size=\"13\" lengthAdjust=\"spacingAndGlyphs\" textLength=\"19\" x=\"385\" y=\"177.5825\">FIN</text><polygon fill=\"#008000\" points=\"414.5,207.7813,424.5,211.7813,414.5,215.7813,418.5,211.7813\" style=\"stroke: #008000; stroke-width: 1.0;\"/><line style=\"stroke: #008000; stroke-width: 1.0;\" x1=\"356\" x2=\"420.5\" y1=\"211.7813\" y2=\"211.7813\"/><text fill=\"#000000\" font-family=\"sans-serif\" font-size=\"13\" font-weight=\"bold\" lengthAdjust=\"spacingAndGlyphs\" textLength=\"9\" x=\"363\" y=\"206.7153\">4</text><text fill=\"#000000\" font-family=\"sans-serif\" font-size=\"13\" lengthAdjust=\"spacingAndGlyphs\" textLength=\"26\" x=\"376\" y=\"206.7153\">ACK</text><!--MD5=[a8ffcd336069fd77defeb995765837a9]\n",
       "@startuml\n",
       "autonumber\n",
       "title TCP: Connection termination\n",
       " \n",
       "Client -[#red]> Server: FIN\n",
       " \n",
       "note left: endpoint wishes to stop its half of the connection\n",
       " \n",
       "Client <[#green]- Server: ACK\n",
       " \n",
       "note right: other end acknowledges with an ACK\n",
       " \n",
       "Client <[#red]- Server: FIN\n",
       "Client -[#green]> Server: ACK\n",
       "@enduml\n",
       "\n",
       "PlantUML version 1.2020.09beta3(Unknown compile time)\n",
       "(GPL source distribution)\n",
       "Java Runtime: Java(TM) SE Runtime Environment\n",
       "JVM: Java HotSpot(TM) 64-Bit Server VM\n",
       "Java Version: 14.0.1+7\n",
       "Operating System: Linux\n",
       "Default Encoding: UTF-8\n",
       "Language: en\n",
       "Country: US\n",
       "--></g></svg>"
      ],
      "text/plain": [
       "<IPython.core.display.SVG object>"
      ]
     },
     "execution_count": 28,
     "metadata": {},
     "output_type": "execute_result"
    }
   ],
   "source": [
    "%%plantuml\n",
    "\n",
    "@startuml\n",
    " \n",
    "autonumber\n",
    "title TCP: Connection termination\n",
    " \n",
    "Client -[#red]> Server: FIN\n",
    " \n",
    "note left: endpoint wishes to stop its half of the connection\n",
    " \n",
    "Client <[#green]- Server: ACK\n",
    " \n",
    "note right: other end acknowledges with an ACK\n",
    " \n",
    "Client <[#red]- Server: FIN\n",
    "Client -[#green]> Server: ACK\n",
    " \n",
    "@enduml"
   ]
  },
  {
   "cell_type": "code",
   "execution_count": null,
   "metadata": {},
   "outputs": [],
   "source": []
  }
 ],
 "metadata": {
  "kernelspec": {
   "display_name": "Python 3",
   "language": "python",
   "name": "python3"
  },
  "language_info": {
   "codemirror_mode": {
    "name": "ipython",
    "version": 3
   },
   "file_extension": ".py",
   "mimetype": "text/x-python",
   "name": "python",
   "nbconvert_exporter": "python",
   "pygments_lexer": "ipython3",
   "version": "3.6.6"
  }
 },
 "nbformat": 4,
 "nbformat_minor": 2
}
