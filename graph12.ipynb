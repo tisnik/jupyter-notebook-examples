{
 "cells": [
  {
   "cell_type": "markdown",
   "metadata": {},
   "source": [
    "# Dvanáctý demonstrační příklad - jednoduchý sloupcový graf"
   ]
  },
  {
   "cell_type": "code",
   "execution_count": 1,
   "metadata": {},
   "outputs": [],
   "source": [
    "# import všech potřebných knihoven - Numpy a Matplotlibu\n",
    "import numpy as np\n",
    "import matplotlib.pyplot as plt"
   ]
  },
  {
   "cell_type": "code",
   "execution_count": 2,
   "metadata": {},
   "outputs": [
    {
     "data": {
      "image/png": "[encoded data removed]",
      "text/plain": [
       "<Figure size 432x288 with 1 Axes>"
      ]
     },
     "metadata": {},
     "output_type": "display_data"
    }
   ],
   "source": [
    "# historické ceny ropy\n",
    "cena_ropy = [\n",
    "46.68, 44.68, 46.90, 47.15, 44.59, 44.00, 44.63, 45.92, 44.15, 45.94,\n",
    "46.05, 46.75, 46.25, 45.41, 49.20, 45.22, 42.56, 38.60, 39.31, 38.24,\n",
    "40.45, 41.32, 40.80, 42.62, 41.87, 42.50, 42.23, 43.30, 43.08, 44.96,\n",
    "43.87, 44.66, 45.15, 47.12, 48.52, 48.79, 47.98, 47.39, 48.14, 48.45]\n",
    "\n",
    "# počet prvků\n",
    "N = len(cena_ropy)\n",
    "\n",
    "# indexy prvků\n",
    "indexes = np.arange(N)\n",
    "\n",
    "# šířka sloupců\n",
    "width = 1.00\n",
    "\n",
    "# sloupcový graf\n",
    "plt.bar(indexes, cena_ropy, width, color='yellow', edgecolor='black', label='Cena ropy')\n",
    "\n",
    "# povolení zobrazení mřížky\n",
    "plt.grid(True)\n",
    "\n",
    "# přidání legendy\n",
    "plt.legend(loc=\"lower right\")\n",
    "\n",
    "# zobrazení grafu\n",
    "plt.show()"
   ]
  },
  {
   "cell_type": "code",
   "execution_count": null,
   "metadata": {},
   "outputs": [],
   "source": []
  }
 ],
 "metadata": {
  "kernelspec": {
   "display_name": "Python 3",
   "language": "python",
   "name": "python3"
  },
  "language_info": {
   "codemirror_mode": {
    "name": "ipython",
    "version": 3
   },
   "file_extension": ".py",
   "mimetype": "text/x-python",
   "name": "python",
   "nbconvert_exporter": "python",
   "pygments_lexer": "ipython3",
   "version": "3.6.6"
  }
 },
 "nbformat": 4,
 "nbformat_minor": 2
}
