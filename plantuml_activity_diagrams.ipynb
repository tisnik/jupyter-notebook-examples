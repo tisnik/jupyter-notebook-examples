{
 "cells": [
  {
   "cell_type": "code",
   "execution_count": 7,
   "metadata": {},
   "outputs": [],
   "source": [
    "import iplantuml"
   ]
  },
  {
   "cell_type": "code",
   "execution_count": 8,
   "metadata": {},
   "outputs": [
    {
     "data": {
      "image/svg+xml": [
       "<svg contentScriptType=\"application/ecmascript\" contentStyleType=\"text/css\" height=\"173px\" preserveAspectRatio=\"none\" style=\"width:83px;height:173px;\" version=\"1.1\" viewBox=\"0 0 83 173\" width=\"83px\" xmlns=\"http://www.w3.org/2000/svg\" xmlns:xlink=\"http://www.w3.org/1999/xlink\" zoomAndPan=\"magnify\"><defs><filter height=\"300%\" id=\"f8cdjxkgver80\" width=\"300%\" x=\"-1\" y=\"-1\"><feGaussianBlur result=\"blurOut\" stdDeviation=\"2.0\"/><feColorMatrix in=\"blurOut\" result=\"blurOut2\" type=\"matrix\" values=\"0 0 0 0 0 0 0 0 0 0 0 0 0 0 0 0 0 0 .4 0\"/><feOffset dx=\"4.0\" dy=\"4.0\" in=\"blurOut2\" result=\"blurOut3\"/><feBlend in=\"SourceGraphic\" in2=\"blurOut3\" mode=\"normal\"/></filter></defs><g><ellipse cx=\"39\" cy=\"18\" fill=\"#000000\" filter=\"url(#f8cdjxkgver80)\" rx=\"10\" ry=\"10\" style=\"stroke: none; stroke-width: 1.0;\"/><rect fill=\"#FEFECE\" filter=\"url(#f8cdjxkgver80)\" height=\"33.9688\" rx=\"12.5\" ry=\"12.5\" style=\"stroke: #A80036; stroke-width: 1.5;\" width=\"66\" x=\"6\" y=\"68\"/><text fill=\"#000000\" font-family=\"sans-serif\" font-size=\"12\" lengthAdjust=\"spacingAndGlyphs\" textLength=\"46\" x=\"16\" y=\"89.1387\">Aktivita</text><ellipse cx=\"39\" cy=\"152\" fill=\"none\" filter=\"url(#f8cdjxkgver80)\" rx=\"10\" ry=\"10\" style=\"stroke: #000000; stroke-width: 1.0;\"/><ellipse cx=\"39.5\" cy=\"152.5\" fill=\"#000000\" rx=\"6\" ry=\"6\" style=\"stroke: none; stroke-width: 1.0;\"/><!--MD5=[d2f2d096111f13a1db6cbce81ec33993]\n",
       "link start to Aktivita--><path d=\"M39,28.038 C39,36.932 39,50.844 39,62.5722 \" fill=\"none\" id=\"start-&gt;Aktivita\" style=\"stroke: #A80036; stroke-width: 1.0;\"/><polygon fill=\"#A80036\" points=\"39,67.7811,43,58.7811,39,62.7811,35,58.7811,39,67.7811\" style=\"stroke: #A80036; stroke-width: 1.0;\"/><!--MD5=[3f9434b2bf62dc355c96e1b594b0c883]\n",
       "link Aktivita to end--><path d=\"M39,102.0674 C39,112.5986 39,126.2536 39,136.4618 \" fill=\"none\" id=\"Aktivita-&gt;end\" style=\"stroke: #A80036; stroke-width: 1.0;\"/><polygon fill=\"#A80036\" points=\"39,141.7367,43,132.7367,39,136.7367,35,132.7367,39,141.7367\" style=\"stroke: #A80036; stroke-width: 1.0;\"/><!--MD5=[5aa68bbcc1639d5c64e6d26c87cff300]\n",
       "@startuml\n",
       "(*) - -> \"Aktivita\"\n",
       "\"Aktivita\" - -> (*)\n",
       "@enduml\n",
       "\n",
       "PlantUML version 1.2020.09beta3(Unknown compile time)\n",
       "(GPL source distribution)\n",
       "Java Runtime: Java(TM) SE Runtime Environment\n",
       "JVM: Java HotSpot(TM) 64-Bit Server VM\n",
       "Java Version: 14.0.1+7\n",
       "Operating System: Linux\n",
       "Default Encoding: UTF-8\n",
       "Language: en\n",
       "Country: US\n",
       "--></g></svg>"
      ],
      "text/plain": [
       "<IPython.core.display.SVG object>"
      ]
     },
     "execution_count": 8,
     "metadata": {},
     "output_type": "execute_result"
    }
   ],
   "source": [
    "%%plantuml\n",
    "\n",
    "@startuml\n",
    "(*) --> \"Aktivita\"\n",
    "\"Aktivita\" --> (*)\n",
    "@enduml"
   ]
  },
  {
   "cell_type": "code",
   "execution_count": 10,
   "metadata": {},
   "outputs": [
    {
     "data": {
      "image/svg+xml": [
       "<svg contentScriptType=\"application/ecmascript\" contentStyleType=\"text/css\" height=\"289px\" preserveAspectRatio=\"none\" style=\"width:184px;height:289px;\" version=\"1.1\" viewBox=\"0 0 184 289\" width=\"184px\" xmlns=\"http://www.w3.org/2000/svg\" xmlns:xlink=\"http://www.w3.org/1999/xlink\" zoomAndPan=\"magnify\"><defs><filter height=\"300%\" id=\"fax06kcg20u0z\" width=\"300%\" x=\"-1\" y=\"-1\"><feGaussianBlur result=\"blurOut\" stdDeviation=\"2.0\"/><feColorMatrix in=\"blurOut\" result=\"blurOut2\" type=\"matrix\" values=\"0 0 0 0 0 0 0 0 0 0 0 0 0 0 0 0 0 0 .4 0\"/><feOffset dx=\"4.0\" dy=\"4.0\" in=\"blurOut2\" result=\"blurOut3\"/><feBlend in=\"SourceGraphic\" in2=\"blurOut3\" mode=\"normal\"/></filter></defs><g><ellipse cx=\"42.5\" cy=\"18\" fill=\"#000000\" filter=\"url(#fax06kcg20u0z)\" rx=\"10\" ry=\"10\" style=\"stroke: none; stroke-width: 1.0;\"/><rect fill=\"#FEFECE\" filter=\"url(#fax06kcg20u0z)\" height=\"33.9688\" rx=\"12.5\" ry=\"12.5\" style=\"stroke: #A80036; stroke-width: 1.5;\" width=\"73\" x=\"6\" y=\"82\"/><text fill=\"#000000\" font-family=\"sans-serif\" font-size=\"12\" lengthAdjust=\"spacingAndGlyphs\" textLength=\"53\" x=\"16\" y=\"103.1387\">Aktivita1</text><rect fill=\"#FEFECE\" filter=\"url(#fax06kcg20u0z)\" height=\"33.9688\" rx=\"12.5\" ry=\"12.5\" style=\"stroke: #A80036; stroke-width: 1.5;\" width=\"73\" x=\"6\" y=\"170\"/><text fill=\"#000000\" font-family=\"sans-serif\" font-size=\"12\" lengthAdjust=\"spacingAndGlyphs\" textLength=\"53\" x=\"16\" y=\"191.1387\">Aktivita2</text><ellipse cx=\"42.5\" cy=\"268\" fill=\"none\" filter=\"url(#fax06kcg20u0z)\" rx=\"10\" ry=\"10\" style=\"stroke: #000000; stroke-width: 1.0;\"/><ellipse cx=\"43\" cy=\"268.5\" fill=\"#000000\" rx=\"6\" ry=\"6\" style=\"stroke: none; stroke-width: 1.0;\"/><!--MD5=[9be2a3686ad05cf0ab1bf0a474ee3d99]\n",
       "link start to Aktivita1--><path d=\"M42.5,28.062 C42.5,39.86 42.5,60.849 42.5,76.765 \" fill=\"none\" id=\"start-&gt;Aktivita1\" style=\"stroke: #A80036; stroke-width: 1.0;\"/><polygon fill=\"#A80036\" points=\"42.5,81.948,46.5,72.948,42.5,76.948,38.5,72.948,42.5,81.948\" style=\"stroke: #A80036; stroke-width: 1.0;\"/><text fill=\"#000000\" font-family=\"sans-serif\" font-size=\"11\" lengthAdjust=\"spacingAndGlyphs\" textLength=\"96\" x=\"43.5\" y=\"59.2104\">začátek procesu</text><!--MD5=[01659cdb1d3a02ec528fd518e5b84785]\n",
       "link Aktivita1 to Aktivita2--><path d=\"M42.5,116.176 C42.5,129.87 42.5,149.606 42.5,164.605 \" fill=\"none\" id=\"Aktivita1-&gt;Aktivita2\" style=\"stroke: #A80036; stroke-width: 1.0;\"/><polygon fill=\"#A80036\" points=\"42.5,169.897,46.5,160.897,42.5,164.897,38.5,160.897,42.5,169.897\" style=\"stroke: #A80036; stroke-width: 1.0;\"/><text fill=\"#000000\" font-family=\"sans-serif\" font-size=\"11\" lengthAdjust=\"spacingAndGlyphs\" textLength=\"129\" x=\"43.5\" y=\"147.2104\">zpracování požadavku</text><!--MD5=[7faa91d9688eedc0e80a052a1eb2ceef]\n",
       "link Aktivita2 to end--><path d=\"M42.5,204.3689 C42.5,218.5726 42.5,238.9377 42.5,252.5482 \" fill=\"none\" id=\"Aktivita2-&gt;end\" style=\"stroke: #A80036; stroke-width: 1.0;\"/><polygon fill=\"#A80036\" points=\"42.5,257.581,46.5,248.581,42.5,252.581,38.5,248.581,42.5,257.581\" style=\"stroke: #A80036; stroke-width: 1.0;\"/><text fill=\"#000000\" font-family=\"sans-serif\" font-size=\"11\" lengthAdjust=\"spacingAndGlyphs\" textLength=\"85\" x=\"43.5\" y=\"235.2104\">konec procesu</text><!--MD5=[1a6ac50723d17d9fad32e9e34520427d]\n",
       "@startuml\n",
       "(*) - -> [začátek procesu] \"Aktivita1\"\n",
       "- -> [zpracování požadavku] \"Aktivita2\"\n",
       "- -> [konec procesu] (*)\n",
       "@enduml\n",
       "\n",
       "PlantUML version 1.2020.09beta3(Unknown compile time)\n",
       "(GPL source distribution)\n",
       "Java Runtime: Java(TM) SE Runtime Environment\n",
       "JVM: Java HotSpot(TM) 64-Bit Server VM\n",
       "Java Version: 14.0.1+7\n",
       "Operating System: Linux\n",
       "Default Encoding: UTF-8\n",
       "Language: en\n",
       "Country: US\n",
       "--></g></svg>"
      ],
      "text/plain": [
       "<IPython.core.display.SVG object>"
      ]
     },
     "execution_count": 10,
     "metadata": {},
     "output_type": "execute_result"
    }
   ],
   "source": [
    "%%plantuml\n",
    "\n",
    "@startuml\n",
    "(*) --> [začátek procesu] \"Aktivita1\"\n",
    "--> [zpracování požadavku] \"Aktivita2\"\n",
    "--> [konec procesu] (*)\n",
    "@enduml"
   ]
  },
  {
   "cell_type": "code",
   "execution_count": 11,
   "metadata": {},
   "outputs": [
    {
     "data": {
      "image/svg+xml": [
       "<svg contentScriptType=\"application/ecmascript\" contentStyleType=\"text/css\" height=\"52px\" preserveAspectRatio=\"none\" style=\"width:578px;height:52px;\" version=\"1.1\" viewBox=\"0 0 578 52\" width=\"578px\" xmlns=\"http://www.w3.org/2000/svg\" xmlns:xlink=\"http://www.w3.org/1999/xlink\" zoomAndPan=\"magnify\"><defs><filter height=\"300%\" id=\"f1wynbpalmnb6h\" width=\"300%\" x=\"-1\" y=\"-1\"><feGaussianBlur result=\"blurOut\" stdDeviation=\"2.0\"/><feColorMatrix in=\"blurOut\" result=\"blurOut2\" type=\"matrix\" values=\"0 0 0 0 0 0 0 0 0 0 0 0 0 0 0 0 0 0 .4 0\"/><feOffset dx=\"4.0\" dy=\"4.0\" in=\"blurOut2\" result=\"blurOut3\"/><feBlend in=\"SourceGraphic\" in2=\"blurOut3\" mode=\"normal\"/></filter></defs><g><ellipse cx=\"16\" cy=\"25\" fill=\"#000000\" filter=\"url(#f1wynbpalmnb6h)\" rx=\"10\" ry=\"10\" style=\"stroke: none; stroke-width: 1.0;\"/><rect fill=\"#FEFECE\" filter=\"url(#f1wynbpalmnb6h)\" height=\"33.9688\" rx=\"12.5\" ry=\"12.5\" style=\"stroke: #A80036; stroke-width: 1.5;\" width=\"73\" x=\"143.5\" y=\"8\"/><text fill=\"#000000\" font-family=\"sans-serif\" font-size=\"12\" lengthAdjust=\"spacingAndGlyphs\" textLength=\"53\" x=\"153.5\" y=\"29.1387\">Aktivita1</text><rect fill=\"#FEFECE\" filter=\"url(#f1wynbpalmnb6h)\" height=\"33.9688\" rx=\"12.5\" ry=\"12.5\" style=\"stroke: #A80036; stroke-width: 1.5;\" width=\"73\" x=\"367.5\" y=\"8\"/><text fill=\"#000000\" font-family=\"sans-serif\" font-size=\"12\" lengthAdjust=\"spacingAndGlyphs\" textLength=\"53\" x=\"377.5\" y=\"29.1387\">Aktivita2</text><ellipse cx=\"557\" cy=\"25\" fill=\"none\" filter=\"url(#f1wynbpalmnb6h)\" rx=\"10\" ry=\"10\" style=\"stroke: #000000; stroke-width: 1.0;\"/><ellipse cx=\"557.5\" cy=\"25.5\" fill=\"#000000\" rx=\"6\" ry=\"6\" style=\"stroke: none; stroke-width: 1.0;\"/><!--MD5=[9be2a3686ad05cf0ab1bf0a474ee3d99]\n",
       "link start to Aktivita1--><path d=\"M26.2589,25 C48.1147,25 100.3316,25 137.847,25 \" fill=\"none\" id=\"start-&gt;Aktivita1\" style=\"stroke: #A80036; stroke-width: 1.0;\"/><polygon fill=\"#A80036\" points=\"143.27,25,134.27,21,138.27,25,134.27,29,143.27,25\" style=\"stroke: #A80036; stroke-width: 1.0;\"/><text fill=\"#000000\" font-family=\"sans-serif\" font-size=\"11\" lengthAdjust=\"spacingAndGlyphs\" textLength=\"96\" x=\"36.75\" y=\"19.2104\">začátek procesu</text><!--MD5=[01659cdb1d3a02ec528fd518e5b84785]\n",
       "link Aktivita1 to Aktivita2--><path d=\"M216.989,25 C256.91,25 320.36,25 362.096,25 \" fill=\"none\" id=\"Aktivita1-&gt;Aktivita2\" style=\"stroke: #A80036; stroke-width: 1.0;\"/><polygon fill=\"#A80036\" points=\"367.328,25,358.328,21,362.328,25,358.328,29,367.328,25\" style=\"stroke: #A80036; stroke-width: 1.0;\"/><text fill=\"#000000\" font-family=\"sans-serif\" font-size=\"11\" lengthAdjust=\"spacingAndGlyphs\" textLength=\"129\" x=\"227.5\" y=\"19.2104\">zpracování požadavku</text><!--MD5=[7faa91d9688eedc0e80a052a1eb2ceef]\n",
       "link Aktivita2 to end--><path d=\"M440.647,25 C472.894,25 518.248,25 541.667,25 \" fill=\"none\" id=\"Aktivita2-&gt;end\" style=\"stroke: #A80036; stroke-width: 1.0;\"/><polygon fill=\"#A80036\" points=\"546.859,25,537.859,21,541.859,25,537.859,29,546.859,25\" style=\"stroke: #A80036; stroke-width: 1.0;\"/><text fill=\"#000000\" font-family=\"sans-serif\" font-size=\"11\" lengthAdjust=\"spacingAndGlyphs\" textLength=\"85\" x=\"451.25\" y=\"19.2104\">konec procesu</text><!--MD5=[4b5811a799ebb2c75269a12dfd533925]\n",
       "@startuml\n",
       "(*) -right-> [začátek procesu] \"Aktivita1\"\n",
       "-right-> [zpracování požadavku] \"Aktivita2\"\n",
       "-right-> [konec procesu] (*)\n",
       "@enduml\n",
       "\n",
       "PlantUML version 1.2020.09beta3(Unknown compile time)\n",
       "(GPL source distribution)\n",
       "Java Runtime: Java(TM) SE Runtime Environment\n",
       "JVM: Java HotSpot(TM) 64-Bit Server VM\n",
       "Java Version: 14.0.1+7\n",
       "Operating System: Linux\n",
       "Default Encoding: UTF-8\n",
       "Language: en\n",
       "Country: US\n",
       "--></g></svg>"
      ],
      "text/plain": [
       "<IPython.core.display.SVG object>"
      ]
     },
     "execution_count": 11,
     "metadata": {},
     "output_type": "execute_result"
    }
   ],
   "source": [
    "%%plantuml\n",
    "\n",
    "@startuml\n",
    "(*) -right-> [začátek procesu] \"Aktivita1\"\n",
    "-right-> [zpracování požadavku] \"Aktivita2\"\n",
    "-right-> [konec procesu] (*)\n",
    "@enduml"
   ]
  },
  {
   "cell_type": "code",
   "execution_count": 13,
   "metadata": {},
   "outputs": [
    {
     "data": {
      "image/svg+xml": [
       "<svg contentScriptType=\"application/ecmascript\" contentStyleType=\"text/css\" height=\"481px\" preserveAspectRatio=\"none\" style=\"width:459px;height:481px;\" version=\"1.1\" viewBox=\"0 0 459 481\" width=\"459px\" xmlns=\"http://www.w3.org/2000/svg\" xmlns:xlink=\"http://www.w3.org/1999/xlink\" zoomAndPan=\"magnify\"><defs><filter height=\"300%\" id=\"fczn5j2p4tb6o\" width=\"300%\" x=\"-1\" y=\"-1\"><feGaussianBlur result=\"blurOut\" stdDeviation=\"2.0\"/><feColorMatrix in=\"blurOut\" result=\"blurOut2\" type=\"matrix\" values=\"0 0 0 0 0 0 0 0 0 0 0 0 0 0 0 0 0 0 .4 0\"/><feOffset dx=\"4.0\" dy=\"4.0\" in=\"blurOut2\" result=\"blurOut3\"/><feBlend in=\"SourceGraphic\" in2=\"blurOut3\" mode=\"normal\"/></filter></defs><g><ellipse cx=\"241\" cy=\"18\" fill=\"#000000\" filter=\"url(#fczn5j2p4tb6o)\" rx=\"10\" ry=\"10\" style=\"stroke: none; stroke-width: 1.0;\"/><rect fill=\"#FEFECE\" filter=\"url(#fczn5j2p4tb6o)\" height=\"33.9688\" rx=\"12.5\" ry=\"12.5\" style=\"stroke: #A80036; stroke-width: 1.5;\" width=\"108\" x=\"187\" y=\"69\"/><text fill=\"#000000\" font-family=\"sans-serif\" font-size=\"12\" lengthAdjust=\"spacingAndGlyphs\" textLength=\"88\" x=\"197\" y=\"90.1387\">Does it move?</text><polygon fill=\"#FEFECE\" filter=\"url(#fczn5j2p4tb6o)\" points=\"241,144,253,156,241,168,229,156,241,144\" style=\"stroke: #A80036; stroke-width: 1.5;\"/><rect fill=\"#FEFECE\" filter=\"url(#fczn5j2p4tb6o)\" height=\"33.9688\" rx=\"12.5\" ry=\"12.5\" style=\"stroke: #A80036; stroke-width: 1.5;\" width=\"79\" x=\"142.5\" y=\"222\"/><text fill=\"#000000\" font-family=\"sans-serif\" font-size=\"12\" lengthAdjust=\"spacingAndGlyphs\" textLength=\"59\" x=\"152.5\" y=\"243.1387\">Should it?</text><polygon fill=\"#FEFECE\" filter=\"url(#fczn5j2p4tb6o)\" points=\"172,297,184,309,172,321,160,309,172,297\" style=\"stroke: #A80036; stroke-width: 1.5;\"/><rect fill=\"#FEFECE\" filter=\"url(#fczn5j2p4tb6o)\" height=\"33.9688\" rx=\"12.5\" ry=\"12.5\" style=\"stroke: #A80036; stroke-width: 1.5;\" width=\"92\" x=\"6\" y=\"375\"/><text fill=\"#000000\" font-family=\"sans-serif\" font-size=\"12\" lengthAdjust=\"spacingAndGlyphs\" textLength=\"72\" x=\"16\" y=\"396.1387\">No problem</text><ellipse cx=\"231\" cy=\"460\" fill=\"none\" filter=\"url(#fczn5j2p4tb6o)\" rx=\"10\" ry=\"10\" style=\"stroke: #000000; stroke-width: 1.0;\"/><ellipse cx=\"231.5\" cy=\"460.5\" fill=\"#000000\" rx=\"6\" ry=\"6\" style=\"stroke: none; stroke-width: 1.0;\"/><rect fill=\"#FEFECE\" filter=\"url(#fczn5j2p4tb6o)\" height=\"33.9688\" rx=\"12.5\" ry=\"12.5\" style=\"stroke: #A80036; stroke-width: 1.5;\" width=\"108\" x=\"118\" y=\"375\"/><text fill=\"#000000\" font-family=\"sans-serif\" font-size=\"12\" lengthAdjust=\"spacingAndGlyphs\" textLength=\"88\" x=\"128\" y=\"396.1387\">Use duct tape</text><rect fill=\"#FEFECE\" filter=\"url(#fczn5j2p4tb6o)\" height=\"33.9688\" rx=\"12.5\" ry=\"12.5\" style=\"stroke: #A80036; stroke-width: 1.5;\" width=\"79\" x=\"245.5\" y=\"222\"/><text fill=\"#000000\" font-family=\"sans-serif\" font-size=\"12\" lengthAdjust=\"spacingAndGlyphs\" textLength=\"59\" x=\"255.5\" y=\"243.1387\">Should it?</text><polygon fill=\"#FEFECE\" filter=\"url(#fczn5j2p4tb6o)\" points=\"291,297,303,309,291,321,279,309,291,297\" style=\"stroke: #A80036; stroke-width: 1.5;\"/><rect fill=\"#FEFECE\" filter=\"url(#fczn5j2p4tb6o)\" height=\"33.9688\" rx=\"12.5\" ry=\"12.5\" style=\"stroke: #A80036; stroke-width: 1.5;\" width=\"90\" x=\"246\" y=\"375\"/><text fill=\"#000000\" font-family=\"sans-serif\" font-size=\"12\" lengthAdjust=\"spacingAndGlyphs\" textLength=\"70\" x=\"256\" y=\"396.1387\">Use WD-40</text><rect fill=\"#FEFECE\" filter=\"url(#fczn5j2p4tb6o)\" height=\"33.9688\" rx=\"12.5\" ry=\"12.5\" style=\"stroke: #A80036; stroke-width: 1.5;\" width=\"92\" x=\"356\" y=\"375\"/><text fill=\"#000000\" font-family=\"sans-serif\" font-size=\"12\" lengthAdjust=\"spacingAndGlyphs\" textLength=\"72\" x=\"366\" y=\"396.1387\">No problem</text><!--MD5=[e7ed48d10a9cd7aa3f6b4c47cda68554]\n",
       "link start to Does it move?--><path d=\"M241,28.177 C241,37.269 241,51.527 241,63.485 \" fill=\"none\" id=\"start-&gt;Does it move?\" style=\"stroke: #A80036; stroke-width: 1.0;\"/><polygon fill=\"#A80036\" points=\"241,68.791,245,59.791,241,63.791,237,59.791,241,68.791\" style=\"stroke: #A80036; stroke-width: 1.0;\"/><!--MD5=[3e0d1974ccdd859bdc22caba9f30cbe7]\n",
       "link Does it move? to #104207--><path d=\"M241,103.115 C241,113.916 241,128.082 241,138.883 \" fill=\"none\" id=\"Does it move?-&gt;#104207\" style=\"stroke: #A80036; stroke-width: 1.0;\"/><polygon fill=\"#A80036\" points=\"241,143.885,245,134.885,241,138.885,237,134.885,241,143.885\" style=\"stroke: #A80036; stroke-width: 1.0;\"/><text fill=\"#000000\" font-family=\"sans-serif\" font-size=\"11\" lengthAdjust=\"spacingAndGlyphs\" textLength=\"0\" x=\"240.025\" y=\"133.4605\"/><!--MD5=[f26dbe56ecbf2ef9580c2504b675fd24]\n",
       "link #104207 to s1--><path d=\"M236.172,163.629 C227.698,175.262 209.824,199.8 196.921,217.515 \" fill=\"none\" id=\"#104207-&gt;s1\" style=\"stroke: #A80036; stroke-width: 1.0;\"/><polygon fill=\"#A80036\" points=\"193.757,221.859,202.2895,216.9401,196.7012,217.8177,195.8235,212.2294,193.757,221.859\" style=\"stroke: #A80036; stroke-width: 1.0;\"/><text fill=\"#000000\" font-family=\"sans-serif\" font-size=\"11\" lengthAdjust=\"spacingAndGlyphs\" textLength=\"22\" x=\"218\" y=\"199.2104\">yes</text><!--MD5=[3d9df753c04a43659f90f06cd08958f6]\n",
       "link s1 to #104212--><path d=\"M179.63,256.115 C177.982,267.321 175.802,282.149 174.194,293.083 \" fill=\"none\" id=\"s1-&gt;#104212\" style=\"stroke: #A80036; stroke-width: 1.0;\"/><polygon fill=\"#A80036\" points=\"173.455,298.105,178.7213,289.7823,174.1821,293.1581,170.8063,288.619,173.455,298.105\" style=\"stroke: #A80036; stroke-width: 1.0;\"/><text fill=\"#000000\" font-family=\"sans-serif\" font-size=\"11\" lengthAdjust=\"spacingAndGlyphs\" textLength=\"0\" x=\"173.1212\" y=\"286.2137\"/><!--MD5=[e8ef259f21b1d6a6658f5dad675bc4fc]\n",
       "link #104212 to np1--><path d=\"M165.204,314.587 C149.203,325.388 108.395,352.933 80.4112,371.8224 \" fill=\"none\" id=\"#104212-&gt;np1\" style=\"stroke: #A80036; stroke-width: 1.0;\"/><polygon fill=\"#A80036\" points=\"76.0359,374.7758,85.7334,373.0559,80.1801,371.9784,81.2576,366.4251,76.0359,374.7758\" style=\"stroke: #A80036; stroke-width: 1.0;\"/><text fill=\"#000000\" font-family=\"sans-serif\" font-size=\"11\" lengthAdjust=\"spacingAndGlyphs\" textLength=\"22\" x=\"124\" y=\"352.2104\">yes</text><!--MD5=[f5247e1bef58200e6682b87747d73064]\n",
       "link np1 to end--><path d=\"M95.7883,409.1454 C135.378,423.7426 191.278,444.3541 217.024,453.8468 \" fill=\"none\" id=\"np1-&gt;end\" style=\"stroke: #A80036; stroke-width: 1.0;\"/><polygon fill=\"#A80036\" points=\"221.757,455.592,214.6968,448.7251,217.0658,453.862,211.9289,456.231,221.757,455.592\" style=\"stroke: #A80036; stroke-width: 1.0;\"/><!--MD5=[4ab0b330e946930a046d619796d17339]\n",
       "link #104212 to tape--><path d=\"M172,321.263 C172,333.76 172,354.211 172,369.743 \" fill=\"none\" id=\"#104212-&gt;tape\" style=\"stroke: #A80036; stroke-width: 1.0;\"/><polygon fill=\"#A80036\" points=\"172,374.8031,176,365.8031,172,369.8031,168,365.8031,172,374.8031\" style=\"stroke: #A80036; stroke-width: 1.0;\"/><text fill=\"#000000\" font-family=\"sans-serif\" font-size=\"11\" lengthAdjust=\"spacingAndGlyphs\" textLength=\"14\" x=\"173\" y=\"352.2104\">no</text><!--MD5=[f79d8c86c6f5db5bda816063e1197f28]\n",
       "link tape to end--><path d=\"M186.584,409.3146 C197.429,421.4464 211.924,437.661 221.359,448.2154 \" fill=\"none\" id=\"tape-&gt;end\" style=\"stroke: #A80036; stroke-width: 1.0;\"/><polygon fill=\"#A80036\" points=\"224.829,452.0965,221.8123,442.721,221.4964,448.369,215.8484,448.0531,224.829,452.0965\" style=\"stroke: #A80036; stroke-width: 1.0;\"/><!--MD5=[76deec6dd4c044756f8c4470bb8fabee]\n",
       "link #104207 to s2--><path d=\"M244.905,164.188 C251.287,175.938 264.19,199.69 273.641,217.089 \" fill=\"none\" id=\"#104207-&gt;s2\" style=\"stroke: #A80036; stroke-width: 1.0;\"/><polygon fill=\"#A80036\" points=\"276.207,221.812,275.4257,211.9942,273.8202,217.4184,268.396,215.813,276.207,221.812\" style=\"stroke: #A80036; stroke-width: 1.0;\"/><text fill=\"#000000\" font-family=\"sans-serif\" font-size=\"11\" lengthAdjust=\"spacingAndGlyphs\" textLength=\"14\" x=\"265\" y=\"199.2104\">no</text><!--MD5=[47530f5ad7bee7d0a40931adc634568a]\n",
       "link s2 to #104224--><path d=\"M286.422,256.115 C287.399,267.186 288.688,281.792 289.649,292.687 \" fill=\"none\" id=\"s2-&gt;#104224\" style=\"stroke: #A80036; stroke-width: 1.0;\"/><polygon fill=\"#A80036\" points=\"290.092,297.705,293.2844,288.3879,289.6519,292.7244,285.3154,289.092,290.092,297.705\" style=\"stroke: #A80036; stroke-width: 1.0;\"/><text fill=\"#000000\" font-family=\"sans-serif\" font-size=\"11\" lengthAdjust=\"spacingAndGlyphs\" textLength=\"0\" x=\"288.4562\" y=\"286.4133\"/><!--MD5=[0acc3f23ef72a1fcbacdc3fa53c06b60]\n",
       "link #104224 to wd40--><path d=\"M291,321.263 C291,333.76 291,354.211 291,369.743 \" fill=\"none\" id=\"#104224-&gt;wd40\" style=\"stroke: #A80036; stroke-width: 1.0;\"/><polygon fill=\"#A80036\" points=\"291,374.8031,295,365.8031,291,369.8031,287,365.8031,291,374.8031\" style=\"stroke: #A80036; stroke-width: 1.0;\"/><text fill=\"#000000\" font-family=\"sans-serif\" font-size=\"11\" lengthAdjust=\"spacingAndGlyphs\" textLength=\"22\" x=\"292\" y=\"352.2104\">yes</text><!--MD5=[1e316a4ccf22d4f94bfed4849ecd110d]\n",
       "link wd40 to end--><path d=\"M276.169,409.3146 C265.14,421.4464 250.399,437.661 240.804,448.2154 \" fill=\"none\" id=\"wd40-&gt;end\" style=\"stroke: #A80036; stroke-width: 1.0;\"/><polygon fill=\"#A80036\" points=\"237.276,452.0965,246.2897,448.1275,240.6393,448.3967,240.37,442.7463,237.276,452.0965\" style=\"stroke: #A80036; stroke-width: 1.0;\"/><!--MD5=[dff2ca012d4b0dca70515fdadbb82b46]\n",
       "link #104224 to np2--><path d=\"M297.611,314.824 C312.612,325.771 349.915,352.992 375.609,371.742 \" fill=\"none\" id=\"#104224-&gt;np2\" style=\"stroke: #A80036; stroke-width: 1.0;\"/><polygon fill=\"#A80036\" points=\"379.946,374.9062,375.0334,366.37,375.9069,371.959,370.3179,372.8325,379.946,374.9062\" style=\"stroke: #A80036; stroke-width: 1.0;\"/><text fill=\"#000000\" font-family=\"sans-serif\" font-size=\"11\" lengthAdjust=\"spacingAndGlyphs\" textLength=\"14\" x=\"350\" y=\"352.2104\">no</text><!--MD5=[48124b065d092d61205157ba2a879151]\n",
       "link np2 to end--><path d=\"M360.169,409.1454 C322.691,423.6105 269.911,443.9816 245.026,453.5864 \" fill=\"none\" id=\"np2-&gt;end\" style=\"stroke: #A80036; stroke-width: 1.0;\"/><polygon fill=\"#A80036\" points=\"240.155,455.4665,249.9917,455.9556,244.8193,453.6652,247.1096,448.4927,240.155,455.4665\" style=\"stroke: #A80036; stroke-width: 1.0;\"/><!--MD5=[85c16f4c090216f0e007657c3d71b63c]\n",
       "@startuml\n",
       "(*) - -> \"Does it move?\"\n",
       " \n",
       "if \"\" then\n",
       "- -> [yes] \"Should it?\" as s1\n",
       "if \"\" then\n",
       "- -> [yes] \"No problem\" as np1\n",
       "np1 - -> (*)\n",
       "else\n",
       "- -> [no] \"Use duct tape\" as tape\n",
       "tape - -> (*)\n",
       "endif\n",
       " \n",
       "else\n",
       "- -> [no] \"Should it?\" as s2\n",
       "if \"\" then\n",
       "- -> [yes] \"Use WD-40\" as wd40\n",
       "wd40 - -> (*)\n",
       "else\n",
       "- -> [no] \"No problem\" as np2\n",
       "np2 - -> (*)\n",
       "endif\n",
       " \n",
       "endif\n",
       "@enduml\n",
       "\n",
       "PlantUML version 1.2020.09beta3(Unknown compile time)\n",
       "(GPL source distribution)\n",
       "Java Runtime: Java(TM) SE Runtime Environment\n",
       "JVM: Java HotSpot(TM) 64-Bit Server VM\n",
       "Java Version: 14.0.1+7\n",
       "Operating System: Linux\n",
       "Default Encoding: UTF-8\n",
       "Language: en\n",
       "Country: US\n",
       "--></g></svg>"
      ],
      "text/plain": [
       "<IPython.core.display.SVG object>"
      ]
     },
     "execution_count": 13,
     "metadata": {},
     "output_type": "execute_result"
    }
   ],
   "source": [
    "%%plantuml\n",
    "\n",
    "@startuml\n",
    "(*) --> \"Does it move?\"\n",
    " \n",
    "if \"\" then\n",
    "--> [yes] \"Should it?\" as s1\n",
    "if \"\" then\n",
    "--> [yes] \"No problem\" as np1\n",
    "np1 --> (*)\n",
    "else\n",
    "--> [no] \"Use duct tape\" as tape\n",
    "tape --> (*)\n",
    "endif\n",
    " \n",
    "else\n",
    "--> [no] \"Should it?\" as s2\n",
    "if \"\" then\n",
    "--> [yes] \"Use WD-40\" as wd40\n",
    "wd40 --> (*)\n",
    "else\n",
    "--> [no] \"No problem\" as np2\n",
    "np2 --> (*)\n",
    "endif\n",
    " \n",
    "endif\n",
    " \n",
    "@enduml"
   ]
  }
 ],
 "metadata": {
  "kernelspec": {
   "display_name": "Python 3",
   "language": "python",
   "name": "python3"
  },
  "language_info": {
   "codemirror_mode": {
    "name": "ipython",
    "version": 3
   },
   "file_extension": ".py",
   "mimetype": "text/x-python",
   "name": "python",
   "nbconvert_exporter": "python",
   "pygments_lexer": "ipython3",
   "version": "3.6.6"
  }
 },
 "nbformat": 4,
 "nbformat_minor": 2
}
