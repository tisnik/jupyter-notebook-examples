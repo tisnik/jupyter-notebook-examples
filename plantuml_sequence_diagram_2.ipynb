{
 "cells": [
  {
   "cell_type": "code",
   "execution_count": 7,
   "metadata": {},
   "outputs": [],
   "source": [
    "import iplantuml"
   ]
  },
  {
   "cell_type": "code",
   "execution_count": 31,
   "metadata": {},
   "outputs": [
    {
     "data": {
      "image/svg+xml": [
       "<svg contentScriptType=\"application/ecmascript\" contentStyleType=\"text/css\" height=\"445px\" preserveAspectRatio=\"none\" style=\"width:705px;height:445px;\" version=\"1.1\" viewBox=\"0 0 705 445\" width=\"705px\" xmlns=\"http://www.w3.org/2000/svg\" xmlns:xlink=\"http://www.w3.org/1999/xlink\" zoomAndPan=\"magnify\"><defs><filter height=\"300%\" id=\"fy8pk1hxe1tzl\" width=\"300%\" x=\"-1\" y=\"-1\"><feGaussianBlur result=\"blurOut\" stdDeviation=\"2.0\"/><feColorMatrix in=\"blurOut\" result=\"blurOut2\" type=\"matrix\" values=\"0 0 0 0 0 0 0 0 0 0 0 0 0 0 0 0 0 0 .4 0\"/><feOffset dx=\"4.0\" dy=\"4.0\" in=\"blurOut2\" result=\"blurOut3\"/><feBlend in=\"SourceGraphic\" in2=\"blurOut3\" mode=\"normal\"/></filter></defs><g><text fill=\"#000000\" font-family=\"sans-serif\" font-size=\"18\" lengthAdjust=\"spacingAndGlyphs\" textLength=\"171\" x=\"268\" y=\"26.708\">Data pipeline flow</text><rect fill=\"#ADD8E6\" height=\"389.0234\" style=\"stroke: #A80036; stroke-width: 1.0;\" width=\"402.5\" x=\"189\" y=\"38.9531\"/><text fill=\"#000000\" font-family=\"sans-serif\" font-size=\"13\" font-weight=\"bold\" lengthAdjust=\"spacingAndGlyphs\" textLength=\"99\" x=\"340.75\" y=\"51.02\">Data pipeline</text><line style=\"stroke: #A80036; stroke-width: 1.0; stroke-dasharray: 5.0,5.0;\" x1=\"30\" x2=\"30\" y1=\"106.3828\" y2=\"433.9766\"/><line style=\"stroke: #A80036; stroke-width: 1.0; stroke-dasharray: 5.0,5.0;\" x1=\"80\" x2=\"80\" y1=\"106.3828\" y2=\"433.9766\"/><line style=\"stroke: #A80036; stroke-width: 1.0; stroke-dasharray: 5.0,5.0;\" x1=\"231\" x2=\"231\" y1=\"106.3828\" y2=\"433.9766\"/><line style=\"stroke: #A80036; stroke-width: 1.0; stroke-dasharray: 5.0,5.0;\" x1=\"388.5\" x2=\"388.5\" y1=\"106.3828\" y2=\"433.9766\"/><line style=\"stroke: #A80036; stroke-width: 1.0; stroke-dasharray: 5.0,5.0;\" x1=\"476.5\" x2=\"476.5\" y1=\"106.3828\" y2=\"433.9766\"/><line style=\"stroke: #A80036; stroke-width: 1.0; stroke-dasharray: 5.0,5.0;\" x1=\"553.5\" x2=\"553.5\" y1=\"106.3828\" y2=\"433.9766\"/><line style=\"stroke: #A80036; stroke-width: 1.0; stroke-dasharray: 5.0,5.0;\" x1=\"672\" x2=\"672\" y1=\"106.3828\" y2=\"433.9766\"/><text fill=\"#000000\" font-family=\"sans-serif\" font-size=\"14\" lengthAdjust=\"spacingAndGlyphs\" textLength=\"38\" x=\"8\" y=\"86.7842\">Kafka</text><text fill=\"#000000\" font-family=\"sans-serif\" font-size=\"14\" lengthAdjust=\"spacingAndGlyphs\" textLength=\"35\" x=\"9.5\" y=\"103.0811\">input</text><ellipse cx=\"30\" cy=\"57.7891\" fill=\"#99FF99\" filter=\"url(#fy8pk1hxe1tzl)\" rx=\"12\" ry=\"12\" style=\"stroke: #A80036; stroke-width: 2.0;\"/><line style=\"stroke: #A80036; stroke-width: 2.0;\" x1=\"18\" x2=\"42\" y1=\"71.7891\" y2=\"71.7891\"/><text fill=\"#000000\" font-family=\"sans-serif\" font-size=\"14\" lengthAdjust=\"spacingAndGlyphs\" textLength=\"17\" x=\"68.5\" y=\"103.0811\">S3</text><path d=\"M62,54.0859 C62,44.0859 80,44.0859 80,44.0859 C80,44.0859 98,44.0859 98,54.0859 L98,80.0859 C98,90.0859 80,90.0859 80,90.0859 C80,90.0859 62,90.0859 62,80.0859 L62,54.0859 \" fill=\"#FEFECE\" filter=\"url(#fy8pk1hxe1tzl)\" style=\"stroke: #000000; stroke-width: 1.5;\"/><path d=\"M62,54.0859 C62,64.0859 80,64.0859 80,64.0859 C80,64.0859 98,64.0859 98,54.0859 \" fill=\"none\" style=\"stroke: #000000; stroke-width: 1.5;\"/><text fill=\"#000000\" font-family=\"sans-serif\" font-size=\"14\" lengthAdjust=\"spacingAndGlyphs\" textLength=\"70\" x=\"193\" y=\"103.0811\">Consumer</text><ellipse cx=\"231\" cy=\"74.0859\" fill=\"#FEFECE\" filter=\"url(#fy8pk1hxe1tzl)\" rx=\"12\" ry=\"12\" style=\"stroke: #A80036; stroke-width: 2.0;\"/><polygon fill=\"#A80036\" points=\"227,62.0859,233,57.0859,231,62.0859,233,67.0859,227,62.0859\" style=\"stroke: #A80036; stroke-width: 1.0;\"/><text fill=\"#000000\" font-family=\"sans-serif\" font-size=\"14\" lengthAdjust=\"spacingAndGlyphs\" textLength=\"81\" x=\"345.5\" y=\"103.0811\">Downloader</text><ellipse cx=\"389\" cy=\"74.0859\" fill=\"#FEFECE\" filter=\"url(#fy8pk1hxe1tzl)\" rx=\"12\" ry=\"12\" style=\"stroke: #A80036; stroke-width: 2.0;\"/><polygon fill=\"#A80036\" points=\"385,62.0859,391,57.0859,389,62.0859,391,67.0859,385,62.0859\" style=\"stroke: #A80036; stroke-width: 1.0;\"/><text fill=\"#000000\" font-family=\"sans-serif\" font-size=\"14\" lengthAdjust=\"spacingAndGlyphs\" textLength=\"62\" x=\"442.5\" y=\"103.0811\">Executor</text><ellipse cx=\"476.5\" cy=\"74.0859\" fill=\"#FEFECE\" filter=\"url(#fy8pk1hxe1tzl)\" rx=\"12\" ry=\"12\" style=\"stroke: #A80036; stroke-width: 2.0;\"/><polygon fill=\"#A80036\" points=\"472.5,62.0859,478.5,57.0859,476.5,62.0859,478.5,67.0859,472.5,62.0859\" style=\"stroke: #A80036; stroke-width: 1.0;\"/><text fill=\"#000000\" font-family=\"sans-serif\" font-size=\"14\" lengthAdjust=\"spacingAndGlyphs\" textLength=\"61\" x=\"520.5\" y=\"103.0811\">Producer</text><ellipse cx=\"554\" cy=\"74.0859\" fill=\"#FEFECE\" filter=\"url(#fy8pk1hxe1tzl)\" rx=\"12\" ry=\"12\" style=\"stroke: #A80036; stroke-width: 2.0;\"/><polygon fill=\"#A80036\" points=\"550,62.0859,556,57.0859,554,62.0859,556,67.0859,550,62.0859\" style=\"stroke: #A80036; stroke-width: 1.0;\"/><text fill=\"#000000\" font-family=\"sans-serif\" font-size=\"14\" lengthAdjust=\"spacingAndGlyphs\" textLength=\"38\" x=\"650\" y=\"86.7842\">Kafka</text><text fill=\"#000000\" font-family=\"sans-serif\" font-size=\"14\" lengthAdjust=\"spacingAndGlyphs\" textLength=\"48\" x=\"645\" y=\"103.0811\">results</text><ellipse cx=\"672\" cy=\"57.7891\" fill=\"#CCCCFF\" filter=\"url(#fy8pk1hxe1tzl)\" rx=\"12\" ry=\"12\" style=\"stroke: #A80036; stroke-width: 2.0;\"/><line style=\"stroke: #A80036; stroke-width: 2.0;\" x1=\"660\" x2=\"684\" y1=\"71.7891\" y2=\"71.7891\"/><polygon fill=\"#A80036\" points=\"219,133.5156,229,137.5156,219,141.5156,223,137.5156\" style=\"stroke: #A80036; stroke-width: 1.0;\"/><line style=\"stroke: #A80036; stroke-width: 1.0; stroke-dasharray: 2.0,2.0;\" x1=\"30\" x2=\"225\" y1=\"137.5156\" y2=\"137.5156\"/><text fill=\"#000000\" font-family=\"sans-serif\" font-size=\"13\" lengthAdjust=\"spacingAndGlyphs\" textLength=\"177\" x=\"37\" y=\"132.4497\">Notification about new data</text><polygon fill=\"#A80036\" points=\"377,162.6484,387,166.6484,377,170.6484,381,166.6484\" style=\"stroke: #A80036; stroke-width: 1.0;\"/><line style=\"stroke: #A80036; stroke-width: 1.0; stroke-dasharray: 2.0,2.0;\" x1=\"231\" x2=\"383\" y1=\"166.6484\" y2=\"166.6484\"/><text fill=\"#000000\" font-family=\"sans-serif\" font-size=\"13\" lengthAdjust=\"spacingAndGlyphs\" textLength=\"97\" x=\"238\" y=\"161.5825\">Download data</text><polygon fill=\"#A80036\" points=\"91,191.7813,81,195.7813,91,199.7813,87,195.7813\" style=\"stroke: #A80036; stroke-width: 1.0;\"/><line style=\"stroke: #A80036; stroke-width: 1.0; stroke-dasharray: 2.0,2.0;\" x1=\"85\" x2=\"388\" y1=\"195.7813\" y2=\"195.7813\"/><text fill=\"#000000\" font-family=\"sans-serif\" font-size=\"13\" lengthAdjust=\"spacingAndGlyphs\" textLength=\"170\" x=\"97\" y=\"190.7153\">Read data from S3 bucket</text><polygon fill=\"#A80036\" points=\"377,220.9141,387,224.9141,377,228.9141,381,224.9141\" style=\"stroke: #A80036; stroke-width: 1.0;\"/><line style=\"stroke: #A80036; stroke-width: 1.0; stroke-dasharray: 2.0,2.0;\" x1=\"80\" x2=\"383\" y1=\"224.9141\" y2=\"224.9141\"/><text fill=\"#000000\" font-family=\"sans-serif\" font-size=\"13\" lengthAdjust=\"spacingAndGlyphs\" textLength=\"134\" x=\"87\" y=\"219.8481\">Here's required data</text><polygon fill=\"#A80036\" points=\"242,250.0469,232,254.0469,242,258.0469,238,254.0469\" style=\"stroke: #A80036; stroke-width: 1.0;\"/><line style=\"stroke: #A80036; stroke-width: 1.0; stroke-dasharray: 2.0,2.0;\" x1=\"236\" x2=\"388\" y1=\"254.0469\" y2=\"254.0469\"/><text fill=\"#000000\" font-family=\"sans-serif\" font-size=\"13\" lengthAdjust=\"spacingAndGlyphs\" textLength=\"134\" x=\"248\" y=\"248.981\">Here's required data</text><polygon fill=\"#A80036\" points=\"464.5,279.1797,474.5,283.1797,464.5,287.1797,468.5,283.1797\" style=\"stroke: #A80036; stroke-width: 1.0;\"/><line style=\"stroke: #A80036; stroke-width: 1.0; stroke-dasharray: 2.0,2.0;\" x1=\"231\" x2=\"470.5\" y1=\"283.1797\" y2=\"283.1797\"/><text fill=\"#000000\" font-family=\"sans-serif\" font-size=\"13\" lengthAdjust=\"spacingAndGlyphs\" textLength=\"88\" x=\"238\" y=\"278.1138\">Run executor</text><polygon fill=\"#A80036\" points=\"242,308.3125,232,312.3125,242,316.3125,238,312.3125\" style=\"stroke: #A80036; stroke-width: 1.0;\"/><line style=\"stroke: #A80036; stroke-width: 1.0; stroke-dasharray: 2.0,2.0;\" x1=\"236\" x2=\"475.5\" y1=\"312.3125\" y2=\"312.3125\"/><text fill=\"#000000\" font-family=\"sans-serif\" font-size=\"13\" lengthAdjust=\"spacingAndGlyphs\" textLength=\"88\" x=\"248\" y=\"307.2466\">Return report</text><polygon fill=\"#A80036\" points=\"542,352.5781,552,356.5781,542,360.5781,546,356.5781\" style=\"stroke: #A80036; stroke-width: 1.0;\"/><line style=\"stroke: #A80036; stroke-width: 1.0; stroke-dasharray: 2.0,2.0;\" x1=\"231\" x2=\"548\" y1=\"356.5781\" y2=\"356.5781\"/><text fill=\"#000000\" font-family=\"sans-serif\" font-size=\"13\" lengthAdjust=\"spacingAndGlyphs\" textLength=\"48\" x=\"238\" y=\"336.3794\">Results</text><text fill=\"#000000\" font-family=\"sans-serif\" font-size=\"13\" lengthAdjust=\"spacingAndGlyphs\" textLength=\"94\" x=\"238\" y=\"351.5122\">in JSON format</text><polygon fill=\"#A80036\" points=\"660,411.9766,670,415.9766,660,419.9766,664,415.9766\" style=\"stroke: #A80036; stroke-width: 1.0;\"/><line style=\"stroke: #A80036; stroke-width: 1.0; stroke-dasharray: 2.0,2.0;\" x1=\"554\" x2=\"666\" y1=\"415.9766\" y2=\"415.9766\"/><text fill=\"#000000\" font-family=\"sans-serif\" font-size=\"13\" lengthAdjust=\"spacingAndGlyphs\" textLength=\"45\" x=\"561\" y=\"380.645\">Publish</text><text fill=\"#000000\" font-family=\"sans-serif\" font-size=\"13\" lengthAdjust=\"spacingAndGlyphs\" textLength=\"44\" x=\"561\" y=\"395.7778\">results</text><text fill=\"#000000\" font-family=\"sans-serif\" font-size=\"13\" lengthAdjust=\"spacingAndGlyphs\" textLength=\"94\" x=\"561\" y=\"410.9106\">in JSON format</text><!--MD5=[d756d691200cf49c191981c515b59e2d]\n",
       "@startuml\n",
       "hide footbox\n",
       "title Data pipeline flow\n",
       "\n",
       "entity \"Kafka\\ninput\" as kafka1 #99ff99\n",
       "database S3\n",
       "box \"Data pipeline\" #LightBlue\n",
       "    control Consumer\n",
       "    control Downloader\n",
       "    control Executor\n",
       "    control Producer\n",
       "end box\n",
       "entity \"Kafka\\nresults\" as kafka2 #ccccff\n",
       "\n",
       "kafka1 - -> Consumer : Notification about new data\n",
       "Consumer - -> Downloader : Download data\n",
       "Downloader - -> S3 : Read data from S3 bucket\n",
       "S3 - -> Downloader : Here's required data\n",
       "Downloader - -> Consumer : Here's required data\n",
       "Consumer - -> Executor : Run executor\n",
       "Executor - -> Consumer : Return report\n",
       "Consumer - -> Producer : Results\\nin JSON format\n",
       "Producer - -> kafka2 : Publish\\nresults\\nin JSON format\n",
       "@enduml\n",
       "\n",
       "PlantUML version 1.2020.09beta3(Unknown compile time)\n",
       "(GPL source distribution)\n",
       "Java Runtime: Java(TM) SE Runtime Environment\n",
       "JVM: Java HotSpot(TM) 64-Bit Server VM\n",
       "Java Version: 14.0.1+7\n",
       "Operating System: Linux\n",
       "Default Encoding: UTF-8\n",
       "Language: en\n",
       "Country: US\n",
       "--></g></svg>"
      ],
      "text/plain": [
       "<IPython.core.display.SVG object>"
      ]
     },
     "execution_count": 31,
     "metadata": {},
     "output_type": "execute_result"
    }
   ],
   "source": [
    "%%plantuml\n",
    "\n",
    "@startuml\n",
    "hide footbox\n",
    "title Data pipeline flow\n",
    "\n",
    "entity \"Kafka\\ninput\" as kafka1 #99ff99\n",
    "database S3\n",
    "box \"Data pipeline\" #LightBlue\n",
    "    control Consumer\n",
    "    control Downloader\n",
    "    control Executor\n",
    "    control Producer\n",
    "end box\n",
    "entity \"Kafka\\nresults\" as kafka2 #ccccff\n",
    "\n",
    "kafka1 --> Consumer : Notification about new data\n",
    "Consumer --> Downloader : Download data\n",
    "Downloader --> S3 : Read data from S3 bucket\n",
    "S3 --> Downloader : Here's required data\n",
    "Downloader --> Consumer : Here's required data\n",
    "Consumer --> Executor : Run executor\n",
    "Executor --> Consumer : Return report\n",
    "Consumer --> Producer : Results\\nin JSON format\n",
    "Producer --> kafka2 : Publish\\nresults\\nin JSON format\n",
    "\n",
    "@enduml"
   ]
  },
  {
   "cell_type": "code",
   "execution_count": null,
   "metadata": {},
   "outputs": [],
   "source": []
  }
 ],
 "metadata": {
  "kernelspec": {
   "display_name": "Python 3",
   "language": "python",
   "name": "python3"
  },
  "language_info": {
   "codemirror_mode": {
    "name": "ipython",
    "version": 3
   },
   "file_extension": ".py",
   "mimetype": "text/x-python",
   "name": "python",
   "nbconvert_exporter": "python",
   "pygments_lexer": "ipython3",
   "version": "3.6.6"
  }
 },
 "nbformat": 4,
 "nbformat_minor": 2
}
