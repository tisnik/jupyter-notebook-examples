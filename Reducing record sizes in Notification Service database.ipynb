{
 "cells": [
  {
   "cell_type": "markdown",
   "metadata": {},
   "source": [
    "# Reducing record sizes in Notification Service database\n",
    "\n",
    "## Rationale\n",
    "\n",
    "* Notification service database stores all Insights results for all clusters for the whole previous week\n",
    "* It is different from CCX data pipeline, where just **latest** versions are stored\n",
    "* So it is advisable to shrink record size by deleting data that are not required by Notification Service\n",
    "\n",
    "## Storage demands\n",
    "\n",
    "* CCX data pipeline: #of records in database == #of clusters\n",
    "* Notification Service: # of records in database == 7 × 24 / 2 × #of clusters\n",
    "\n",
    "## Typical record produced by OCP rules engine\n",
    "\n",
    "* Circa 11kB of size (and it will be more with increasing number of external rules)\n",
    "* Pretty printed JSON\n",
    "* Contains many irrelevant parts (for Notification service)\n",
    "\n",
    "## Irrelevant parts\n",
    "\n",
    "* Whole `system` node\n",
    "* Whole `fingerprints` node\n",
    "* Whole `skips` node\n",
    "* Whole `info` node\"\n",
    "* Whole `pass` node\n",
    "* For any rule hit:\n",
    "    - `type` subnode\n",
    "    - `tags` subnode\n",
    "    - `links`\n",
    "\n",
    "## Further improvements\n",
    "\n",
    "* Minification of JSON\n",
    "    - no pretty printing\n",
    "    - no whitespaces around separators"
   ]
  },
  {
   "cell_type": "markdown",
   "metadata": {},
   "source": [
    "## Proof of concept"
   ]
  },
  {
   "cell_type": "code",
   "execution_count": null,
   "metadata": {},
   "outputs": [],
   "source": [
    "#!/usr/bin/python\n",
    "# vim: set fileencoding=utf-8\n",
    "\n",
    "import json\n",
    "import sys\n",
    "import csv\n",
    "\n",
    "from os import listdir, stat, walk\n",
    "from os.path import isfile, join\n",
    "\n",
    "input_directory = \"input\"\n",
    "pretty_printed_directory = \"prettyprinted\"\n",
    "minified_directory = \"minified\"\n",
    "\n",
    "\n",
    "# Retrieve list of files in current directory.\n",
    "input_files = [f for f in listdir(input_directory)\n",
    "               if isfile(join(input_directory, f))]\n",
    "\n",
    "# Iterate over all input files found in current directory.\n",
    "for filename in input_files:\n",
    "    print(\"Processing input file\", filename)\n",
    "\n",
    "    # Just proper JSON files needs to be processed.\n",
    "    if filename.endswith(\".json\"):\n",
    "        # Try to open the given file, read its content, parse it as JSON and\n",
    "        # use the processed payload later\n",
    "        with open(join(input_directory, filename)) as fin:\n",
    "            data = json.load(fin)\n",
    "\n",
    "            # Delete unused data\n",
    "            if \"Report\" in data:\n",
    "                del data[\"Report\"][\"system\"]\n",
    "                del data[\"Report\"][\"fingerprints\"]\n",
    "                del data[\"Report\"][\"skips\"]\n",
    "                del data[\"Report\"][\"info\"]\n",
    "                if \"pass\" in data[\"Report\"]:\n",
    "                    del data[\"Report\"][\"pass\"]\n",
    "                for report in data[\"Report\"][\"reports\"]:\n",
    "                    del report[\"type\"]\n",
    "                    del report[\"tags\"]\n",
    "                    del report[\"links\"]\n",
    "\n",
    "            # Export the updated report in pretty printed format\n",
    "            outfilename = join(pretty_printed_directory, filename)\n",
    "            with open(outfilename, \"w\") as fout:\n",
    "                json.dump(data, fout, indent=4)\n",
    "\n",
    "            # Export the updated report in minified format\n",
    "            outfilename = join(minified_directory, filename)\n",
    "            with open(outfilename, \"w\") as fout:\n",
    "                json.dump(data, fout, separators=(',', ':'))\n",
    "\n",
    "# Statistic\n",
    "\n",
    "\n",
    "def file_size(filename):\n",
    "    info = stat(filename)\n",
    "    return info.st_size\n",
    "\n",
    "\n",
    "with open(\"record_sizes.csv\", \"w\") as csvfile:\n",
    "    writer = csv.writer(csvfile, delimiter=',')\n",
    "    writer.writerow([\"Filename\", \"Original\", \"Cleaned up\", \"Minified\",\n",
    "                     \"Shrinked (%)\"])\n",
    "\n",
    "    for filename in input_files:\n",
    "        s1 = file_size(join(input_directory, filename))\n",
    "        s2 = file_size(join(pretty_printed_directory, filename))\n",
    "        s3 = file_size(join(minified_directory, filename))\n",
    "        writer.writerow([filename, s1, s2, s3, int(100.0*s3/s1)])"
   ]
  },
  {
   "cell_type": "markdown",
   "metadata": {},
   "source": [
    "## Results"
   ]
  },
  {
   "cell_type": "markdown",
   "metadata": {},
   "source": [
    "### Initialization part"
   ]
  },
  {
   "cell_type": "code",
   "execution_count": 63,
   "metadata": {},
   "outputs": [],
   "source": [
    "# we are going to display graphs and work with data frames\n",
    "import pandas as pd\n",
    "import numpy as np\n",
    "import matplotlib.pyplot as plt\n",
    "\n",
    "# let's display all graphs without the need to call .show()\n",
    "%matplotlib inline\n",
    "\n",
    "# set graph sizes\n",
    "plt.rcParams[\"figure.figsize\"] = (20,10)\n",
    "\n",
    "# we are going to render our own Markdown cells\n",
    "from IPython.display import Markdown as md"
   ]
  },
  {
   "cell_type": "markdown",
   "metadata": {},
   "source": [
    "## Loading all data files with raw metrics\n",
    "One CSV file was prepared. `record_sizes.csv` contains sizes of original record, shrinked record and minified record:"
   ]
  },
  {
   "cell_type": "code",
   "execution_count": 2,
   "metadata": {},
   "outputs": [],
   "source": [
    "sizes=pd.read_csv(\"record_sizes.csv\")"
   ]
  },
  {
   "cell_type": "markdown",
   "metadata": {},
   "source": [
    "### Look into the data"
   ]
  },
  {
   "cell_type": "code",
   "execution_count": 52,
   "metadata": {},
   "outputs": [
    {
     "data": {
      "text/html": [
       "<div>\n",
       "<style scoped>\n",
       "    .dataframe tbody tr th:only-of-type {\n",
       "        vertical-align: middle;\n",
       "    }\n",
       "\n",
       "    .dataframe tbody tr th {\n",
       "        vertical-align: top;\n",
       "    }\n",
       "\n",
       "    .dataframe thead th {\n",
       "        text-align: right;\n",
       "    }\n",
       "</style>\n",
       "<table border=\"1\" class=\"dataframe\">\n",
       "  <thead>\n",
       "    <tr style=\"text-align: right;\">\n",
       "      <th></th>\n",
       "      <th>Filename</th>\n",
       "      <th>Original</th>\n",
       "      <th>Cleaned up</th>\n",
       "      <th>Minified</th>\n",
       "      <th>Shrinked (%)</th>\n",
       "    </tr>\n",
       "  </thead>\n",
       "  <tbody>\n",
       "    <tr>\n",
       "      <th>0</th>\n",
       "      <td>big_results.json</td>\n",
       "      <td>11072</td>\n",
       "      <td>5448</td>\n",
       "      <td>2882</td>\n",
       "      <td>26</td>\n",
       "    </tr>\n",
       "    <tr>\n",
       "      <th>1</th>\n",
       "      <td>big_results_tutorial.json</td>\n",
       "      <td>11505</td>\n",
       "      <td>5792</td>\n",
       "      <td>3067</td>\n",
       "      <td>26</td>\n",
       "    </tr>\n",
       "    <tr>\n",
       "      <th>2</th>\n",
       "      <td>result04.json</td>\n",
       "      <td>7064</td>\n",
       "      <td>679</td>\n",
       "      <td>421</td>\n",
       "      <td>5</td>\n",
       "    </tr>\n",
       "    <tr>\n",
       "      <th>3</th>\n",
       "      <td>no_hits.json</td>\n",
       "      <td>4407</td>\n",
       "      <td>197</td>\n",
       "      <td>151</td>\n",
       "      <td>3</td>\n",
       "    </tr>\n",
       "    <tr>\n",
       "      <th>4</th>\n",
       "      <td>big_results_no_skips.json</td>\n",
       "      <td>7040</td>\n",
       "      <td>5448</td>\n",
       "      <td>2882</td>\n",
       "      <td>40</td>\n",
       "    </tr>\n",
       "    <tr>\n",
       "      <th>5</th>\n",
       "      <td>no_hits_no_skips.json</td>\n",
       "      <td>375</td>\n",
       "      <td>197</td>\n",
       "      <td>151</td>\n",
       "      <td>40</td>\n",
       "    </tr>\n",
       "    <tr>\n",
       "      <th>6</th>\n",
       "      <td>big_results_org_1.json</td>\n",
       "      <td>11065</td>\n",
       "      <td>5441</td>\n",
       "      <td>2875</td>\n",
       "      <td>25</td>\n",
       "    </tr>\n",
       "    <tr>\n",
       "      <th>7</th>\n",
       "      <td>result01.json</td>\n",
       "      <td>7128</td>\n",
       "      <td>725</td>\n",
       "      <td>467</td>\n",
       "      <td>6</td>\n",
       "    </tr>\n",
       "    <tr>\n",
       "      <th>8</th>\n",
       "      <td>result05.json</td>\n",
       "      <td>7078</td>\n",
       "      <td>693</td>\n",
       "      <td>435</td>\n",
       "      <td>6</td>\n",
       "    </tr>\n",
       "    <tr>\n",
       "      <th>9</th>\n",
       "      <td>tutorial_only.json</td>\n",
       "      <td>2261</td>\n",
       "      <td>543</td>\n",
       "      <td>329</td>\n",
       "      <td>14</td>\n",
       "    </tr>\n",
       "    <tr>\n",
       "      <th>10</th>\n",
       "      <td>15_rules_hits.json</td>\n",
       "      <td>11695</td>\n",
       "      <td>8725</td>\n",
       "      <td>4569</td>\n",
       "      <td>39</td>\n",
       "    </tr>\n",
       "    <tr>\n",
       "      <th>11</th>\n",
       "      <td>15_rules_hits_org_1.json</td>\n",
       "      <td>11688</td>\n",
       "      <td>8718</td>\n",
       "      <td>4562</td>\n",
       "      <td>39</td>\n",
       "    </tr>\n",
       "    <tr>\n",
       "      <th>12</th>\n",
       "      <td>05_rules_hits.json</td>\n",
       "      <td>11072</td>\n",
       "      <td>5448</td>\n",
       "      <td>2882</td>\n",
       "      <td>26</td>\n",
       "    </tr>\n",
       "    <tr>\n",
       "      <th>13</th>\n",
       "      <td>05_rules_hits_org_1.json</td>\n",
       "      <td>11065</td>\n",
       "      <td>5441</td>\n",
       "      <td>2875</td>\n",
       "      <td>25</td>\n",
       "    </tr>\n",
       "    <tr>\n",
       "      <th>14</th>\n",
       "      <td>10_rules_hits_org_1.json</td>\n",
       "      <td>11663</td>\n",
       "      <td>7037</td>\n",
       "      <td>3676</td>\n",
       "      <td>31</td>\n",
       "    </tr>\n",
       "    <tr>\n",
       "      <th>15</th>\n",
       "      <td>big_results_no_skips_tutorial.json</td>\n",
       "      <td>7473</td>\n",
       "      <td>5792</td>\n",
       "      <td>3067</td>\n",
       "      <td>41</td>\n",
       "    </tr>\n",
       "    <tr>\n",
       "      <th>16</th>\n",
       "      <td>result03.json</td>\n",
       "      <td>7067</td>\n",
       "      <td>679</td>\n",
       "      <td>421</td>\n",
       "      <td>5</td>\n",
       "    </tr>\n",
       "    <tr>\n",
       "      <th>17</th>\n",
       "      <td>result02.json</td>\n",
       "      <td>7067</td>\n",
       "      <td>679</td>\n",
       "      <td>421</td>\n",
       "      <td>5</td>\n",
       "    </tr>\n",
       "    <tr>\n",
       "      <th>18</th>\n",
       "      <td>10_rules_hits.json</td>\n",
       "      <td>11670</td>\n",
       "      <td>7044</td>\n",
       "      <td>3683</td>\n",
       "      <td>31</td>\n",
       "    </tr>\n",
       "  </tbody>\n",
       "</table>\n",
       "</div>"
      ],
      "text/plain": [
       "                              Filename  Original  Cleaned up  Minified  \\\n",
       "0                     big_results.json     11072        5448      2882   \n",
       "1            big_results_tutorial.json     11505        5792      3067   \n",
       "2                        result04.json      7064         679       421   \n",
       "3                         no_hits.json      4407         197       151   \n",
       "4            big_results_no_skips.json      7040        5448      2882   \n",
       "5                no_hits_no_skips.json       375         197       151   \n",
       "6               big_results_org_1.json     11065        5441      2875   \n",
       "7                        result01.json      7128         725       467   \n",
       "8                        result05.json      7078         693       435   \n",
       "9                   tutorial_only.json      2261         543       329   \n",
       "10                  15_rules_hits.json     11695        8725      4569   \n",
       "11            15_rules_hits_org_1.json     11688        8718      4562   \n",
       "12                  05_rules_hits.json     11072        5448      2882   \n",
       "13            05_rules_hits_org_1.json     11065        5441      2875   \n",
       "14            10_rules_hits_org_1.json     11663        7037      3676   \n",
       "15  big_results_no_skips_tutorial.json      7473        5792      3067   \n",
       "16                       result03.json      7067         679       421   \n",
       "17                       result02.json      7067         679       421   \n",
       "18                  10_rules_hits.json     11670        7044      3683   \n",
       "\n",
       "    Shrinked (%)  \n",
       "0             26  \n",
       "1             26  \n",
       "2              5  \n",
       "3              3  \n",
       "4             40  \n",
       "5             40  \n",
       "6             25  \n",
       "7              6  \n",
       "8              6  \n",
       "9             14  \n",
       "10            39  \n",
       "11            39  \n",
       "12            26  \n",
       "13            25  \n",
       "14            31  \n",
       "15            41  \n",
       "16             5  \n",
       "17             5  \n",
       "18            31  "
      ]
     },
     "execution_count": 52,
     "metadata": {},
     "output_type": "execute_result"
    }
   ],
   "source": [
    "sizes.head(20)"
   ]
  },
  {
   "cell_type": "markdown",
   "metadata": {},
   "source": [
    "### Elementary statistic"
   ]
  },
  {
   "cell_type": "code",
   "execution_count": 7,
   "metadata": {},
   "outputs": [
    {
     "data": {
      "text/html": [
       "<div>\n",
       "<style scoped>\n",
       "    .dataframe tbody tr th:only-of-type {\n",
       "        vertical-align: middle;\n",
       "    }\n",
       "\n",
       "    .dataframe tbody tr th {\n",
       "        vertical-align: top;\n",
       "    }\n",
       "\n",
       "    .dataframe thead th {\n",
       "        text-align: right;\n",
       "    }\n",
       "</style>\n",
       "<table border=\"1\" class=\"dataframe\">\n",
       "  <thead>\n",
       "    <tr style=\"text-align: right;\">\n",
       "      <th></th>\n",
       "      <th>Original</th>\n",
       "      <th>Cleaned up</th>\n",
       "      <th>Minified</th>\n",
       "      <th>Shrinked (%)</th>\n",
       "    </tr>\n",
       "  </thead>\n",
       "  <tbody>\n",
       "    <tr>\n",
       "      <th>count</th>\n",
       "      <td>19.000000</td>\n",
       "      <td>19.000000</td>\n",
       "      <td>19.000000</td>\n",
       "      <td>19.000000</td>\n",
       "    </tr>\n",
       "    <tr>\n",
       "      <th>mean</th>\n",
       "      <td>8392.368421</td>\n",
       "      <td>3932.947368</td>\n",
       "      <td>2095.578947</td>\n",
       "      <td>22.789474</td>\n",
       "    </tr>\n",
       "    <tr>\n",
       "      <th>std</th>\n",
       "      <td>3420.338193</td>\n",
       "      <td>3122.321919</td>\n",
       "      <td>1610.424006</td>\n",
       "      <td>14.156188</td>\n",
       "    </tr>\n",
       "    <tr>\n",
       "      <th>min</th>\n",
       "      <td>375.000000</td>\n",
       "      <td>197.000000</td>\n",
       "      <td>151.000000</td>\n",
       "      <td>3.000000</td>\n",
       "    </tr>\n",
       "    <tr>\n",
       "      <th>25%</th>\n",
       "      <td>7065.500000</td>\n",
       "      <td>679.000000</td>\n",
       "      <td>421.000000</td>\n",
       "      <td>6.000000</td>\n",
       "    </tr>\n",
       "    <tr>\n",
       "      <th>50%</th>\n",
       "      <td>7473.000000</td>\n",
       "      <td>5441.000000</td>\n",
       "      <td>2875.000000</td>\n",
       "      <td>26.000000</td>\n",
       "    </tr>\n",
       "    <tr>\n",
       "      <th>75%</th>\n",
       "      <td>11288.500000</td>\n",
       "      <td>5792.000000</td>\n",
       "      <td>3067.000000</td>\n",
       "      <td>35.000000</td>\n",
       "    </tr>\n",
       "    <tr>\n",
       "      <th>max</th>\n",
       "      <td>11695.000000</td>\n",
       "      <td>8725.000000</td>\n",
       "      <td>4569.000000</td>\n",
       "      <td>41.000000</td>\n",
       "    </tr>\n",
       "  </tbody>\n",
       "</table>\n",
       "</div>"
      ],
      "text/plain": [
       "           Original   Cleaned up     Minified  Shrinked (%)\n",
       "count     19.000000    19.000000    19.000000     19.000000\n",
       "mean    8392.368421  3932.947368  2095.578947     22.789474\n",
       "std     3420.338193  3122.321919  1610.424006     14.156188\n",
       "min      375.000000   197.000000   151.000000      3.000000\n",
       "25%     7065.500000   679.000000   421.000000      6.000000\n",
       "50%     7473.000000  5441.000000  2875.000000     26.000000\n",
       "75%    11288.500000  5792.000000  3067.000000     35.000000\n",
       "max    11695.000000  8725.000000  4569.000000     41.000000"
      ]
     },
     "execution_count": 7,
     "metadata": {},
     "output_type": "execute_result"
    }
   ],
   "source": [
    "# please note that some records are smaller that typical records in CCX data pipeline because we need\n",
    "# to test corner cases (missing attributes etc.)\n",
    "sizes.describe()"
   ]
  },
  {
   "cell_type": "markdown",
   "metadata": {},
   "source": [
    "### Size comparios: original/cleaned up/minified"
   ]
  },
  {
   "cell_type": "code",
   "execution_count": 57,
   "metadata": {},
   "outputs": [
    {
     "data": {
      "text/plain": [
       "<AxesSubplot:title={'center':'Message sizes'}>"
      ]
     },
     "execution_count": 57,
     "metadata": {},
     "output_type": "execute_result"
    },
    {
     "data": {
      "image/png": "[encoded data removed]",
      "text/plain": [
       "<Figure size 1440x720 with 1 Axes>"
      ]
     },
     "metadata": {},
     "output_type": "display_data"
    }
   ],
   "source": [
    "del sizes[\"Shrinked (%)\"]\n",
    "sizes.plot(title=\"Message sizes\", kind=\"bar\")"
   ]
  },
  {
   "cell_type": "markdown",
   "metadata": {},
   "source": [
    "### Summary"
   ]
  },
  {
   "cell_type": "code",
   "execution_count": 58,
   "metadata": {},
   "outputs": [],
   "source": [
    "d={}\n",
    "for category in ('Original', 'Cleaned up', 'Minified'):\n",
    "    d[category] = [sizes[category].sum()]"
   ]
  },
  {
   "cell_type": "code",
   "execution_count": 59,
   "metadata": {},
   "outputs": [],
   "source": [
    "df=pd.DataFrame(d, index=[\"Sum\"])"
   ]
  },
  {
   "cell_type": "code",
   "execution_count": 60,
   "metadata": {},
   "outputs": [
    {
     "data": {
      "text/plain": [
       "<AxesSubplot:>"
      ]
     },
     "execution_count": 60,
     "metadata": {},
     "output_type": "execute_result"
    },
    {
     "data": {
      "image/png": "[encoded data removed]",
      "text/plain": [
       "<Figure size 1440x720 with 1 Axes>"
      ]
     },
     "metadata": {},
     "output_type": "display_data"
    }
   ],
   "source": [
    "df.plot(kind=\"bar\")"
   ]
  },
  {
   "cell_type": "code",
   "execution_count": 73,
   "metadata": {},
   "outputs": [
    {
     "data": {
      "text/markdown": [
       "# Shrink amount: 24% from original size"
      ],
      "text/plain": [
       "<IPython.core.display.Markdown object>"
      ]
     },
     "execution_count": 73,
     "metadata": {},
     "output_type": "execute_result"
    }
   ],
   "source": [
    "shrink = int(100.0 * d['Minified'][0]/d['Original'][0])\n",
    "md(\"# Shrink amount: {}% from original size\".format(shrink))"
   ]
  },
  {
   "cell_type": "code",
   "execution_count": 76,
   "metadata": {},
   "outputs": [
    {
     "data": {
      "text/markdown": [
       "# CCX pipeline database : Notification service database = 1:20"
      ],
      "text/plain": [
       "<IPython.core.display.Markdown object>"
      ]
     },
     "execution_count": 76,
     "metadata": {},
     "output_type": "execute_result"
    }
   ],
   "source": [
    "x = int(7 * 24 / 2 * d['Minified'][0]/d['Original'][0])\n",
    "md(\"# CCX pipeline database : Notification service database = 1:{}\".format(x))"
   ]
  },
  {
   "cell_type": "code",
   "execution_count": null,
   "metadata": {},
   "outputs": [],
   "source": []
  }
 ],
 "metadata": {
  "kernelspec": {
   "display_name": "Python 3",
   "language": "python",
   "name": "python3"
  },
  "language_info": {
   "codemirror_mode": {
    "name": "ipython",
    "version": 3
   },
   "file_extension": ".py",
   "mimetype": "text/x-python",
   "name": "python",
   "nbconvert_exporter": "python",
   "pygments_lexer": "ipython3",
   "version": "3.6.6"
  }
 },
 "nbformat": 4,
 "nbformat_minor": 2
}
