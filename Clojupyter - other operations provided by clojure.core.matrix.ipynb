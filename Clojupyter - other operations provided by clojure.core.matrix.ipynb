{
 "cells": [
  {
   "cell_type": "markdown",
   "metadata": {},
   "source": [
    "# Další operace poskytované knihovnou `clojure.core.matrix`"
   ]
  },
  {
   "cell_type": "markdown",
   "metadata": {},
   "source": [
    "Nejprve použijeme dvojici příkazů `use`, které načtou všechny funkce a všechna makra ze jmenných prostorů clojure.core.matrix a clojure.core.matrix.operators:"
   ]
  },
  {
   "cell_type": "code",
   "execution_count": 1,
   "metadata": {},
   "outputs": [
    {
     "name": "stdout",
     "output_type": "stream",
     "text": [
      "WARNING: * already refers to: #'clojure.core/* in namespace: user, being replaced by: #'clojure.core.matrix.operators/*\n",
      "WARNING: min already refers to: #'clojure.core/min in namespace: user, being replaced by: #'clojure.core.matrix.operators/min\n",
      "WARNING: - already refers to: #'clojure.core/- in namespace: user, being replaced by: #'clojure.core.matrix.operators/-\n",
      "WARNING: / already refers to: #'clojure.core// in namespace: user, being replaced by: #'clojure.core.matrix.operators//\n",
      "WARNING: + already refers to: #'clojure.core/+ in namespace: user, being replaced by: #'clojure.core.matrix.operators/+\n",
      "WARNING: max already refers to: #'clojure.core/max in namespace: user, being replaced by: #'clojure.core.matrix.operators/max\n",
      "WARNING: == already refers to: #'clojure.core/== in namespace: user, being replaced by: #'clojure.core.matrix.operators/==\n"
     ]
    }
   ],
   "source": [
    "(use 'clojure.core.matrix)\n",
    "(use 'clojure.core.matrix.operators)"
   ]
  },
  {
   "cell_type": "markdown",
   "metadata": {},
   "source": [
    "### Poznámka\n",
    "po spuštění předchozí buňky se nejdříve vypíšou varování, že ve jmenném prostoru core.matrix.operators došlo k předeklarování globálních symbolů *, -, /, + a =="
   ]
  },
  {
   "cell_type": "markdown",
   "metadata": {},
   "source": [
    "## Transpozice matice"
   ]
  },
  {
   "cell_type": "code",
   "execution_count": 6,
   "metadata": {},
   "outputs": [
    {
     "name": "stdout",
     "output_type": "stream",
     "text": [
      "[[1.000 2.000 3.000]\n",
      " [4.000 5.000 6.000]\n",
      " [7.000 8.000 9.000]]\n",
      "[[1.000 4.000 7.000]\n",
      " [2.000 5.000 8.000]\n",
      " [3.000 6.000 9.000]]\n"
     ]
    }
   ],
   "source": [
    "(def M (matrix [[1 2 3] [4 5 6] [7 8 9]]))\n",
    "(pm M)\n",
    " \n",
    "(transpose M)\n",
    "(pm *1)"
   ]
  },
  {
   "cell_type": "markdown",
   "metadata": {},
   "source": [
    "## Unární a binární operace nad maticemi"
   ]
  },
  {
   "cell_type": "code",
   "execution_count": 12,
   "metadata": {},
   "outputs": [
    {
     "name": "stdout",
     "output_type": "stream",
     "text": [
      "[[ 6.000  8.000]\n",
      " [10.000 12.000]]\n",
      "[[-4.000 -4.000]\n",
      " [-4.000 -4.000]]\n",
      "[[ 5.000 12.000]\n",
      " [21.000 32.000]]\n",
      "[[100.000 200.000]\n",
      " [300.000 400.000]]\n",
      "[[5.000 3.000]\n",
      " [2.333 2.000]]\n",
      "[[-2.000  1.000]\n",
      " [ 1.500 -0.500]]\n",
      "[[-4.000  3.000]\n",
      " [ 3.500 -2.500]]\n"
     ]
    }
   ],
   "source": [
    "(def M1 (matrix [[1 2][3 4]]))\n",
    " \n",
    "(def M2 (matrix [[5 6][7 8]]))\n",
    " \n",
    "(pm (+ M1 M2))\n",
    "(pm (- M1 M2))\n",
    "(pm (* M1 M2))\n",
    "(pm (* M1 100))\n",
    "\n",
    "; zde se nejdříve vypočte inverzní matice k M1\n",
    "(pm (/ M2 M1))\n",
    " \n",
    "(pm (inverse M1))\n",
    "\n",
    "(pm (inverse M2))"
   ]
  },
  {
   "cell_type": "markdown",
   "metadata": {},
   "source": [
    "## Funkce vracející informace o maticích (počet dimenzí a tvar)"
   ]
  },
  {
   "cell_type": "code",
   "execution_count": 14,
   "metadata": {},
   "outputs": [
    {
     "name": "stdout",
     "output_type": "stream",
     "text": [
      "[1.000 2.000 3.000 4.000 5.000 6.000]\n",
      "[[1.000 2.000]\n",
      " [3.000 4.000]]\n",
      "[[[1.000 2.000]\n",
      "  [3.000 4.000]]\n",
      " [[5.000 6.000]\n",
      "  [7.000 8.000]]]\n"
     ]
    }
   ],
   "source": [
    "; vektor\n",
    "(def v (matrix [1 2 3 4 5 6]))\n",
    "(pm v)\n",
    "\n",
    "; 2D matice\n",
    "(def M (matrix [[1 2] [3 4]]))\n",
    "(pm M)\n",
    "\n",
    "; trojrozměrná matice\n",
    "(def MD (matrix [[ [1 2] [3 4] ] [ [5 6] [7 8] ] ]))\n",
    "(pm MD)"
   ]
  },
  {
   "cell_type": "code",
   "execution_count": 15,
   "metadata": {},
   "outputs": [
    {
     "data": {
      "text/plain": [
       "1"
      ]
     },
     "execution_count": 15,
     "metadata": {},
     "output_type": "execute_result"
    }
   ],
   "source": [
    "(dimensionality v)"
   ]
  },
  {
   "cell_type": "code",
   "execution_count": 16,
   "metadata": {},
   "outputs": [
    {
     "data": {
      "text/plain": [
       "2"
      ]
     },
     "execution_count": 16,
     "metadata": {},
     "output_type": "execute_result"
    }
   ],
   "source": [
    "(dimensionality M)"
   ]
  },
  {
   "cell_type": "code",
   "execution_count": 17,
   "metadata": {},
   "outputs": [
    {
     "data": {
      "text/plain": [
       "3"
      ]
     },
     "execution_count": 17,
     "metadata": {},
     "output_type": "execute_result"
    }
   ],
   "source": [
    "(dimensionality MD)"
   ]
  },
  {
   "cell_type": "code",
   "execution_count": 18,
   "metadata": {},
   "outputs": [
    {
     "data": {
      "text/plain": [
       "0"
      ]
     },
     "execution_count": 18,
     "metadata": {},
     "output_type": "execute_result"
    }
   ],
   "source": [
    "(dimensionality 1)"
   ]
  },
  {
   "cell_type": "code",
   "execution_count": 19,
   "metadata": {},
   "outputs": [
    {
     "data": {
      "text/plain": [
       "[2 2]"
      ]
     },
     "execution_count": 19,
     "metadata": {},
     "output_type": "execute_result"
    }
   ],
   "source": [
    "(shape M)"
   ]
  },
  {
   "cell_type": "code",
   "execution_count": 20,
   "metadata": {},
   "outputs": [
    {
     "data": {
      "text/plain": [
       "[6]"
      ]
     },
     "execution_count": 20,
     "metadata": {},
     "output_type": "execute_result"
    }
   ],
   "source": [
    "(shape v)"
   ]
  },
  {
   "cell_type": "code",
   "execution_count": 21,
   "metadata": {},
   "outputs": [
    {
     "data": {
      "text/plain": [
       "[2 2 2]"
      ]
     },
     "execution_count": 21,
     "metadata": {},
     "output_type": "execute_result"
    }
   ],
   "source": [
    "(shape MD)"
   ]
  },
  {
   "cell_type": "markdown",
   "metadata": {},
   "source": [
    "## Změna tvaru matice"
   ]
  },
  {
   "cell_type": "code",
   "execution_count": 22,
   "metadata": {},
   "outputs": [
    {
     "name": "stdout",
     "output_type": "stream",
     "text": [
      "[1.000 2.000 3.000 4.000 5.000 6.000]\n"
     ]
    }
   ],
   "source": [
    "(def v (matrix [1 2 3 4 5 6]))\n",
    "(pm v)"
   ]
  },
  {
   "cell_type": "code",
   "execution_count": 23,
   "metadata": {},
   "outputs": [
    {
     "name": "stdout",
     "output_type": "stream",
     "text": [
      "[[1.000 2.000 3.000]\n",
      " [4.000 5.000 6.000]]\n"
     ]
    }
   ],
   "source": [
    "; velmi užitečná funkce převzatá z APL: vektor převeden na matici\n",
    "(reshape v [2 3])\n",
    "(pm *1)"
   ]
  },
  {
   "cell_type": "code",
   "execution_count": 25,
   "metadata": {},
   "outputs": [
    {
     "name": "stdout",
     "output_type": "stream",
     "text": [
      "[[1.000 2.000]\n",
      " [3.000 4.000]\n",
      " [5.000 6.000]]\n"
     ]
    }
   ],
   "source": [
    "; jiný tvar matice\n",
    "(reshape v [3 2])\n",
    "(pm *1)"
   ]
  },
  {
   "cell_type": "code",
   "execution_count": 27,
   "metadata": {},
   "outputs": [
    {
     "name": "stdout",
     "output_type": "stream",
     "text": [
      "[[1.000 2.000 3.000 4.000 5.000 6.000]]\n"
     ]
    }
   ],
   "source": [
    "(reshape v [1 6])\n",
    "(pm *1)"
   ]
  },
  {
   "cell_type": "code",
   "execution_count": 28,
   "metadata": {},
   "outputs": [
    {
     "name": "stdout",
     "output_type": "stream",
     "text": [
      "[[1.000]\n",
      " [2.000]\n",
      " [3.000]\n",
      " [4.000]\n",
      " [5.000]\n",
      " [6.000]]\n"
     ]
    }
   ],
   "source": [
    "(reshape v [6 1])\n",
    "(pm *1)"
   ]
  },
  {
   "cell_type": "markdown",
   "metadata": {},
   "source": [
    "## Využití makra -> a ->> ke kompozici operací"
   ]
  },
  {
   "cell_type": "code",
   "execution_count": 29,
   "metadata": {},
   "outputs": [
    {
     "name": "stdout",
     "output_type": "stream",
     "text": [
      "[[ 1.000 11.000 21.000 31.000 41.000 51.000 61.000 71.000 81.000  91.000]\n",
      " [ 2.000 12.000 22.000 32.000 42.000 52.000 62.000 72.000 82.000  92.000]\n",
      " [ 3.000 13.000 23.000 33.000 43.000 53.000 63.000 73.000 83.000  93.000]\n",
      " [ 4.000 14.000 24.000 34.000 44.000 54.000 64.000 74.000 84.000  94.000]\n",
      " [ 5.000 15.000 25.000 35.000 45.000 55.000 65.000 75.000 85.000  95.000]\n",
      " [ 6.000 16.000 26.000 36.000 46.000 56.000 66.000 76.000 86.000  96.000]\n",
      " [ 7.000 17.000 27.000 37.000 47.000 57.000 67.000 77.000 87.000  97.000]\n",
      " [ 8.000 18.000 28.000 38.000 48.000 58.000 68.000 78.000 88.000  98.000]\n",
      " [ 9.000 19.000 29.000 39.000 49.000 59.000 69.000 79.000 89.000  99.000]\n",
      " [10.000 20.000 30.000 40.000 50.000 60.000 70.000 80.000 90.000 100.000]]\n"
     ]
    }
   ],
   "source": [
    "; jedná se o oneliner rozepsaný kvůli větší čitelnosti na čtyři řádky\n",
    "(-> (matrix (range 1 101))\n",
    "    (reshape [10 10])\n",
    "    transpose\n",
    "    pm)"
   ]
  },
  {
   "cell_type": "code",
   "execution_count": 30,
   "metadata": {},
   "outputs": [
    {
     "name": "stdout",
     "output_type": "stream",
     "text": [
      "[[-99999.000  60002.000]\n",
      " [105003.000 -39996.000]]\n"
     ]
    }
   ],
   "source": [
    "; sekvence operací aplikovaných na matici M1\n",
    "(-> M1\n",
    "    transpose\n",
    "    inverse\n",
    "    (* 10000)\n",
    "    transpose\n",
    "    (* M2)\n",
    "    (+ M1)\n",
    "    pm)"
   ]
  },
  {
   "cell_type": "code",
   "execution_count": null,
   "metadata": {},
   "outputs": [],
   "source": []
  }
 ],
 "metadata": {
  "kernelspec": {
   "display_name": "Lein-Clojure",
   "language": "clojure",
   "name": "lein-clojure"
  },
  "language_info": {
   "file_extension": ".clj",
   "mimetype": "text/x-clojure",
   "name": "clojure",
   "version": "1.8.0"
  }
 },
 "nbformat": 4,
 "nbformat_minor": 2
}
