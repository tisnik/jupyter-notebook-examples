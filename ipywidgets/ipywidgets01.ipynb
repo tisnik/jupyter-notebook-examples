{
  "metadata": {
    "language_info": {
      "codemirror_mode": {
        "name": "python",
        "version": 3
      },
      "file_extension": ".py",
      "mimetype": "text/x-python",
      "name": "python",
      "nbconvert_exporter": "python",
      "pygments_lexer": "ipython3",
      "version": "3.8"
    },
    "kernelspec": {
      "name": "python",
      "display_name": "Pyolite",
      "language": "python"
    }
  },
  "nbformat_minor": 4,
  "nbformat": 4,
  "cells": [
    {
      "cell_type": "code",
      "source": "# Inicializace knihovny `ipywidgets` v Jupyter Notebooku Lite",
      "metadata": {
        "trusted": true
      },
      "execution_count": 4,
      "outputs": []
    },
    {
      "cell_type": "code",
      "source": "import micropip",
      "metadata": {
        "trusted": true
      },
      "execution_count": 5,
      "outputs": []
    },
    {
      "cell_type": "code",
      "source": "await micropip.install('ipywidgets')",
      "metadata": {
        "trusted": true
      },
      "execution_count": 6,
      "outputs": []
    },
    {
      "cell_type": "code",
      "source": "import ipywidgets",
      "metadata": {
        "trusted": true
      },
      "execution_count": 8,
      "outputs": []
    },
    {
      "cell_type": "code",
      "source": "pprint.pprint(ipywidgets.__dir__())",
      "metadata": {
        "trusted": true
      },
      "execution_count": 9,
      "outputs": [
        {
          "name": "stdout",
          "text": "['__name__',\n '__doc__',\n '__package__',\n '__loader__',\n '__spec__',\n '__path__',\n '__file__',\n '__cached__',\n '__builtins__',\n 'os',\n 'get_ipython',\n '_version',\n 'version_info',\n '__version__',\n '__protocol_version__',\n '__jupyter_widgets_controls_version__',\n '__jupyter_widgets_base_version__',\n 'widgets',\n 'widget',\n 'Widget',\n 'CallbackDispatcher',\n 'register',\n 'widget_serialization',\n 'util',\n 'trait_types',\n 'widget_layout',\n 'widget_style',\n 'domwidget',\n 'DOMWidget',\n 'valuewidget',\n 'ValueWidget',\n 'Color',\n 'Datetime',\n 'NumberFormat',\n 'widget_core',\n 'CoreWidget',\n 'widget_description',\n 'widget_bool',\n 'Checkbox',\n 'ToggleButton',\n 'Valid',\n 'widget_button',\n 'Button',\n 'ButtonStyle',\n 'docutils',\n 'widget_box',\n 'Box',\n 'HBox',\n 'VBox',\n 'GridBox',\n 'widget_int',\n 'widget_float',\n 'FloatText',\n 'BoundedFloatText',\n 'FloatSlider',\n 'FloatProgress',\n 'FloatRangeSlider',\n 'FloatLogSlider',\n 'IntText',\n 'BoundedIntText',\n 'IntSlider',\n 'IntProgress',\n 'IntRangeSlider',\n 'Play',\n 'SliderStyle',\n 'widget_color',\n 'ColorPicker',\n 'widget_date',\n 'DatePicker',\n 'widget_output',\n 'Output',\n 'widget_selection',\n 'RadioButtons',\n 'ToggleButtons',\n 'ToggleButtonsStyle',\n 'Dropdown',\n 'Select',\n 'SelectionSlider',\n 'SelectMultiple',\n 'SelectionRangeSlider',\n 'widget_selectioncontainer',\n 'Tab',\n 'Accordion',\n 'widget_string',\n 'HTML',\n 'HTMLMath',\n 'Label',\n 'Text',\n 'Textarea',\n 'Password',\n 'Combobox',\n 'widget_controller',\n 'Controller',\n 'interaction',\n 'interact',\n 'interactive',\n 'fixed',\n 'interact_manual',\n 'interactive_output',\n 'widget_link',\n 'jslink',\n 'jsdlink',\n 'Layout',\n 'widget_media',\n 'Image',\n 'Video',\n 'Audio',\n 'Style',\n 'widget_templates',\n 'TwoByTwoLayout',\n 'AppLayout',\n 'GridspecLayout',\n 'widget_upload',\n 'FileUpload',\n 'link',\n 'dlink',\n 'load_ipython_extension',\n 'register_comm_target',\n 'handle_kernel',\n '_handle_ipython']\n",
          "output_type": "stream"
        }
      ]
    },
    {
      "cell_type": "code",
      "source": "",
      "metadata": {},
      "execution_count": null,
      "outputs": []
    }
  ]
}
