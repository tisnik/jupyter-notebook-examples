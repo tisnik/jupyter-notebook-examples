{
 "cells": [
  {
   "cell_type": "code",
   "execution_count": 2,
   "metadata": {},
   "outputs": [],
   "source": [
    "import iplantuml"
   ]
  },
  {
   "cell_type": "code",
   "execution_count": 5,
   "metadata": {},
   "outputs": [
    {
     "data": {
      "image/svg+xml": [
       "<svg contentScriptType=\"application/ecmascript\" contentStyleType=\"text/css\" height=\"398px\" preserveAspectRatio=\"none\" style=\"width:577px;height:398px;\" version=\"1.1\" viewBox=\"0 0 577 398\" width=\"577px\" xmlns=\"http://www.w3.org/2000/svg\" xmlns:xlink=\"http://www.w3.org/1999/xlink\" zoomAndPan=\"magnify\"><defs><filter height=\"300%\" id=\"f16xeklxq5uydc\" width=\"300%\" x=\"-1\" y=\"-1\"><feGaussianBlur result=\"blurOut\" stdDeviation=\"2.0\"/><feColorMatrix in=\"blurOut\" result=\"blurOut2\" type=\"matrix\" values=\"0 0 0 0 0 0 0 0 0 0 0 0 0 0 0 0 0 0 .4 0\"/><feOffset dx=\"4.0\" dy=\"4.0\" in=\"blurOut2\" result=\"blurOut3\"/><feBlend in=\"SourceGraphic\" in2=\"blurOut3\" mode=\"normal\"/></filter></defs><g><!--MD5=[9681dc6e01e10c6b4fe06895ae94f592]\n",
       "cluster UI--><polygon fill=\"#FFFFFF\" filter=\"url(#f16xeklxq5uydc)\" points=\"262.5,283,284.5,283,291.5,305.2969,453.5,305.2969,453.5,386,262.5,386,262.5,283\" style=\"stroke: #000000; stroke-width: 1.5;\"/><line style=\"stroke: #000000; stroke-width: 1.5;\" x1=\"262.5\" x2=\"291.5\" y1=\"305.2969\" y2=\"305.2969\"/><text fill=\"#000000\" font-family=\"sans-serif\" font-size=\"14\" font-weight=\"bold\" lengthAdjust=\"spacingAndGlyphs\" textLength=\"16\" x=\"266.5\" y=\"297.9951\">UI</text><!--MD5=[d127c9a6221c0ff92f6cf27def4f669f]\n",
       "entity Displayed data--><rect fill=\"#FEFECE\" filter=\"url(#f16xeklxq5uydc)\" height=\"36.2969\" style=\"stroke: #A80036; stroke-width: 1.5;\" width=\"123\" x=\"306\" y=\"326\"/><rect fill=\"#FEFECE\" height=\"5\" style=\"stroke: #A80036; stroke-width: 1.5;\" width=\"10\" x=\"301\" y=\"331\"/><rect fill=\"#FEFECE\" height=\"5\" style=\"stroke: #A80036; stroke-width: 1.5;\" width=\"10\" x=\"301\" y=\"352.2969\"/><text fill=\"#000000\" font-family=\"sans-serif\" font-size=\"14\" lengthAdjust=\"spacingAndGlyphs\" textLength=\"103\" x=\"316\" y=\"348.9951\">Displayed data</text><!--MD5=[38bfa9dc6018363cafe15f923a4b8db9]\n",
       "entity service--><rect fill=\"#99FF99\" filter=\"url(#f16xeklxq5uydc)\" height=\"36.2969\" style=\"stroke: #A80036; stroke-width: 1.5;\" width=\"141\" x=\"6\" y=\"10\"/><rect fill=\"#99FF99\" height=\"5\" style=\"stroke: #A80036; stroke-width: 1.5;\" width=\"10\" x=\"1\" y=\"15\"/><rect fill=\"#99FF99\" height=\"5\" style=\"stroke: #A80036; stroke-width: 1.5;\" width=\"10\" x=\"1\" y=\"36.2969\"/><text fill=\"#000000\" font-family=\"sans-serif\" font-size=\"14\" lengthAdjust=\"spacingAndGlyphs\" textLength=\"121\" x=\"16\" y=\"32.9951\">Projected service</text><!--MD5=[6f2db0e982258c1f0ef5898aca331419]\n",
       "entity microservice2--><rect fill=\"#CCCCFF\" filter=\"url(#f16xeklxq5uydc)\" height=\"36.2969\" style=\"stroke: #A80036; stroke-width: 1.5;\" width=\"114\" x=\"120.5\" y=\"108\"/><rect fill=\"#CCCCFF\" height=\"5\" style=\"stroke: #A80036; stroke-width: 1.5;\" width=\"10\" x=\"115.5\" y=\"113\"/><rect fill=\"#CCCCFF\" height=\"5\" style=\"stroke: #A80036; stroke-width: 1.5;\" width=\"10\" x=\"115.5\" y=\"134.2969\"/><text fill=\"#000000\" font-family=\"sans-serif\" font-size=\"14\" lengthAdjust=\"spacingAndGlyphs\" textLength=\"94\" x=\"130.5\" y=\"130.9951\">Microservice2</text><!--MD5=[c047dd7d10285f355e4e5fa27ac01791]\n",
       "entity microservice1--><rect fill=\"#FEFECE\" filter=\"url(#f16xeklxq5uydc)\" height=\"36.2969\" style=\"stroke: #A80036; stroke-width: 1.5;\" width=\"115\" x=\"221\" y=\"10\"/><rect fill=\"#FEFECE\" height=\"5\" style=\"stroke: #A80036; stroke-width: 1.5;\" width=\"10\" x=\"216\" y=\"15\"/><rect fill=\"#FEFECE\" height=\"5\" style=\"stroke: #A80036; stroke-width: 1.5;\" width=\"10\" x=\"216\" y=\"36.2969\"/><text fill=\"#000000\" font-family=\"sans-serif\" font-size=\"14\" lengthAdjust=\"spacingAndGlyphs\" textLength=\"95\" x=\"231\" y=\"32.9951\">Microservice1</text><!--MD5=[b165ca7cce796f881c879adda4a6bef9]\n",
       "entity s3--><rect fill=\"#FEFECE\" filter=\"url(#f16xeklxq5uydc)\" height=\"36.2969\" style=\"stroke: #A80036; stroke-width: 1.5;\" width=\"97\" x=\"222\" y=\"213.5\"/><rect fill=\"#FEFECE\" height=\"5\" style=\"stroke: #A80036; stroke-width: 1.5;\" width=\"10\" x=\"217\" y=\"218.5\"/><rect fill=\"#FEFECE\" height=\"5\" style=\"stroke: #A80036; stroke-width: 1.5;\" width=\"10\" x=\"217\" y=\"239.7969\"/><text fill=\"#000000\" font-family=\"sans-serif\" font-size=\"14\" lengthAdjust=\"spacingAndGlyphs\" textLength=\"77\" x=\"232\" y=\"236.4951\">Amazon S3</text><!--MD5=[b418fd1ebe09a8846386463c5ea036e2]\n",
       "entity service_http--><ellipse cx=\"76.5\" cy=\"126\" fill=\"#FEFECE\" filter=\"url(#f16xeklxq5uydc)\" rx=\"8\" ry=\"8\" style=\"stroke: #A80036; stroke-width: 2.0;\"/><text fill=\"#000000\" font-family=\"sans-serif\" font-size=\"14\" lengthAdjust=\"spacingAndGlyphs\" textLength=\"60\" x=\"46.5\" y=\"155.9951\">REST API</text><!--MD5=[a4f580b58f1661025bc4c81ccc0d2a20]\n",
       "entity microservice1_api--><ellipse cx=\"278.5\" cy=\"126\" fill=\"#FEFECE\" filter=\"url(#f16xeklxq5uydc)\" rx=\"8\" ry=\"8\" style=\"stroke: #A80036; stroke-width: 2.0;\"/><text fill=\"#000000\" font-family=\"sans-serif\" font-size=\"14\" lengthAdjust=\"spacingAndGlyphs\" textLength=\"60\" x=\"248.5\" y=\"155.9951\">REST API</text><!--MD5=[5a0e361afb027aed3d57363a299ea217]\n",
       "entity go_sdk--><ellipse cx=\"177.5\" cy=\"231.5\" fill=\"#FEFECE\" filter=\"url(#f16xeklxq5uydc)\" rx=\"8\" ry=\"8\" style=\"stroke: #A80036; stroke-width: 2.0;\"/><text fill=\"#000000\" font-family=\"sans-serif\" font-size=\"14\" lengthAdjust=\"spacingAndGlyphs\" textLength=\"51\" x=\"152\" y=\"261.4951\">Go SDK</text><path d=\"M371.5,8 L371.5,24 L336.02,28 L371.5,32 L371.5,48.2656 A0,0 0 0 0 371.5,48.2656 L565.5,48.2656 A0,0 0 0 0 565.5,48.2656 L565.5,18 L555.5,8 L371.5,8 A0,0 0 0 0 371.5,8 \" fill=\"#FBFB77\" filter=\"url(#f16xeklxq5uydc)\" style=\"stroke: #A80036; stroke-width: 1.0;\"/><path d=\"M555.5,8 L555.5,18 L565.5,18 L555.5,8 \" fill=\"#FBFB77\" style=\"stroke: #A80036; stroke-width: 1.0;\"/><text fill=\"#000000\" font-family=\"sans-serif\" font-size=\"13\" lengthAdjust=\"spacingAndGlyphs\" textLength=\"125\" x=\"377.5\" y=\"25.0669\">Provide credentials</text><text fill=\"#000000\" font-family=\"sans-serif\" font-size=\"13\" lengthAdjust=\"spacingAndGlyphs\" textLength=\"173\" x=\"377.5\" y=\"40.1997\">needed to access AWS S3</text><path d=\"M354.5,204 L354.5,227.5 L319.098,231.5 L354.5,235.5 L354.5,259.3984 A0,0 0 0 0 354.5,259.3984 L534.5,259.3984 A0,0 0 0 0 534.5,259.3984 L534.5,214 L524.5,204 L354.5,204 A0,0 0 0 0 354.5,204 \" fill=\"#FBFB77\" filter=\"url(#f16xeklxq5uydc)\" style=\"stroke: #A80036; stroke-width: 1.0;\"/><path d=\"M524.5,204 L524.5,214 L534.5,214 L524.5,204 \" fill=\"#FBFB77\" style=\"stroke: #A80036; stroke-width: 1.0;\"/><text fill=\"#000000\" font-family=\"sans-serif\" font-size=\"13\" lengthAdjust=\"spacingAndGlyphs\" textLength=\"159\" x=\"360.5\" y=\"221.0669\">Store data into specified</text><text fill=\"#000000\" font-family=\"sans-serif\" font-size=\"13\" lengthAdjust=\"spacingAndGlyphs\" textLength=\"86\" x=\"360.5\" y=\"236.1997\">bucket under</text><text fill=\"#000000\" font-family=\"sans-serif\" font-size=\"13\" lengthAdjust=\"spacingAndGlyphs\" textLength=\"122\" x=\"360.5\" y=\"251.3325\">selected file name</text><!--MD5=[b0c2987b18451e8d0a0e0aecbf1015a6]\n",
       "link service to service_http--><path d=\"M76.5,46.163 C76.5,66.873 76.5,100.864 76.5,116.565 \" fill=\"none\" id=\"service-service_http\" style=\"stroke: #A80036; stroke-width: 1.0;\"/><!--MD5=[c6056ba5d4344efde51429d8eeedeb74]\n",
       "link microservice1 to microservice1_api--><path d=\"M278.5,46.163 C278.5,66.873 278.5,100.864 278.5,116.565 \" fill=\"none\" id=\"microservice1-microservice1_api\" style=\"stroke: #A80036; stroke-width: 1.0;\"/><!--MD5=[4616a762e232e094ea85c61182dbd819]\n",
       "link go_sdk to s3--><path d=\"M186.582,231.5 C196.631,231.5 206.681,231.5 216.73,231.5 \" fill=\"none\" id=\"go_sdk-&gt;s3\" style=\"stroke: #A80036; stroke-width: 1.0;\"/><polygon fill=\"#A80036\" points=\"221.985,231.5,212.985,227.5,216.985,231.5,212.985,235.5,221.985,231.5\" style=\"stroke: #A80036; stroke-width: 1.0;\"/><!--MD5=[3b2d7b2a325954b76614e582df714aec]\n",
       "link service_http to microservice2--><path d=\"M85.5742,126 C97.1846,126 108.795,126 120.405,126 \" fill=\"none\" id=\"service_http-microservice2\" style=\"stroke: #A80036; stroke-width: 1.0;\"/><!--MD5=[f1457681383500e407dceb8510ba8d0d]\n",
       "link microservice2 to microservice1_api--><path d=\"M234.707,126 C246.225,126 257.744,126 269.262,126 \" fill=\"none\" id=\"microservice2-microservice1_api\" style=\"stroke: #A80036; stroke-width: 1.0;\"/><!--MD5=[d3485e44d28bb7b95e9553262d3db936]\n",
       "link microservice2 to go_sdk--><path d=\"M177.5,144.091 C177.5,164.592 177.5,198.524 177.5,217.183 \" fill=\"none\" id=\"microservice2-&gt;go_sdk\" style=\"stroke: #A80036; stroke-width: 1.0;\"/><polygon fill=\"#A80036\" points=\"177.5,222.451,181.5,213.451,177.5,217.451,173.5,213.451,177.5,222.451\" style=\"stroke: #A80036; stroke-width: 1.0;\"/><!--MD5=[7ffa98890f3d848215ff5192d9308fe3]\n",
       "link s3 to UI--><path d=\"M270.5,249.766 C270.5,257.414 270.5,266.9442 270.5,276.967 C270.5,278.2199 270.5,279.4804 270.5,280.746 C270.5,281.3787 270.5,282.0127 270.5,282.6477 \" fill=\"none\" id=\"s3-&gt;UI\" style=\"stroke: #A80036; stroke-width: 1.0;\"/><polygon fill=\"#A80036\" points=\"270.5,282.6477,274.5,273.6477,270.5,277.6477,266.5,273.6477,270.5,282.6477\" style=\"stroke: #A80036; stroke-width: 1.0;\"/><!--MD5=[9dadd26ee0480e5727c7d7242c2c013d]\n",
       "@startuml\n",
       "[Projected service] as service #99ff99\n",
       "[Microservice2] as microservice2 #ccccff\n",
       "[Microservice1] as microservice1\n",
       "[Amazon S3] as s3\n",
       "\n",
       "package \"UI\" {\n",
       "  [Displayed data]\n",
       "}\n",
       "\n",
       "interface \"REST API\" as service_http\n",
       "service - - service_http\n",
       "\n",
       "interface \"REST API\" as microservice1_api\n",
       "microservice1 - - microservice1_api\n",
       "\n",
       "interface \"Go SDK\" as go_sdk\n",
       "go_sdk -> s3\n",
       "\n",
       "service_http - microservice2\n",
       "microservice2 - microservice1_api\n",
       "microservice2 - -> go_sdk\n",
       "\n",
       "note right of microservice1\n",
       "    Provide credentials\n",
       "    needed to access AWS S3\n",
       "end note\n",
       "\n",
       "note right of s3\n",
       "    Store data into specified\n",
       "    bucket under\n",
       "    selected file name\n",
       "end note\n",
       "\n",
       "s3 - -> UI\n",
       "@enduml\n",
       "\n",
       "PlantUML version 1.2020.09beta3(Unknown compile time)\n",
       "(GPL source distribution)\n",
       "Java Runtime: Java(TM) SE Runtime Environment\n",
       "JVM: Java HotSpot(TM) 64-Bit Server VM\n",
       "Java Version: 14.0.1+7\n",
       "Operating System: Linux\n",
       "Default Encoding: UTF-8\n",
       "Language: en\n",
       "Country: US\n",
       "--></g></svg>"
      ],
      "text/plain": [
       "<IPython.core.display.SVG object>"
      ]
     },
     "execution_count": 5,
     "metadata": {},
     "output_type": "execute_result"
    }
   ],
   "source": [
    "%%plantuml\n",
    "\n",
    "@startuml\n",
    " \n",
    "[Projected service] as service #99ff99\n",
    "[Microservice2] as microservice2 #ccccff\n",
    "[Microservice1] as microservice1\n",
    "[Amazon S3] as s3\n",
    "\n",
    "package \"UI\" {\n",
    "  [Displayed data]\n",
    "}\n",
    "\n",
    "interface \"REST API\" as service_http\n",
    "service -- service_http\n",
    "\n",
    "interface \"REST API\" as microservice1_api\n",
    "microservice1 -- microservice1_api\n",
    "\n",
    "interface \"Go SDK\" as go_sdk\n",
    "go_sdk -> s3\n",
    "\n",
    "service_http - microservice2\n",
    "microservice2 - microservice1_api\n",
    "microservice2 --> go_sdk\n",
    "\n",
    "note right of microservice1\n",
    "    Provide credentials\n",
    "    needed to access AWS S3\n",
    "end note\n",
    "\n",
    "note right of s3\n",
    "    Store data into specified\n",
    "    bucket under\n",
    "    selected file name\n",
    "end note\n",
    "\n",
    "s3 --> UI\n",
    " \n",
    "@enduml"
   ]
  },
  {
   "cell_type": "code",
   "execution_count": null,
   "metadata": {},
   "outputs": [],
   "source": []
  }
 ],
 "metadata": {
  "kernelspec": {
   "display_name": "Python 3",
   "language": "python",
   "name": "python3"
  },
  "language_info": {
   "codemirror_mode": {
    "name": "ipython",
    "version": 3
   },
   "file_extension": ".py",
   "mimetype": "text/x-python",
   "name": "python",
   "nbconvert_exporter": "python",
   "pygments_lexer": "ipython3",
   "version": "3.6.6"
  }
 },
 "nbformat": 4,
 "nbformat_minor": 2
}
