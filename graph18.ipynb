{
 "cells": [
  {
   "cell_type": "markdown",
   "metadata": {},
   "source": [
    "# Osmnáctý demonstrační příklad - pokročilejší nastavení způsobu vykreslení odchylek"
   ]
  },
  {
   "cell_type": "code",
   "execution_count": 1,
   "metadata": {},
   "outputs": [],
   "source": [
    "# import všech potřebných knihoven - Numpy a Matplotlibu\n",
    "import numpy as np\n",
    "import matplotlib.pyplot as plt\n",
    "from matplotlib import font_manager as fm"
   ]
  },
  {
   "cell_type": "code",
   "execution_count": 2,
   "metadata": {},
   "outputs": [
    {
     "data": {
      "image/png": "[encoded data removed]",
      "text/plain": [
       "<Figure size 432x288 with 1 Axes>"
      ]
     },
     "metadata": {},
     "output_type": "display_data"
    }
   ],
   "source": [
    "# první pole hodnot a pole odchylek\n",
    "vals1 = [10, 15, 20, 12, 14, 8]\n",
    "delta1 = [1, 2, 3, 4, 5, 0]\n",
    "\n",
    "# druhé pole hodnot a pole odchylek\n",
    "vals2 = [19, 18,  6, 11,  6, 14]\n",
    "delta2 = [4, 2, 3, 2, 2, 4]\n",
    "\n",
    "# počet prvků\n",
    "N = len(vals1)\n",
    "\n",
    "# indexy prvků\n",
    "indexes = np.arange(N)\n",
    "\n",
    "# šířka sloupců\n",
    "width = 0.30\n",
    "\n",
    "# sloupcový graf se dvěma skupinami sloupců\n",
    "plt.bar(indexes, vals1, width, color='gray', edgecolor='black', label='CPU#1',\n",
    "        yerr=delta1, error_kw=dict(elinewidth=2,ecolor='red'))\n",
    "\n",
    "# posunuté sloupce\n",
    "plt.bar(indexes+width, vals2, width, color='red', edgecolor='black', label='CPU#2',\n",
    "        yerr=delta2, error_kw=dict(elinewidth=2,ecolor='black'))\n",
    "\n",
    "# povolení zobrazení mřížky\n",
    "plt.grid(True)\n",
    "\n",
    "# přidání legendy\n",
    "plt.legend(loc=\"lower right\")\n",
    "\n",
    "# zobrazení grafu\n",
    "plt.show()"
   ]
  },
  {
   "cell_type": "code",
   "execution_count": null,
   "metadata": {},
   "outputs": [],
   "source": []
  }
 ],
 "metadata": {
  "kernelspec": {
   "display_name": "Python 3",
   "language": "python",
   "name": "python3"
  },
  "language_info": {
   "codemirror_mode": {
    "name": "ipython",
    "version": 3
   },
   "file_extension": ".py",
   "mimetype": "text/x-python",
   "name": "python",
   "nbconvert_exporter": "python",
   "pygments_lexer": "ipython3",
   "version": "3.6.6"
  }
 },
 "nbformat": 4,
 "nbformat_minor": 2
}
